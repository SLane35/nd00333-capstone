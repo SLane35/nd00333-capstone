{
  "cells": [
    {
      "cell_type": "code",
      "source": [
        "from azureml.core import Workspace, Experiment\n",
        "from azureml.core.compute import ComputeTarget, AmlCompute\n",
        "from azureml.widgets import RunDetails\n",
        "from azureml.train.sklearn import SKLearn\n",
        "from azureml.train.automl import AutoMLConfig\n",
        "from azureml.widgets import RunDetails\n",
        "from sklearn.model_selection import train_test_split\n",
        "import os\n",
        "import joblib\n",
        "import numpy as np\n",
        "import pandas as pd"
      ],
      "outputs": [],
      "execution_count": 1,
      "metadata": {
        "gather": {
          "logged": 1610008370407
        }
      }
    },
    {
      "cell_type": "code",
      "source": [
        "ws = Workspace.from_config()\n",
        "# choose a name for experiment\n",
        "experiment_name = 'labor-prediction-experiment'\n",
        "experiment=Experiment(ws, experiment_name)"
      ],
      "outputs": [],
      "execution_count": 2,
      "metadata": {
        "gather": {
          "logged": 1610008371606
        }
      }
    },
    {
      "cell_type": "code",
      "source": [
        "from azureml.data.dataset_factory import TabularDatasetFactory\n",
        "from azureml.core import Dataset, Datastore\n",
        "from azureml.data.datapath import DataPath\n",
        "\n",
        "datastore_name='workspaceblobstore'\n",
        "datastore=Datastore.get(ws,datastore_name)\n",
        "\n",
        "datastore_path = [(datastore, 'UI/01-07-2021_082214_UTC/LaborPredictionData6.csv')]\n",
        "ds = Dataset.Tabular.from_delimited_files(path=datastore_path)\n",
        "\n",
        "ds = ds.take(3000).to_pandas_dataframe()"
      ],
      "outputs": [],
      "execution_count": 3,
      "metadata": {
        "gather": {
          "logged": 1610008378280
        }
      }
    },
    {
      "cell_type": "code",
      "source": [
        "from train import clean_data\n",
        "# Use the clean_data function to clean your data.\n",
        "x, y = clean_data(ds)\n",
        "x_train, x_test, y_train, y_test = train_test_split(x, y, train_size=.8)\n",
        "\n",
        "#y_train=y_train.reshape(1728, 1)\n",
        "#train = np.concatenate((x_train,y_train), axis=1)\n",
        "train=pd.concat([x_train, y_train], axis=1)"
      ],
      "outputs": [],
      "execution_count": 4,
      "metadata": {
        "gather": {
          "logged": 1610008379582
        }
      }
    },
    {
      "cell_type": "code",
      "source": [
        "# TODO: Put your automl settings here\n",
        "automl_config = AutoMLConfig(\n",
        "    experiment_timeout_minutes=30,\n",
        "    task='regression',\n",
        "    primary_metric='r2_score',\n",
        "    training_data=train,\n",
        "    label_column_name='TotalInstallationTime',\n",
        "    n_cross_validations=10)"
      ],
      "outputs": [],
      "execution_count": 5,
      "metadata": {
        "gather": {
          "logged": 1610008379727
        }
      }
    },
    {
      "cell_type": "code",
      "source": [
        "#TODO: Submit your experiment\n",
        "remote_run = experiment.submit(automl_config, show_output=True)"
      ],
      "outputs": [
        {
          "output_type": "stream",
          "name": "stdout",
          "text": [
            "No run_configuration provided, running on local with default configuration\n",
            "Running on local machine\n",
            "Parent Run ID: AutoML_80799b5f-fc80-43fb-a6f0-e57066d8fbca\n",
            "\n",
            "Current status: DatasetEvaluation. Gathering dataset statistics.\n",
            "Current status: FeaturesGeneration. Generating features for the dataset.\n",
            "Current status: DatasetFeaturization. Beginning to fit featurizers and featurize the dataset.\n",
            "Current status: DatasetFeaturizationCompleted. Completed fit featurizers and featurizing the dataset.\n",
            "Current status: DatasetCrossValidationSplit. Generating individually featurized CV splits.\n",
            "\n",
            "****************************************************************************************************\n",
            "DATA GUARDRAILS: \n",
            "\n",
            "TYPE:         Missing feature values imputation\n",
            "STATUS:       PASSED\n",
            "DESCRIPTION:  No feature missing values were detected in the training data.\n",
            "              Learn more about missing value imputation: https://aka.ms/AutomatedMLFeaturization\n",
            "\n",
            "****************************************************************************************************\n",
            "\n",
            "TYPE:         High cardinality feature detection\n",
            "STATUS:       PASSED\n",
            "DESCRIPTION:  Your inputs were analyzed, and no high cardinality features were detected.\n",
            "              Learn more about high cardinality feature handling: https://aka.ms/AutomatedMLFeaturization\n",
            "\n",
            "****************************************************************************************************\n",
            "Current status: ModelSelection. Beginning model selection.\n",
            "\n",
            "****************************************************************************************************\n",
            "ITERATION: The iteration being evaluated.\n",
            "PIPELINE: A summary description of the pipeline being evaluated.\n",
            "DURATION: Time taken for the current iteration.\n",
            "METRIC: The result of computing score on the fitted pipeline.\n",
            "BEST: The best observed score thus far.\n",
            "****************************************************************************************************\n",
            "\n",
            " ITERATION   PIPELINE                                       DURATION      METRIC      BEST\n",
            "         0   MaxAbsScaler LightGBM                          0:00:29       0.2085    0.2085\n",
            "         1   MaxAbsScaler XGBoostRegressor                  0:00:27       0.2311    0.2311\n",
            "         2   SparseNormalizer XGBoostRegressor              0:00:35       0.2185    0.2311\n",
            "         3   MaxAbsScaler RandomForest                      0:00:42       0.2470    0.2470\n",
            "         4   StandardScalerWrapper XGBoostRegressor         0:00:34       0.1361    0.2470\n",
            "         5   MaxAbsScaler ElasticNet                        0:00:25       0.2517    0.2517\n",
            "         6   MinMaxScaler RandomForest                      0:00:51       0.2283    0.2517\n",
            "         7   StandardScalerWrapper XGBoostRegressor         0:00:35       0.2008    0.2517\n",
            "         8   MinMaxScaler ExtremeRandomTrees                0:00:35       0.2403    0.2517\n",
            "         9   StandardScalerWrapper ElasticNet               0:00:30       0.2551    0.2551\n",
            "        10   MinMaxScaler RandomForest                      0:00:51       0.2496    0.2551\n",
            "        11   MinMaxScaler RandomForest                      0:00:27       0.2311    0.2551\n",
            "        12   StandardScalerWrapper XGBoostRegressor         0:00:27       0.2011    0.2551\n",
            "        13   RobustScaler LassoLars                         0:00:25       0.2513    0.2551\n",
            "        14   MinMaxScaler ExtremeRandomTrees                0:00:27       0.2200    0.2551\n",
            "        15   MaxAbsScaler ExtremeRandomTrees                0:00:25       0.1862    0.2551\n",
            "        16   MinMaxScaler ExtremeRandomTrees                0:00:33       0.2458    0.2551\n",
            "        17   MaxAbsScaler ElasticNet                        0:00:26       0.2547    0.2551\n",
            "        18   MinMaxScaler RandomForest                      0:00:25       0.1654    0.2551\n",
            "        19   MaxAbsScaler RandomForest                      0:00:25       0.2340    0.2551\n",
            "        20   RobustScaler ElasticNet                        0:00:26       0.2561    0.2561\n",
            "        21   StandardScalerWrapper RandomForest             0:00:32       0.2422    0.2561\n",
            "        22   RobustScaler LightGBM                          0:00:33       0.1758    0.2561\n",
            "        23   RobustScaler GradientBoosting                  0:00:32       0.1338    0.2561\n",
            "        24   MaxAbsScaler RandomForest                      0:00:32       0.2148    0.2561\n",
            "        25   StandardScalerWrapper ElasticNet               0:00:26       0.2347    0.2561\n",
            "        26   StandardScalerWrapper ExtremeRandomTrees       0:00:43       0.1944    0.2561\n",
            "        27   StandardScalerWrapper GradientBoosting         0:00:25       0.1858    0.2561\n",
            "        28   SparseNormalizer RandomForest                  0:00:45       0.2430    0.2561\n",
            "        29   MinMaxScaler RandomForest                      0:01:35       0.2342    0.2561\n",
            "        30   TruncatedSVDWrapper ElasticNet                 0:00:28       0.1491    0.2561\n",
            "        31   StandardScalerWrapper RandomForest             0:00:33       0.2330    0.2561\n",
            "        32   MinMaxScaler LightGBM                          0:00:30       0.1723    0.2561\n",
            "        33   MinMaxScaler RandomForest                      0:00:45       0.2316    0.2561\n",
            "        34   MinMaxScaler ExtremeRandomTrees                0:00:26       0.2278    0.2561\n",
            "        35   TruncatedSVDWrapper ElasticNet                 0:00:26       0.1503    0.2561\n",
            "        36   StandardScalerWrapper DecisionTree             0:00:28       0.1516    0.2561\n",
            "        37   MaxAbsScaler RandomForest                      0:00:25       0.2309    0.2561\n",
            "        38   StandardScalerWrapper ExtremeRandomTrees       0:00:29       0.2122    0.2561\n",
            "        39   RobustScaler RandomForest                      0:00:31       0.1983    0.2561\n",
            "        40   TruncatedSVDWrapper ElasticNet                 0:00:27      -0.0026    0.2561\n",
            "        41   RobustScaler RandomForest                      0:00:38       0.2334    0.2561\n",
            "        42   StandardScalerWrapper DecisionTree             0:00:25       0.1255    0.2561\n",
            "        43   MinMaxScaler RandomForest                      0:00:26       0.2339    0.2561\n",
            "        44   MinMaxScaler RandomForest                      0:00:39       0.2500    0.2561\n",
            "        45   StandardScalerWrapper ElasticNet               0:00:38       0.2565    0.2565\n",
            "        46   StandardScalerWrapper ExtremeRandomTrees       0:00:33       0.2035    0.2565\n",
            "        47   MaxAbsScaler RandomForest                      0:00:31       0.1866    0.2565\n",
            "        48   SparseNormalizer XGBoostRegressor              0:00:33       0.1940    0.2565\n",
            "        49   StandardScalerWrapper RandomForest             0:00:30       0.2014    0.2565\n",
            "        50   SparseNormalizer ElasticNet                    0:00:27       0.1352    0.2565\n",
            "        51   StandardScalerWrapper ElasticNet               0:00:37       0.2553    0.2565\n",
            "        52   VotingEnsemble                                 0:01:24       0.2850    0.2850\n",
            "        53   StackEnsemble                                  0:01:34       0.2759    0.2850\n",
            "Stopping criteria reached at iteration 54. Ending experiment.\n",
            "****************************************************************************************************\n",
            "Current status: BestRunExplainModel. Best run model explanations started\n",
            "Current status: ModelExplanationDataSetSetup. Model explanations data setup completed\n",
            "Current status: PickSurrogateModel. Choosing LightGBM as the surrogate model for explanations\n",
            "Current status: EngineeredFeatureExplanations. Computation of engineered features started\n",
            "Current status: EngineeredFeatureExplanations. Computation of engineered features completed\n",
            "Current status: RawFeaturesExplanations. Computation of raw features started\n",
            "Current status: RawFeaturesExplanations. Computation of raw features completed\n",
            "Current status: BestRunExplainModel. Best run model explanations completed\n",
            "****************************************************************************************************\n"
          ]
        }
      ],
      "execution_count": 6,
      "metadata": {
        "gather": {
          "logged": 1610010489478
        }
      }
    },
    {
      "cell_type": "code",
      "source": [
        "RunDetails(remote_run).show()"
      ],
      "outputs": [
        {
          "output_type": "display_data",
          "data": {
            "text/plain": "_AutoMLWidget(widget_settings={'childWidgetDisplay': 'popup', 'send_telemetry': False, 'log_level': 'INFO', 's…",
            "application/vnd.jupyter.widget-view+json": {
              "version_major": 2,
              "version_minor": 0,
              "model_id": "f45d1b3d838c4c30929c862d8569d7af"
            }
          },
          "metadata": {}
        },
        {
          "output_type": "display_data",
          "data": {
            "application/aml.mini.widget.v1": "{\"status\": \"Completed\", \"workbench_run_details_uri\": \"https://ml.azure.com/experiments/labor-prediction-experiment/runs/AutoML_80799b5f-fc80-43fb-a6f0-e57066d8fbca?wsid=/subscriptions/2c48c51c-bd47-40d4-abbe-fb8eabd19c8c/resourcegroups/aml-quickstarts-133786/workspaces/quick-starts-ws-133786\", \"run_id\": \"AutoML_80799b5f-fc80-43fb-a6f0-e57066d8fbca\", \"run_properties\": {\"run_id\": \"AutoML_80799b5f-fc80-43fb-a6f0-e57066d8fbca\", \"created_utc\": \"2021-01-07T08:33:33.740767Z\", \"properties\": {\"num_iterations\": \"1000\", \"training_type\": \"TrainFull\", \"acquisition_function\": \"EI\", \"primary_metric\": \"r2_score\", \"train_split\": \"0\", \"acquisition_parameter\": \"0\", \"num_cross_validation\": \"10\", \"target\": \"local\", \"AMLSettingsJsonString\": \"{\\\"path\\\":null,\\\"name\\\":\\\"labor-prediction-experiment\\\",\\\"subscription_id\\\":\\\"2c48c51c-bd47-40d4-abbe-fb8eabd19c8c\\\",\\\"resource_group\\\":\\\"aml-quickstarts-133786\\\",\\\"workspace_name\\\":\\\"quick-starts-ws-133786\\\",\\\"region\\\":\\\"southcentralus\\\",\\\"compute_target\\\":\\\"local\\\",\\\"spark_service\\\":null,\\\"azure_service\\\":\\\"Microsoft.AzureNotebookVM\\\",\\\"many_models\\\":false,\\\"pipeline_fetch_max_batch_size\\\":1,\\\"iterations\\\":1000,\\\"primary_metric\\\":\\\"r2_score\\\",\\\"task_type\\\":\\\"regression\\\",\\\"data_script\\\":null,\\\"validation_size\\\":0.0,\\\"n_cross_validations\\\":10,\\\"y_min\\\":null,\\\"y_max\\\":null,\\\"num_classes\\\":null,\\\"featurization\\\":\\\"auto\\\",\\\"_ignore_package_version_incompatibilities\\\":false,\\\"is_timeseries\\\":false,\\\"max_cores_per_iteration\\\":1,\\\"max_concurrent_iterations\\\":1,\\\"iteration_timeout_minutes\\\":null,\\\"mem_in_mb\\\":null,\\\"enforce_time_on_windows\\\":false,\\\"experiment_timeout_minutes\\\":30,\\\"experiment_exit_score\\\":null,\\\"whitelist_models\\\":null,\\\"blacklist_algos\\\":[\\\"TensorFlowDNN\\\",\\\"TensorFlowLinearRegressor\\\"],\\\"supported_models\\\":[\\\"XGBoostRegressor\\\",\\\"DecisionTree\\\",\\\"TensorFlowLinearRegressor\\\",\\\"LightGBM\\\",\\\"RandomForest\\\",\\\"OnlineGradientDescentRegressor\\\",\\\"LassoLars\\\",\\\"KNN\\\",\\\"GradientBoosting\\\",\\\"ExtremeRandomTrees\\\",\\\"FastLinearRegressor\\\",\\\"SGD\\\",\\\"TensorFlowDNN\\\",\\\"ElasticNet\\\"],\\\"auto_blacklist\\\":true,\\\"blacklist_samples_reached\\\":false,\\\"exclude_nan_labels\\\":true,\\\"verbosity\\\":20,\\\"_debug_log\\\":\\\"automl.log\\\",\\\"show_warnings\\\":false,\\\"model_explainability\\\":true,\\\"service_url\\\":null,\\\"sdk_url\\\":null,\\\"sdk_packages\\\":null,\\\"enable_onnx_compatible_models\\\":false,\\\"enable_split_onnx_featurizer_estimator_models\\\":false,\\\"vm_type\\\":null,\\\"telemetry_verbosity\\\":20,\\\"send_telemetry\\\":true,\\\"enable_dnn\\\":false,\\\"scenario\\\":\\\"SDK-1.13.0\\\",\\\"environment_label\\\":null,\\\"force_text_dnn\\\":false,\\\"enable_feature_sweeping\\\":true,\\\"enable_early_stopping\\\":false,\\\"early_stopping_n_iters\\\":10,\\\"metrics\\\":null,\\\"enable_ensembling\\\":true,\\\"enable_stack_ensembling\\\":true,\\\"ensemble_iterations\\\":15,\\\"enable_tf\\\":false,\\\"enable_subsampling\\\":null,\\\"subsample_seed\\\":null,\\\"enable_nimbusml\\\":false,\\\"enable_streaming\\\":false,\\\"force_streaming\\\":false,\\\"track_child_runs\\\":true,\\\"allowed_private_models\\\":[],\\\"label_column_name\\\":\\\"TotalInstallationTime\\\",\\\"weight_column_name\\\":null,\\\"cv_split_column_names\\\":null,\\\"enable_local_managed\\\":false,\\\"_local_managed_run_id\\\":null,\\\"cost_mode\\\":1,\\\"lag_length\\\":0,\\\"metric_operation\\\":\\\"maximize\\\",\\\"preprocess\\\":true}\", \"DataPrepJsonString\": null, \"EnableSubsampling\": null, \"runTemplate\": \"AutoML\", \"azureml.runsource\": \"automl\", \"display_task_type\": \"regression\", \"dependencies_versions\": \"{\\\"azureml-widgets\\\": \\\"1.19.0\\\", \\\"azureml-train\\\": \\\"1.19.0\\\", \\\"azureml-train-restclients-hyperdrive\\\": \\\"1.19.0\\\", \\\"azureml-train-core\\\": \\\"1.19.0\\\", \\\"azureml-train-automl\\\": \\\"1.19.0\\\", \\\"azureml-train-automl-runtime\\\": \\\"1.19.0\\\", \\\"azureml-train-automl-client\\\": \\\"1.19.0\\\", \\\"azureml-tensorboard\\\": \\\"1.19.0\\\", \\\"azureml-telemetry\\\": \\\"1.19.0\\\", \\\"azureml-sdk\\\": \\\"1.19.0\\\", \\\"azureml-samples\\\": \\\"0+unknown\\\", \\\"azureml-pipeline\\\": \\\"1.19.0\\\", \\\"azureml-pipeline-steps\\\": \\\"1.19.0\\\", \\\"azureml-pipeline-core\\\": \\\"1.19.0\\\", \\\"azureml-opendatasets\\\": \\\"1.19.0\\\", \\\"azureml-model-management-sdk\\\": \\\"1.0.1b6.post1\\\", \\\"azureml-mlflow\\\": \\\"1.19.0\\\", \\\"azureml-interpret\\\": \\\"1.19.0\\\", \\\"azureml-explain-model\\\": \\\"1.19.0\\\", \\\"azureml-defaults\\\": \\\"1.19.0\\\", \\\"azureml-dataset-runtime\\\": \\\"1.19.0\\\", \\\"azureml-dataprep\\\": \\\"2.6.1\\\", \\\"azureml-dataprep-rslex\\\": \\\"1.4.0\\\", \\\"azureml-dataprep-native\\\": \\\"26.0.0\\\", \\\"azureml-datadrift\\\": \\\"1.19.0\\\", \\\"azureml-core\\\": \\\"1.19.0\\\", \\\"azureml-contrib-services\\\": \\\"1.19.0\\\", \\\"azureml-contrib-server\\\": \\\"1.19.0\\\", \\\"azureml-contrib-reinforcementlearning\\\": \\\"1.19.0\\\", \\\"azureml-contrib-pipeline-steps\\\": \\\"1.19.0\\\", \\\"azureml-contrib-notebook\\\": \\\"1.19.0\\\", \\\"azureml-contrib-interpret\\\": \\\"1.19.0\\\", \\\"azureml-contrib-gbdt\\\": \\\"1.19.0\\\", \\\"azureml-contrib-fairness\\\": \\\"1.19.0\\\", \\\"azureml-contrib-dataset\\\": \\\"1.19.0\\\", \\\"azureml-cli-common\\\": \\\"1.19.0\\\", \\\"azureml-automl-runtime\\\": \\\"1.19.0\\\", \\\"azureml-automl-core\\\": \\\"1.19.0\\\", \\\"azureml-accel-models\\\": \\\"1.19.0\\\"}\", \"_aml_system_scenario_identification\": \"Local.Parent\", \"ClientSdkVersion\": \"1.19.0\", \"ClientType\": \"SDK\", \"environment_cpu_name\": \"AzureML-AutoML\", \"environment_cpu_label\": \"prod\", \"environment_gpu_name\": \"AzureML-AutoML-GPU\", \"environment_gpu_label\": \"prod\", \"root_attribution\": \"automl\", \"attribution\": \"AutoML\", \"Orchestrator\": \"AutoML\", \"_azureml.ComputeTargetType\": \"local\", \"ProblemInfoJsonString\": \"{\\\"dataset_num_categorical\\\": 0, \\\"is_sparse\\\": false, \\\"subsampling\\\": false, \\\"dataset_classes\\\": 47, \\\"dataset_features\\\": 54, \\\"dataset_samples\\\": 1728, \\\"single_frequency_class_detected\\\": false}\", \"feature_skus\": \"automatedml_sdk_guardrails\"}, \"tags\": {\"model_explain_run\": \"best_run\", \"best_score\": \"0.2849922862058894\", \"best_pipeline\": \"VotingEnsemble\", \"automl_best_child_run_id\": \"AutoML_80799b5f-fc80-43fb-a6f0-e57066d8fbca_52\", \"model_explain_best_run_child_id\": \"AutoML_80799b5f-fc80-43fb-a6f0-e57066d8fbca_52\"}, \"end_time_utc\": \"2021-01-07T09:07:13.710749Z\", \"status\": \"Completed\", \"log_files\": {}, \"log_groups\": [], \"run_duration\": \"0:33:39\"}, \"child_runs\": [{\"run_id\": \"AutoML_80799b5f-fc80-43fb-a6f0-e57066d8fbca_0\", \"run_number\": 2, \"metric\": null, \"status\": \"Completed\", \"run_type\": null, \"training_percent\": \"100\", \"start_time\": \"2021-01-07T08:33:53.193059Z\", \"end_time\": \"2021-01-07T08:34:22.60075Z\", \"created_time\": \"2021-01-07T08:33:53.081525Z\", \"created_time_dt\": \"2021-01-07T08:33:53.081525Z\", \"duration\": \"0:00:29\", \"iteration\": \"0\", \"goal\": \"r2_score_max\", \"run_name\": \"MaxAbsScaler, LightGBM\", \"run_properties\": \"copy=True\", \"primary_metric\": 0.20846508, \"best_metric\": 0.20846508}, {\"run_id\": \"AutoML_80799b5f-fc80-43fb-a6f0-e57066d8fbca_1\", \"run_number\": 3, \"metric\": null, \"status\": \"Completed\", \"run_type\": null, \"training_percent\": \"100\", \"start_time\": \"2021-01-07T08:34:22.92343Z\", \"end_time\": \"2021-01-07T08:34:50.040892Z\", \"created_time\": \"2021-01-07T08:34:22.819336Z\", \"created_time_dt\": \"2021-01-07T08:34:22.819336Z\", \"duration\": \"0:00:27\", \"iteration\": \"1\", \"goal\": \"r2_score_max\", \"run_name\": \"MaxAbsScaler, XGBoostRegressor\", \"run_properties\": \"copy=True\", \"primary_metric\": 0.23110262, \"best_metric\": 0.23110262}, {\"run_id\": \"AutoML_80799b5f-fc80-43fb-a6f0-e57066d8fbca_2\", \"run_number\": 4, \"metric\": null, \"status\": \"Completed\", \"run_type\": null, \"training_percent\": \"100\", \"start_time\": \"2021-01-07T08:34:50.764061Z\", \"end_time\": \"2021-01-07T08:35:26.417301Z\", \"created_time\": \"2021-01-07T08:34:50.65349Z\", \"created_time_dt\": \"2021-01-07T08:34:50.65349Z\", \"duration\": \"0:00:35\", \"iteration\": \"2\", \"goal\": \"r2_score_max\", \"run_name\": \"SparseNormalizer, XGBoostRegressor\", \"run_properties\": \"<azureml.automl.runtime.shared.model_wrappers.SparseNormalizer object at 0x7f2a126a4e10\", \"primary_metric\": 0.21846717, \"best_metric\": 0.23110262}, {\"run_id\": \"AutoML_80799b5f-fc80-43fb-a6f0-e57066d8fbca_3\", \"run_number\": 5, \"metric\": null, \"status\": \"Completed\", \"run_type\": null, \"training_percent\": \"100\", \"start_time\": \"2021-01-07T08:35:28.224578Z\", \"end_time\": \"2021-01-07T08:36:10.597095Z\", \"created_time\": \"2021-01-07T08:35:28.056037Z\", \"created_time_dt\": \"2021-01-07T08:35:28.056037Z\", \"duration\": \"0:00:42\", \"iteration\": \"3\", \"goal\": \"r2_score_max\", \"run_name\": \"MaxAbsScaler, RandomForest\", \"run_properties\": \"copy=True\", \"primary_metric\": 0.24700406, \"best_metric\": 0.24700406}, {\"run_id\": \"AutoML_80799b5f-fc80-43fb-a6f0-e57066d8fbca_4\", \"run_number\": 6, \"metric\": null, \"status\": \"Completed\", \"run_type\": null, \"training_percent\": \"100\", \"start_time\": \"2021-01-07T08:36:11.932325Z\", \"end_time\": \"2021-01-07T08:36:45.900215Z\", \"created_time\": \"2021-01-07T08:36:11.833397Z\", \"created_time_dt\": \"2021-01-07T08:36:11.833397Z\", \"duration\": \"0:00:34\", \"iteration\": \"4\", \"goal\": \"r2_score_max\", \"run_name\": \"StandardScalerWrapper, XGBoostRegressor\", \"run_properties\": \"<azureml.automl.runtime.shared.model_wrappers.StandardScalerWrapper object at 0x7f2a12a1d4a8\", \"primary_metric\": 0.13614069, \"best_metric\": 0.24700406}, {\"run_id\": \"AutoML_80799b5f-fc80-43fb-a6f0-e57066d8fbca_5\", \"run_number\": 7, \"metric\": null, \"status\": \"Completed\", \"run_type\": null, \"training_percent\": \"100\", \"start_time\": \"2021-01-07T08:36:47.916273Z\", \"end_time\": \"2021-01-07T08:37:13.422865Z\", \"created_time\": \"2021-01-07T08:36:47.572456Z\", \"created_time_dt\": \"2021-01-07T08:36:47.572456Z\", \"duration\": \"0:00:25\", \"iteration\": \"5\", \"goal\": \"r2_score_max\", \"run_name\": \"MaxAbsScaler, ElasticNet\", \"run_properties\": \"copy=True\", \"primary_metric\": 0.2516768, \"best_metric\": 0.2516768}, {\"run_id\": \"AutoML_80799b5f-fc80-43fb-a6f0-e57066d8fbca_6\", \"run_number\": 8, \"metric\": null, \"status\": \"Completed\", \"run_type\": null, \"training_percent\": \"100\", \"start_time\": \"2021-01-07T08:37:15.976766Z\", \"end_time\": \"2021-01-07T08:38:06.783252Z\", \"created_time\": \"2021-01-07T08:37:15.868343Z\", \"created_time_dt\": \"2021-01-07T08:37:15.868343Z\", \"duration\": \"0:00:50\", \"iteration\": \"6\", \"goal\": \"r2_score_max\", \"run_name\": \"MinMaxScaler, RandomForest\", \"run_properties\": \"copy=True, feature_range=(0, 1\", \"primary_metric\": 0.22830434, \"best_metric\": 0.2516768}, {\"run_id\": \"AutoML_80799b5f-fc80-43fb-a6f0-e57066d8fbca_7\", \"run_number\": 9, \"metric\": null, \"status\": \"Completed\", \"run_type\": null, \"training_percent\": \"100\", \"start_time\": \"2021-01-07T08:38:09.679227Z\", \"end_time\": \"2021-01-07T08:38:44.61762Z\", \"created_time\": \"2021-01-07T08:38:09.229373Z\", \"created_time_dt\": \"2021-01-07T08:38:09.229373Z\", \"duration\": \"0:00:35\", \"iteration\": \"7\", \"goal\": \"r2_score_max\", \"run_name\": \"StandardScalerWrapper, XGBoostRegressor\", \"run_properties\": \"<azureml.automl.runtime.shared.model_wrappers.StandardScalerWrapper object at 0x7f2ad1c58be0\", \"primary_metric\": 0.20082032, \"best_metric\": 0.2516768}, {\"run_id\": \"AutoML_80799b5f-fc80-43fb-a6f0-e57066d8fbca_8\", \"run_number\": 10, \"metric\": null, \"status\": \"Completed\", \"run_type\": null, \"training_percent\": \"100\", \"start_time\": \"2021-01-07T08:38:47.640084Z\", \"end_time\": \"2021-01-07T08:39:22.185651Z\", \"created_time\": \"2021-01-07T08:38:47.21839Z\", \"created_time_dt\": \"2021-01-07T08:38:47.21839Z\", \"duration\": \"0:00:34\", \"iteration\": \"8\", \"goal\": \"r2_score_max\", \"run_name\": \"MinMaxScaler, ExtremeRandomTrees\", \"run_properties\": \"copy=True, feature_range=(0, 1\", \"primary_metric\": 0.24027909, \"best_metric\": 0.2516768}, {\"run_id\": \"AutoML_80799b5f-fc80-43fb-a6f0-e57066d8fbca_9\", \"run_number\": 11, \"metric\": null, \"status\": \"Completed\", \"run_type\": null, \"training_percent\": \"100\", \"start_time\": \"2021-01-07T08:39:24.864659Z\", \"end_time\": \"2021-01-07T08:39:54.97583Z\", \"created_time\": \"2021-01-07T08:39:24.443938Z\", \"created_time_dt\": \"2021-01-07T08:39:24.443938Z\", \"duration\": \"0:00:30\", \"iteration\": \"9\", \"goal\": \"r2_score_max\", \"run_name\": \"StandardScalerWrapper, ElasticNet\", \"run_properties\": \"<azureml.automl.runtime.shared.model_wrappers.StandardScalerWrapper object at 0x7f2a129cb668\", \"primary_metric\": 0.25512888, \"best_metric\": 0.25512888}, {\"run_id\": \"AutoML_80799b5f-fc80-43fb-a6f0-e57066d8fbca_10\", \"run_number\": 12, \"metric\": null, \"status\": \"Completed\", \"run_type\": null, \"training_percent\": \"100\", \"start_time\": \"2021-01-07T08:39:57.686143Z\", \"end_time\": \"2021-01-07T08:40:48.960643Z\", \"created_time\": \"2021-01-07T08:39:57.251585Z\", \"created_time_dt\": \"2021-01-07T08:39:57.251585Z\", \"duration\": \"0:00:51\", \"iteration\": \"10\", \"goal\": \"r2_score_max\", \"run_name\": \"MinMaxScaler, RandomForest\", \"run_properties\": \"copy=True, feature_range=(0, 1\", \"primary_metric\": 0.24955108, \"best_metric\": 0.25512888}, {\"run_id\": \"AutoML_80799b5f-fc80-43fb-a6f0-e57066d8fbca_11\", \"run_number\": 13, \"metric\": null, \"status\": \"Completed\", \"run_type\": null, \"training_percent\": \"100\", \"start_time\": \"2021-01-07T08:40:50.500133Z\", \"end_time\": \"2021-01-07T08:41:17.663911Z\", \"created_time\": \"2021-01-07T08:40:50.387419Z\", \"created_time_dt\": \"2021-01-07T08:40:50.387419Z\", \"duration\": \"0:00:27\", \"iteration\": \"11\", \"goal\": \"r2_score_max\", \"run_name\": \"MinMaxScaler, RandomForest\", \"run_properties\": \"copy=True, feature_range=(0, 1\", \"primary_metric\": 0.23109817, \"best_metric\": 0.25512888}, {\"run_id\": \"AutoML_80799b5f-fc80-43fb-a6f0-e57066d8fbca_12\", \"run_number\": 14, \"metric\": null, \"status\": \"Completed\", \"run_type\": null, \"training_percent\": \"100\", \"start_time\": \"2021-01-07T08:41:19.188042Z\", \"end_time\": \"2021-01-07T08:41:47.077059Z\", \"created_time\": \"2021-01-07T08:41:19.076078Z\", \"created_time_dt\": \"2021-01-07T08:41:19.076078Z\", \"duration\": \"0:00:28\", \"iteration\": \"12\", \"goal\": \"r2_score_max\", \"run_name\": \"StandardScalerWrapper, XGBoostRegressor\", \"run_properties\": \"<azureml.automl.runtime.shared.model_wrappers.StandardScalerWrapper object at 0x7f2ad16b7748\", \"primary_metric\": 0.20105029, \"best_metric\": 0.25512888}, {\"run_id\": \"AutoML_80799b5f-fc80-43fb-a6f0-e57066d8fbca_13\", \"run_number\": 15, \"metric\": null, \"status\": \"Completed\", \"run_type\": null, \"training_percent\": \"100\", \"start_time\": \"2021-01-07T08:41:48.581158Z\", \"end_time\": \"2021-01-07T08:42:14.197696Z\", \"created_time\": \"2021-01-07T08:41:48.474062Z\", \"created_time_dt\": \"2021-01-07T08:41:48.474062Z\", \"duration\": \"0:00:25\", \"iteration\": \"13\", \"goal\": \"r2_score_max\", \"run_name\": \"RobustScaler, LassoLars\", \"run_properties\": \"copy=True, quantile_range=[10, 90], with_centering=False,\\n             with_scaling=True\", \"primary_metric\": 0.25131178, \"best_metric\": 0.25512888}, {\"run_id\": \"AutoML_80799b5f-fc80-43fb-a6f0-e57066d8fbca_14\", \"run_number\": 16, \"metric\": null, \"status\": \"Completed\", \"run_type\": null, \"training_percent\": \"100\", \"start_time\": \"2021-01-07T08:42:15.723796Z\", \"end_time\": \"2021-01-07T08:42:42.956128Z\", \"created_time\": \"2021-01-07T08:42:15.605162Z\", \"created_time_dt\": \"2021-01-07T08:42:15.605162Z\", \"duration\": \"0:00:27\", \"iteration\": \"14\", \"goal\": \"r2_score_max\", \"run_name\": \"MinMaxScaler, ExtremeRandomTrees\", \"run_properties\": \"copy=True, feature_range=(0, 1\", \"primary_metric\": 0.22004246, \"best_metric\": 0.25512888}, {\"run_id\": \"AutoML_80799b5f-fc80-43fb-a6f0-e57066d8fbca_15\", \"run_number\": 17, \"metric\": null, \"status\": \"Completed\", \"run_type\": null, \"training_percent\": \"100\", \"start_time\": \"2021-01-07T08:42:44.470301Z\", \"end_time\": \"2021-01-07T08:43:09.508135Z\", \"created_time\": \"2021-01-07T08:42:44.348431Z\", \"created_time_dt\": \"2021-01-07T08:42:44.348431Z\", \"duration\": \"0:00:25\", \"iteration\": \"15\", \"goal\": \"r2_score_max\", \"run_name\": \"MaxAbsScaler, ExtremeRandomTrees\", \"run_properties\": \"copy=True\", \"primary_metric\": 0.18615905, \"best_metric\": 0.25512888}, {\"run_id\": \"AutoML_80799b5f-fc80-43fb-a6f0-e57066d8fbca_16\", \"run_number\": 18, \"metric\": null, \"status\": \"Completed\", \"run_type\": null, \"training_percent\": \"100\", \"start_time\": \"2021-01-07T08:43:11.138832Z\", \"end_time\": \"2021-01-07T08:43:44.248585Z\", \"created_time\": \"2021-01-07T08:43:10.973626Z\", \"created_time_dt\": \"2021-01-07T08:43:10.973626Z\", \"duration\": \"0:00:33\", \"iteration\": \"16\", \"goal\": \"r2_score_max\", \"run_name\": \"MinMaxScaler, ExtremeRandomTrees\", \"run_properties\": \"copy=True, feature_range=(0, 1\", \"primary_metric\": 0.24575438, \"best_metric\": 0.25512888}, {\"run_id\": \"AutoML_80799b5f-fc80-43fb-a6f0-e57066d8fbca_17\", \"run_number\": 19, \"metric\": null, \"status\": \"Completed\", \"run_type\": null, \"training_percent\": \"100\", \"start_time\": \"2021-01-07T08:43:45.782202Z\", \"end_time\": \"2021-01-07T08:44:11.765359Z\", \"created_time\": \"2021-01-07T08:43:45.662107Z\", \"created_time_dt\": \"2021-01-07T08:43:45.662107Z\", \"duration\": \"0:00:26\", \"iteration\": \"17\", \"goal\": \"r2_score_max\", \"run_name\": \"MaxAbsScaler, ElasticNet\", \"run_properties\": \"copy=True\", \"primary_metric\": 0.25468713, \"best_metric\": 0.25512888}, {\"run_id\": \"AutoML_80799b5f-fc80-43fb-a6f0-e57066d8fbca_18\", \"run_number\": 20, \"metric\": null, \"status\": \"Completed\", \"run_type\": null, \"training_percent\": \"100\", \"start_time\": \"2021-01-07T08:44:13.432372Z\", \"end_time\": \"2021-01-07T08:44:38.854249Z\", \"created_time\": \"2021-01-07T08:44:13.3041Z\", \"created_time_dt\": \"2021-01-07T08:44:13.3041Z\", \"duration\": \"0:00:25\", \"iteration\": \"18\", \"goal\": \"r2_score_max\", \"run_name\": \"MinMaxScaler, RandomForest\", \"run_properties\": \"copy=True, feature_range=(0, 1\", \"primary_metric\": 0.16540248, \"best_metric\": 0.25512888}, {\"run_id\": \"AutoML_80799b5f-fc80-43fb-a6f0-e57066d8fbca_19\", \"run_number\": 21, \"metric\": null, \"status\": \"Completed\", \"run_type\": null, \"training_percent\": \"100\", \"start_time\": \"2021-01-07T08:44:40.435874Z\", \"end_time\": \"2021-01-07T08:45:06.084161Z\", \"created_time\": \"2021-01-07T08:44:40.320033Z\", \"created_time_dt\": \"2021-01-07T08:44:40.320033Z\", \"duration\": \"0:00:25\", \"iteration\": \"19\", \"goal\": \"r2_score_max\", \"run_name\": \"MaxAbsScaler, RandomForest\", \"run_properties\": \"copy=True\", \"primary_metric\": 0.23404017, \"best_metric\": 0.25512888}, {\"run_id\": \"AutoML_80799b5f-fc80-43fb-a6f0-e57066d8fbca_20\", \"run_number\": 22, \"metric\": null, \"status\": \"Completed\", \"run_type\": null, \"training_percent\": \"100\", \"start_time\": \"2021-01-07T08:45:07.524735Z\", \"end_time\": \"2021-01-07T08:45:33.811442Z\", \"created_time\": \"2021-01-07T08:45:07.397769Z\", \"created_time_dt\": \"2021-01-07T08:45:07.397769Z\", \"duration\": \"0:00:26\", \"iteration\": \"20\", \"goal\": \"r2_score_max\", \"run_name\": \"RobustScaler, ElasticNet\", \"run_properties\": \"copy=True, quantile_range=[10, 90], with_centering=True,\\n             with_scaling=False\", \"primary_metric\": 0.25612126, \"best_metric\": 0.25612126}, {\"run_id\": \"AutoML_80799b5f-fc80-43fb-a6f0-e57066d8fbca_21\", \"run_number\": 23, \"metric\": null, \"status\": \"Completed\", \"run_type\": null, \"training_percent\": \"100\", \"start_time\": \"2021-01-07T08:45:35.23188Z\", \"end_time\": \"2021-01-07T08:46:07.986235Z\", \"created_time\": \"2021-01-07T08:45:35.116649Z\", \"created_time_dt\": \"2021-01-07T08:45:35.116649Z\", \"duration\": \"0:00:32\", \"iteration\": \"21\", \"goal\": \"r2_score_max\", \"run_name\": \"StandardScalerWrapper, RandomForest\", \"run_properties\": \"<azureml.automl.runtime.shared.model_wrappers.StandardScalerWrapper object at 0x7f2ad1a83da0\", \"primary_metric\": 0.24220416, \"best_metric\": 0.25612126}, {\"run_id\": \"AutoML_80799b5f-fc80-43fb-a6f0-e57066d8fbca_22\", \"run_number\": 24, \"metric\": null, \"status\": \"Completed\", \"run_type\": null, \"training_percent\": \"100\", \"start_time\": \"2021-01-07T08:46:09.308066Z\", \"end_time\": \"2021-01-07T08:46:42.998006Z\", \"created_time\": \"2021-01-07T08:46:09.195694Z\", \"created_time_dt\": \"2021-01-07T08:46:09.195694Z\", \"duration\": \"0:00:33\", \"iteration\": \"22\", \"goal\": \"r2_score_max\", \"run_name\": \"RobustScaler, LightGBM\", \"run_properties\": \"copy=True, quantile_range=[10, 90], with_centering=False,\\n             with_scaling=True\", \"primary_metric\": 0.1758025, \"best_metric\": 0.25612126}, {\"run_id\": \"AutoML_80799b5f-fc80-43fb-a6f0-e57066d8fbca_23\", \"run_number\": 25, \"metric\": null, \"status\": \"Completed\", \"run_type\": null, \"training_percent\": \"100\", \"start_time\": \"2021-01-07T08:46:44.408157Z\", \"end_time\": \"2021-01-07T08:47:16.471568Z\", \"created_time\": \"2021-01-07T08:46:44.242831Z\", \"created_time_dt\": \"2021-01-07T08:46:44.242831Z\", \"duration\": \"0:00:32\", \"iteration\": \"23\", \"goal\": \"r2_score_max\", \"run_name\": \"RobustScaler, GradientBoosting\", \"run_properties\": \"copy=True, quantile_range=[10, 90], with_centering=True,\\n             with_scaling=False\", \"primary_metric\": 0.13384162, \"best_metric\": 0.25612126}, {\"run_id\": \"AutoML_80799b5f-fc80-43fb-a6f0-e57066d8fbca_24\", \"run_number\": 26, \"metric\": null, \"status\": \"Completed\", \"run_type\": null, \"training_percent\": \"100\", \"start_time\": \"2021-01-07T08:47:17.84793Z\", \"end_time\": \"2021-01-07T08:47:50.566055Z\", \"created_time\": \"2021-01-07T08:47:17.720115Z\", \"created_time_dt\": \"2021-01-07T08:47:17.720115Z\", \"duration\": \"0:00:32\", \"iteration\": \"24\", \"goal\": \"r2_score_max\", \"run_name\": \"MaxAbsScaler, RandomForest\", \"run_properties\": \"copy=True\", \"primary_metric\": 0.21484622, \"best_metric\": 0.25612126}, {\"run_id\": \"AutoML_80799b5f-fc80-43fb-a6f0-e57066d8fbca_25\", \"run_number\": 27, \"metric\": null, \"status\": \"Completed\", \"run_type\": null, \"training_percent\": \"100\", \"start_time\": \"2021-01-07T08:47:52.904591Z\", \"end_time\": \"2021-01-07T08:48:19.217508Z\", \"created_time\": \"2021-01-07T08:47:52.785381Z\", \"created_time_dt\": \"2021-01-07T08:47:52.785381Z\", \"duration\": \"0:00:26\", \"iteration\": \"25\", \"goal\": \"r2_score_max\", \"run_name\": \"StandardScalerWrapper, ElasticNet\", \"run_properties\": \"<azureml.automl.runtime.shared.model_wrappers.StandardScalerWrapper object at 0x7f2ac07af6d8\", \"primary_metric\": 0.23469651, \"best_metric\": 0.25612126}, {\"run_id\": \"AutoML_80799b5f-fc80-43fb-a6f0-e57066d8fbca_26\", \"run_number\": 28, \"metric\": null, \"status\": \"Completed\", \"run_type\": null, \"training_percent\": \"100\", \"start_time\": \"2021-01-07T08:48:20.581734Z\", \"end_time\": \"2021-01-07T08:49:04.322499Z\", \"created_time\": \"2021-01-07T08:48:20.45991Z\", \"created_time_dt\": \"2021-01-07T08:48:20.45991Z\", \"duration\": \"0:00:43\", \"iteration\": \"26\", \"goal\": \"r2_score_max\", \"run_name\": \"StandardScalerWrapper, ExtremeRandomTrees\", \"run_properties\": \"<azureml.automl.runtime.shared.model_wrappers.StandardScalerWrapper object at 0x7f2ac0835f28\", \"primary_metric\": 0.19440062, \"best_metric\": 0.25612126}, {\"run_id\": \"AutoML_80799b5f-fc80-43fb-a6f0-e57066d8fbca_27\", \"run_number\": 29, \"metric\": null, \"status\": \"Completed\", \"run_type\": null, \"training_percent\": \"100\", \"start_time\": \"2021-01-07T08:49:05.72582Z\", \"end_time\": \"2021-01-07T08:49:31.378421Z\", \"created_time\": \"2021-01-07T08:49:05.579365Z\", \"created_time_dt\": \"2021-01-07T08:49:05.579365Z\", \"duration\": \"0:00:25\", \"iteration\": \"27\", \"goal\": \"r2_score_max\", \"run_name\": \"StandardScalerWrapper, GradientBoosting\", \"run_properties\": \"<azureml.automl.runtime.shared.model_wrappers.StandardScalerWrapper object at 0x7f2ad1c5e358\", \"primary_metric\": 0.18577103, \"best_metric\": 0.25612126}, {\"run_id\": \"AutoML_80799b5f-fc80-43fb-a6f0-e57066d8fbca_28\", \"run_number\": 30, \"metric\": null, \"status\": \"Completed\", \"run_type\": null, \"training_percent\": \"100\", \"start_time\": \"2021-01-07T08:49:32.835633Z\", \"end_time\": \"2021-01-07T08:50:18.460082Z\", \"created_time\": \"2021-01-07T08:49:32.709428Z\", \"created_time_dt\": \"2021-01-07T08:49:32.709428Z\", \"duration\": \"0:00:45\", \"iteration\": \"28\", \"goal\": \"r2_score_max\", \"run_name\": \"SparseNormalizer, RandomForest\", \"run_properties\": \"<azureml.automl.runtime.shared.model_wrappers.SparseNormalizer object at 0x7f2a0c946a20\", \"primary_metric\": 0.24297589, \"best_metric\": 0.25612126}, {\"run_id\": \"AutoML_80799b5f-fc80-43fb-a6f0-e57066d8fbca_29\", \"run_number\": 31, \"metric\": null, \"status\": \"Completed\", \"run_type\": null, \"training_percent\": \"100\", \"start_time\": \"2021-01-07T08:50:19.831205Z\", \"end_time\": \"2021-01-07T08:51:55.29643Z\", \"created_time\": \"2021-01-07T08:50:19.661623Z\", \"created_time_dt\": \"2021-01-07T08:50:19.661623Z\", \"duration\": \"0:01:35\", \"iteration\": \"29\", \"goal\": \"r2_score_max\", \"run_name\": \"MinMaxScaler, RandomForest\", \"run_properties\": \"copy=True, feature_range=(0, 1\", \"primary_metric\": 0.2341678, \"best_metric\": 0.25612126}, {\"run_id\": \"AutoML_80799b5f-fc80-43fb-a6f0-e57066d8fbca_30\", \"run_number\": 32, \"metric\": null, \"status\": \"Completed\", \"run_type\": null, \"training_percent\": \"100\", \"start_time\": \"2021-01-07T08:51:57.800006Z\", \"end_time\": \"2021-01-07T08:52:26.215178Z\", \"created_time\": \"2021-01-07T08:51:57.658306Z\", \"created_time_dt\": \"2021-01-07T08:51:57.658306Z\", \"duration\": \"0:00:28\", \"iteration\": \"30\", \"goal\": \"r2_score_max\", \"run_name\": \"TruncatedSVDWrapper, ElasticNet\", \"run_properties\": \"n_components=0.7521052631578947, random_state=None\", \"primary_metric\": 0.14911761, \"best_metric\": 0.25612126}, {\"run_id\": \"AutoML_80799b5f-fc80-43fb-a6f0-e57066d8fbca_31\", \"run_number\": 33, \"metric\": null, \"status\": \"Completed\", \"run_type\": null, \"training_percent\": \"100\", \"start_time\": \"2021-01-07T08:52:27.751941Z\", \"end_time\": \"2021-01-07T08:53:01.609207Z\", \"created_time\": \"2021-01-07T08:52:27.628519Z\", \"created_time_dt\": \"2021-01-07T08:52:27.628519Z\", \"duration\": \"0:00:33\", \"iteration\": \"31\", \"goal\": \"r2_score_max\", \"run_name\": \"StandardScalerWrapper, RandomForest\", \"run_properties\": \"<azureml.automl.runtime.shared.model_wrappers.StandardScalerWrapper object at 0x7f2ac091ba58\", \"primary_metric\": 0.23303521, \"best_metric\": 0.25612126}, {\"run_id\": \"AutoML_80799b5f-fc80-43fb-a6f0-e57066d8fbca_32\", \"run_number\": 34, \"metric\": null, \"status\": \"Completed\", \"run_type\": null, \"training_percent\": \"100\", \"start_time\": \"2021-01-07T08:53:02.933217Z\", \"end_time\": \"2021-01-07T08:53:33.426701Z\", \"created_time\": \"2021-01-07T08:53:02.820428Z\", \"created_time_dt\": \"2021-01-07T08:53:02.820428Z\", \"duration\": \"0:00:30\", \"iteration\": \"32\", \"goal\": \"r2_score_max\", \"run_name\": \"MinMaxScaler, LightGBM\", \"run_properties\": \"copy=True, feature_range=(0, 1\", \"primary_metric\": 0.1723326, \"best_metric\": 0.25612126}, {\"run_id\": \"AutoML_80799b5f-fc80-43fb-a6f0-e57066d8fbca_33\", \"run_number\": 35, \"metric\": null, \"status\": \"Completed\", \"run_type\": null, \"training_percent\": \"100\", \"start_time\": \"2021-01-07T08:53:34.769974Z\", \"end_time\": \"2021-01-07T08:54:20.129783Z\", \"created_time\": \"2021-01-07T08:53:34.658569Z\", \"created_time_dt\": \"2021-01-07T08:53:34.658569Z\", \"duration\": \"0:00:45\", \"iteration\": \"33\", \"goal\": \"r2_score_max\", \"run_name\": \"MinMaxScaler, RandomForest\", \"run_properties\": \"copy=True, feature_range=(0, 1\", \"primary_metric\": 0.23158064, \"best_metric\": 0.25612126}, {\"run_id\": \"AutoML_80799b5f-fc80-43fb-a6f0-e57066d8fbca_34\", \"run_number\": 36, \"metric\": null, \"status\": \"Completed\", \"run_type\": null, \"training_percent\": \"100\", \"start_time\": \"2021-01-07T08:54:22.040394Z\", \"end_time\": \"2021-01-07T08:54:48.799546Z\", \"created_time\": \"2021-01-07T08:54:21.727289Z\", \"created_time_dt\": \"2021-01-07T08:54:21.727289Z\", \"duration\": \"0:00:27\", \"iteration\": \"34\", \"goal\": \"r2_score_max\", \"run_name\": \"MinMaxScaler, ExtremeRandomTrees\", \"run_properties\": \"copy=True, feature_range=(0, 1\", \"primary_metric\": 0.22781933, \"best_metric\": 0.25612126}, {\"run_id\": \"AutoML_80799b5f-fc80-43fb-a6f0-e57066d8fbca_35\", \"run_number\": 37, \"metric\": null, \"status\": \"Completed\", \"run_type\": null, \"training_percent\": \"100\", \"start_time\": \"2021-01-07T08:54:51.091868Z\", \"end_time\": \"2021-01-07T08:55:17.22482Z\", \"created_time\": \"2021-01-07T08:54:50.977702Z\", \"created_time_dt\": \"2021-01-07T08:54:50.977702Z\", \"duration\": \"0:00:26\", \"iteration\": \"35\", \"goal\": \"r2_score_max\", \"run_name\": \"TruncatedSVDWrapper, ElasticNet\", \"run_properties\": \"n_components=0.45526315789473687, random_state=None\", \"primary_metric\": 0.15031009, \"best_metric\": 0.25612126}, {\"run_id\": \"AutoML_80799b5f-fc80-43fb-a6f0-e57066d8fbca_36\", \"run_number\": 38, \"metric\": null, \"status\": \"Completed\", \"run_type\": null, \"training_percent\": \"100\", \"start_time\": \"2021-01-07T08:55:18.999951Z\", \"end_time\": \"2021-01-07T08:55:47.055225Z\", \"created_time\": \"2021-01-07T08:55:18.671492Z\", \"created_time_dt\": \"2021-01-07T08:55:18.671492Z\", \"duration\": \"0:00:28\", \"iteration\": \"36\", \"goal\": \"r2_score_max\", \"run_name\": \"StandardScalerWrapper, DecisionTree\", \"run_properties\": \"<azureml.automl.runtime.shared.model_wrappers.StandardScalerWrapper object at 0x7f2ad19c5128\", \"primary_metric\": 0.15156122, \"best_metric\": 0.25612126}, {\"run_id\": \"AutoML_80799b5f-fc80-43fb-a6f0-e57066d8fbca_37\", \"run_number\": 39, \"metric\": null, \"status\": \"Completed\", \"run_type\": null, \"training_percent\": \"100\", \"start_time\": \"2021-01-07T08:55:48.379128Z\", \"end_time\": \"2021-01-07T08:56:13.398256Z\", \"created_time\": \"2021-01-07T08:55:48.258172Z\", \"created_time_dt\": \"2021-01-07T08:55:48.258172Z\", \"duration\": \"0:00:25\", \"iteration\": \"37\", \"goal\": \"r2_score_max\", \"run_name\": \"MaxAbsScaler, RandomForest\", \"run_properties\": \"copy=True\", \"primary_metric\": 0.23088718, \"best_metric\": 0.25612126}, {\"run_id\": \"AutoML_80799b5f-fc80-43fb-a6f0-e57066d8fbca_38\", \"run_number\": 40, \"metric\": null, \"status\": \"Completed\", \"run_type\": null, \"training_percent\": \"100\", \"start_time\": \"2021-01-07T08:56:15.205467Z\", \"end_time\": \"2021-01-07T08:56:44.24736Z\", \"created_time\": \"2021-01-07T08:56:14.889815Z\", \"created_time_dt\": \"2021-01-07T08:56:14.889815Z\", \"duration\": \"0:00:29\", \"iteration\": \"38\", \"goal\": \"r2_score_max\", \"run_name\": \"StandardScalerWrapper, ExtremeRandomTrees\", \"run_properties\": \"<azureml.automl.runtime.shared.model_wrappers.StandardScalerWrapper object at 0x7f2a0ca13588\", \"primary_metric\": 0.21215349, \"best_metric\": 0.25612126}, {\"run_id\": \"AutoML_80799b5f-fc80-43fb-a6f0-e57066d8fbca_39\", \"run_number\": 41, \"metric\": null, \"status\": \"Completed\", \"run_type\": null, \"training_percent\": \"100\", \"start_time\": \"2021-01-07T08:56:46.44414Z\", \"end_time\": \"2021-01-07T08:57:18.330007Z\", \"created_time\": \"2021-01-07T08:56:45.834831Z\", \"created_time_dt\": \"2021-01-07T08:56:45.834831Z\", \"duration\": \"0:00:32\", \"iteration\": \"39\", \"goal\": \"r2_score_max\", \"run_name\": \"RobustScaler, RandomForest\", \"run_properties\": \"copy=True, quantile_range=[10, 90], with_centering=False,\\n             with_scaling=True\", \"primary_metric\": 0.19831458, \"best_metric\": 0.25612126}, {\"run_id\": \"AutoML_80799b5f-fc80-43fb-a6f0-e57066d8fbca_40\", \"run_number\": 42, \"metric\": null, \"status\": \"Completed\", \"run_type\": null, \"training_percent\": \"100\", \"start_time\": \"2021-01-07T08:57:21.463492Z\", \"end_time\": \"2021-01-07T08:57:48.843733Z\", \"created_time\": \"2021-01-07T08:57:21.150807Z\", \"created_time_dt\": \"2021-01-07T08:57:21.150807Z\", \"duration\": \"0:00:27\", \"iteration\": \"40\", \"goal\": \"r2_score_max\", \"run_name\": \"TruncatedSVDWrapper, ElasticNet\", \"run_properties\": \"n_components=0.01, random_state=None\", \"primary_metric\": -0.00256909, \"best_metric\": 0.25612126}, {\"run_id\": \"AutoML_80799b5f-fc80-43fb-a6f0-e57066d8fbca_41\", \"run_number\": 43, \"metric\": null, \"status\": \"Completed\", \"run_type\": null, \"training_percent\": \"100\", \"start_time\": \"2021-01-07T08:57:50.225454Z\", \"end_time\": \"2021-01-07T08:58:29.112158Z\", \"created_time\": \"2021-01-07T08:57:50.113549Z\", \"created_time_dt\": \"2021-01-07T08:57:50.113549Z\", \"duration\": \"0:00:38\", \"iteration\": \"41\", \"goal\": \"r2_score_max\", \"run_name\": \"RobustScaler, RandomForest\", \"run_properties\": \"copy=True, quantile_range=[10, 90], with_centering=False,\\n             with_scaling=False\", \"primary_metric\": 0.2333808, \"best_metric\": 0.25612126}, {\"run_id\": \"AutoML_80799b5f-fc80-43fb-a6f0-e57066d8fbca_42\", \"run_number\": 44, \"metric\": null, \"status\": \"Completed\", \"run_type\": null, \"training_percent\": \"100\", \"start_time\": \"2021-01-07T08:58:30.412583Z\", \"end_time\": \"2021-01-07T08:58:55.505121Z\", \"created_time\": \"2021-01-07T08:58:30.296477Z\", \"created_time_dt\": \"2021-01-07T08:58:30.296477Z\", \"duration\": \"0:00:25\", \"iteration\": \"42\", \"goal\": \"r2_score_max\", \"run_name\": \"StandardScalerWrapper, DecisionTree\", \"run_properties\": \"<azureml.automl.runtime.shared.model_wrappers.StandardScalerWrapper object at 0x7f2a0b4ae9b0\", \"primary_metric\": 0.12546151, \"best_metric\": 0.25612126}, {\"run_id\": \"AutoML_80799b5f-fc80-43fb-a6f0-e57066d8fbca_43\", \"run_number\": 45, \"metric\": null, \"status\": \"Completed\", \"run_type\": null, \"training_percent\": \"100\", \"start_time\": \"2021-01-07T08:58:56.906326Z\", \"end_time\": \"2021-01-07T08:59:22.891307Z\", \"created_time\": \"2021-01-07T08:58:56.771209Z\", \"created_time_dt\": \"2021-01-07T08:58:56.771209Z\", \"duration\": \"0:00:26\", \"iteration\": \"43\", \"goal\": \"r2_score_max\", \"run_name\": \"MinMaxScaler, RandomForest\", \"run_properties\": \"copy=True, feature_range=(0, 1\", \"primary_metric\": 0.233878, \"best_metric\": 0.25612126}, {\"run_id\": \"AutoML_80799b5f-fc80-43fb-a6f0-e57066d8fbca_44\", \"run_number\": 46, \"metric\": null, \"status\": \"Completed\", \"run_type\": null, \"training_percent\": \"100\", \"start_time\": \"2021-01-07T08:59:24.271658Z\", \"end_time\": \"2021-01-07T09:00:03.70823Z\", \"created_time\": \"2021-01-07T08:59:24.155016Z\", \"created_time_dt\": \"2021-01-07T08:59:24.155016Z\", \"duration\": \"0:00:39\", \"iteration\": \"44\", \"goal\": \"r2_score_max\", \"run_name\": \"MinMaxScaler, RandomForest\", \"run_properties\": \"copy=True, feature_range=(0, 1\", \"primary_metric\": 0.25000684, \"best_metric\": 0.25612126}, {\"run_id\": \"AutoML_80799b5f-fc80-43fb-a6f0-e57066d8fbca_45\", \"run_number\": 47, \"metric\": null, \"status\": \"Completed\", \"run_type\": null, \"training_percent\": \"100\", \"start_time\": \"2021-01-07T09:00:06.23114Z\", \"end_time\": \"2021-01-07T09:00:45.042845Z\", \"created_time\": \"2021-01-07T09:00:06.084015Z\", \"created_time_dt\": \"2021-01-07T09:00:06.084015Z\", \"duration\": \"0:00:38\", \"iteration\": \"45\", \"goal\": \"r2_score_max\", \"run_name\": \"StandardScalerWrapper, ElasticNet\", \"run_properties\": \"<azureml.automl.runtime.shared.model_wrappers.StandardScalerWrapper object at 0x7f2ad1db2ba8\", \"primary_metric\": 0.25650347, \"best_metric\": 0.25650347}, {\"run_id\": \"AutoML_80799b5f-fc80-43fb-a6f0-e57066d8fbca_46\", \"run_number\": 48, \"metric\": null, \"status\": \"Completed\", \"run_type\": null, \"training_percent\": \"100\", \"start_time\": \"2021-01-07T09:00:46.521451Z\", \"end_time\": \"2021-01-07T09:01:19.54145Z\", \"created_time\": \"2021-01-07T09:00:46.390741Z\", \"created_time_dt\": \"2021-01-07T09:00:46.390741Z\", \"duration\": \"0:00:33\", \"iteration\": \"46\", \"goal\": \"r2_score_max\", \"run_name\": \"StandardScalerWrapper, ExtremeRandomTrees\", \"run_properties\": \"<azureml.automl.runtime.shared.model_wrappers.StandardScalerWrapper object at 0x7f2aae8996d8\", \"primary_metric\": 0.20348727, \"best_metric\": 0.25650347}, {\"run_id\": \"AutoML_80799b5f-fc80-43fb-a6f0-e57066d8fbca_47\", \"run_number\": 49, \"metric\": null, \"status\": \"Completed\", \"run_type\": null, \"training_percent\": \"100\", \"start_time\": \"2021-01-07T09:01:20.983766Z\", \"end_time\": \"2021-01-07T09:01:52.230551Z\", \"created_time\": \"2021-01-07T09:01:20.858352Z\", \"created_time_dt\": \"2021-01-07T09:01:20.858352Z\", \"duration\": \"0:00:31\", \"iteration\": \"47\", \"goal\": \"r2_score_max\", \"run_name\": \"MaxAbsScaler, RandomForest\", \"run_properties\": \"copy=True\", \"primary_metric\": 0.18656673, \"best_metric\": 0.25650347}, {\"run_id\": \"AutoML_80799b5f-fc80-43fb-a6f0-e57066d8fbca_48\", \"run_number\": 50, \"metric\": null, \"status\": \"Completed\", \"run_type\": null, \"training_percent\": \"100\", \"start_time\": \"2021-01-07T09:01:54.077939Z\", \"end_time\": \"2021-01-07T09:02:27.822533Z\", \"created_time\": \"2021-01-07T09:01:53.754438Z\", \"created_time_dt\": \"2021-01-07T09:01:53.754438Z\", \"duration\": \"0:00:34\", \"iteration\": \"48\", \"goal\": \"r2_score_max\", \"run_name\": \"SparseNormalizer, XGBoostRegressor\", \"run_properties\": \"<azureml.automl.runtime.shared.model_wrappers.SparseNormalizer object at 0x7f2ac09644a8\", \"primary_metric\": 0.1939522, \"best_metric\": 0.25650347}, {\"run_id\": \"AutoML_80799b5f-fc80-43fb-a6f0-e57066d8fbca_49\", \"run_number\": 51, \"metric\": null, \"status\": \"Completed\", \"run_type\": null, \"training_percent\": \"100\", \"start_time\": \"2021-01-07T09:02:29.238956Z\", \"end_time\": \"2021-01-07T09:02:59.89888Z\", \"created_time\": \"2021-01-07T09:02:29.111042Z\", \"created_time_dt\": \"2021-01-07T09:02:29.111042Z\", \"duration\": \"0:00:30\", \"iteration\": \"49\", \"goal\": \"r2_score_max\", \"run_name\": \"StandardScalerWrapper, RandomForest\", \"run_properties\": \"<azureml.automl.runtime.shared.model_wrappers.StandardScalerWrapper object at 0x7f2a0b4fc780\", \"primary_metric\": 0.20142518, \"best_metric\": 0.25650347}, {\"run_id\": \"AutoML_80799b5f-fc80-43fb-a6f0-e57066d8fbca_50\", \"run_number\": 52, \"metric\": null, \"status\": \"Completed\", \"run_type\": null, \"training_percent\": \"100\", \"start_time\": \"2021-01-07T09:03:02.544068Z\", \"end_time\": \"2021-01-07T09:03:29.82275Z\", \"created_time\": \"2021-01-07T09:03:02.412458Z\", \"created_time_dt\": \"2021-01-07T09:03:02.412458Z\", \"duration\": \"0:00:27\", \"iteration\": \"50\", \"goal\": \"r2_score_max\", \"run_name\": \"SparseNormalizer, ElasticNet\", \"run_properties\": \"<azureml.automl.runtime.shared.model_wrappers.SparseNormalizer object at 0x7f2aae843cc0\", \"primary_metric\": 0.13523173, \"best_metric\": 0.25650347}, {\"run_id\": \"AutoML_80799b5f-fc80-43fb-a6f0-e57066d8fbca_51\", \"run_number\": 53, \"metric\": null, \"status\": \"Completed\", \"run_type\": null, \"training_percent\": \"100\", \"start_time\": \"2021-01-07T09:03:31.738294Z\", \"end_time\": \"2021-01-07T09:04:08.975334Z\", \"created_time\": \"2021-01-07T09:03:31.593057Z\", \"created_time_dt\": \"2021-01-07T09:03:31.593057Z\", \"duration\": \"0:00:37\", \"iteration\": \"51\", \"goal\": \"r2_score_max\", \"run_name\": \"StandardScalerWrapper, ElasticNet\", \"run_properties\": \"<azureml.automl.runtime.shared.model_wrappers.StandardScalerWrapper object at 0x7f2aae7d6978\", \"primary_metric\": 0.25530309, \"best_metric\": 0.25650347}, {\"run_id\": \"AutoML_80799b5f-fc80-43fb-a6f0-e57066d8fbca_52\", \"run_number\": 54, \"metric\": null, \"status\": \"Completed\", \"run_type\": null, \"training_percent\": \"100\", \"start_time\": \"2021-01-07T09:04:09.337612Z\", \"end_time\": \"2021-01-07T09:05:33.365175Z\", \"created_time\": \"2021-01-07T09:04:09.229508Z\", \"created_time_dt\": \"2021-01-07T09:04:09.229508Z\", \"duration\": \"0:01:24\", \"iteration\": \"52\", \"goal\": \"r2_score_max\", \"run_name\": \"VotingEnsemble\", \"run_properties\": \"estimators=[('45',\\n                                          Pipeline(memory=None,\\n                                                   steps=[('standardscalerwrapper',\\n                                                           <azureml.automl.runtime.shared.model_wrappers.StandardScalerWrapper object at 0x7f2a0bc3a4e0>\", \"primary_metric\": 0.28499229, \"best_metric\": 0.28499229}, {\"run_id\": \"AutoML_80799b5f-fc80-43fb-a6f0-e57066d8fbca_53\", \"run_number\": 55, \"metric\": null, \"status\": \"Completed\", \"run_type\": null, \"training_percent\": \"100\", \"start_time\": \"2021-01-07T09:05:33.712807Z\", \"end_time\": \"2021-01-07T09:07:08.411189Z\", \"created_time\": \"2021-01-07T09:05:33.603979Z\", \"created_time_dt\": \"2021-01-07T09:05:33.603979Z\", \"duration\": \"0:01:34\", \"iteration\": \"53\", \"goal\": \"r2_score_max\", \"run_name\": \"StackEnsemble\", \"run_properties\": \"base_learners=[('45',\\n                                       Pipeline(memory=None,\\n                                                steps=[('standardscalerwrapper',\\n                                                        <azureml.automl.runtime.shared.model_wrappers.StandardScalerWrapper object at 0x7f2a0972d2e8>\", \"primary_metric\": 0.27589343, \"best_metric\": 0.28499229}], \"children_metrics\": {\"categories\": [0], \"series\": {\"normalized_root_mean_squared_log_error\": [{\"categories\": [\"0\", \"1\", \"2\", \"3\", \"4\", \"5\", \"6\", \"7\", \"8\", \"9\", \"10\", \"11\", \"12\", \"13\", \"14\", \"15\", \"16\", \"17\", \"18\", \"19\", \"20\", \"21\", \"22\", \"23\", \"24\", \"25\", \"26\", \"27\", \"28\", \"29\", \"30\", \"31\", \"32\", \"33\", \"34\", \"35\", \"36\", \"37\", \"38\", \"39\", \"40\", \"41\", \"42\", \"43\", \"44\", \"45\", \"46\", \"47\", \"48\", \"49\", \"50\", \"51\", \"52\", \"53\"], \"mode\": \"markers\", \"name\": \"normalized_root_mean_squared_log_error\", \"stepped\": false, \"type\": \"scatter\", \"data\": [0.12072329071194457, 0.11965144995032609, 0.11961789529077235, 0.11949900722184648, 0.12313428740272855, 0.12084472857590357, 0.12095334354045735, 0.11970968544312813, 0.11870848485860157, 0.12048076737047775, 0.11955713310777256, 0.12189285080402042, 0.11808790077430922, 0.12087586887956285, 0.11935900600711027, 0.12691967238859503, 0.11855035677883377, 0.12140659756443255, 0.1282007826485907, 0.12012424614836012, 0.12091255190901425, 0.12127976663922779, 0.12341441682252267, 0.13107053225914989, 0.12328745454059928, 0.12312910434424292, 0.12646798494747993, 0.12659935751434806, 0.11918212436574087, 0.11491221430720051, 0.13060064681746197, 0.12226655851541982, 0.12321496837328609, 0.12247475845133912, 0.12030913088824698, 0.12986227740824893, 0.12575005222862218, 0.12133085728819401, 0.12442345974568787, 0.12629110165220478, 0.14377462207066957, 0.12194583937139374, 0.12848716641298258, 0.12017567362528117, 0.11898650317233708, 0.12079916323424324, 0.1251701127717442, 0.12680899216082242, 0.12037379835419368, 0.12495997294784869, 0.13200898226395508, 0.121173699705031, 0.1152810788092448, 0.11651864004118004]}, {\"categories\": [\"0\", \"1\", \"2\", \"3\", \"4\", \"5\", \"6\", \"7\", \"8\", \"9\", \"10\", \"11\", \"12\", \"13\", \"14\", \"15\", \"16\", \"17\", \"18\", \"19\", \"20\", \"21\", \"22\", \"23\", \"24\", \"25\", \"26\", \"27\", \"28\", \"29\", \"30\", \"31\", \"32\", \"33\", \"34\", \"35\", \"36\", \"37\", \"38\", \"39\", \"40\", \"41\", \"42\", \"43\", \"44\", \"45\", \"46\", \"47\", \"48\", \"49\", \"50\", \"51\", \"52\", \"53\"], \"mode\": \"lines\", \"name\": \"normalized_root_mean_squared_log_error_min\", \"stepped\": true, \"type\": \"scatter\", \"data\": [0.12072329071194457, 0.11965144995032609, 0.11961789529077235, 0.11949900722184648, 0.11949900722184648, 0.11949900722184648, 0.11949900722184648, 0.11949900722184648, 0.11870848485860157, 0.11870848485860157, 0.11870848485860157, 0.11870848485860157, 0.11808790077430922, 0.11808790077430922, 0.11808790077430922, 0.11808790077430922, 0.11808790077430922, 0.11808790077430922, 0.11808790077430922, 0.11808790077430922, 0.11808790077430922, 0.11808790077430922, 0.11808790077430922, 0.11808790077430922, 0.11808790077430922, 0.11808790077430922, 0.11808790077430922, 0.11808790077430922, 0.11808790077430922, 0.11491221430720051, 0.11491221430720051, 0.11491221430720051, 0.11491221430720051, 0.11491221430720051, 0.11491221430720051, 0.11491221430720051, 0.11491221430720051, 0.11491221430720051, 0.11491221430720051, 0.11491221430720051, 0.11491221430720051, 0.11491221430720051, 0.11491221430720051, 0.11491221430720051, 0.11491221430720051, 0.11491221430720051, 0.11491221430720051, 0.11491221430720051, 0.11491221430720051, 0.11491221430720051, 0.11491221430720051, 0.11491221430720051, 0.11491221430720051, 0.11491221430720051]}], \"mean_absolute_percentage_error\": [{\"categories\": [\"0\", \"1\", \"2\", \"3\", \"4\", \"5\", \"6\", \"7\", \"8\", \"9\", \"10\", \"11\", \"12\", \"13\", \"14\", \"15\", \"16\", \"17\", \"18\", \"19\", \"20\", \"21\", \"22\", \"23\", \"24\", \"25\", \"26\", \"27\", \"28\", \"29\", \"30\", \"31\", \"32\", \"33\", \"34\", \"35\", \"36\", \"37\", \"38\", \"39\", \"40\", \"41\", \"42\", \"43\", \"44\", \"45\", \"46\", \"47\", \"48\", \"49\", \"50\", \"51\", \"52\", \"53\"], \"mode\": \"markers\", \"name\": \"mean_absolute_percentage_error\", \"stepped\": false, \"type\": \"scatter\", \"data\": [50.16468600773173, 50.745804084976164, 49.150067633108236, 51.36943153431641, 52.38138515481886, 50.72386809728284, 51.965000168267636, 49.99846090287305, 50.473176809837824, 50.720276765648904, 51.705484352358745, 53.30735869942538, 45.73257287432928, 50.73308620560984, 50.3398556203283, 56.67716238586829, 50.467341049448926, 50.65512171527656, 57.04794227999266, 51.15903060264735, 50.64394470402391, 53.10047718000347, 51.38962495896023, 53.34915698291324, 53.88909055975258, 53.9697299053521, 56.66273044289942, 56.316640121856196, 50.85423149816911, 45.00570552646965, 59.34365925189462, 53.75051832609356, 51.21783023795007, 53.95280721688995, 51.41795792413991, 57.35153428381652, 53.168061722552295, 52.70900131031975, 54.94301581244406, 56.64959059347238, 67.84089890820162, 53.4815695397982, 55.21941812797227, 51.438176459103126, 50.84494618599548, 50.64837647379766, 55.372186809641754, 56.39351147728123, 49.72164367932988, 54.876767923236, 60.43740821153599, 50.647382530106064, 48.084217737956315, 49.20961193610411]}, {\"categories\": [\"0\", \"1\", \"2\", \"3\", \"4\", \"5\", \"6\", \"7\", \"8\", \"9\", \"10\", \"11\", \"12\", \"13\", \"14\", \"15\", \"16\", \"17\", \"18\", \"19\", \"20\", \"21\", \"22\", \"23\", \"24\", \"25\", \"26\", \"27\", \"28\", \"29\", \"30\", \"31\", \"32\", \"33\", \"34\", \"35\", \"36\", \"37\", \"38\", \"39\", \"40\", \"41\", \"42\", \"43\", \"44\", \"45\", \"46\", \"47\", \"48\", \"49\", \"50\", \"51\", \"52\", \"53\"], \"mode\": \"lines\", \"name\": \"mean_absolute_percentage_error_min\", \"stepped\": true, \"type\": \"scatter\", \"data\": [50.16468600773173, 50.16468600773173, 49.150067633108236, 49.150067633108236, 49.150067633108236, 49.150067633108236, 49.150067633108236, 49.150067633108236, 49.150067633108236, 49.150067633108236, 49.150067633108236, 49.150067633108236, 45.73257287432928, 45.73257287432928, 45.73257287432928, 45.73257287432928, 45.73257287432928, 45.73257287432928, 45.73257287432928, 45.73257287432928, 45.73257287432928, 45.73257287432928, 45.73257287432928, 45.73257287432928, 45.73257287432928, 45.73257287432928, 45.73257287432928, 45.73257287432928, 45.73257287432928, 45.00570552646965, 45.00570552646965, 45.00570552646965, 45.00570552646965, 45.00570552646965, 45.00570552646965, 45.00570552646965, 45.00570552646965, 45.00570552646965, 45.00570552646965, 45.00570552646965, 45.00570552646965, 45.00570552646965, 45.00570552646965, 45.00570552646965, 45.00570552646965, 45.00570552646965, 45.00570552646965, 45.00570552646965, 45.00570552646965, 45.00570552646965, 45.00570552646965, 45.00570552646965, 45.00570552646965, 45.00570552646965]}], \"normalized_median_absolute_error\": [{\"categories\": [\"0\", \"1\", \"2\", \"3\", \"4\", \"5\", \"6\", \"7\", \"8\", \"9\", \"10\", \"11\", \"12\", \"13\", \"14\", \"15\", \"16\", \"17\", \"18\", \"19\", \"20\", \"21\", \"22\", \"23\", \"24\", \"25\", \"26\", \"27\", \"28\", \"29\", \"30\", \"31\", \"32\", \"33\", \"34\", \"35\", \"36\", \"37\", \"38\", \"39\", \"40\", \"41\", \"42\", \"43\", \"44\", \"45\", \"46\", \"47\", \"48\", \"49\", \"50\", \"51\", \"52\", \"53\"], \"mode\": \"markers\", \"name\": \"normalized_median_absolute_error\", \"stepped\": false, \"type\": \"scatter\", \"data\": [0.03632138913918442, 0.03669997145489949, 0.03581070271933951, 0.03767067277110496, 0.03803296810243188, 0.03643266337736656, 0.03817420278458507, 0.0368311793629716, 0.03666096318992659, 0.03677381707988762, 0.03752161295733379, 0.039199595227850784, 0.034173774719238284, 0.03643268865762712, 0.03686736265089924, 0.04134257399815512, 0.03647752798980994, 0.036392068223085966, 0.041833489905564014, 0.03805812501445425, 0.0364862726649732, 0.038579453143903535, 0.03667468106670203, 0.04050770842893735, 0.03933669189278759, 0.03862090585905158, 0.04123000109389146, 0.039840846101251784, 0.03638415910830662, 0.03397865853658537, 0.0442329251411072, 0.03928997761676948, 0.03736125234192159, 0.03945097976616857, 0.03746622795508064, 0.04136659916137062, 0.039632984216667985, 0.03840466894254949, 0.03977011818815275, 0.041505973735587544, 0.050388524397438725, 0.03905005451374603, 0.0393615609754419, 0.03766507198756591, 0.03711809287999234, 0.03651019703308303, 0.0404273742058334, 0.040723537346473285, 0.03653103758649128, 0.03955716955016123, 0.044819515460944384, 0.03636457940908155, 0.03511788520607409, 0.03537332863815952]}, {\"categories\": [\"0\", \"1\", \"2\", \"3\", \"4\", \"5\", \"6\", \"7\", \"8\", \"9\", \"10\", \"11\", \"12\", \"13\", \"14\", \"15\", \"16\", \"17\", \"18\", \"19\", \"20\", \"21\", \"22\", \"23\", \"24\", \"25\", \"26\", \"27\", \"28\", \"29\", \"30\", \"31\", \"32\", \"33\", \"34\", \"35\", \"36\", \"37\", \"38\", \"39\", \"40\", \"41\", \"42\", \"43\", \"44\", \"45\", \"46\", \"47\", \"48\", \"49\", \"50\", \"51\", \"52\", \"53\"], \"mode\": \"lines\", \"name\": \"normalized_median_absolute_error_min\", \"stepped\": true, \"type\": \"scatter\", \"data\": [0.03632138913918442, 0.03632138913918442, 0.03581070271933951, 0.03581070271933951, 0.03581070271933951, 0.03581070271933951, 0.03581070271933951, 0.03581070271933951, 0.03581070271933951, 0.03581070271933951, 0.03581070271933951, 0.03581070271933951, 0.034173774719238284, 0.034173774719238284, 0.034173774719238284, 0.034173774719238284, 0.034173774719238284, 0.034173774719238284, 0.034173774719238284, 0.034173774719238284, 0.034173774719238284, 0.034173774719238284, 0.034173774719238284, 0.034173774719238284, 0.034173774719238284, 0.034173774719238284, 0.034173774719238284, 0.034173774719238284, 0.034173774719238284, 0.03397865853658537, 0.03397865853658537, 0.03397865853658537, 0.03397865853658537, 0.03397865853658537, 0.03397865853658537, 0.03397865853658537, 0.03397865853658537, 0.03397865853658537, 0.03397865853658537, 0.03397865853658537, 0.03397865853658537, 0.03397865853658537, 0.03397865853658537, 0.03397865853658537, 0.03397865853658537, 0.03397865853658537, 0.03397865853658537, 0.03397865853658537, 0.03397865853658537, 0.03397865853658537, 0.03397865853658537, 0.03397865853658537, 0.03397865853658537, 0.03397865853658537]}], \"normalized_mean_absolute_error\": [{\"categories\": [\"0\", \"1\", \"2\", \"3\", \"4\", \"5\", \"6\", \"7\", \"8\", \"9\", \"10\", \"11\", \"12\", \"13\", \"14\", \"15\", \"16\", \"17\", \"18\", \"19\", \"20\", \"21\", \"22\", \"23\", \"24\", \"25\", \"26\", \"27\", \"28\", \"29\", \"30\", \"31\", \"32\", \"33\", \"34\", \"35\", \"36\", \"37\", \"38\", \"39\", \"40\", \"41\", \"42\", \"43\", \"44\", \"45\", \"46\", \"47\", \"48\", \"49\", \"50\", \"51\", \"52\", \"53\"], \"mode\": \"markers\", \"name\": \"normalized_mean_absolute_error\", \"stepped\": false, \"type\": \"scatter\", \"data\": [0.05328863540013597, 0.05185027358374822, 0.05217115379740689, 0.05173397812520865, 0.05538017016807874, 0.051781472436249296, 0.05250287092154747, 0.05294979038290711, 0.05172254612706604, 0.05162161918822816, 0.0517235718030868, 0.05274685468697136, 0.050922444548022826, 0.05179285207453717, 0.0524799581200691, 0.05528215361810331, 0.05147332098478411, 0.05166029759678189, 0.05591414464154404, 0.052119209265088375, 0.05158003828402571, 0.052299596381408374, 0.05452006213127232, 0.05706421210408068, 0.05333524501069312, 0.052789997631917975, 0.054721575477120886, 0.05466217171555824, 0.051717617349684386, 0.04944692605549527, 0.05700506816403631, 0.05288422453719062, 0.054668067706608627, 0.05283559357691646, 0.052429372169504364, 0.05665288217120118, 0.05562708457837682, 0.05280598724265505, 0.05382952005806342, 0.054624197534004125, 0.06392313233930849, 0.052627828133237374, 0.056504211327960706, 0.05204212590793189, 0.051533328934595654, 0.051555601889342384, 0.054355471228155317, 0.05495783027751157, 0.05267472657187755, 0.05409176933046841, 0.057789884664020366, 0.051628685816608955, 0.04966818667072077, 0.05022987455711494]}, {\"categories\": [\"0\", \"1\", \"2\", \"3\", \"4\", \"5\", \"6\", \"7\", \"8\", \"9\", \"10\", \"11\", \"12\", \"13\", \"14\", \"15\", \"16\", \"17\", \"18\", \"19\", \"20\", \"21\", \"22\", \"23\", \"24\", \"25\", \"26\", \"27\", \"28\", \"29\", \"30\", \"31\", \"32\", \"33\", \"34\", \"35\", \"36\", \"37\", \"38\", \"39\", \"40\", \"41\", \"42\", \"43\", \"44\", \"45\", \"46\", \"47\", \"48\", \"49\", \"50\", \"51\", \"52\", \"53\"], \"mode\": \"lines\", \"name\": \"normalized_mean_absolute_error_min\", \"stepped\": true, \"type\": \"scatter\", \"data\": [0.05328863540013597, 0.05185027358374822, 0.05185027358374822, 0.05173397812520865, 0.05173397812520865, 0.05173397812520865, 0.05173397812520865, 0.05173397812520865, 0.05172254612706604, 0.05162161918822816, 0.05162161918822816, 0.05162161918822816, 0.050922444548022826, 0.050922444548022826, 0.050922444548022826, 0.050922444548022826, 0.050922444548022826, 0.050922444548022826, 0.050922444548022826, 0.050922444548022826, 0.050922444548022826, 0.050922444548022826, 0.050922444548022826, 0.050922444548022826, 0.050922444548022826, 0.050922444548022826, 0.050922444548022826, 0.050922444548022826, 0.050922444548022826, 0.04944692605549527, 0.04944692605549527, 0.04944692605549527, 0.04944692605549527, 0.04944692605549527, 0.04944692605549527, 0.04944692605549527, 0.04944692605549527, 0.04944692605549527, 0.04944692605549527, 0.04944692605549527, 0.04944692605549527, 0.04944692605549527, 0.04944692605549527, 0.04944692605549527, 0.04944692605549527, 0.04944692605549527, 0.04944692605549527, 0.04944692605549527, 0.04944692605549527, 0.04944692605549527, 0.04944692605549527, 0.04944692605549527, 0.04944692605549527, 0.04944692605549527]}], \"normalized_root_mean_squared_error\": [{\"categories\": [\"0\", \"1\", \"2\", \"3\", \"4\", \"5\", \"6\", \"7\", \"8\", \"9\", \"10\", \"11\", \"12\", \"13\", \"14\", \"15\", \"16\", \"17\", \"18\", \"19\", \"20\", \"21\", \"22\", \"23\", \"24\", \"25\", \"26\", \"27\", \"28\", \"29\", \"30\", \"31\", \"32\", \"33\", \"34\", \"35\", \"36\", \"37\", \"38\", \"39\", \"40\", \"41\", \"42\", \"43\", \"44\", \"45\", \"46\", \"47\", \"48\", \"49\", \"50\", \"51\", \"52\", \"53\"], \"mode\": \"markers\", \"name\": \"normalized_root_mean_squared_error\", \"stepped\": false, \"type\": \"scatter\", \"data\": [0.08105500583978968, 0.07997191341227512, 0.08067710053194607, 0.07915581522860363, 0.08463290528780862, 0.07896013754430999, 0.0800974422086468, 0.08148291048588624, 0.07950282207255528, 0.07878299771871425, 0.07904564939199199, 0.080038719271219, 0.08151816603628778, 0.0789794927394194, 0.08046427400236844, 0.08232380297339842, 0.07922505505089633, 0.07880515385234231, 0.08325451744325837, 0.07979346482564459, 0.0787336537752159, 0.07944580719888798, 0.0827306979478773, 0.08465072683475343, 0.08082682777848336, 0.079866435630001, 0.08192325213435878, 0.08231218570071382, 0.07939453773800816, 0.07988887775547918, 0.08417455551532813, 0.07992574038440224, 0.08279258547379968, 0.07999818616732193, 0.08013915713570405, 0.0840745021572636, 0.08382095525316154, 0.08002092536146616, 0.08102574429983148, 0.08170302746980594, 0.09125159250873506, 0.0798969579850859, 0.08513014224702929, 0.07979054756636082, 0.07899292278657248, 0.07871502255198141, 0.08144806915076155, 0.08225584251447088, 0.08188078153676474, 0.08146942603247259, 0.08484970183353215, 0.0787741946376772, 0.07717927854316135, 0.07766861883358708]}, {\"categories\": [\"0\", \"1\", \"2\", \"3\", \"4\", \"5\", \"6\", \"7\", \"8\", \"9\", \"10\", \"11\", \"12\", \"13\", \"14\", \"15\", \"16\", \"17\", \"18\", \"19\", \"20\", \"21\", \"22\", \"23\", \"24\", \"25\", \"26\", \"27\", \"28\", \"29\", \"30\", \"31\", \"32\", \"33\", \"34\", \"35\", \"36\", \"37\", \"38\", \"39\", \"40\", \"41\", \"42\", \"43\", \"44\", \"45\", \"46\", \"47\", \"48\", \"49\", \"50\", \"51\", \"52\", \"53\"], \"mode\": \"lines\", \"name\": \"normalized_root_mean_squared_error_min\", \"stepped\": true, \"type\": \"scatter\", \"data\": [0.08105500583978968, 0.07997191341227512, 0.07997191341227512, 0.07915581522860363, 0.07915581522860363, 0.07896013754430999, 0.07896013754430999, 0.07896013754430999, 0.07896013754430999, 0.07878299771871425, 0.07878299771871425, 0.07878299771871425, 0.07878299771871425, 0.07878299771871425, 0.07878299771871425, 0.07878299771871425, 0.07878299771871425, 0.07878299771871425, 0.07878299771871425, 0.07878299771871425, 0.0787336537752159, 0.0787336537752159, 0.0787336537752159, 0.0787336537752159, 0.0787336537752159, 0.0787336537752159, 0.0787336537752159, 0.0787336537752159, 0.0787336537752159, 0.0787336537752159, 0.0787336537752159, 0.0787336537752159, 0.0787336537752159, 0.0787336537752159, 0.0787336537752159, 0.0787336537752159, 0.0787336537752159, 0.0787336537752159, 0.0787336537752159, 0.0787336537752159, 0.0787336537752159, 0.0787336537752159, 0.0787336537752159, 0.0787336537752159, 0.0787336537752159, 0.07871502255198141, 0.07871502255198141, 0.07871502255198141, 0.07871502255198141, 0.07871502255198141, 0.07871502255198141, 0.07871502255198141, 0.07717927854316135, 0.07717927854316135]}], \"root_mean_squared_log_error\": [{\"categories\": [\"0\", \"1\", \"2\", \"3\", \"4\", \"5\", \"6\", \"7\", \"8\", \"9\", \"10\", \"11\", \"12\", \"13\", \"14\", \"15\", \"16\", \"17\", \"18\", \"19\", \"20\", \"21\", \"22\", \"23\", \"24\", \"25\", \"26\", \"27\", \"28\", \"29\", \"30\", \"31\", \"32\", \"33\", \"34\", \"35\", \"36\", \"37\", \"38\", \"39\", \"40\", \"41\", \"42\", \"43\", \"44\", \"45\", \"46\", \"47\", \"48\", \"49\", \"50\", \"51\", \"52\", \"53\"], \"mode\": \"markers\", \"name\": \"root_mean_squared_log_error\", \"stepped\": false, \"type\": \"scatter\", \"data\": [0.5117370705772617, 0.5071936171289563, 0.5070513814171648, 0.5065474237155487, 0.5219571066319216, 0.5122518366708055, 0.5127122474453446, 0.5074404730613484, 0.5031964580816014, 0.5107090321301904, 0.5067938150325274, 0.5166947490157252, 0.5005658482011898, 0.5123838381071274, 0.5059539689556275, 0.5380030726775009, 0.502526164885987, 0.5146335576174627, 0.5434336039997538, 0.5091977651267052, 0.512539334746762, 0.5140959307375116, 0.5231445544543141, 0.5555982596377605, 0.5226063707629807, 0.5219351360316303, 0.5360884031338723, 0.5366452816958038, 0.5052041808040664, 0.48710434893152754, 0.5536064501201587, 0.518278868271884, 0.5222991072788635, 0.5191614123499438, 0.5099814778189802, 0.5504765569881356, 0.5330451396156796, 0.5143125002070951, 0.5274218125255785, 0.5353386079715275, 0.6094499535914137, 0.5169193636205938, 0.5446475635247677, 0.5094157623849938, 0.5043749570820744, 0.5120586885688643, 0.5305868192946817, 0.5375339074054382, 0.5102555984082225, 0.5296960521754479, 0.5595762795667245, 0.5136463208745691, 0.48866793818263965, 0.49391386840667284]}, {\"categories\": [\"0\", \"1\", \"2\", \"3\", \"4\", \"5\", \"6\", \"7\", \"8\", \"9\", \"10\", \"11\", \"12\", \"13\", \"14\", \"15\", \"16\", \"17\", \"18\", \"19\", \"20\", \"21\", \"22\", \"23\", \"24\", \"25\", \"26\", \"27\", \"28\", \"29\", \"30\", \"31\", \"32\", \"33\", \"34\", \"35\", \"36\", \"37\", \"38\", \"39\", \"40\", \"41\", \"42\", \"43\", \"44\", \"45\", \"46\", \"47\", \"48\", \"49\", \"50\", \"51\", \"52\", \"53\"], \"mode\": \"lines\", \"name\": \"root_mean_squared_log_error_min\", \"stepped\": true, \"type\": \"scatter\", \"data\": [0.5117370705772617, 0.5071936171289563, 0.5070513814171648, 0.5065474237155487, 0.5065474237155487, 0.5065474237155487, 0.5065474237155487, 0.5065474237155487, 0.5031964580816014, 0.5031964580816014, 0.5031964580816014, 0.5031964580816014, 0.5005658482011898, 0.5005658482011898, 0.5005658482011898, 0.5005658482011898, 0.5005658482011898, 0.5005658482011898, 0.5005658482011898, 0.5005658482011898, 0.5005658482011898, 0.5005658482011898, 0.5005658482011898, 0.5005658482011898, 0.5005658482011898, 0.5005658482011898, 0.5005658482011898, 0.5005658482011898, 0.5005658482011898, 0.48710434893152754, 0.48710434893152754, 0.48710434893152754, 0.48710434893152754, 0.48710434893152754, 0.48710434893152754, 0.48710434893152754, 0.48710434893152754, 0.48710434893152754, 0.48710434893152754, 0.48710434893152754, 0.48710434893152754, 0.48710434893152754, 0.48710434893152754, 0.48710434893152754, 0.48710434893152754, 0.48710434893152754, 0.48710434893152754, 0.48710434893152754, 0.48710434893152754, 0.48710434893152754, 0.48710434893152754, 0.48710434893152754, 0.48710434893152754, 0.48710434893152754]}], \"r2_score\": [{\"categories\": [\"0\", \"1\", \"2\", \"3\", \"4\", \"5\", \"6\", \"7\", \"8\", \"9\", \"10\", \"11\", \"12\", \"13\", \"14\", \"15\", \"16\", \"17\", \"18\", \"19\", \"20\", \"21\", \"22\", \"23\", \"24\", \"25\", \"26\", \"27\", \"28\", \"29\", \"30\", \"31\", \"32\", \"33\", \"34\", \"35\", \"36\", \"37\", \"38\", \"39\", \"40\", \"41\", \"42\", \"43\", \"44\", \"45\", \"46\", \"47\", \"48\", \"49\", \"50\", \"51\", \"52\", \"53\"], \"mode\": \"markers\", \"name\": \"r2_score\", \"stepped\": false, \"type\": \"scatter\", \"data\": [0.2084650772609699, 0.23110262235376577, 0.21846717186456913, 0.2470040578237215, 0.13614068605256283, 0.2516768015983493, 0.22830433710220807, 0.20082032147551104, 0.24027909438025827, 0.2551288781289939, 0.24955108206533128, 0.2310981705010505, 0.2010502853281677, 0.25131177549103995, 0.22004245814825146, 0.18615904700699965, 0.24575437887429344, 0.2546871330305184, 0.16540248234074198, 0.23404017489544868, 0.2561212632873867, 0.24220416113636412, 0.17580249553623833, 0.13384161615517626, 0.2148462196717087, 0.23469650660969504, 0.1944006174440285, 0.18577103162142222, 0.24297588777310378, 0.2341678005593458, 0.14911761224353795, 0.23303521336430535, 0.17233259544866802, 0.23158063695059594, 0.22781932682696587, 0.1503100886271954, 0.15156121879795192, 0.23088717639810943, 0.21215349437984693, 0.19831457674926684, -0.00256909450646311, 0.23338080271757344, 0.12546151407028927, 0.23387800007855786, 0.25000683888264796, 0.2565034654338252, 0.20348726611231588, 0.18656672519177508, 0.1939521960063698, 0.20142517967822043, 0.13523172968808864, 0.2553030936462819, 0.2849922862058894, 0.27589343010464185]}, {\"categories\": [\"0\", \"1\", \"2\", \"3\", \"4\", \"5\", \"6\", \"7\", \"8\", \"9\", \"10\", \"11\", \"12\", \"13\", \"14\", \"15\", \"16\", \"17\", \"18\", \"19\", \"20\", \"21\", \"22\", \"23\", \"24\", \"25\", \"26\", \"27\", \"28\", \"29\", \"30\", \"31\", \"32\", \"33\", \"34\", \"35\", \"36\", \"37\", \"38\", \"39\", \"40\", \"41\", \"42\", \"43\", \"44\", \"45\", \"46\", \"47\", \"48\", \"49\", \"50\", \"51\", \"52\", \"53\"], \"mode\": \"lines\", \"name\": \"r2_score_max\", \"stepped\": true, \"type\": \"scatter\", \"data\": [0.2084650772609699, 0.23110262235376577, 0.23110262235376577, 0.2470040578237215, 0.2470040578237215, 0.2516768015983493, 0.2516768015983493, 0.2516768015983493, 0.2516768015983493, 0.2551288781289939, 0.2551288781289939, 0.2551288781289939, 0.2551288781289939, 0.2551288781289939, 0.2551288781289939, 0.2551288781289939, 0.2551288781289939, 0.2551288781289939, 0.2551288781289939, 0.2551288781289939, 0.2561212632873867, 0.2561212632873867, 0.2561212632873867, 0.2561212632873867, 0.2561212632873867, 0.2561212632873867, 0.2561212632873867, 0.2561212632873867, 0.2561212632873867, 0.2561212632873867, 0.2561212632873867, 0.2561212632873867, 0.2561212632873867, 0.2561212632873867, 0.2561212632873867, 0.2561212632873867, 0.2561212632873867, 0.2561212632873867, 0.2561212632873867, 0.2561212632873867, 0.2561212632873867, 0.2561212632873867, 0.2561212632873867, 0.2561212632873867, 0.2561212632873867, 0.2565034654338252, 0.2565034654338252, 0.2565034654338252, 0.2565034654338252, 0.2565034654338252, 0.2565034654338252, 0.2565034654338252, 0.2849922862058894, 0.2849922862058894]}], \"root_mean_squared_error\": [{\"categories\": [\"0\", \"1\", \"2\", \"3\", \"4\", \"5\", \"6\", \"7\", \"8\", \"9\", \"10\", \"11\", \"12\", \"13\", \"14\", \"15\", \"16\", \"17\", \"18\", \"19\", \"20\", \"21\", \"22\", \"23\", \"24\", \"25\", \"26\", \"27\", \"28\", \"29\", \"30\", \"31\", \"32\", \"33\", \"34\", \"35\", \"36\", \"37\", \"38\", \"39\", \"40\", \"41\", \"42\", \"43\", \"44\", \"45\", \"46\", \"47\", \"48\", \"49\", \"50\", \"51\", \"52\", \"53\"], \"mode\": \"markers\", \"name\": \"root_mean_squared_error\", \"stepped\": false, \"type\": \"scatter\", \"data\": [33.23255239431377, 32.788484499032805, 33.07761121809789, 32.45388424372749, 34.699491168001536, 32.37365639316709, 32.839951305545185, 33.40799329921336, 32.596157049747674, 32.30102906467284, 32.408716250716715, 32.815874901199784, 33.42244807487798, 32.38159202316196, 32.990352340971064, 33.75275921909334, 32.482272570867494, 32.31011307946035, 34.13435215173593, 32.71532057851428, 32.28079804783852, 32.57278095154408, 33.91958615862969, 34.70679800224891, 33.13899938917818, 32.74523860830042, 33.5885333750871, 33.74799613729267, 32.551760472583354, 32.75443987974646, 34.511567761284525, 32.769553557604915, 33.944960044257876, 32.799256328601984, 32.85705442563866, 34.47054588447808, 34.36659165379623, 32.80857939820113, 33.220555162930914, 33.49824126262043, 37.413152928581376, 32.75775277388522, 34.90335832128202, 32.71412450220794, 32.38709834249471, 32.27315924631238, 33.39370835181223, 33.72489543093305, 33.57112043007354, 33.40246467331376, 34.78837775174818, 32.29741980144765, 31.643504202696153, 31.844133721770696]}, {\"categories\": [\"0\", \"1\", \"2\", \"3\", \"4\", \"5\", \"6\", \"7\", \"8\", \"9\", \"10\", \"11\", \"12\", \"13\", \"14\", \"15\", \"16\", \"17\", \"18\", \"19\", \"20\", \"21\", \"22\", \"23\", \"24\", \"25\", \"26\", \"27\", \"28\", \"29\", \"30\", \"31\", \"32\", \"33\", \"34\", \"35\", \"36\", \"37\", \"38\", \"39\", \"40\", \"41\", \"42\", \"43\", \"44\", \"45\", \"46\", \"47\", \"48\", \"49\", \"50\", \"51\", \"52\", \"53\"], \"mode\": \"lines\", \"name\": \"root_mean_squared_error_min\", \"stepped\": true, \"type\": \"scatter\", \"data\": [33.23255239431377, 32.788484499032805, 32.788484499032805, 32.45388424372749, 32.45388424372749, 32.37365639316709, 32.37365639316709, 32.37365639316709, 32.37365639316709, 32.30102906467284, 32.30102906467284, 32.30102906467284, 32.30102906467284, 32.30102906467284, 32.30102906467284, 32.30102906467284, 32.30102906467284, 32.30102906467284, 32.30102906467284, 32.30102906467284, 32.28079804783852, 32.28079804783852, 32.28079804783852, 32.28079804783852, 32.28079804783852, 32.28079804783852, 32.28079804783852, 32.28079804783852, 32.28079804783852, 32.28079804783852, 32.28079804783852, 32.28079804783852, 32.28079804783852, 32.28079804783852, 32.28079804783852, 32.28079804783852, 32.28079804783852, 32.28079804783852, 32.28079804783852, 32.28079804783852, 32.28079804783852, 32.28079804783852, 32.28079804783852, 32.28079804783852, 32.28079804783852, 32.27315924631238, 32.27315924631238, 32.27315924631238, 32.27315924631238, 32.27315924631238, 32.27315924631238, 32.27315924631238, 31.643504202696153, 31.643504202696153]}], \"spearman_correlation\": [{\"categories\": [\"0\", \"1\", \"2\", \"3\", \"4\", \"5\", \"6\", \"7\", \"8\", \"9\", \"10\", \"11\", \"12\", \"13\", \"14\", \"15\", \"16\", \"17\", \"18\", \"19\", \"20\", \"21\", \"22\", \"23\", \"24\", \"25\", \"26\", \"27\", \"28\", \"29\", \"30\", \"31\", \"32\", \"33\", \"34\", \"35\", \"36\", \"37\", \"38\", \"39\", \"40\", \"41\", \"42\", \"43\", \"44\", \"45\", \"46\", \"47\", \"48\", \"49\", \"50\", \"51\", \"52\", \"53\"], \"mode\": \"markers\", \"name\": \"spearman_correlation\", \"stepped\": false, \"type\": \"scatter\", \"data\": [0.5349373074097497, 0.540625694097354, 0.5433527099984171, 0.5525487790569896, 0.5204108820938326, 0.5469308779605846, 0.5278724500598584, 0.5393760971646439, 0.5485635117670142, 0.5500930207476382, 0.5551051501117831, 0.5369635892238799, 0.5271082037003456, 0.5465576894973568, 0.5363634236631534, 0.4753632908981526, 0.5515214475132858, 0.5494213156232338, 0.44505354439821854, 0.5337844231954392, 0.5493597682410882, 0.5531812717587663, 0.5197996040452765, 0.4884378727101753, 0.5268390664991638, 0.5403956359527025, 0.509204813406421, 0.4941665022246534, 0.5509939254715417, 0.5675567650029067, 0.4621037258521781, 0.5389221499708812, 0.5201894512614731, 0.5475078595232526, 0.5310199073536076, 0.4323413753593874, 0.4757031657817913, 0.5311034854763776, 0.504016828058722, 0.532366297437255, 0.09063184636923197, 0.5454467312033718, 0.43823231961514775, 0.5411212861769168, 0.5541176730700217, 0.5492207098073277, 0.4919163247426598, 0.4782323414699633, 0.5376609942900601, 0.49377062793046544, 0.47140471448391674, 0.5498558127781722, 0.580002429780727, 0.5761797812869666]}, {\"categories\": [\"0\", \"1\", \"2\", \"3\", \"4\", \"5\", \"6\", \"7\", \"8\", \"9\", \"10\", \"11\", \"12\", \"13\", \"14\", \"15\", \"16\", \"17\", \"18\", \"19\", \"20\", \"21\", \"22\", \"23\", \"24\", \"25\", \"26\", \"27\", \"28\", \"29\", \"30\", \"31\", \"32\", \"33\", \"34\", \"35\", \"36\", \"37\", \"38\", \"39\", \"40\", \"41\", \"42\", \"43\", \"44\", \"45\", \"46\", \"47\", \"48\", \"49\", \"50\", \"51\", \"52\", \"53\"], \"mode\": \"lines\", \"name\": \"spearman_correlation_max\", \"stepped\": true, \"type\": \"scatter\", \"data\": [0.5349373074097497, 0.540625694097354, 0.5433527099984171, 0.5525487790569896, 0.5525487790569896, 0.5525487790569896, 0.5525487790569896, 0.5525487790569896, 0.5525487790569896, 0.5525487790569896, 0.5551051501117831, 0.5551051501117831, 0.5551051501117831, 0.5551051501117831, 0.5551051501117831, 0.5551051501117831, 0.5551051501117831, 0.5551051501117831, 0.5551051501117831, 0.5551051501117831, 0.5551051501117831, 0.5551051501117831, 0.5551051501117831, 0.5551051501117831, 0.5551051501117831, 0.5551051501117831, 0.5551051501117831, 0.5551051501117831, 0.5551051501117831, 0.5675567650029067, 0.5675567650029067, 0.5675567650029067, 0.5675567650029067, 0.5675567650029067, 0.5675567650029067, 0.5675567650029067, 0.5675567650029067, 0.5675567650029067, 0.5675567650029067, 0.5675567650029067, 0.5675567650029067, 0.5675567650029067, 0.5675567650029067, 0.5675567650029067, 0.5675567650029067, 0.5675567650029067, 0.5675567650029067, 0.5675567650029067, 0.5675567650029067, 0.5675567650029067, 0.5675567650029067, 0.5675567650029067, 0.580002429780727, 0.580002429780727]}], \"median_absolute_error\": [{\"categories\": [\"0\", \"1\", \"2\", \"3\", \"4\", \"5\", \"6\", \"7\", \"8\", \"9\", \"10\", \"11\", \"12\", \"13\", \"14\", \"15\", \"16\", \"17\", \"18\", \"19\", \"20\", \"21\", \"22\", \"23\", \"24\", \"25\", \"26\", \"27\", \"28\", \"29\", \"30\", \"31\", \"32\", \"33\", \"34\", \"35\", \"36\", \"37\", \"38\", \"39\", \"40\", \"41\", \"42\", \"43\", \"44\", \"45\", \"46\", \"47\", \"48\", \"49\", \"50\", \"51\", \"52\", \"53\"], \"mode\": \"markers\", \"name\": \"median_absolute_error\", \"stepped\": false, \"type\": \"scatter\", \"data\": [14.891769547065612, 15.04698829650879, 14.6823881149292, 15.44497583615303, 15.59351692199707, 14.93739198472029, 15.651423141679874, 15.100783538818359, 15.030994907869905, 15.077265002753922, 15.383861312506857, 16.071834043418818, 14.011247634887695, 14.937402349627117, 15.115618686868686, 16.9504553392436, 14.955786475822077, 14.92074797146525, 17.151730861281244, 15.603831255926243, 14.95937179263901, 15.817575789000449, 15.036619237347832, 16.60816045586431, 16.12804367604291, 15.834571402211145, 16.9043004484955, 16.334746901513235, 14.917505234405715, 13.93125, 18.135499307853955, 16.108890822875487, 15.31811346018785, 16.174901704129113, 15.361153461583061, 16.960305656161957, 16.24952352883387, 15.745914266445288, 16.305748457142627, 17.017449231590895, 20.659295002949875, 16.010522350635874, 16.138239999931173, 15.442679514902022, 15.218418080796857, 14.969180783564042, 16.57522342439169, 16.69665031205405, 14.977725410461426, 16.218439515566104, 18.376001338987198, 14.909477557723438, 14.398332934490375, 14.503064741645403]}, {\"categories\": [\"0\", \"1\", \"2\", \"3\", \"4\", \"5\", \"6\", \"7\", \"8\", \"9\", \"10\", \"11\", \"12\", \"13\", \"14\", \"15\", \"16\", \"17\", \"18\", \"19\", \"20\", \"21\", \"22\", \"23\", \"24\", \"25\", \"26\", \"27\", \"28\", \"29\", \"30\", \"31\", \"32\", \"33\", \"34\", \"35\", \"36\", \"37\", \"38\", \"39\", \"40\", \"41\", \"42\", \"43\", \"44\", \"45\", \"46\", \"47\", \"48\", \"49\", \"50\", \"51\", \"52\", \"53\"], \"mode\": \"lines\", \"name\": \"median_absolute_error_min\", \"stepped\": true, \"type\": \"scatter\", \"data\": [14.891769547065612, 14.891769547065612, 14.6823881149292, 14.6823881149292, 14.6823881149292, 14.6823881149292, 14.6823881149292, 14.6823881149292, 14.6823881149292, 14.6823881149292, 14.6823881149292, 14.6823881149292, 14.011247634887695, 14.011247634887695, 14.011247634887695, 14.011247634887695, 14.011247634887695, 14.011247634887695, 14.011247634887695, 14.011247634887695, 14.011247634887695, 14.011247634887695, 14.011247634887695, 14.011247634887695, 14.011247634887695, 14.011247634887695, 14.011247634887695, 14.011247634887695, 14.011247634887695, 13.93125, 13.93125, 13.93125, 13.93125, 13.93125, 13.93125, 13.93125, 13.93125, 13.93125, 13.93125, 13.93125, 13.93125, 13.93125, 13.93125, 13.93125, 13.93125, 13.93125, 13.93125, 13.93125, 13.93125, 13.93125, 13.93125, 13.93125, 13.93125, 13.93125]}], \"explained_variance\": [{\"categories\": [\"0\", \"1\", \"2\", \"3\", \"4\", \"5\", \"6\", \"7\", \"8\", \"9\", \"10\", \"11\", \"12\", \"13\", \"14\", \"15\", \"16\", \"17\", \"18\", \"19\", \"20\", \"21\", \"22\", \"23\", \"24\", \"25\", \"26\", \"27\", \"28\", \"29\", \"30\", \"31\", \"32\", \"33\", \"34\", \"35\", \"36\", \"37\", \"38\", \"39\", \"40\", \"41\", \"42\", \"43\", \"44\", \"45\", \"46\", \"47\", \"48\", \"49\", \"50\", \"51\", \"52\", \"53\"], \"mode\": \"markers\", \"name\": \"explained_variance\", \"stepped\": false, \"type\": \"scatter\", \"data\": [0.21153875843306666, 0.2331709020051969, 0.21993802007117588, 0.2488824429981659, 0.13779123412292954, 0.25295040642128513, 0.23047111598563158, 0.20442366499595224, 0.24240658056881922, 0.2563918378736252, 0.2514024878434594, 0.23291207336784572, 0.2234646627460294, 0.2525850562939588, 0.22224329021928552, 0.18818908530532358, 0.24775966908805258, 0.2559924519688609, 0.1679105643432071, 0.23616467019244386, 0.25744104218299735, 0.24400186008901442, 0.1789506025111475, 0.13573138773979262, 0.21724866195786902, 0.2361252541668651, 0.1961822255458086, 0.18825502889536544, 0.24440879219695022, 0.2544799473480479, 0.1507781864295422, 0.23493707381147094, 0.17573742407751988, 0.23338073371920873, 0.2299585036538055, 0.15182176655013563, 0.1542003821236039, 0.23323111172736627, 0.21394245543439555, 0.2003634224335674, 0.0005398472982534264, 0.2352235629026051, 0.1279920919331237, 0.2363108434195663, 0.25201630661354135, 0.25782658032093836, 0.2054480723943815, 0.1888352304008008, 0.1960684054319401, 0.20441809496119104, 0.13718907345262524, 0.2566143095900188, 0.2867116357451458, 0.27754765050313945]}, {\"categories\": [\"0\", \"1\", \"2\", \"3\", \"4\", \"5\", \"6\", \"7\", \"8\", \"9\", \"10\", \"11\", \"12\", \"13\", \"14\", \"15\", \"16\", \"17\", \"18\", \"19\", \"20\", \"21\", \"22\", \"23\", \"24\", \"25\", \"26\", \"27\", \"28\", \"29\", \"30\", \"31\", \"32\", \"33\", \"34\", \"35\", \"36\", \"37\", \"38\", \"39\", \"40\", \"41\", \"42\", \"43\", \"44\", \"45\", \"46\", \"47\", \"48\", \"49\", \"50\", \"51\", \"52\", \"53\"], \"mode\": \"lines\", \"name\": \"explained_variance_max\", \"stepped\": true, \"type\": \"scatter\", \"data\": [0.21153875843306666, 0.2331709020051969, 0.2331709020051969, 0.2488824429981659, 0.2488824429981659, 0.25295040642128513, 0.25295040642128513, 0.25295040642128513, 0.25295040642128513, 0.2563918378736252, 0.2563918378736252, 0.2563918378736252, 0.2563918378736252, 0.2563918378736252, 0.2563918378736252, 0.2563918378736252, 0.2563918378736252, 0.2563918378736252, 0.2563918378736252, 0.2563918378736252, 0.25744104218299735, 0.25744104218299735, 0.25744104218299735, 0.25744104218299735, 0.25744104218299735, 0.25744104218299735, 0.25744104218299735, 0.25744104218299735, 0.25744104218299735, 0.25744104218299735, 0.25744104218299735, 0.25744104218299735, 0.25744104218299735, 0.25744104218299735, 0.25744104218299735, 0.25744104218299735, 0.25744104218299735, 0.25744104218299735, 0.25744104218299735, 0.25744104218299735, 0.25744104218299735, 0.25744104218299735, 0.25744104218299735, 0.25744104218299735, 0.25744104218299735, 0.25782658032093836, 0.25782658032093836, 0.25782658032093836, 0.25782658032093836, 0.25782658032093836, 0.25782658032093836, 0.25782658032093836, 0.2867116357451458, 0.2867116357451458]}], \"mean_absolute_error\": [{\"categories\": [\"0\", \"1\", \"2\", \"3\", \"4\", \"5\", \"6\", \"7\", \"8\", \"9\", \"10\", \"11\", \"12\", \"13\", \"14\", \"15\", \"16\", \"17\", \"18\", \"19\", \"20\", \"21\", \"22\", \"23\", \"24\", \"25\", \"26\", \"27\", \"28\", \"29\", \"30\", \"31\", \"32\", \"33\", \"34\", \"35\", \"36\", \"37\", \"38\", \"39\", \"40\", \"41\", \"42\", \"43\", \"44\", \"45\", \"46\", \"47\", \"48\", \"49\", \"50\", \"51\", \"52\", \"53\"], \"mode\": \"markers\", \"name\": \"mean_absolute_error\", \"stepped\": false, \"type\": \"scatter\", \"data\": [21.848340514055742, 21.25861216933677, 21.39017305693682, 21.210931031335544, 22.70586976891228, 21.23040369886221, 21.52617707783447, 21.70941405699192, 21.206243912097072, 21.164863867173548, 21.206664439265587, 21.62621042165826, 20.87820226468936, 21.235069350560238, 21.516782829228333, 22.66568298342236, 21.10406160376149, 21.180722014680576, 22.924799303033055, 21.368875798686233, 21.14781569645054, 21.442834516377435, 22.353225473821652, 23.39632696267308, 21.867450454384176, 21.64389902908637, 22.435845945619565, 22.411490403378878, 21.2042231133706, 20.27323968275306, 23.372077947254883, 21.682532060248153, 22.413907759709538, 21.66259336653575, 21.496042589496792, 23.227681690192483, 22.807104677134493, 21.650454769488572, 22.070103223806, 22.395920988941693, 26.208484259116478, 21.577409534627318, 23.166726644463893, 21.337271622252075, 21.12866486318422, 21.137796774630377, 22.28574320354368, 22.53271041377974, 21.596637894469797, 22.17762542549205, 23.693852712248347, 21.16776118480967, 20.363956534995516, 20.59424856841712]}, {\"categories\": [\"0\", \"1\", \"2\", \"3\", \"4\", \"5\", \"6\", \"7\", \"8\", \"9\", \"10\", \"11\", \"12\", \"13\", \"14\", \"15\", \"16\", \"17\", \"18\", \"19\", \"20\", \"21\", \"22\", \"23\", \"24\", \"25\", \"26\", \"27\", \"28\", \"29\", \"30\", \"31\", \"32\", \"33\", \"34\", \"35\", \"36\", \"37\", \"38\", \"39\", \"40\", \"41\", \"42\", \"43\", \"44\", \"45\", \"46\", \"47\", \"48\", \"49\", \"50\", \"51\", \"52\", \"53\"], \"mode\": \"lines\", \"name\": \"mean_absolute_error_min\", \"stepped\": true, \"type\": \"scatter\", \"data\": [21.848340514055742, 21.25861216933677, 21.25861216933677, 21.210931031335544, 21.210931031335544, 21.210931031335544, 21.210931031335544, 21.210931031335544, 21.206243912097072, 21.164863867173548, 21.164863867173548, 21.164863867173548, 20.87820226468936, 20.87820226468936, 20.87820226468936, 20.87820226468936, 20.87820226468936, 20.87820226468936, 20.87820226468936, 20.87820226468936, 20.87820226468936, 20.87820226468936, 20.87820226468936, 20.87820226468936, 20.87820226468936, 20.87820226468936, 20.87820226468936, 20.87820226468936, 20.87820226468936, 20.27323968275306, 20.27323968275306, 20.27323968275306, 20.27323968275306, 20.27323968275306, 20.27323968275306, 20.27323968275306, 20.27323968275306, 20.27323968275306, 20.27323968275306, 20.27323968275306, 20.27323968275306, 20.27323968275306, 20.27323968275306, 20.27323968275306, 20.27323968275306, 20.27323968275306, 20.27323968275306, 20.27323968275306, 20.27323968275306, 20.27323968275306, 20.27323968275306, 20.27323968275306, 20.27323968275306, 20.27323968275306]}]}, \"metricName\": null, \"primaryMetricName\": \"r2_score\", \"showLegend\": false}, \"run_metrics\": [{\"name\": \"normalized_root_mean_squared_error\", \"run_id\": \"AutoML_80799b5f-fc80-43fb-a6f0-e57066d8fbca\", \"categories\": [0], \"series\": [{\"data\": [0.07717927854316135]}]}, {\"name\": \"root_mean_squared_log_error\", \"run_id\": \"AutoML_80799b5f-fc80-43fb-a6f0-e57066d8fbca\", \"categories\": [0], \"series\": [{\"data\": [0.48866793818263965]}]}, {\"name\": \"explained_variance\", \"run_id\": \"AutoML_80799b5f-fc80-43fb-a6f0-e57066d8fbca\", \"categories\": [0], \"series\": [{\"data\": [0.2867116357451458]}]}, {\"name\": \"root_mean_squared_error\", \"run_id\": \"AutoML_80799b5f-fc80-43fb-a6f0-e57066d8fbca\", \"categories\": [0], \"series\": [{\"data\": [31.643504202696153]}]}, {\"name\": \"spearman_correlation\", \"run_id\": \"AutoML_80799b5f-fc80-43fb-a6f0-e57066d8fbca\", \"categories\": [0], \"series\": [{\"data\": [0.580002429780727]}]}, {\"name\": \"normalized_mean_absolute_error\", \"run_id\": \"AutoML_80799b5f-fc80-43fb-a6f0-e57066d8fbca\", \"categories\": [0], \"series\": [{\"data\": [0.04966818667072077]}]}, {\"name\": \"mean_absolute_percentage_error\", \"run_id\": \"AutoML_80799b5f-fc80-43fb-a6f0-e57066d8fbca\", \"categories\": [0], \"series\": [{\"data\": [48.084217737956315]}]}, {\"name\": \"median_absolute_error\", \"run_id\": \"AutoML_80799b5f-fc80-43fb-a6f0-e57066d8fbca\", \"categories\": [0], \"series\": [{\"data\": [14.398332934490375]}]}, {\"name\": \"normalized_median_absolute_error\", \"run_id\": \"AutoML_80799b5f-fc80-43fb-a6f0-e57066d8fbca\", \"categories\": [0], \"series\": [{\"data\": [0.03511788520607409]}]}, {\"name\": \"mean_absolute_error\", \"run_id\": \"AutoML_80799b5f-fc80-43fb-a6f0-e57066d8fbca\", \"categories\": [0], \"series\": [{\"data\": [20.363956534995516]}]}, {\"name\": \"r2_score\", \"run_id\": \"AutoML_80799b5f-fc80-43fb-a6f0-e57066d8fbca\", \"categories\": [0], \"series\": [{\"data\": [0.2849922862058894]}]}, {\"name\": \"normalized_root_mean_squared_log_error\", \"run_id\": \"AutoML_80799b5f-fc80-43fb-a6f0-e57066d8fbca\", \"categories\": [0], \"series\": [{\"data\": [0.1152810788092448]}]}], \"run_logs\": \"\\nRun is completed.\", \"graph\": {}, \"widget_settings\": {\"childWidgetDisplay\": \"popup\", \"send_telemetry\": false, \"log_level\": \"INFO\", \"sdk_version\": \"1.19.0\"}, \"loading\": false}"
          },
          "metadata": {}
        }
      ],
      "execution_count": 7,
      "metadata": {
        "gather": {
          "logged": 1610010489734
        }
      }
    },
    {
      "cell_type": "code",
      "source": [
        "best_mlrun, fitted_mlmodel = remote_run.get_output()\r\n",
        "print(best_mlrun)\r\n",
        "print(fitted_mlmodel)\r\n",
        "joblib.dump(fitted_mlmodel, \"automlmodel.pkl\")"
      ],
      "outputs": [
        {
          "output_type": "stream",
          "name": "stdout",
          "text": [
            "Run(Experiment: labor-prediction-experiment,\n",
            "Id: AutoML_80799b5f-fc80-43fb-a6f0-e57066d8fbca_52,\n",
            "Type: None,\n",
            "Status: Completed)\n",
            "RegressionPipeline(pipeline=Pipeline(memory=None,\n",
            "                                     steps=[('datatransformer',\n",
            "                                             DataTransformer(enable_dnn=None,\n",
            "                                                             enable_feature_sweeping=None,\n",
            "                                                             feature_sweeping_config=None,\n",
            "                                                             feature_sweeping_timeout=None,\n",
            "                                                             featurization_config=None,\n",
            "                                                             force_text_dnn=None,\n",
            "                                                             is_cross_validation=None,\n",
            "                                                             is_onnx_compatible=None,\n",
            "                                                             logger=None,\n",
            "                                                             observer=None,\n",
            "                                                             task=None,\n",
            "                                                             working_dir=None)),\n",
            "                                            ('pre...\n",
            "                                                                                                                          subsample_for_bin=200000,\n",
            "                                                                                                                          subsample_freq=0,\n",
            "                                                                                                                          verbose=-1))],\n",
            "                                                                                                verbose=False))],\n",
            "                                                                          weights=[0.07692307692307693,\n",
            "                                                                                   0.07692307692307693,\n",
            "                                                                                   0.07692307692307693,\n",
            "                                                                                   0.07692307692307693,\n",
            "                                                                                   0.07692307692307693,\n",
            "                                                                                   0.07692307692307693,\n",
            "                                                                                   0.07692307692307693,\n",
            "                                                                                   0.07692307692307693,\n",
            "                                                                                   0.07692307692307693,\n",
            "                                                                                   0.07692307692307693,\n",
            "                                                                                   0.15384615384615385,\n",
            "                                                                                   0.07692307692307693]))],\n",
            "                                     verbose=False),\n",
            "                   stddev=None)\n"
          ]
        },
        {
          "output_type": "execute_result",
          "execution_count": 8,
          "data": {
            "text/plain": "['automlmodel.pkl']",
            "text/html": "['automlmodel.pkl']"
          },
          "metadata": {}
        }
      ],
      "execution_count": 8,
      "metadata": {
        "gather": {
          "logged": 1610010491405
        }
      }
    },
    {
      "cell_type": "code",
      "source": [
        "#register the model\r\n",
        "from azureml.core.environment import Environment\r\n",
        "from azureml.core.model import InferenceConfig\r\n",
        "from azureml.core.webservice import LocalWebservice\r\n",
        "from azureml.core.model import Model\r\n",
        "\r\n",
        "description = 'Best AutoML Model'\r\n",
        "#model = best_mlrun.register_model(description=description, workspace = , model_name='automl_pred', model_path='./models')\r\n",
        "model = Model.register(model_path=\"automlmodel.pkl\", model_name = \"automl_pred\", description=description, workspace=ws)\r\n",
        "print(model.name, model.id, model.version, sep='\\t')\r\n",
        "\r\n"
      ],
      "outputs": [
        {
          "output_type": "stream",
          "name": "stdout",
          "text": [
            "Registering model automl_pred\n",
            "automl_pred\tautoml_pred:1\t1\n"
          ]
        }
      ],
      "execution_count": 9,
      "metadata": {
        "gather": {
          "logged": 1610010492234
        }
      }
    },
    {
      "cell_type": "code",
      "source": [
        "#define inference config\r\n",
        "from azureml.core.model import InferenceConfig\r\n",
        "from azureml.core.environment import Environment\r\n",
        "from azureml.core.conda_dependencies import CondaDependencies\r\n",
        "\r\n",
        "#create the environment\r\n",
        "myenv = Environment(name=\"myenv\")\r\n",
        "conda_dep = CondaDependencies()\r\n",
        "\r\n",
        "#Define the packages needed by the model and scripts\r\n",
        "conda_dep.add_conda_package(\"tensorflow\")\r\n",
        "conda_dep.add_conda_package(\"numpy\")\r\n",
        "conda_dep.add_conda_package(\"scikit-learn\")\r\n",
        "#You must list azureml-defaults as a pip dependency\r\n",
        "conda_dep.add_pip_package(\"azureml-defaults\")\r\n",
        "conda_dep.add_pip_package(\"keras\")\r\n",
        "conda_dep.add_pip_package(\"gensim\")\r\n",
        "\r\n",
        "myenv.python.conda_dependencies=conda_dep\r\n",
        "\r\n",
        "inference_config = InferenceConfig(entry_script=\"score.py\", environment=myenv)"
      ],
      "outputs": [],
      "execution_count": 10,
      "metadata": {
        "collapsed": true,
        "jupyter": {
          "source_hidden": false,
          "outputs_hidden": false
        },
        "nteract": {
          "transient": {
            "deleting": false
          }
        },
        "gather": {
          "logged": 1610010492393
        }
      }
    },
    {
      "cell_type": "code",
      "source": [
        "#deploy as webservice\r\n",
        "from azureml.core.webservice import LocalWebservice\r\n",
        "from azureml.core.webservice import Webservice\r\n",
        "from azureml.train.automl import *\r\n",
        "\r\n",
        "#deployment_config = AciWebservice.deploy_configuration(cpu_cores=1, memory_gb=1 )\r\n",
        "deployment_config = LocalWebservice.deploy_configuration()\r\n",
        "\r\n",
        "model = Model(ws, name='automl_pred')\r\n",
        "print(model)\r\n",
        "service = Model.deploy(ws, 'laborpredservice2', [model], inference_config, deployment_config)\r\n",
        "\r\n",
        "service.wait_for_deployment(True)\r\n",
        "print(service.get_logs)\r\n",
        "print(service.state)\r\n",
        "print(\"scoring URI: \" + service.scoring_uri)\r\n"
      ],
      "outputs": [
        {
          "output_type": "stream",
          "name": "stdout",
          "text": [
            "Model(workspace=Workspace.create(name='quick-starts-ws-133786', subscription_id='2c48c51c-bd47-40d4-abbe-fb8eabd19c8c', resource_group='aml-quickstarts-133786'), name=automl_pred, id=automl_pred:1, version=1, tags={}, properties={})\n",
            "Downloading model automl_pred:1 to /tmp/azureml_vc9k7ut3/automl_pred/1\n",
            "Generating Docker build context.\n",
            "Package creation Succeeded\n",
            "Logging into Docker registry 09ff7a10aa85452aaef6c2d18171c21c.azurecr.io\n",
            "Logging into Docker registry 09ff7a10aa85452aaef6c2d18171c21c.azurecr.io\n",
            "Building Docker image from Dockerfile...\n",
            "Step 1/5 : FROM 09ff7a10aa85452aaef6c2d18171c21c.azurecr.io/azureml/azureml_3fdc9f8c784933dc854a351e73ff60fc\n",
            " ---> fe4cd7bda581\n",
            "Step 2/5 : COPY azureml-app /var/azureml-app\n",
            " ---> a09d84195ff1\n",
            "Step 3/5 : RUN mkdir -p '/var/azureml-app' && echo eyJhY2NvdW50Q29udGV4dCI6eyJzdWJzY3JpcHRpb25JZCI6IjJjNDhjNTFjLWJkNDctNDBkNC1hYmJlLWZiOGVhYmQxOWM4YyIsInJlc291cmNlR3JvdXBOYW1lIjoiYW1sLXF1aWNrc3RhcnRzLTEzMzc4NiIsImFjY291bnROYW1lIjoicXVpY2stc3RhcnRzLXdzLTEzMzc4NiIsIndvcmtzcGFjZUlkIjoiMDlmZjdhMTAtYWE4NS00NTJhLWFlZjYtYzJkMTgxNzFjMjFjIn0sIm1vZGVscyI6e30sIm1vZGVsc0luZm8iOnt9fQ== | base64 --decode > /var/azureml-app/model_config_map.json\n",
            " ---> Running in 7548aa736230\n",
            " ---> a7d2c94a5047\n",
            "Step 4/5 : RUN mv '/var/azureml-app/tmpigypu_y2.py' /var/azureml-app/main.py\n",
            " ---> Running in e2d2e4372aab\n",
            " ---> b15028c52c38\n",
            "Step 5/5 : CMD [\"runsvdir\",\"/var/runit\"]\n",
            " ---> Running in 7553b571ec02\n",
            " ---> 11a915da3f30\n",
            "Successfully built 11a915da3f30\n",
            "Successfully tagged laborpredservice2:latest\n",
            "Container (name:strange_goodall, id:bfeb59cfc3b872f0c397886927b571b5d297f6fd7df998d4d806839a19a48c31) cannot be killed.\n",
            "Container has been successfully cleaned up.\n",
            "Image sha256:05b8cf4eb2cc7266f0971c686294b7e7eb6cdf00143e0d1101bdeaf07173de01 successfully removed.\n",
            "Starting Docker container...\n",
            "Docker container running.\n",
            "Checking container health...\n",
            "\n",
            "Container Logs:\n",
            "2021-01-07T11:17:40,375713337+00:00 - rsyslog/run \n",
            "2021-01-07T11:17:40,381561236+00:00 - gunicorn/run \n",
            "2021-01-07T11:17:40,386560250+00:00 - nginx/run \n",
            "2021-01-07T11:17:40,385291972+00:00 - iot-server/run \n",
            "/usr/sbin/nginx: /azureml-envs/azureml_59ccf25d90b338bf74c1d202f194110f/lib/libcrypto.so.1.0.0: no version information available (required by /usr/sbin/nginx)\n",
            "/usr/sbin/nginx: /azureml-envs/azureml_59ccf25d90b338bf74c1d202f194110f/lib/libcrypto.so.1.0.0: no version information available (required by /usr/sbin/nginx)\n",
            "/usr/sbin/nginx: /azureml-envs/azureml_59ccf25d90b338bf74c1d202f194110f/lib/libssl.so.1.0.0: no version information available (required by /usr/sbin/nginx)\n",
            "/usr/sbin/nginx: /azureml-envs/azureml_59ccf25d90b338bf74c1d202f194110f/lib/libssl.so.1.0.0: no version information available (required by /usr/sbin/nginx)\n",
            "/usr/sbin/nginx: /azureml-envs/azureml_59ccf25d90b338bf74c1d202f194110f/lib/libssl.so.1.0.0: no version information available (required by /usr/sbin/nginx)\n",
            "EdgeHubConnectionString and IOTEDGE_IOTHUBHOSTNAME are not set. Exiting...\n",
            "2021-01-07T11:17:40,474946527+00:00 - iot-server/finish 1 0\n",
            "2021-01-07T11:17:40,476303504+00:00 - Exit code 1 is normal. Not restarting iot-server.\n",
            "Starting gunicorn 19.9.0\n",
            "Listening at: http://127.0.0.1:31311 (11)\n",
            "Using worker: sync\n",
            "worker timeout is set to 300\n",
            "Booting worker with pid: 39\n",
            "SPARK_HOME not set. Skipping PySpark Initialization.\n",
            "Initializing logger\n",
            "2021-01-07 11:17:41,020 | root | INFO | Starting up app insights client\n",
            "Starting up app insights client\n",
            "2021-01-07 11:17:41,021 | root | INFO | Starting up request id generator\n",
            "Starting up request id generator\n",
            "2021-01-07 11:17:41,021 | root | INFO | Starting up app insight hooks\n",
            "Starting up app insight hooks\n",
            "2021-01-07 11:17:41,021 | root | INFO | Invoking user's init function\n",
            "Invoking user's init function\n",
            "2021-01-07 11:17:41,021 | root | ERROR | User's init function failed\n",
            "User's init function failed\n",
            "2021-01-07 11:17:41,022 | root | ERROR | Encountered Exception Traceback (most recent call last):\n",
            "  File \"/var/azureml-server/aml_blueprint.py\", line 177, in register\n",
            "    main.init()\n",
            "  File \"/var/azureml-app/score.py\", line 10, in init\n",
            "    model = joblib.load(model_path)\n",
            "  File \"/azureml-envs/azureml_59ccf25d90b338bf74c1d202f194110f/lib/python3.6/site-packages/joblib/numpy_pickle.py\", line 585, in load\n",
            "    obj = _unpickle(fobj, filename, mmap_mode)\n",
            "  File \"/azureml-envs/azureml_59ccf25d90b338bf74c1d202f194110f/lib/python3.6/site-packages/joblib/numpy_pickle.py\", line 504, in _unpickle\n",
            "    obj = unpickler.load()\n",
            "  File \"/azureml-envs/azureml_59ccf25d90b338bf74c1d202f194110f/lib/python3.6/pickle.py\", line 1050, in load\n",
            "    dispatch[key[0]](self)\n",
            "  File \"/azureml-envs/azureml_59ccf25d90b338bf74c1d202f194110f/lib/python3.6/pickle.py\", line 1338, in load_global\n",
            "    klass = self.find_class(module, name)\n",
            "  File \"/azureml-envs/azureml_59ccf25d90b338bf74c1d202f194110f/lib/python3.6/pickle.py\", line 1388, in find_class\n",
            "    __import__(module, level=0)\n",
            "ModuleNotFoundError: No module named 'azureml.automl'\n",
            "\n",
            "Encountered Exception Traceback (most recent call last):\n",
            "  File \"/var/azureml-server/aml_blueprint.py\", line 177, in register\n",
            "    main.init()\n",
            "  File \"/var/azureml-app/score.py\", line 10, in init\n",
            "    model = joblib.load(model_path)\n",
            "  File \"/azureml-envs/azureml_59ccf25d90b338bf74c1d202f194110f/lib/python3.6/site-packages/joblib/numpy_pickle.py\", line 585, in load\n",
            "    obj = _unpickle(fobj, filename, mmap_mode)\n",
            "  File \"/azureml-envs/azureml_59ccf25d90b338bf74c1d202f194110f/lib/python3.6/site-packages/joblib/numpy_pickle.py\", line 504, in _unpickle\n",
            "    obj = unpickler.load()\n",
            "  File \"/azureml-envs/azureml_59ccf25d90b338bf74c1d202f194110f/lib/python3.6/pickle.py\", line 1050, in load\n",
            "    dispatch[key[0]](self)\n",
            "  File \"/azureml-envs/azureml_59ccf25d90b338bf74c1d202f194110f/lib/python3.6/pickle.py\", line 1338, in load_global\n",
            "    klass = self.find_class(module, name)\n",
            "  File \"/azureml-envs/azureml_59ccf25d90b338bf74c1d202f194110f/lib/python3.6/pickle.py\", line 1388, in find_class\n",
            "    __import__(module, level=0)\n",
            "ModuleNotFoundError: No module named 'azureml.automl'\n",
            "\n",
            "Worker exiting (pid: 39)\n",
            "Shutting down: Master\n",
            "Reason: Worker failed to boot.\n",
            "2021-01-07T11:17:41,103559101+00:00 - gunicorn/finish 3 0\n",
            "2021-01-07T11:17:41,104903878+00:00 - Exit code 3 is not normal. Killing image.\n",
            "\n"
          ]
        },
        {
          "output_type": "stream",
          "name": "stderr",
          "text": [
            "ERROR:azureml._model_management._util:Error: Container has crashed. Did your init method fail?\n",
            "\n"
          ]
        },
        {
          "output_type": "error",
          "ename": "WebserviceException",
          "evalue": "WebserviceException:\n\tMessage: Error: Container has crashed. Did your init method fail?\n\tInnerException None\n\tErrorResponse \n{\n    \"error\": {\n        \"message\": \"Error: Container has crashed. Did your init method fail?\"\n    }\n}",
          "traceback": [
            "\u001b[0;31m---------------------------------------------------------------------------\u001b[0m",
            "\u001b[0;31mWebserviceException\u001b[0m                       Traceback (most recent call last)",
            "\u001b[0;32m<ipython-input-29-9d7ff63f6427>\u001b[0m in \u001b[0;36m<module>\u001b[0;34m\u001b[0m\n\u001b[1;32m     11\u001b[0m \u001b[0mservice\u001b[0m \u001b[0;34m=\u001b[0m \u001b[0mModel\u001b[0m\u001b[0;34m.\u001b[0m\u001b[0mdeploy\u001b[0m\u001b[0;34m(\u001b[0m\u001b[0mws\u001b[0m\u001b[0;34m,\u001b[0m \u001b[0;34m'laborpredservice2'\u001b[0m\u001b[0;34m,\u001b[0m \u001b[0;34m[\u001b[0m\u001b[0mmodel\u001b[0m\u001b[0;34m]\u001b[0m\u001b[0;34m,\u001b[0m \u001b[0minference_config\u001b[0m\u001b[0;34m,\u001b[0m \u001b[0mdeployment_config\u001b[0m\u001b[0;34m)\u001b[0m\u001b[0;34m\u001b[0m\u001b[0;34m\u001b[0m\u001b[0m\n\u001b[1;32m     12\u001b[0m \u001b[0;34m\u001b[0m\u001b[0m\n\u001b[0;32m---> 13\u001b[0;31m \u001b[0mservice\u001b[0m\u001b[0;34m.\u001b[0m\u001b[0mwait_for_deployment\u001b[0m\u001b[0;34m(\u001b[0m\u001b[0;32mTrue\u001b[0m\u001b[0;34m)\u001b[0m\u001b[0;34m\u001b[0m\u001b[0;34m\u001b[0m\u001b[0m\n\u001b[0m\u001b[1;32m     14\u001b[0m \u001b[0mprint\u001b[0m\u001b[0;34m(\u001b[0m\u001b[0mservice\u001b[0m\u001b[0;34m.\u001b[0m\u001b[0mget_logs\u001b[0m\u001b[0;34m)\u001b[0m\u001b[0;34m\u001b[0m\u001b[0;34m\u001b[0m\u001b[0m\n\u001b[1;32m     15\u001b[0m \u001b[0mprint\u001b[0m\u001b[0;34m(\u001b[0m\u001b[0mservice\u001b[0m\u001b[0;34m.\u001b[0m\u001b[0mstate\u001b[0m\u001b[0;34m)\u001b[0m\u001b[0;34m\u001b[0m\u001b[0;34m\u001b[0m\u001b[0m\n",
            "\u001b[0;32m/anaconda/envs/azureml_py36/lib/python3.6/site-packages/azureml/core/webservice/local.py\u001b[0m in \u001b[0;36mdecorated\u001b[0;34m(self, *args, **kwargs)\u001b[0m\n\u001b[1;32m     70\u001b[0m                 raise WebserviceException('Cannot call {}() when service is {}.'.format(func.__name__, self.state),\n\u001b[1;32m     71\u001b[0m                                           logger=module_logger)\n\u001b[0;32m---> 72\u001b[0;31m             \u001b[0;32mreturn\u001b[0m \u001b[0mfunc\u001b[0m\u001b[0;34m(\u001b[0m\u001b[0mself\u001b[0m\u001b[0;34m,\u001b[0m \u001b[0;34m*\u001b[0m\u001b[0margs\u001b[0m\u001b[0;34m,\u001b[0m \u001b[0;34m**\u001b[0m\u001b[0mkwargs\u001b[0m\u001b[0;34m)\u001b[0m\u001b[0;34m\u001b[0m\u001b[0;34m\u001b[0m\u001b[0m\n\u001b[0m\u001b[1;32m     73\u001b[0m         \u001b[0;32mreturn\u001b[0m \u001b[0mdecorated\u001b[0m\u001b[0;34m\u001b[0m\u001b[0;34m\u001b[0m\u001b[0m\n\u001b[1;32m     74\u001b[0m     \u001b[0;32mreturn\u001b[0m \u001b[0mdecorator\u001b[0m\u001b[0;34m\u001b[0m\u001b[0;34m\u001b[0m\u001b[0m\n",
            "\u001b[0;32m/anaconda/envs/azureml_py36/lib/python3.6/site-packages/azureml/core/webservice/local.py\u001b[0m in \u001b[0;36mwait_for_deployment\u001b[0;34m(self, show_output)\u001b[0m\n\u001b[1;32m    609\u001b[0m                                    \u001b[0mself\u001b[0m\u001b[0;34m.\u001b[0m\u001b[0m_container\u001b[0m\u001b[0;34m,\u001b[0m\u001b[0;34m\u001b[0m\u001b[0;34m\u001b[0m\u001b[0m\n\u001b[1;32m    610\u001b[0m                                    \u001b[0mhealth_url\u001b[0m\u001b[0;34m=\u001b[0m\u001b[0mself\u001b[0m\u001b[0;34m.\u001b[0m\u001b[0m_get_health_url\u001b[0m\u001b[0;34m(\u001b[0m\u001b[0;34m)\u001b[0m\u001b[0;34m,\u001b[0m\u001b[0;34m\u001b[0m\u001b[0;34m\u001b[0m\u001b[0m\n\u001b[0;32m--> 611\u001b[0;31m                                    cleanup_if_failed=False)\n\u001b[0m\u001b[1;32m    612\u001b[0m \u001b[0;34m\u001b[0m\u001b[0m\n\u001b[1;32m    613\u001b[0m             \u001b[0mself\u001b[0m\u001b[0;34m.\u001b[0m\u001b[0mstate\u001b[0m \u001b[0;34m=\u001b[0m \u001b[0mLocalWebservice\u001b[0m\u001b[0;34m.\u001b[0m\u001b[0mSTATE_RUNNING\u001b[0m\u001b[0;34m\u001b[0m\u001b[0;34m\u001b[0m\u001b[0m\n",
            "\u001b[0;32m/anaconda/envs/azureml_py36/lib/python3.6/site-packages/azureml/_model_management/_util.py\u001b[0m in \u001b[0;36mcontainer_health_check\u001b[0;34m(docker_port, container, health_url, cleanup_if_failed)\u001b[0m\n\u001b[1;32m    741\u001b[0m             \u001b[0;31m# The container has started and crashed.\u001b[0m\u001b[0;34m\u001b[0m\u001b[0;34m\u001b[0m\u001b[0;34m\u001b[0m\u001b[0m\n\u001b[1;32m    742\u001b[0m             _raise_for_container_failure(container, cleanup_if_failed,\n\u001b[0;32m--> 743\u001b[0;31m                                          'Error: Container has crashed. Did your init method fail?')\n\u001b[0m\u001b[1;32m    744\u001b[0m \u001b[0;34m\u001b[0m\u001b[0m\n\u001b[1;32m    745\u001b[0m         \u001b[0;31m# The container hasn't crashed, so try to ping the health endpoint.\u001b[0m\u001b[0;34m\u001b[0m\u001b[0;34m\u001b[0m\u001b[0;34m\u001b[0m\u001b[0m\n",
            "\u001b[0;32m/anaconda/envs/azureml_py36/lib/python3.6/site-packages/azureml/_model_management/_util.py\u001b[0m in \u001b[0;36m_raise_for_container_failure\u001b[0;34m(container, cleanup, message)\u001b[0m\n\u001b[1;32m   1259\u001b[0m         \u001b[0mcleanup_container\u001b[0m\u001b[0;34m(\u001b[0m\u001b[0mcontainer\u001b[0m\u001b[0;34m)\u001b[0m\u001b[0;34m\u001b[0m\u001b[0;34m\u001b[0m\u001b[0m\n\u001b[1;32m   1260\u001b[0m \u001b[0;34m\u001b[0m\u001b[0m\n\u001b[0;32m-> 1261\u001b[0;31m     \u001b[0;32mraise\u001b[0m \u001b[0mWebserviceException\u001b[0m\u001b[0;34m(\u001b[0m\u001b[0mmessage\u001b[0m\u001b[0;34m,\u001b[0m \u001b[0mlogger\u001b[0m\u001b[0;34m=\u001b[0m\u001b[0mmodule_logger\u001b[0m\u001b[0;34m)\u001b[0m\u001b[0;34m\u001b[0m\u001b[0;34m\u001b[0m\u001b[0m\n\u001b[0m\u001b[1;32m   1262\u001b[0m \u001b[0;34m\u001b[0m\u001b[0m\n\u001b[1;32m   1263\u001b[0m \u001b[0;34m\u001b[0m\u001b[0m\n",
            "\u001b[0;31mWebserviceException\u001b[0m: WebserviceException:\n\tMessage: Error: Container has crashed. Did your init method fail?\n\tInnerException None\n\tErrorResponse \n{\n    \"error\": {\n        \"message\": \"Error: Container has crashed. Did your init method fail?\"\n    }\n}"
          ]
        }
      ],
      "execution_count": 29,
      "metadata": {
        "collapsed": true,
        "jupyter": {
          "source_hidden": false,
          "outputs_hidden": false
        },
        "nteract": {
          "transient": {
            "deleting": false
          }
        }
      }
    },
    {
      "cell_type": "code",
      "source": [
        "service.delete"
      ],
      "outputs": [
        {
          "output_type": "execute_result",
          "execution_count": 23,
          "data": {
            "text/plain": "<bound method Webservice.delete of AciWebservice(workspace=Workspace.create(name='quick-starts-ws-133786', subscription_id='2c48c51c-bd47-40d4-abbe-fb8eabd19c8c', resource_group='aml-quickstarts-133786'), name=laborpredservice1, image_id=None, compute_type=None, state=ACI, scoring_uri=Failed, tags=None, properties={}, created_by={'hasInferenceSchema': 'False', 'hasHttps': 'False'})>"
          },
          "metadata": {}
        }
      ],
      "execution_count": 23,
      "metadata": {
        "collapsed": true,
        "jupyter": {
          "source_hidden": false,
          "outputs_hidden": false
        },
        "nteract": {
          "transient": {
            "deleting": false
          }
        },
        "gather": {
          "logged": 1610016660971
        }
      }
    },
    {
      "cell_type": "code",
      "source": [
        "#send request\r\n",
        "\r\n",
        "import requests\r\n",
        "import json\r\n",
        "\r\n",
        "scoring_uri = service.scoring_uri\r\n",
        "headers = {'Content-Type':'application/json'}\r\n",
        "test_data = {\"data\": [67, 'ALUMINUM', 'DOOR', 24, 0, 'SNAP BEADS', 9, 118]}\r\n",
        "response = requests.post(scoring_uri, data=test_data, headers=headers)\r\n",
        "print(response.status_code)\r\n",
        "print(response.elapsed)\r\n",
        "print(response.json())"
      ],
      "outputs": [],
      "execution_count": null,
      "metadata": {
        "collapsed": true,
        "jupyter": {
          "source_hidden": false,
          "outputs_hidden": false
        },
        "nteract": {
          "transient": {
            "deleting": false
          }
        }
      }
    }
  ],
  "metadata": {
    "kernelspec": {
      "name": "python3",
      "language": "python",
      "display_name": "Python 3"
    },
    "language_info": {
      "name": "python",
      "version": "3.6.9",
      "mimetype": "text/x-python",
      "codemirror_mode": {
        "name": "ipython",
        "version": 3
      },
      "pygments_lexer": "ipython3",
      "nbconvert_exporter": "python",
      "file_extension": ".py"
    },
    "kernel_info": {
      "name": "python3"
    },
    "nteract": {
      "version": "nteract-front-end@1.0.0"
    }
  },
  "nbformat": 4,
  "nbformat_minor": 2
}