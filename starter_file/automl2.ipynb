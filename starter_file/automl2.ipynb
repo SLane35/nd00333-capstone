{
  "cells": [
    {
      "cell_type": "code",
      "source": [
        "from azureml.core import Workspace, Experiment\n",
        "from azureml.core.compute import ComputeTarget, AmlCompute\n",
        "from azureml.widgets import RunDetails\n",
        "from azureml.train.sklearn import SKLearn\n",
        "from azureml.train.automl import AutoMLConfig\n",
        "from azureml.widgets import RunDetails\n",
        "from sklearn.model_selection import train_test_split\n",
        "import os\n",
        "import joblib\n",
        "import numpy as np\n",
        "import pandas as pd"
      ],
      "outputs": [],
      "execution_count": 1,
      "metadata": {
        "gather": {
          "logged": 1609874158277
        }
      }
    },
    {
      "cell_type": "code",
      "source": [
        "ws = Workspace.from_config()\n",
        "# choose a name for experiment\n",
        "experiment_name = 'labor-prediction-experiment'\n",
        "experiment=Experiment(ws, experiment_name)"
      ],
      "outputs": [],
      "execution_count": 2,
      "metadata": {
        "gather": {
          "logged": 1609874159801
        }
      }
    },
    {
      "cell_type": "code",
      "source": [
        "from azureml.data.dataset_factory import TabularDatasetFactory\n",
        "from azureml.core import Dataset, Datastore\n",
        "from azureml.data.datapath import DataPath\n",
        "\n",
        "datastore_name='workspaceblobstore'\n",
        "datastore=Datastore.get(ws,datastore_name)\n",
        "\n",
        "datastore_path = [(datastore, 'UI/01-05-2021_070302_UTC/LaborPredictionData6.csv')]\n",
        "ds = Dataset.Tabular.from_delimited_files(path=datastore_path)\n",
        "\n",
        "ds = ds.take(3000).to_pandas_dataframe()"
      ],
      "outputs": [],
      "execution_count": 3,
      "metadata": {
        "gather": {
          "logged": 1609874165683
        }
      }
    },
    {
      "cell_type": "code",
      "source": [
        "from train import clean_data\n",
        "# Use the clean_data function to clean your data.\n",
        "x, y = clean_data(ds)\n",
        "x_train, x_test, y_train, y_test = train_test_split(x, y, train_size=.8)\n",
        "\n",
        "#y_train=y_train.reshape(1728, 1)\n",
        "#train = np.concatenate((x_train,y_train), axis=1)\n",
        "train=pd.concat([x_train, y_train], axis=1)"
      ],
      "outputs": [],
      "execution_count": 4,
      "metadata": {
        "gather": {
          "logged": 1609874167227
        }
      }
    },
    {
      "cell_type": "code",
      "source": [
        "# TODO: Put your automl settings here\n",
        "automl_config = AutoMLConfig(\n",
        "    experiment_timeout_minutes=30,\n",
        "    task='regression',\n",
        "    primary_metric='r2_score',\n",
        "    training_data=train,\n",
        "    label_column_name='TotalInstallationTime',\n",
        "    n_cross_validations=10)"
      ],
      "outputs": [],
      "execution_count": 9,
      "metadata": {
        "gather": {
          "logged": 1609874179338
        }
      }
    },
    {
      "cell_type": "code",
      "source": [
        "#TODO: Submit your experiment\n",
        "remote_run = experiment.submit(automl_config, show_output=True)"
      ],
      "outputs": [
        {
          "output_type": "stream",
          "name": "stdout",
          "text": [
            "No run_configuration provided, running on local with default configuration\n",
            "Running on local machine\n",
            "Parent Run ID: AutoML_6000a046-d34b-4eac-887f-41b9609706dd\n",
            "\n",
            "Current status: DatasetEvaluation. Gathering dataset statistics.\n",
            "Current status: FeaturesGeneration. Generating features for the dataset.\n",
            "Current status: DatasetFeaturization. Beginning to fit featurizers and featurize the dataset.\n",
            "Current status: DatasetFeaturizationCompleted. Completed fit featurizers and featurizing the dataset.\n",
            "Current status: DatasetCrossValidationSplit. Generating individually featurized CV splits.\n",
            "\n",
            "****************************************************************************************************\n",
            "DATA GUARDRAILS: \n",
            "\n",
            "TYPE:         Missing feature values imputation\n",
            "STATUS:       PASSED\n",
            "DESCRIPTION:  No feature missing values were detected in the training data.\n",
            "              Learn more about missing value imputation: https://aka.ms/AutomatedMLFeaturization\n",
            "\n",
            "****************************************************************************************************\n",
            "\n",
            "TYPE:         High cardinality feature detection\n",
            "STATUS:       PASSED\n",
            "DESCRIPTION:  Your inputs were analyzed, and no high cardinality features were detected.\n",
            "              Learn more about high cardinality feature handling: https://aka.ms/AutomatedMLFeaturization\n",
            "\n",
            "****************************************************************************************************\n",
            "Current status: ModelSelection. Beginning model selection.\n",
            "\n",
            "****************************************************************************************************\n",
            "ITERATION: The iteration being evaluated.\n",
            "PIPELINE: A summary description of the pipeline being evaluated.\n",
            "DURATION: Time taken for the current iteration.\n",
            "METRIC: The result of computing score on the fitted pipeline.\n",
            "BEST: The best observed score thus far.\n",
            "****************************************************************************************************\n",
            "\n",
            " ITERATION   PIPELINE                                       DURATION      METRIC      BEST\n",
            "         0   MaxAbsScaler LightGBM                          0:00:34       0.2290    0.2290\n",
            "         1   MaxAbsScaler XGBoostRegressor                  0:00:31       0.2663    0.2663\n",
            "         2   SparseNormalizer XGBoostRegressor              0:00:39       0.2332    0.2663\n",
            "         3   MaxAbsScaler RandomForest                      0:00:46       0.2684    0.2684\n",
            "         4   StandardScalerWrapper XGBoostRegressor         0:00:40       0.1877    0.2684\n",
            "         5   MaxAbsScaler ElasticNet                        0:00:32       0.2678    0.2684\n",
            "         6   MinMaxScaler RandomForest                      0:00:53       0.2483    0.2684\n",
            "         7   StandardScalerWrapper XGBoostRegressor         0:00:37       0.2351    0.2684\n",
            "         8   MinMaxScaler ExtremeRandomTrees                0:00:36       0.2587    0.2684\n",
            "         9   StandardScalerWrapper ElasticNet               0:00:27       0.2706    0.2706\n",
            "        10   MinMaxScaler RandomForest                      0:00:55       0.2736    0.2736\n",
            "        11   MinMaxScaler RandomForest                      0:00:32       0.2533    0.2736\n",
            "        12   StandardScalerWrapper XGBoostRegressor         0:00:28       0.2417    0.2736\n",
            "        13   RobustScaler LassoLars                         0:00:32       0.2678    0.2736\n",
            "        14   MinMaxScaler ExtremeRandomTrees                0:00:31       0.2189    0.2736\n",
            "        15   MaxAbsScaler ExtremeRandomTrees                0:00:29       0.1774    0.2736\n",
            "        16   MinMaxScaler ExtremeRandomTrees                0:00:35       0.2654    0.2736\n",
            "        17   MaxAbsScaler ElasticNet                        0:00:28       0.2705    0.2736\n",
            "        18   MinMaxScaler RandomForest                      0:00:30       0.1955    0.2736\n",
            "        19   MaxAbsScaler RandomForest                      0:00:28       0.2515    0.2736\n",
            "        20   RobustScaler ElasticNet                        0:00:28       0.2722    0.2736\n",
            "        21   StandardScalerWrapper RandomForest             0:00:35       0.2567    0.2736\n",
            "        22   RobustScaler LightGBM                          0:00:44       0.2085    0.2736\n",
            "        23   SparseNormalizer XGBoostRegressor              0:00:40       0.2545    0.2736\n",
            "        24   MaxAbsScaler ExtremeRandomTrees                0:04:36       0.2319    0.2736\n",
            "        25   RobustScaler RandomForest                      0:00:32       0.0881    0.2736\n",
            "        26   RobustScaler GradientBoosting                  0:00:36       0.1768    0.2736\n",
            "        27   MinMaxScaler ExtremeRandomTrees                0:00:32       0.2589    0.2736\n",
            "        28   StandardScalerWrapper XGBoostRegressor         0:00:30       0.2533    0.2736\n",
            "        29   RobustScaler GradientBoosting                  0:00:38       0.2357    0.2736\n",
            "        30   SparseNormalizer RandomForest                  0:00:31       0.2471    0.2736\n",
            "        31   MaxAbsScaler SGD                               0:00:28       0.2579    0.2736\n",
            "        32   StandardScalerWrapper DecisionTree             0:00:26       0.1579    0.2736\n",
            "        33   MinMaxScaler LightGBM                          0:00:27       0.2373    0.2736\n",
            "        34   StandardScalerWrapper RandomForest             0:00:29       0.2277    0.2736\n",
            "        35   MinMaxScaler RandomForest                      0:00:46       0.2478    0.2736\n",
            "        36   SparseNormalizer XGBoostRegressor              0:00:30       0.2712    0.2736\n",
            "        37   RobustScaler ElasticNet                        0:00:37       0.2724    0.2736\n",
            "        38   RobustScaler ElasticNet                        0:00:29       0.2689    0.2736\n",
            "        39                                                  0:03:02          nan    0.2736\n",
            "ERROR: Iteration timeout reached, skipping execution of the child run. Consider increasing iteration_timeout_minutes.\n",
            "        40   VotingEnsemble                                 0:01:25       0.3090    0.3090\n",
            "        41   StackEnsemble                                  0:01:25       0.3012    0.3090\n",
            "Stopping criteria reached at iteration 42. Ending experiment.\n",
            "****************************************************************************************************\n",
            "Current status: BestRunExplainModel. Best run model explanations started\n",
            "Current status: ModelExplanationDataSetSetup. Model explanations data setup completed\n",
            "Current status: PickSurrogateModel. Choosing LightGBM as the surrogate model for explanations\n",
            "Current status: EngineeredFeatureExplanations. Computation of engineered features started\n",
            "Current status: EngineeredFeatureExplanations. Computation of engineered features completed\n",
            "Current status: RawFeaturesExplanations. Computation of raw features started\n",
            "Current status: RawFeaturesExplanations. Computation of raw features completed\n",
            "Current status: BestRunExplainModel. Best run model explanations completed\n",
            "****************************************************************************************************\n"
          ]
        }
      ],
      "execution_count": 10,
      "metadata": {
        "gather": {
          "logged": 1609876277118
        }
      }
    },
    {
      "cell_type": "code",
      "source": [
        "RunDetails(remote_run).show()"
      ],
      "outputs": [
        {
          "output_type": "display_data",
          "data": {
            "text/plain": "_AutoMLWidget(widget_settings={'childWidgetDisplay': 'popup', 'send_telemetry': False, 'log_level': 'INFO', 's…",
            "application/vnd.jupyter.widget-view+json": {
              "version_major": 2,
              "version_minor": 0,
              "model_id": "ae22020b6f054d458b5720a5f7004e0f"
            }
          },
          "metadata": {}
        },
        {
          "output_type": "display_data",
          "data": {
            "application/aml.mini.widget.v1": "{\"status\": \"Completed\", \"workbench_run_details_uri\": \"https://ml.azure.com/experiments/labor-prediction-experiment/runs/AutoML_6000a046-d34b-4eac-887f-41b9609706dd?wsid=/subscriptions/cdbe0b43-92a0-4715-838a-f2648cc7ad21/resourcegroups/aml-quickstarts-133546/workspaces/quick-starts-ws-133546\", \"run_id\": \"AutoML_6000a046-d34b-4eac-887f-41b9609706dd\", \"run_properties\": {\"run_id\": \"AutoML_6000a046-d34b-4eac-887f-41b9609706dd\", \"created_utc\": \"2021-01-05T19:16:25.824448Z\", \"properties\": {\"num_iterations\": \"1000\", \"training_type\": \"TrainFull\", \"acquisition_function\": \"EI\", \"primary_metric\": \"r2_score\", \"train_split\": \"0\", \"acquisition_parameter\": \"0\", \"num_cross_validation\": \"10\", \"target\": \"local\", \"AMLSettingsJsonString\": \"{\\\"path\\\":null,\\\"name\\\":\\\"labor-prediction-experiment\\\",\\\"subscription_id\\\":\\\"cdbe0b43-92a0-4715-838a-f2648cc7ad21\\\",\\\"resource_group\\\":\\\"aml-quickstarts-133546\\\",\\\"workspace_name\\\":\\\"quick-starts-ws-133546\\\",\\\"region\\\":\\\"southcentralus\\\",\\\"compute_target\\\":\\\"local\\\",\\\"spark_service\\\":null,\\\"azure_service\\\":\\\"Microsoft.AzureNotebookVM\\\",\\\"many_models\\\":false,\\\"pipeline_fetch_max_batch_size\\\":1,\\\"iterations\\\":1000,\\\"primary_metric\\\":\\\"r2_score\\\",\\\"task_type\\\":\\\"regression\\\",\\\"data_script\\\":null,\\\"validation_size\\\":0.0,\\\"n_cross_validations\\\":10,\\\"y_min\\\":null,\\\"y_max\\\":null,\\\"num_classes\\\":null,\\\"featurization\\\":\\\"auto\\\",\\\"_ignore_package_version_incompatibilities\\\":false,\\\"is_timeseries\\\":false,\\\"max_cores_per_iteration\\\":1,\\\"max_concurrent_iterations\\\":1,\\\"iteration_timeout_minutes\\\":null,\\\"mem_in_mb\\\":null,\\\"enforce_time_on_windows\\\":false,\\\"experiment_timeout_minutes\\\":30,\\\"experiment_exit_score\\\":null,\\\"whitelist_models\\\":null,\\\"blacklist_algos\\\":[\\\"TensorFlowDNN\\\",\\\"TensorFlowLinearRegressor\\\"],\\\"supported_models\\\":[\\\"KNN\\\",\\\"FastLinearRegressor\\\",\\\"DecisionTree\\\",\\\"LassoLars\\\",\\\"SGD\\\",\\\"XGBoostRegressor\\\",\\\"ExtremeRandomTrees\\\",\\\"TensorFlowLinearRegressor\\\",\\\"TensorFlowDNN\\\",\\\"LightGBM\\\",\\\"OnlineGradientDescentRegressor\\\",\\\"RandomForest\\\",\\\"ElasticNet\\\",\\\"GradientBoosting\\\"],\\\"auto_blacklist\\\":true,\\\"blacklist_samples_reached\\\":false,\\\"exclude_nan_labels\\\":true,\\\"verbosity\\\":20,\\\"_debug_log\\\":\\\"automl.log\\\",\\\"show_warnings\\\":false,\\\"model_explainability\\\":true,\\\"service_url\\\":null,\\\"sdk_url\\\":null,\\\"sdk_packages\\\":null,\\\"enable_onnx_compatible_models\\\":false,\\\"enable_split_onnx_featurizer_estimator_models\\\":false,\\\"vm_type\\\":null,\\\"telemetry_verbosity\\\":20,\\\"send_telemetry\\\":true,\\\"enable_dnn\\\":false,\\\"scenario\\\":\\\"SDK-1.13.0\\\",\\\"environment_label\\\":null,\\\"force_text_dnn\\\":false,\\\"enable_feature_sweeping\\\":true,\\\"enable_early_stopping\\\":false,\\\"early_stopping_n_iters\\\":10,\\\"metrics\\\":null,\\\"enable_ensembling\\\":true,\\\"enable_stack_ensembling\\\":true,\\\"ensemble_iterations\\\":15,\\\"enable_tf\\\":false,\\\"enable_subsampling\\\":null,\\\"subsample_seed\\\":null,\\\"enable_nimbusml\\\":false,\\\"enable_streaming\\\":false,\\\"force_streaming\\\":false,\\\"track_child_runs\\\":true,\\\"allowed_private_models\\\":[],\\\"label_column_name\\\":\\\"TotalInstallationTime\\\",\\\"weight_column_name\\\":null,\\\"cv_split_column_names\\\":null,\\\"enable_local_managed\\\":false,\\\"_local_managed_run_id\\\":null,\\\"cost_mode\\\":1,\\\"lag_length\\\":0,\\\"metric_operation\\\":\\\"maximize\\\",\\\"preprocess\\\":true}\", \"DataPrepJsonString\": null, \"EnableSubsampling\": null, \"runTemplate\": \"AutoML\", \"azureml.runsource\": \"automl\", \"display_task_type\": \"regression\", \"dependencies_versions\": \"{\\\"azureml-widgets\\\": \\\"1.19.0\\\", \\\"azureml-train\\\": \\\"1.19.0\\\", \\\"azureml-train-restclients-hyperdrive\\\": \\\"1.19.0\\\", \\\"azureml-train-core\\\": \\\"1.19.0\\\", \\\"azureml-train-automl\\\": \\\"1.19.0\\\", \\\"azureml-train-automl-runtime\\\": \\\"1.19.0\\\", \\\"azureml-train-automl-client\\\": \\\"1.19.0\\\", \\\"azureml-tensorboard\\\": \\\"1.19.0\\\", \\\"azureml-telemetry\\\": \\\"1.19.0\\\", \\\"azureml-sdk\\\": \\\"1.19.0\\\", \\\"azureml-samples\\\": \\\"0+unknown\\\", \\\"azureml-pipeline\\\": \\\"1.19.0\\\", \\\"azureml-pipeline-steps\\\": \\\"1.19.0\\\", \\\"azureml-pipeline-core\\\": \\\"1.19.0\\\", \\\"azureml-opendatasets\\\": \\\"1.19.0\\\", \\\"azureml-model-management-sdk\\\": \\\"1.0.1b6.post1\\\", \\\"azureml-mlflow\\\": \\\"1.19.0\\\", \\\"azureml-interpret\\\": \\\"1.19.0\\\", \\\"azureml-explain-model\\\": \\\"1.19.0\\\", \\\"azureml-defaults\\\": \\\"1.19.0\\\", \\\"azureml-dataset-runtime\\\": \\\"1.19.0\\\", \\\"azureml-dataprep\\\": \\\"2.6.1\\\", \\\"azureml-dataprep-rslex\\\": \\\"1.4.0\\\", \\\"azureml-dataprep-native\\\": \\\"26.0.0\\\", \\\"azureml-datadrift\\\": \\\"1.19.0\\\", \\\"azureml-core\\\": \\\"1.19.0\\\", \\\"azureml-contrib-services\\\": \\\"1.19.0\\\", \\\"azureml-contrib-server\\\": \\\"1.19.0\\\", \\\"azureml-contrib-reinforcementlearning\\\": \\\"1.19.0\\\", \\\"azureml-contrib-pipeline-steps\\\": \\\"1.19.0\\\", \\\"azureml-contrib-notebook\\\": \\\"1.19.0\\\", \\\"azureml-contrib-interpret\\\": \\\"1.19.0\\\", \\\"azureml-contrib-gbdt\\\": \\\"1.19.0\\\", \\\"azureml-contrib-fairness\\\": \\\"1.19.0\\\", \\\"azureml-contrib-dataset\\\": \\\"1.19.0\\\", \\\"azureml-cli-common\\\": \\\"1.19.0\\\", \\\"azureml-automl-runtime\\\": \\\"1.19.0\\\", \\\"azureml-automl-core\\\": \\\"1.19.0\\\", \\\"azureml-accel-models\\\": \\\"1.19.0\\\"}\", \"_aml_system_scenario_identification\": \"Local.Parent\", \"ClientSdkVersion\": \"1.19.0\", \"ClientType\": \"SDK\", \"environment_cpu_name\": \"AzureML-AutoML\", \"environment_cpu_label\": \"prod\", \"environment_gpu_name\": \"AzureML-AutoML-GPU\", \"environment_gpu_label\": \"prod\", \"root_attribution\": \"automl\", \"attribution\": \"AutoML\", \"Orchestrator\": \"AutoML\", \"_azureml.ComputeTargetType\": \"local\", \"ProblemInfoJsonString\": \"{\\\"dataset_num_categorical\\\": 0, \\\"is_sparse\\\": false, \\\"subsampling\\\": false, \\\"dataset_classes\\\": 47, \\\"dataset_features\\\": 54, \\\"dataset_samples\\\": 1728, \\\"single_frequency_class_detected\\\": false}\", \"feature_skus\": \"automatedml_sdk_guardrails\"}, \"tags\": {\"model_explain_run\": \"best_run\", \"best_score\": \"0.3090175967856613\", \"best_pipeline\": \"VotingEnsemble\", \"automl_best_child_run_id\": \"AutoML_6000a046-d34b-4eac-887f-41b9609706dd_40\", \"model_explain_best_run_child_id\": \"AutoML_6000a046-d34b-4eac-887f-41b9609706dd_40\"}, \"end_time_utc\": \"2021-01-05T19:50:22.949547Z\", \"status\": \"Completed\", \"log_files\": {}, \"log_groups\": [], \"run_duration\": \"0:33:57\"}, \"child_runs\": [{\"run_id\": \"AutoML_6000a046-d34b-4eac-887f-41b9609706dd_0\", \"run_number\": 3, \"metric\": null, \"status\": \"Completed\", \"run_type\": null, \"training_percent\": \"100\", \"start_time\": \"2021-01-05T19:16:47.508198Z\", \"end_time\": \"2021-01-05T19:17:21.939455Z\", \"created_time\": \"2021-01-05T19:16:47.394593Z\", \"created_time_dt\": \"2021-01-05T19:16:47.394593Z\", \"duration\": \"0:00:34\", \"iteration\": \"0\", \"goal\": \"r2_score_max\", \"run_name\": \"MaxAbsScaler, LightGBM\", \"run_properties\": \"copy=True\", \"primary_metric\": 0.22895392, \"best_metric\": 0.22895392}, {\"run_id\": \"AutoML_6000a046-d34b-4eac-887f-41b9609706dd_1\", \"run_number\": 4, \"metric\": null, \"status\": \"Completed\", \"run_type\": null, \"training_percent\": \"100\", \"start_time\": \"2021-01-05T19:17:22.34809Z\", \"end_time\": \"2021-01-05T19:17:53.691513Z\", \"created_time\": \"2021-01-05T19:17:22.215922Z\", \"created_time_dt\": \"2021-01-05T19:17:22.215922Z\", \"duration\": \"0:00:31\", \"iteration\": \"1\", \"goal\": \"r2_score_max\", \"run_name\": \"MaxAbsScaler, XGBoostRegressor\", \"run_properties\": \"copy=True\", \"primary_metric\": 0.26631541, \"best_metric\": 0.26631541}, {\"run_id\": \"AutoML_6000a046-d34b-4eac-887f-41b9609706dd_2\", \"run_number\": 5, \"metric\": null, \"status\": \"Completed\", \"run_type\": null, \"training_percent\": \"100\", \"start_time\": \"2021-01-05T19:17:54.345537Z\", \"end_time\": \"2021-01-05T19:18:33.685501Z\", \"created_time\": \"2021-01-05T19:17:54.232225Z\", \"created_time_dt\": \"2021-01-05T19:17:54.232225Z\", \"duration\": \"0:00:39\", \"iteration\": \"2\", \"goal\": \"r2_score_max\", \"run_name\": \"SparseNormalizer, XGBoostRegressor\", \"run_properties\": \"<azureml.automl.runtime.shared.model_wrappers.SparseNormalizer object at 0x7f3d749410b8\", \"primary_metric\": 0.23321928, \"best_metric\": 0.26631541}, {\"run_id\": \"AutoML_6000a046-d34b-4eac-887f-41b9609706dd_3\", \"run_number\": 6, \"metric\": null, \"status\": \"Completed\", \"run_type\": null, \"training_percent\": \"100\", \"start_time\": \"2021-01-05T19:18:35.153523Z\", \"end_time\": \"2021-01-05T19:19:21.170677Z\", \"created_time\": \"2021-01-05T19:18:35.053088Z\", \"created_time_dt\": \"2021-01-05T19:18:35.053088Z\", \"duration\": \"0:00:46\", \"iteration\": \"3\", \"goal\": \"r2_score_max\", \"run_name\": \"MaxAbsScaler, RandomForest\", \"run_properties\": \"copy=True\", \"primary_metric\": 0.2684497, \"best_metric\": 0.2684497}, {\"run_id\": \"AutoML_6000a046-d34b-4eac-887f-41b9609706dd_4\", \"run_number\": 7, \"metric\": null, \"status\": \"Completed\", \"run_type\": null, \"training_percent\": \"100\", \"start_time\": \"2021-01-05T19:19:23.500416Z\", \"end_time\": \"2021-01-05T19:20:04.290555Z\", \"created_time\": \"2021-01-05T19:19:23.394242Z\", \"created_time_dt\": \"2021-01-05T19:19:23.394242Z\", \"duration\": \"0:00:40\", \"iteration\": \"4\", \"goal\": \"r2_score_max\", \"run_name\": \"StandardScalerWrapper, XGBoostRegressor\", \"run_properties\": \"<azureml.automl.runtime.shared.model_wrappers.StandardScalerWrapper object at 0x7f3e19c68b70\", \"primary_metric\": 0.18774575, \"best_metric\": 0.2684497}, {\"run_id\": \"AutoML_6000a046-d34b-4eac-887f-41b9609706dd_5\", \"run_number\": 8, \"metric\": null, \"status\": \"Completed\", \"run_type\": null, \"training_percent\": \"100\", \"start_time\": \"2021-01-05T19:20:05.775427Z\", \"end_time\": \"2021-01-05T19:20:37.714925Z\", \"created_time\": \"2021-01-05T19:20:05.664834Z\", \"created_time_dt\": \"2021-01-05T19:20:05.664834Z\", \"duration\": \"0:00:32\", \"iteration\": \"5\", \"goal\": \"r2_score_max\", \"run_name\": \"MaxAbsScaler, ElasticNet\", \"run_properties\": \"copy=True\", \"primary_metric\": 0.26777929, \"best_metric\": 0.2684497}, {\"run_id\": \"AutoML_6000a046-d34b-4eac-887f-41b9609706dd_6\", \"run_number\": 9, \"metric\": null, \"status\": \"Completed\", \"run_type\": null, \"training_percent\": \"100\", \"start_time\": \"2021-01-05T19:20:39.398043Z\", \"end_time\": \"2021-01-05T19:21:32.721799Z\", \"created_time\": \"2021-01-05T19:20:39.257914Z\", \"created_time_dt\": \"2021-01-05T19:20:39.257914Z\", \"duration\": \"0:00:53\", \"iteration\": \"6\", \"goal\": \"r2_score_max\", \"run_name\": \"MinMaxScaler, RandomForest\", \"run_properties\": \"copy=True, feature_range=(0, 1\", \"primary_metric\": 0.24826707, \"best_metric\": 0.2684497}, {\"run_id\": \"AutoML_6000a046-d34b-4eac-887f-41b9609706dd_7\", \"run_number\": 10, \"metric\": null, \"status\": \"Completed\", \"run_type\": null, \"training_percent\": \"100\", \"start_time\": \"2021-01-05T19:21:34.238762Z\", \"end_time\": \"2021-01-05T19:22:11.534983Z\", \"created_time\": \"2021-01-05T19:21:34.119829Z\", \"created_time_dt\": \"2021-01-05T19:21:34.119829Z\", \"duration\": \"0:00:37\", \"iteration\": \"7\", \"goal\": \"r2_score_max\", \"run_name\": \"StandardScalerWrapper, XGBoostRegressor\", \"run_properties\": \"<azureml.automl.runtime.shared.model_wrappers.StandardScalerWrapper object at 0x7f3e19c31588\", \"primary_metric\": 0.23513695, \"best_metric\": 0.2684497}, {\"run_id\": \"AutoML_6000a046-d34b-4eac-887f-41b9609706dd_8\", \"run_number\": 11, \"metric\": null, \"status\": \"Completed\", \"run_type\": null, \"training_percent\": \"100\", \"start_time\": \"2021-01-05T19:22:13.28919Z\", \"end_time\": \"2021-01-05T19:22:49.77589Z\", \"created_time\": \"2021-01-05T19:22:13.178503Z\", \"created_time_dt\": \"2021-01-05T19:22:13.178503Z\", \"duration\": \"0:00:36\", \"iteration\": \"8\", \"goal\": \"r2_score_max\", \"run_name\": \"MinMaxScaler, ExtremeRandomTrees\", \"run_properties\": \"copy=True, feature_range=(0, 1\", \"primary_metric\": 0.25867825, \"best_metric\": 0.2684497}, {\"run_id\": \"AutoML_6000a046-d34b-4eac-887f-41b9609706dd_9\", \"run_number\": 12, \"metric\": null, \"status\": \"Completed\", \"run_type\": null, \"training_percent\": \"100\", \"start_time\": \"2021-01-05T19:22:51.283Z\", \"end_time\": \"2021-01-05T19:23:18.21999Z\", \"created_time\": \"2021-01-05T19:22:51.163758Z\", \"created_time_dt\": \"2021-01-05T19:22:51.163758Z\", \"duration\": \"0:00:27\", \"iteration\": \"9\", \"goal\": \"r2_score_max\", \"run_name\": \"StandardScalerWrapper, ElasticNet\", \"run_properties\": \"<azureml.automl.runtime.shared.model_wrappers.StandardScalerWrapper object at 0x7f3e32c83ba8\", \"primary_metric\": 0.27060848, \"best_metric\": 0.27060848}, {\"run_id\": \"AutoML_6000a046-d34b-4eac-887f-41b9609706dd_10\", \"run_number\": 13, \"metric\": null, \"status\": \"Completed\", \"run_type\": null, \"training_percent\": \"100\", \"start_time\": \"2021-01-05T19:23:20.66525Z\", \"end_time\": \"2021-01-05T19:24:16.183803Z\", \"created_time\": \"2021-01-05T19:23:20.553662Z\", \"created_time_dt\": \"2021-01-05T19:23:20.553662Z\", \"duration\": \"0:00:55\", \"iteration\": \"10\", \"goal\": \"r2_score_max\", \"run_name\": \"MinMaxScaler, RandomForest\", \"run_properties\": \"copy=True, feature_range=(0, 1\", \"primary_metric\": 0.27361191, \"best_metric\": 0.27361191}, {\"run_id\": \"AutoML_6000a046-d34b-4eac-887f-41b9609706dd_11\", \"run_number\": 14, \"metric\": null, \"status\": \"Completed\", \"run_type\": null, \"training_percent\": \"100\", \"start_time\": \"2021-01-05T19:24:17.650951Z\", \"end_time\": \"2021-01-05T19:24:49.789781Z\", \"created_time\": \"2021-01-05T19:24:17.540644Z\", \"created_time_dt\": \"2021-01-05T19:24:17.540644Z\", \"duration\": \"0:00:32\", \"iteration\": \"11\", \"goal\": \"r2_score_max\", \"run_name\": \"MinMaxScaler, RandomForest\", \"run_properties\": \"copy=True, feature_range=(0, 1\", \"primary_metric\": 0.25332233, \"best_metric\": 0.27361191}, {\"run_id\": \"AutoML_6000a046-d34b-4eac-887f-41b9609706dd_12\", \"run_number\": 15, \"metric\": null, \"status\": \"Completed\", \"run_type\": null, \"training_percent\": \"100\", \"start_time\": \"2021-01-05T19:24:51.329085Z\", \"end_time\": \"2021-01-05T19:25:20.040Z\", \"created_time\": \"2021-01-05T19:24:51.222802Z\", \"created_time_dt\": \"2021-01-05T19:24:51.222802Z\", \"duration\": \"0:00:28\", \"iteration\": \"12\", \"goal\": \"r2_score_max\", \"run_name\": \"StandardScalerWrapper, XGBoostRegressor\", \"run_properties\": \"<azureml.automl.runtime.shared.model_wrappers.StandardScalerWrapper object at 0x7f3e19d98828\", \"primary_metric\": 0.24173192, \"best_metric\": 0.27361191}, {\"run_id\": \"AutoML_6000a046-d34b-4eac-887f-41b9609706dd_13\", \"run_number\": 16, \"metric\": null, \"status\": \"Completed\", \"run_type\": null, \"training_percent\": \"100\", \"start_time\": \"2021-01-05T19:25:21.566371Z\", \"end_time\": \"2021-01-05T19:25:53.695574Z\", \"created_time\": \"2021-01-05T19:25:21.460203Z\", \"created_time_dt\": \"2021-01-05T19:25:21.460203Z\", \"duration\": \"0:00:32\", \"iteration\": \"13\", \"goal\": \"r2_score_max\", \"run_name\": \"RobustScaler, LassoLars\", \"run_properties\": \"copy=True, quantile_range=[10, 90], with_centering=False,\\n             with_scaling=True\", \"primary_metric\": 0.26777084, \"best_metric\": 0.27361191}, {\"run_id\": \"AutoML_6000a046-d34b-4eac-887f-41b9609706dd_14\", \"run_number\": 17, \"metric\": null, \"status\": \"Completed\", \"run_type\": null, \"training_percent\": \"100\", \"start_time\": \"2021-01-05T19:25:55.18125Z\", \"end_time\": \"2021-01-05T19:26:26.113924Z\", \"created_time\": \"2021-01-05T19:25:55.063995Z\", \"created_time_dt\": \"2021-01-05T19:25:55.063995Z\", \"duration\": \"0:00:31\", \"iteration\": \"14\", \"goal\": \"r2_score_max\", \"run_name\": \"MinMaxScaler, ExtremeRandomTrees\", \"run_properties\": \"copy=True, feature_range=(0, 1\", \"primary_metric\": 0.21894582, \"best_metric\": 0.27361191}, {\"run_id\": \"AutoML_6000a046-d34b-4eac-887f-41b9609706dd_15\", \"run_number\": 18, \"metric\": null, \"status\": \"Completed\", \"run_type\": null, \"training_percent\": \"100\", \"start_time\": \"2021-01-05T19:26:28.235003Z\", \"end_time\": \"2021-01-05T19:26:57.390216Z\", \"created_time\": \"2021-01-05T19:26:27.915801Z\", \"created_time_dt\": \"2021-01-05T19:26:27.915801Z\", \"duration\": \"0:00:29\", \"iteration\": \"15\", \"goal\": \"r2_score_max\", \"run_name\": \"MaxAbsScaler, ExtremeRandomTrees\", \"run_properties\": \"copy=True\", \"primary_metric\": 0.17737964, \"best_metric\": 0.27361191}, {\"run_id\": \"AutoML_6000a046-d34b-4eac-887f-41b9609706dd_16\", \"run_number\": 19, \"metric\": null, \"status\": \"Completed\", \"run_type\": null, \"training_percent\": \"100\", \"start_time\": \"2021-01-05T19:26:58.976812Z\", \"end_time\": \"2021-01-05T19:27:34.315852Z\", \"created_time\": \"2021-01-05T19:26:58.851347Z\", \"created_time_dt\": \"2021-01-05T19:26:58.851347Z\", \"duration\": \"0:00:35\", \"iteration\": \"16\", \"goal\": \"r2_score_max\", \"run_name\": \"MinMaxScaler, ExtremeRandomTrees\", \"run_properties\": \"copy=True, feature_range=(0, 1\", \"primary_metric\": 0.2653698, \"best_metric\": 0.27361191}, {\"run_id\": \"AutoML_6000a046-d34b-4eac-887f-41b9609706dd_17\", \"run_number\": 20, \"metric\": null, \"status\": \"Completed\", \"run_type\": null, \"training_percent\": \"100\", \"start_time\": \"2021-01-05T19:27:35.826775Z\", \"end_time\": \"2021-01-05T19:28:03.74731Z\", \"created_time\": \"2021-01-05T19:27:35.677746Z\", \"created_time_dt\": \"2021-01-05T19:27:35.677746Z\", \"duration\": \"0:00:28\", \"iteration\": \"17\", \"goal\": \"r2_score_max\", \"run_name\": \"MaxAbsScaler, ElasticNet\", \"run_properties\": \"copy=True\", \"primary_metric\": 0.27050724, \"best_metric\": 0.27361191}, {\"run_id\": \"AutoML_6000a046-d34b-4eac-887f-41b9609706dd_18\", \"run_number\": 21, \"metric\": null, \"status\": \"Completed\", \"run_type\": null, \"training_percent\": \"100\", \"start_time\": \"2021-01-05T19:28:05.948111Z\", \"end_time\": \"2021-01-05T19:28:35.83383Z\", \"created_time\": \"2021-01-05T19:28:05.84363Z\", \"created_time_dt\": \"2021-01-05T19:28:05.84363Z\", \"duration\": \"0:00:29\", \"iteration\": \"18\", \"goal\": \"r2_score_max\", \"run_name\": \"MinMaxScaler, RandomForest\", \"run_properties\": \"copy=True, feature_range=(0, 1\", \"primary_metric\": 0.19550609, \"best_metric\": 0.27361191}, {\"run_id\": \"AutoML_6000a046-d34b-4eac-887f-41b9609706dd_19\", \"run_number\": 22, \"metric\": null, \"status\": \"Completed\", \"run_type\": null, \"training_percent\": \"100\", \"start_time\": \"2021-01-05T19:28:37.303244Z\", \"end_time\": \"2021-01-05T19:29:05.440502Z\", \"created_time\": \"2021-01-05T19:28:37.199975Z\", \"created_time_dt\": \"2021-01-05T19:28:37.199975Z\", \"duration\": \"0:00:28\", \"iteration\": \"19\", \"goal\": \"r2_score_max\", \"run_name\": \"MaxAbsScaler, RandomForest\", \"run_properties\": \"copy=True\", \"primary_metric\": 0.2514672, \"best_metric\": 0.27361191}, {\"run_id\": \"AutoML_6000a046-d34b-4eac-887f-41b9609706dd_20\", \"run_number\": 23, \"metric\": null, \"status\": \"Completed\", \"run_type\": null, \"training_percent\": \"100\", \"start_time\": \"2021-01-05T19:29:06.871082Z\", \"end_time\": \"2021-01-05T19:29:34.912734Z\", \"created_time\": \"2021-01-05T19:29:06.763842Z\", \"created_time_dt\": \"2021-01-05T19:29:06.763842Z\", \"duration\": \"0:00:28\", \"iteration\": \"20\", \"goal\": \"r2_score_max\", \"run_name\": \"RobustScaler, ElasticNet\", \"run_properties\": \"copy=True, quantile_range=[10, 90], with_centering=True,\\n             with_scaling=False\", \"primary_metric\": 0.27215729, \"best_metric\": 0.27361191}, {\"run_id\": \"AutoML_6000a046-d34b-4eac-887f-41b9609706dd_21\", \"run_number\": 24, \"metric\": null, \"status\": \"Completed\", \"run_type\": null, \"training_percent\": \"100\", \"start_time\": \"2021-01-05T19:29:36.878203Z\", \"end_time\": \"2021-01-05T19:30:12.206615Z\", \"created_time\": \"2021-01-05T19:29:36.567633Z\", \"created_time_dt\": \"2021-01-05T19:29:36.567633Z\", \"duration\": \"0:00:35\", \"iteration\": \"21\", \"goal\": \"r2_score_max\", \"run_name\": \"StandardScalerWrapper, RandomForest\", \"run_properties\": \"<azureml.automl.runtime.shared.model_wrappers.StandardScalerWrapper object at 0x7f3d74b21c18\", \"primary_metric\": 0.25672684, \"best_metric\": 0.27361191}, {\"run_id\": \"AutoML_6000a046-d34b-4eac-887f-41b9609706dd_22\", \"run_number\": 25, \"metric\": null, \"status\": \"Completed\", \"run_type\": null, \"training_percent\": \"100\", \"start_time\": \"2021-01-05T19:30:13.677317Z\", \"end_time\": \"2021-01-05T19:30:57.41574Z\", \"created_time\": \"2021-01-05T19:30:13.564976Z\", \"created_time_dt\": \"2021-01-05T19:30:13.564976Z\", \"duration\": \"0:00:43\", \"iteration\": \"22\", \"goal\": \"r2_score_max\", \"run_name\": \"RobustScaler, LightGBM\", \"run_properties\": \"copy=True, quantile_range=[10, 90], with_centering=False,\\n             with_scaling=True\", \"primary_metric\": 0.20853849, \"best_metric\": 0.27361191}, {\"run_id\": \"AutoML_6000a046-d34b-4eac-887f-41b9609706dd_23\", \"run_number\": 26, \"metric\": null, \"status\": \"Completed\", \"run_type\": null, \"training_percent\": \"100\", \"start_time\": \"2021-01-05T19:31:00.572462Z\", \"end_time\": \"2021-01-05T19:31:40.361834Z\", \"created_time\": \"2021-01-05T19:31:00.130413Z\", \"created_time_dt\": \"2021-01-05T19:31:00.130413Z\", \"duration\": \"0:00:40\", \"iteration\": \"23\", \"goal\": \"r2_score_max\", \"run_name\": \"SparseNormalizer, XGBoostRegressor\", \"run_properties\": \"<azureml.automl.runtime.shared.model_wrappers.SparseNormalizer object at 0x7f3e19f2c6a0\", \"primary_metric\": 0.2545315, \"best_metric\": 0.27361191}, {\"run_id\": \"AutoML_6000a046-d34b-4eac-887f-41b9609706dd_24\", \"run_number\": 27, \"metric\": null, \"status\": \"Completed\", \"run_type\": null, \"training_percent\": \"100\", \"start_time\": \"2021-01-05T19:31:42.810327Z\", \"end_time\": \"2021-01-05T19:36:19.067249Z\", \"created_time\": \"2021-01-05T19:31:42.375152Z\", \"created_time_dt\": \"2021-01-05T19:31:42.375152Z\", \"duration\": \"0:04:36\", \"iteration\": \"24\", \"goal\": \"r2_score_max\", \"run_name\": \"MaxAbsScaler, ExtremeRandomTrees\", \"run_properties\": \"copy=True\", \"primary_metric\": 0.23194474, \"best_metric\": 0.27361191}, {\"run_id\": \"AutoML_6000a046-d34b-4eac-887f-41b9609706dd_25\", \"run_number\": 28, \"metric\": null, \"status\": \"Completed\", \"run_type\": null, \"training_percent\": \"100\", \"start_time\": \"2021-01-05T19:36:21.835037Z\", \"end_time\": \"2021-01-05T19:36:53.796166Z\", \"created_time\": \"2021-01-05T19:36:21.680158Z\", \"created_time_dt\": \"2021-01-05T19:36:21.680158Z\", \"duration\": \"0:00:32\", \"iteration\": \"25\", \"goal\": \"r2_score_max\", \"run_name\": \"RobustScaler, RandomForest\", \"run_properties\": \"copy=True, quantile_range=[10, 90], with_centering=False,\\n             with_scaling=True\", \"primary_metric\": 0.08808418, \"best_metric\": 0.27361191}, {\"run_id\": \"AutoML_6000a046-d34b-4eac-887f-41b9609706dd_26\", \"run_number\": 29, \"metric\": null, \"status\": \"Completed\", \"run_type\": null, \"training_percent\": \"100\", \"start_time\": \"2021-01-05T19:36:55.126887Z\", \"end_time\": \"2021-01-05T19:37:31.110494Z\", \"created_time\": \"2021-01-05T19:36:55.010522Z\", \"created_time_dt\": \"2021-01-05T19:36:55.010522Z\", \"duration\": \"0:00:36\", \"iteration\": \"26\", \"goal\": \"r2_score_max\", \"run_name\": \"RobustScaler, GradientBoosting\", \"run_properties\": \"copy=True, quantile_range=[10, 90], with_centering=False,\\n             with_scaling=False\", \"primary_metric\": 0.17675223, \"best_metric\": 0.27361191}, {\"run_id\": \"AutoML_6000a046-d34b-4eac-887f-41b9609706dd_27\", \"run_number\": 30, \"metric\": null, \"status\": \"Completed\", \"run_type\": null, \"training_percent\": \"100\", \"start_time\": \"2021-01-05T19:37:32.43345Z\", \"end_time\": \"2021-01-05T19:38:04.958428Z\", \"created_time\": \"2021-01-05T19:37:32.323302Z\", \"created_time_dt\": \"2021-01-05T19:37:32.323302Z\", \"duration\": \"0:00:32\", \"iteration\": \"27\", \"goal\": \"r2_score_max\", \"run_name\": \"MinMaxScaler, ExtremeRandomTrees\", \"run_properties\": \"copy=True, feature_range=(0, 1\", \"primary_metric\": 0.25890412, \"best_metric\": 0.27361191}, {\"run_id\": \"AutoML_6000a046-d34b-4eac-887f-41b9609706dd_28\", \"run_number\": 31, \"metric\": null, \"status\": \"Completed\", \"run_type\": null, \"training_percent\": \"100\", \"start_time\": \"2021-01-05T19:38:06.443999Z\", \"end_time\": \"2021-01-05T19:38:37.06273Z\", \"created_time\": \"2021-01-05T19:38:06.316035Z\", \"created_time_dt\": \"2021-01-05T19:38:06.316035Z\", \"duration\": \"0:00:30\", \"iteration\": \"28\", \"goal\": \"r2_score_max\", \"run_name\": \"StandardScalerWrapper, XGBoostRegressor\", \"run_properties\": \"<azureml.automl.runtime.shared.model_wrappers.StandardScalerWrapper object at 0x7f3e19c84978\", \"primary_metric\": 0.25330976, \"best_metric\": 0.27361191}, {\"run_id\": \"AutoML_6000a046-d34b-4eac-887f-41b9609706dd_29\", \"run_number\": 32, \"metric\": null, \"status\": \"Completed\", \"run_type\": null, \"training_percent\": \"100\", \"start_time\": \"2021-01-05T19:38:38.445269Z\", \"end_time\": \"2021-01-05T19:39:17.008534Z\", \"created_time\": \"2021-01-05T19:38:38.306553Z\", \"created_time_dt\": \"2021-01-05T19:38:38.306553Z\", \"duration\": \"0:00:38\", \"iteration\": \"29\", \"goal\": \"r2_score_max\", \"run_name\": \"RobustScaler, GradientBoosting\", \"run_properties\": \"copy=True, quantile_range=[25, 75], with_centering=False,\\n             with_scaling=False\", \"primary_metric\": 0.2356511, \"best_metric\": 0.27361191}, {\"run_id\": \"AutoML_6000a046-d34b-4eac-887f-41b9609706dd_30\", \"run_number\": 33, \"metric\": null, \"status\": \"Completed\", \"run_type\": null, \"training_percent\": \"100\", \"start_time\": \"2021-01-05T19:39:19.242951Z\", \"end_time\": \"2021-01-05T19:39:50.883016Z\", \"created_time\": \"2021-01-05T19:39:19.141078Z\", \"created_time_dt\": \"2021-01-05T19:39:19.141078Z\", \"duration\": \"0:00:31\", \"iteration\": \"30\", \"goal\": \"r2_score_max\", \"run_name\": \"SparseNormalizer, RandomForest\", \"run_properties\": \"<azureml.automl.runtime.shared.model_wrappers.SparseNormalizer object at 0x7f3d670c0588\", \"primary_metric\": 0.24713519, \"best_metric\": 0.27361191}, {\"run_id\": \"AutoML_6000a046-d34b-4eac-887f-41b9609706dd_31\", \"run_number\": 34, \"metric\": null, \"status\": \"Completed\", \"run_type\": null, \"training_percent\": \"100\", \"start_time\": \"2021-01-05T19:39:52.24081Z\", \"end_time\": \"2021-01-05T19:40:20.798437Z\", \"created_time\": \"2021-01-05T19:39:52.139367Z\", \"created_time_dt\": \"2021-01-05T19:39:52.139367Z\", \"duration\": \"0:00:28\", \"iteration\": \"31\", \"goal\": \"r2_score_max\", \"run_name\": \"MaxAbsScaler, SGD\", \"run_properties\": \"copy=True\", \"primary_metric\": 0.25792242, \"best_metric\": 0.27361191}, {\"run_id\": \"AutoML_6000a046-d34b-4eac-887f-41b9609706dd_32\", \"run_number\": 35, \"metric\": null, \"status\": \"Completed\", \"run_type\": null, \"training_percent\": \"100\", \"start_time\": \"2021-01-05T19:40:22.091299Z\", \"end_time\": \"2021-01-05T19:40:48.978341Z\", \"created_time\": \"2021-01-05T19:40:21.979431Z\", \"created_time_dt\": \"2021-01-05T19:40:21.979431Z\", \"duration\": \"0:00:26\", \"iteration\": \"32\", \"goal\": \"r2_score_max\", \"run_name\": \"StandardScalerWrapper, DecisionTree\", \"run_properties\": \"<azureml.automl.runtime.shared.model_wrappers.StandardScalerWrapper object at 0x7f3d632d8320\", \"primary_metric\": 0.15794942, \"best_metric\": 0.27361191}, {\"run_id\": \"AutoML_6000a046-d34b-4eac-887f-41b9609706dd_33\", \"run_number\": 36, \"metric\": null, \"status\": \"Completed\", \"run_type\": null, \"training_percent\": \"100\", \"start_time\": \"2021-01-05T19:40:50.268881Z\", \"end_time\": \"2021-01-05T19:41:17.592554Z\", \"created_time\": \"2021-01-05T19:40:50.17097Z\", \"created_time_dt\": \"2021-01-05T19:40:50.17097Z\", \"duration\": \"0:00:27\", \"iteration\": \"33\", \"goal\": \"r2_score_max\", \"run_name\": \"MinMaxScaler, LightGBM\", \"run_properties\": \"copy=True, feature_range=(0, 1\", \"primary_metric\": 0.23730136, \"best_metric\": 0.27361191}, {\"run_id\": \"AutoML_6000a046-d34b-4eac-887f-41b9609706dd_34\", \"run_number\": 37, \"metric\": null, \"status\": \"Completed\", \"run_type\": null, \"training_percent\": \"100\", \"start_time\": \"2021-01-05T19:41:18.88219Z\", \"end_time\": \"2021-01-05T19:41:48.368265Z\", \"created_time\": \"2021-01-05T19:41:18.764554Z\", \"created_time_dt\": \"2021-01-05T19:41:18.764554Z\", \"duration\": \"0:00:29\", \"iteration\": \"34\", \"goal\": \"r2_score_max\", \"run_name\": \"StandardScalerWrapper, RandomForest\", \"run_properties\": \"<azureml.automl.runtime.shared.model_wrappers.StandardScalerWrapper object at 0x7f3d632b33c8\", \"primary_metric\": 0.22769139, \"best_metric\": 0.27361191}, {\"run_id\": \"AutoML_6000a046-d34b-4eac-887f-41b9609706dd_35\", \"run_number\": 38, \"metric\": null, \"status\": \"Completed\", \"run_type\": null, \"training_percent\": \"100\", \"start_time\": \"2021-01-05T19:41:51.422071Z\", \"end_time\": \"2021-01-05T19:42:37.552046Z\", \"created_time\": \"2021-01-05T19:41:51.298392Z\", \"created_time_dt\": \"2021-01-05T19:41:51.298392Z\", \"duration\": \"0:00:46\", \"iteration\": \"35\", \"goal\": \"r2_score_max\", \"run_name\": \"MinMaxScaler, RandomForest\", \"run_properties\": \"copy=True, feature_range=(0, 1\", \"primary_metric\": 0.24783027, \"best_metric\": 0.27361191}, {\"run_id\": \"AutoML_6000a046-d34b-4eac-887f-41b9609706dd_36\", \"run_number\": 39, \"metric\": null, \"status\": \"Completed\", \"run_type\": null, \"training_percent\": \"100\", \"start_time\": \"2021-01-05T19:42:39.198812Z\", \"end_time\": \"2021-01-05T19:43:09.673436Z\", \"created_time\": \"2021-01-05T19:42:39.095044Z\", \"created_time_dt\": \"2021-01-05T19:42:39.095044Z\", \"duration\": \"0:00:30\", \"iteration\": \"36\", \"goal\": \"r2_score_max\", \"run_name\": \"SparseNormalizer, XGBoostRegressor\", \"run_properties\": \"<azureml.automl.runtime.shared.model_wrappers.SparseNormalizer object at 0x7f3d6ec16f60\", \"primary_metric\": 0.2712426, \"best_metric\": 0.27361191}, {\"run_id\": \"AutoML_6000a046-d34b-4eac-887f-41b9609706dd_37\", \"run_number\": 40, \"metric\": null, \"status\": \"Completed\", \"run_type\": null, \"training_percent\": \"100\", \"start_time\": \"2021-01-05T19:43:14.340135Z\", \"end_time\": \"2021-01-05T19:43:51.482706Z\", \"created_time\": \"2021-01-05T19:43:14.223275Z\", \"created_time_dt\": \"2021-01-05T19:43:14.223275Z\", \"duration\": \"0:00:37\", \"iteration\": \"37\", \"goal\": \"r2_score_max\", \"run_name\": \"RobustScaler, ElasticNet\", \"run_properties\": \"copy=True, quantile_range=[10, 90], with_centering=True,\\n             with_scaling=False\", \"primary_metric\": 0.27238539, \"best_metric\": 0.27361191}, {\"run_id\": \"AutoML_6000a046-d34b-4eac-887f-41b9609706dd_38\", \"run_number\": 41, \"metric\": null, \"status\": \"Completed\", \"run_type\": null, \"training_percent\": \"100\", \"start_time\": \"2021-01-05T19:43:52.802039Z\", \"end_time\": \"2021-01-05T19:44:22.092024Z\", \"created_time\": \"2021-01-05T19:43:52.70255Z\", \"created_time_dt\": \"2021-01-05T19:43:52.70255Z\", \"duration\": \"0:00:29\", \"iteration\": \"38\", \"goal\": \"r2_score_max\", \"run_name\": \"RobustScaler, ElasticNet\", \"run_properties\": \"copy=True, quantile_range=[25, 75], with_centering=False,\\n             with_scaling=True\", \"primary_metric\": 0.26894535, \"best_metric\": 0.27361191}, {\"run_id\": \"AutoML_6000a046-d34b-4eac-887f-41b9609706dd_39\", \"run_number\": 42, \"metric\": null, \"status\": \"Failed\", \"run_type\": null, \"training_percent\": \"100\", \"start_time\": \"2021-01-05T19:44:24.196754Z\", \"end_time\": \"2021-01-05T19:47:26.101156Z\", \"created_time\": \"2021-01-05T19:44:24.101095Z\", \"created_time_dt\": \"2021-01-05T19:44:24.101095Z\", \"duration\": \"0:03:02\", \"iteration\": \"39\", \"goal\": \"r2_score_max\", \"run_name\": \"StandardScalerWrapper, ExtremeRandomTrees\", \"run_properties\": \"\"}, {\"run_id\": \"AutoML_6000a046-d34b-4eac-887f-41b9609706dd_40\", \"run_number\": 43, \"metric\": null, \"status\": \"Completed\", \"run_type\": null, \"training_percent\": \"100\", \"start_time\": \"2021-01-05T19:47:26.492409Z\", \"end_time\": \"2021-01-05T19:48:52.183391Z\", \"created_time\": \"2021-01-05T19:47:26.381057Z\", \"created_time_dt\": \"2021-01-05T19:47:26.381057Z\", \"duration\": \"0:01:25\", \"iteration\": \"40\", \"goal\": \"r2_score_max\", \"run_name\": \"VotingEnsemble\", \"run_properties\": \"estimators=[('10',\\n                                          Pipeline(memory=None,\\n                                                   steps=[('minmaxscaler',\\n                                                           MinMaxScaler(copy=True,\\n                                                                        feature_range=(0,\\n                                                                                       1\", \"primary_metric\": 0.3090176, \"best_metric\": 0.3090176}, {\"run_id\": \"AutoML_6000a046-d34b-4eac-887f-41b9609706dd_41\", \"run_number\": 44, \"metric\": null, \"status\": \"Completed\", \"run_type\": null, \"training_percent\": \"100\", \"start_time\": \"2021-01-05T19:48:52.789397Z\", \"end_time\": \"2021-01-05T19:50:18.475301Z\", \"created_time\": \"2021-01-05T19:48:52.688622Z\", \"created_time_dt\": \"2021-01-05T19:48:52.688622Z\", \"duration\": \"0:01:25\", \"iteration\": \"41\", \"goal\": \"r2_score_max\", \"run_name\": \"StackEnsemble\", \"run_properties\": \"base_learners=[('10',\\n                                       Pipeline(memory=None,\\n                                                steps=[('minmaxscaler',\\n                                                        MinMaxScaler(copy=True,\\n                                                                     feature_range=(0,\\n                                                                                    1\", \"primary_metric\": 0.30122193, \"best_metric\": 0.3090176}], \"children_metrics\": {\"categories\": [0], \"series\": {\"normalized_median_absolute_error\": [{\"categories\": [\"0\", \"1\", \"2\", \"3\", \"4\", \"5\", \"6\", \"7\", \"8\", \"9\", \"10\", \"11\", \"12\", \"13\", \"14\", \"15\", \"16\", \"17\", \"18\", \"19\", \"20\", \"21\", \"22\", \"23\", \"24\", \"25\", \"26\", \"27\", \"28\", \"29\", \"30\", \"31\", \"32\", \"33\", \"34\", \"35\", \"36\", \"37\", \"38\", \"40\", \"41\"], \"mode\": \"markers\", \"name\": \"normalized_median_absolute_error\", \"stepped\": false, \"type\": \"scatter\", \"data\": [0.037521406185927336, 0.036853188770573315, 0.03568205693872963, 0.03745755955859941, 0.0388931458170821, 0.03736153424246837, 0.038032202909755085, 0.036948195201594654, 0.03718907049231655, 0.03726852545731598, 0.03804043575671802, 0.03816442386194947, 0.03415674767843107, 0.03735845703179326, 0.0368688628444726, 0.042075510740267566, 0.037507570936341064, 0.03744652737878722, 0.04119321885921827, 0.03661776383597577, 0.03757618355007705, 0.03918841754921844, 0.03970809335240364, 0.035572826106373856, 0.033259146341463416, 0.04797408365901094, 0.03686397968126114, 0.037888554508427326, 0.03688721726580364, 0.03911459801506735, 0.038068988155208615, 0.03718616575490668, 0.0392812340185314, 0.0385425195568403, 0.039770613485514104, 0.03941777408233306, 0.037032098537538104, 0.03756565357571421, 0.037323736896484765, 0.03619495480728396, 0.036572334373903205]}, {\"categories\": [\"0\", \"1\", \"2\", \"3\", \"4\", \"5\", \"6\", \"7\", \"8\", \"9\", \"10\", \"11\", \"12\", \"13\", \"14\", \"15\", \"16\", \"17\", \"18\", \"19\", \"20\", \"21\", \"22\", \"23\", \"24\", \"25\", \"26\", \"27\", \"28\", \"29\", \"30\", \"31\", \"32\", \"33\", \"34\", \"35\", \"36\", \"37\", \"38\", \"40\", \"41\"], \"mode\": \"lines\", \"name\": \"normalized_median_absolute_error_min\", \"stepped\": true, \"type\": \"scatter\", \"data\": [0.037521406185927336, 0.036853188770573315, 0.03568205693872963, 0.03568205693872963, 0.03568205693872963, 0.03568205693872963, 0.03568205693872963, 0.03568205693872963, 0.03568205693872963, 0.03568205693872963, 0.03568205693872963, 0.03568205693872963, 0.03415674767843107, 0.03415674767843107, 0.03415674767843107, 0.03415674767843107, 0.03415674767843107, 0.03415674767843107, 0.03415674767843107, 0.03415674767843107, 0.03415674767843107, 0.03415674767843107, 0.03415674767843107, 0.03415674767843107, 0.033259146341463416, 0.033259146341463416, 0.033259146341463416, 0.033259146341463416, 0.033259146341463416, 0.033259146341463416, 0.033259146341463416, 0.033259146341463416, 0.033259146341463416, 0.033259146341463416, 0.033259146341463416, 0.033259146341463416, 0.033259146341463416, 0.033259146341463416, 0.033259146341463416, 0.033259146341463416, 0.033259146341463416]}], \"root_mean_squared_log_error\": [{\"categories\": [\"0\", \"1\", \"2\", \"3\", \"4\", \"5\", \"6\", \"7\", \"8\", \"9\", \"10\", \"11\", \"12\", \"13\", \"14\", \"15\", \"16\", \"17\", \"18\", \"19\", \"20\", \"21\", \"22\", \"23\", \"24\", \"25\", \"26\", \"27\", \"28\", \"29\", \"30\", \"31\", \"32\", \"33\", \"34\", \"35\", \"36\", \"37\", \"38\", \"40\", \"41\"], \"mode\": \"markers\", \"name\": \"root_mean_squared_log_error\", \"stepped\": false, \"type\": \"scatter\", \"data\": [0.512087361099195, 0.4975381649882415, 0.49791004885990364, 0.5006560598691073, 0.5152837603331772, 0.5121000469757336, 0.5072121724295993, 0.49696754104165103, 0.4979948199671595, 0.5094752407062579, 0.5001092193424979, 0.508961157989517, 0.48718572889180456, 0.5121346179175628, 0.5055429223519564, 0.5382335478532894, 0.49795455363638236, 0.5103750359378669, 0.5334355528898176, 0.5043445068468524, 0.5050948588789522, 0.508757050488165, 0.5185395034890468, 0.49119094509452343, 0.4874981771846052, 0.5754009089653489, 0.508494045941055, 0.5028380476961468, 0.497319893529073, 0.5129572126201265, 0.506228068421179, 0.509281900810308, 0.5296579509800755, 0.5140130466061091, 0.5220194922612342, 0.5135298226420535, 0.5012069910820369, 0.5043857734196471, 0.5117185880977899, 0.4839555588667367, 0.486507592088847]}, {\"categories\": [\"0\", \"1\", \"2\", \"3\", \"4\", \"5\", \"6\", \"7\", \"8\", \"9\", \"10\", \"11\", \"12\", \"13\", \"14\", \"15\", \"16\", \"17\", \"18\", \"19\", \"20\", \"21\", \"22\", \"23\", \"24\", \"25\", \"26\", \"27\", \"28\", \"29\", \"30\", \"31\", \"32\", \"33\", \"34\", \"35\", \"36\", \"37\", \"38\", \"40\", \"41\"], \"mode\": \"lines\", \"name\": \"root_mean_squared_log_error_min\", \"stepped\": true, \"type\": \"scatter\", \"data\": [0.512087361099195, 0.4975381649882415, 0.4975381649882415, 0.4975381649882415, 0.4975381649882415, 0.4975381649882415, 0.4975381649882415, 0.49696754104165103, 0.49696754104165103, 0.49696754104165103, 0.49696754104165103, 0.49696754104165103, 0.48718572889180456, 0.48718572889180456, 0.48718572889180456, 0.48718572889180456, 0.48718572889180456, 0.48718572889180456, 0.48718572889180456, 0.48718572889180456, 0.48718572889180456, 0.48718572889180456, 0.48718572889180456, 0.48718572889180456, 0.48718572889180456, 0.48718572889180456, 0.48718572889180456, 0.48718572889180456, 0.48718572889180456, 0.48718572889180456, 0.48718572889180456, 0.48718572889180456, 0.48718572889180456, 0.48718572889180456, 0.48718572889180456, 0.48718572889180456, 0.48718572889180456, 0.48718572889180456, 0.48718572889180456, 0.4839555588667367, 0.4839555588667367]}], \"normalized_root_mean_squared_log_error\": [{\"categories\": [\"0\", \"1\", \"2\", \"3\", \"4\", \"5\", \"6\", \"7\", \"8\", \"9\", \"10\", \"11\", \"12\", \"13\", \"14\", \"15\", \"16\", \"17\", \"18\", \"19\", \"20\", \"21\", \"22\", \"23\", \"24\", \"25\", \"26\", \"27\", \"28\", \"29\", \"30\", \"31\", \"32\", \"33\", \"34\", \"35\", \"36\", \"37\", \"38\", \"40\", \"41\"], \"mode\": \"markers\", \"name\": \"normalized_root_mean_squared_log_error\", \"stepped\": false, \"type\": \"scatter\", \"data\": [0.12080592733716555, 0.1173736435869452, 0.11746137427391516, 0.11810918250283306, 0.12155998612270595, 0.12080892004738607, 0.11965582730948673, 0.11723902836254149, 0.11748137252616934, 0.12018970508612674, 0.11798017799707687, 0.12006842843678593, 0.11493141255795761, 0.12081707563763071, 0.11926203648607255, 0.12697404351636427, 0.11747187334341358, 0.12040197472139906, 0.12584215416514674, 0.11897931969314375, 0.11915633435890814, 0.12002027767609466, 0.12232804466309288, 0.11587627840373187, 0.11500512186739198, 0.13574215198164602, 0.11995823258257914, 0.11862393268592313, 0.11732215142361686, 0.12101113298685437, 0.11942366848979191, 0.1201440944985673, 0.12495098453964089, 0.1212602135412288, 0.12314900472319792, 0.1211462167439558, 0.11823915203758997, 0.11898905484181797, 0.12071893053194074, 0.11416938694479387, 0.11477143410200256]}, {\"categories\": [\"0\", \"1\", \"2\", \"3\", \"4\", \"5\", \"6\", \"7\", \"8\", \"9\", \"10\", \"11\", \"12\", \"13\", \"14\", \"15\", \"16\", \"17\", \"18\", \"19\", \"20\", \"21\", \"22\", \"23\", \"24\", \"25\", \"26\", \"27\", \"28\", \"29\", \"30\", \"31\", \"32\", \"33\", \"34\", \"35\", \"36\", \"37\", \"38\", \"40\", \"41\"], \"mode\": \"lines\", \"name\": \"normalized_root_mean_squared_log_error_min\", \"stepped\": true, \"type\": \"scatter\", \"data\": [0.12080592733716555, 0.1173736435869452, 0.1173736435869452, 0.1173736435869452, 0.1173736435869452, 0.1173736435869452, 0.1173736435869452, 0.11723902836254149, 0.11723902836254149, 0.11723902836254149, 0.11723902836254149, 0.11723902836254149, 0.11493141255795761, 0.11493141255795761, 0.11493141255795761, 0.11493141255795761, 0.11493141255795761, 0.11493141255795761, 0.11493141255795761, 0.11493141255795761, 0.11493141255795761, 0.11493141255795761, 0.11493141255795761, 0.11493141255795761, 0.11493141255795761, 0.11493141255795761, 0.11493141255795761, 0.11493141255795761, 0.11493141255795761, 0.11493141255795761, 0.11493141255795761, 0.11493141255795761, 0.11493141255795761, 0.11493141255795761, 0.11493141255795761, 0.11493141255795761, 0.11493141255795761, 0.11493141255795761, 0.11493141255795761, 0.11416938694479387, 0.11416938694479387]}], \"normalized_mean_absolute_error\": [{\"categories\": [\"0\", \"1\", \"2\", \"3\", \"4\", \"5\", \"6\", \"7\", \"8\", \"9\", \"10\", \"11\", \"12\", \"13\", \"14\", \"15\", \"16\", \"17\", \"18\", \"19\", \"20\", \"21\", \"22\", \"23\", \"24\", \"25\", \"26\", \"27\", \"28\", \"29\", \"30\", \"31\", \"32\", \"33\", \"34\", \"35\", \"36\", \"37\", \"38\", \"40\", \"41\"], \"mode\": \"markers\", \"name\": \"normalized_mean_absolute_error\", \"stepped\": false, \"type\": \"scatter\", \"data\": [0.0531084627347293, 0.0508303999460172, 0.05187896054197664, 0.0508751314484881, 0.05414838490449005, 0.051192846992165066, 0.0516607838818395, 0.05225599339182816, 0.05136873436334684, 0.05107000767709423, 0.0509107696609775, 0.05168716825694564, 0.04963029825007209, 0.051191661476781225, 0.05264482654386545, 0.05496925915989544, 0.051309343893985504, 0.05109598625011922, 0.05435304274063557, 0.05144731380702737, 0.05101469616351767, 0.05147622237030449, 0.05381669251688655, 0.05079629302712348, 0.04935602903616077, 0.05960405471700937, 0.05209150454400545, 0.05161375307215303, 0.051414272137100404, 0.05250141062975451, 0.05177732272746573, 0.05147643486667305, 0.05489189747185926, 0.05201545580732062, 0.052886082835568025, 0.051962814454084946, 0.05084662963277946, 0.05100085152488293, 0.0511573215412607, 0.049399821488358524, 0.04979621136851287]}, {\"categories\": [\"0\", \"1\", \"2\", \"3\", \"4\", \"5\", \"6\", \"7\", \"8\", \"9\", \"10\", \"11\", \"12\", \"13\", \"14\", \"15\", \"16\", \"17\", \"18\", \"19\", \"20\", \"21\", \"22\", \"23\", \"24\", \"25\", \"26\", \"27\", \"28\", \"29\", \"30\", \"31\", \"32\", \"33\", \"34\", \"35\", \"36\", \"37\", \"38\", \"40\", \"41\"], \"mode\": \"lines\", \"name\": \"normalized_mean_absolute_error_min\", \"stepped\": true, \"type\": \"scatter\", \"data\": [0.0531084627347293, 0.0508303999460172, 0.0508303999460172, 0.0508303999460172, 0.0508303999460172, 0.0508303999460172, 0.0508303999460172, 0.0508303999460172, 0.0508303999460172, 0.0508303999460172, 0.0508303999460172, 0.0508303999460172, 0.04963029825007209, 0.04963029825007209, 0.04963029825007209, 0.04963029825007209, 0.04963029825007209, 0.04963029825007209, 0.04963029825007209, 0.04963029825007209, 0.04963029825007209, 0.04963029825007209, 0.04963029825007209, 0.04963029825007209, 0.04935602903616077, 0.04935602903616077, 0.04935602903616077, 0.04935602903616077, 0.04935602903616077, 0.04935602903616077, 0.04935602903616077, 0.04935602903616077, 0.04935602903616077, 0.04935602903616077, 0.04935602903616077, 0.04935602903616077, 0.04935602903616077, 0.04935602903616077, 0.04935602903616077, 0.04935602903616077, 0.04935602903616077]}], \"spearman_correlation\": [{\"categories\": [\"0\", \"1\", \"2\", \"3\", \"4\", \"5\", \"6\", \"7\", \"8\", \"9\", \"10\", \"11\", \"12\", \"13\", \"14\", \"15\", \"16\", \"17\", \"18\", \"19\", \"20\", \"21\", \"22\", \"23\", \"24\", \"25\", \"26\", \"27\", \"28\", \"29\", \"30\", \"31\", \"32\", \"33\", \"34\", \"35\", \"36\", \"37\", \"38\", \"40\", \"41\"], \"mode\": \"markers\", \"name\": \"spearman_correlation\", \"stepped\": false, \"type\": \"scatter\", \"data\": [0.5233352398308814, 0.5568111748335415, 0.5608186555398322, 0.5569120482671608, 0.5276830216722518, 0.5609421561562847, 0.5325166659674874, 0.554077653632252, 0.5515925961019569, 0.5620340400485839, 0.5662508367745869, 0.5498262232525193, 0.5450343912471738, 0.5608779084907305, 0.5325240523992909, 0.4635199504466635, 0.5536350729933679, 0.5614440206452808, 0.47276012531402645, 0.5430033427607334, 0.562221090511054, 0.557478132171214, 0.5262393722044028, 0.5605473443901672, 0.5533561343701557, 0.4366113402655136, 0.5367484395291603, 0.5458265843104184, 0.5449685522709863, 0.5252312341112867, 0.5354880812096698, 0.5475687461330458, 0.4743414893442357, 0.5309575486016864, 0.5391096419595641, 0.5565364265842779, 0.557700665388764, 0.5621065806623995, 0.5611124550652968, 0.5889748920006962, 0.585206704342641]}, {\"categories\": [\"0\", \"1\", \"2\", \"3\", \"4\", \"5\", \"6\", \"7\", \"8\", \"9\", \"10\", \"11\", \"12\", \"13\", \"14\", \"15\", \"16\", \"17\", \"18\", \"19\", \"20\", \"21\", \"22\", \"23\", \"24\", \"25\", \"26\", \"27\", \"28\", \"29\", \"30\", \"31\", \"32\", \"33\", \"34\", \"35\", \"36\", \"37\", \"38\", \"40\", \"41\"], \"mode\": \"lines\", \"name\": \"spearman_correlation_max\", \"stepped\": true, \"type\": \"scatter\", \"data\": [0.5233352398308814, 0.5568111748335415, 0.5608186555398322, 0.5608186555398322, 0.5608186555398322, 0.5609421561562847, 0.5609421561562847, 0.5609421561562847, 0.5609421561562847, 0.5620340400485839, 0.5662508367745869, 0.5662508367745869, 0.5662508367745869, 0.5662508367745869, 0.5662508367745869, 0.5662508367745869, 0.5662508367745869, 0.5662508367745869, 0.5662508367745869, 0.5662508367745869, 0.5662508367745869, 0.5662508367745869, 0.5662508367745869, 0.5662508367745869, 0.5662508367745869, 0.5662508367745869, 0.5662508367745869, 0.5662508367745869, 0.5662508367745869, 0.5662508367745869, 0.5662508367745869, 0.5662508367745869, 0.5662508367745869, 0.5662508367745869, 0.5662508367745869, 0.5662508367745869, 0.5662508367745869, 0.5662508367745869, 0.5662508367745869, 0.5889748920006962, 0.5889748920006962]}], \"root_mean_squared_error\": [{\"categories\": [\"0\", \"1\", \"2\", \"3\", \"4\", \"5\", \"6\", \"7\", \"8\", \"9\", \"10\", \"11\", \"12\", \"13\", \"14\", \"15\", \"16\", \"17\", \"18\", \"19\", \"20\", \"21\", \"22\", \"23\", \"24\", \"25\", \"26\", \"27\", \"28\", \"29\", \"30\", \"31\", \"32\", \"33\", \"34\", \"35\", \"36\", \"37\", \"38\", \"40\", \"41\"], \"mode\": \"markers\", \"name\": \"root_mean_squared_error\", \"stepped\": false, \"type\": \"scatter\", \"data\": [32.20586135509366, 31.514554522525078, 32.15394846591124, 31.497847050800697, 32.97744662344881, 31.49470907599782, 31.9085888200678, 32.09490546760565, 31.68345898151269, 31.442009260798198, 31.402764044011974, 31.832767382364608, 32.05089473316539, 31.49477771527568, 32.50095340906359, 33.40653636361567, 31.554326808656224, 31.441150122053877, 33.002761802297435, 31.82336827489441, 31.40915171688942, 31.767229070894224, 32.599118793271884, 31.798538784616255, 32.3147498056309, 35.083288615103726, 33.40832622773085, 31.70840297347072, 31.79277315704199, 32.16698908607164, 31.921549163496998, 31.71556077506434, 33.60347961409967, 32.13787581260148, 32.34854881761224, 31.949211389902178, 31.428432243588254, 31.404803893152984, 31.47124382728982, 30.624883479490496, 30.785366554837104]}, {\"categories\": [\"0\", \"1\", \"2\", \"3\", \"4\", \"5\", \"6\", \"7\", \"8\", \"9\", \"10\", \"11\", \"12\", \"13\", \"14\", \"15\", \"16\", \"17\", \"18\", \"19\", \"20\", \"21\", \"22\", \"23\", \"24\", \"25\", \"26\", \"27\", \"28\", \"29\", \"30\", \"31\", \"32\", \"33\", \"34\", \"35\", \"36\", \"37\", \"38\", \"40\", \"41\"], \"mode\": \"lines\", \"name\": \"root_mean_squared_error_min\", \"stepped\": true, \"type\": \"scatter\", \"data\": [32.20586135509366, 31.514554522525078, 31.514554522525078, 31.497847050800697, 31.497847050800697, 31.49470907599782, 31.49470907599782, 31.49470907599782, 31.49470907599782, 31.442009260798198, 31.402764044011974, 31.402764044011974, 31.402764044011974, 31.402764044011974, 31.402764044011974, 31.402764044011974, 31.402764044011974, 31.402764044011974, 31.402764044011974, 31.402764044011974, 31.402764044011974, 31.402764044011974, 31.402764044011974, 31.402764044011974, 31.402764044011974, 31.402764044011974, 31.402764044011974, 31.402764044011974, 31.402764044011974, 31.402764044011974, 31.402764044011974, 31.402764044011974, 31.402764044011974, 31.402764044011974, 31.402764044011974, 31.402764044011974, 31.402764044011974, 31.402764044011974, 31.402764044011974, 30.624883479490496, 30.624883479490496]}], \"median_absolute_error\": [{\"categories\": [\"0\", \"1\", \"2\", \"3\", \"4\", \"5\", \"6\", \"7\", \"8\", \"9\", \"10\", \"11\", \"12\", \"13\", \"14\", \"15\", \"16\", \"17\", \"18\", \"19\", \"20\", \"21\", \"22\", \"23\", \"24\", \"25\", \"26\", \"27\", \"28\", \"29\", \"30\", \"31\", \"32\", \"33\", \"34\", \"35\", \"36\", \"37\", \"38\", \"40\", \"41\"], \"mode\": \"markers\", \"name\": \"median_absolute_error\", \"stepped\": false, \"type\": \"scatter\", \"data\": [15.38377653623021, 15.109807395935059, 14.62964334487915, 15.35759941902576, 15.946189785003662, 15.318229039412032, 15.593203192999585, 15.148760032653808, 15.247518901849784, 15.280095437499558, 15.596578660254385, 15.647413783399283, 14.004266548156739, 15.316967383035234, 15.116233766233767, 17.250959403509704, 15.378104083899839, 15.353076225302761, 16.889219732279493, 15.013283172750068, 15.406235255531593, 16.06725119517956, 16.28031827448549, 14.584858703613282, 13.63625, 19.669374300194484, 15.11423166931707, 15.534307348455204, 15.123759078979493, 16.036985186177613, 15.608285143635532, 15.246327959511737, 16.105305947597877, 15.802433018304521, 16.305951529060785, 16.161287373756554, 15.183160400390625, 15.401917966042825, 15.302732127558752, 14.839931470986425, 14.994657093300315]}, {\"categories\": [\"0\", \"1\", \"2\", \"3\", \"4\", \"5\", \"6\", \"7\", \"8\", \"9\", \"10\", \"11\", \"12\", \"13\", \"14\", \"15\", \"16\", \"17\", \"18\", \"19\", \"20\", \"21\", \"22\", \"23\", \"24\", \"25\", \"26\", \"27\", \"28\", \"29\", \"30\", \"31\", \"32\", \"33\", \"34\", \"35\", \"36\", \"37\", \"38\", \"40\", \"41\"], \"mode\": \"lines\", \"name\": \"median_absolute_error_min\", \"stepped\": true, \"type\": \"scatter\", \"data\": [15.38377653623021, 15.109807395935059, 14.62964334487915, 14.62964334487915, 14.62964334487915, 14.62964334487915, 14.62964334487915, 14.62964334487915, 14.62964334487915, 14.62964334487915, 14.62964334487915, 14.62964334487915, 14.004266548156739, 14.004266548156739, 14.004266548156739, 14.004266548156739, 14.004266548156739, 14.004266548156739, 14.004266548156739, 14.004266548156739, 14.004266548156739, 14.004266548156739, 14.004266548156739, 14.004266548156739, 13.63625, 13.63625, 13.63625, 13.63625, 13.63625, 13.63625, 13.63625, 13.63625, 13.63625, 13.63625, 13.63625, 13.63625, 13.63625, 13.63625, 13.63625, 13.63625, 13.63625]}], \"mean_absolute_error\": [{\"categories\": [\"0\", \"1\", \"2\", \"3\", \"4\", \"5\", \"6\", \"7\", \"8\", \"9\", \"10\", \"11\", \"12\", \"13\", \"14\", \"15\", \"16\", \"17\", \"18\", \"19\", \"20\", \"21\", \"22\", \"23\", \"24\", \"25\", \"26\", \"27\", \"28\", \"29\", \"30\", \"31\", \"32\", \"33\", \"34\", \"35\", \"36\", \"37\", \"38\", \"40\", \"41\"], \"mode\": \"markers\", \"name\": \"mean_absolute_error\", \"stepped\": false, \"type\": \"scatter\", \"data\": [21.77446972123901, 20.840463977867053, 21.270373822210423, 20.858803893880115, 22.200837810840927, 20.98906726678768, 21.1809213915542, 21.42495729064954, 21.0611810889722, 20.93870314760864, 20.873415561000776, 21.191738985347712, 20.34842228252956, 20.988581205480305, 21.584378882984836, 22.53739625555713, 21.036830996534057, 20.94935436254888, 22.284747523660585, 21.093398660881224, 20.916025427042243, 21.105251171824843, 22.064843931923484, 20.82648014112063, 20.23597190482592, 24.43766243397384, 21.357516863042232, 21.161638759582743, 21.079851576211166, 21.525578358199347, 21.22870231826095, 21.105338295335944, 22.5056779634623, 21.326336881001456, 21.683293962582884, 21.304753926174833, 20.84711814943958, 20.910349125202004, 20.97450183191689, 20.253926810226993, 20.416446661090283]}, {\"categories\": [\"0\", \"1\", \"2\", \"3\", \"4\", \"5\", \"6\", \"7\", \"8\", \"9\", \"10\", \"11\", \"12\", \"13\", \"14\", \"15\", \"16\", \"17\", \"18\", \"19\", \"20\", \"21\", \"22\", \"23\", \"24\", \"25\", \"26\", \"27\", \"28\", \"29\", \"30\", \"31\", \"32\", \"33\", \"34\", \"35\", \"36\", \"37\", \"38\", \"40\", \"41\"], \"mode\": \"lines\", \"name\": \"mean_absolute_error_min\", \"stepped\": true, \"type\": \"scatter\", \"data\": [21.77446972123901, 20.840463977867053, 20.840463977867053, 20.840463977867053, 20.840463977867053, 20.840463977867053, 20.840463977867053, 20.840463977867053, 20.840463977867053, 20.840463977867053, 20.840463977867053, 20.840463977867053, 20.34842228252956, 20.34842228252956, 20.34842228252956, 20.34842228252956, 20.34842228252956, 20.34842228252956, 20.34842228252956, 20.34842228252956, 20.34842228252956, 20.34842228252956, 20.34842228252956, 20.34842228252956, 20.23597190482592, 20.23597190482592, 20.23597190482592, 20.23597190482592, 20.23597190482592, 20.23597190482592, 20.23597190482592, 20.23597190482592, 20.23597190482592, 20.23597190482592, 20.23597190482592, 20.23597190482592, 20.23597190482592, 20.23597190482592, 20.23597190482592, 20.23597190482592, 20.23597190482592]}], \"mean_absolute_percentage_error\": [{\"categories\": [\"0\", \"1\", \"2\", \"3\", \"4\", \"5\", \"6\", \"7\", \"8\", \"9\", \"10\", \"11\", \"12\", \"13\", \"14\", \"15\", \"16\", \"17\", \"18\", \"19\", \"20\", \"21\", \"22\", \"23\", \"24\", \"25\", \"26\", \"27\", \"28\", \"29\", \"30\", \"31\", \"32\", \"33\", \"34\", \"35\", \"36\", \"37\", \"38\", \"40\", \"41\"], \"mode\": \"markers\", \"name\": \"mean_absolute_percentage_error\", \"stepped\": false, \"type\": \"scatter\", \"data\": [50.51319595838949, 49.99059157545386, 48.70220501359022, 50.719897005847216, 51.28629106114725, 50.30148607259178, 51.285013216208995, 49.39535806600097, 49.93639200122595, 50.31036131215798, 51.051368503664456, 52.27134250690051, 44.4038568199329, 50.29953626727091, 50.608727132595696, 56.178916718357684, 50.160359489671265, 50.24881564990141, 55.49005325366642, 50.67624555138949, 50.227197686070156, 52.28145588906291, 50.993491840585165, 48.00660564615526, 44.178663796539425, 62.99497198674119, 48.16096550134948, 51.12973540394859, 49.48061137490153, 52.11675965729897, 51.13429881381357, 51.473986424557424, 53.02896333644043, 52.56981604185614, 54.51748104297017, 53.16872272388372, 50.96129290577402, 50.225857435467766, 50.275161976387544, 48.21609375230027, 48.51265021147682]}, {\"categories\": [\"0\", \"1\", \"2\", \"3\", \"4\", \"5\", \"6\", \"7\", \"8\", \"9\", \"10\", \"11\", \"12\", \"13\", \"14\", \"15\", \"16\", \"17\", \"18\", \"19\", \"20\", \"21\", \"22\", \"23\", \"24\", \"25\", \"26\", \"27\", \"28\", \"29\", \"30\", \"31\", \"32\", \"33\", \"34\", \"35\", \"36\", \"37\", \"38\", \"40\", \"41\"], \"mode\": \"lines\", \"name\": \"mean_absolute_percentage_error_min\", \"stepped\": true, \"type\": \"scatter\", \"data\": [50.51319595838949, 49.99059157545386, 48.70220501359022, 48.70220501359022, 48.70220501359022, 48.70220501359022, 48.70220501359022, 48.70220501359022, 48.70220501359022, 48.70220501359022, 48.70220501359022, 48.70220501359022, 44.4038568199329, 44.4038568199329, 44.4038568199329, 44.4038568199329, 44.4038568199329, 44.4038568199329, 44.4038568199329, 44.4038568199329, 44.4038568199329, 44.4038568199329, 44.4038568199329, 44.4038568199329, 44.178663796539425, 44.178663796539425, 44.178663796539425, 44.178663796539425, 44.178663796539425, 44.178663796539425, 44.178663796539425, 44.178663796539425, 44.178663796539425, 44.178663796539425, 44.178663796539425, 44.178663796539425, 44.178663796539425, 44.178663796539425, 44.178663796539425, 44.178663796539425, 44.178663796539425]}], \"explained_variance\": [{\"categories\": [\"0\", \"1\", \"2\", \"3\", \"4\", \"5\", \"6\", \"7\", \"8\", \"9\", \"10\", \"11\", \"12\", \"13\", \"14\", \"15\", \"16\", \"17\", \"18\", \"19\", \"20\", \"21\", \"22\", \"23\", \"24\", \"25\", \"26\", \"27\", \"28\", \"29\", \"30\", \"31\", \"32\", \"33\", \"34\", \"35\", \"36\", \"37\", \"38\", \"40\", \"41\"], \"mode\": \"markers\", \"name\": \"explained_variance\", \"stepped\": false, \"type\": \"scatter\", \"data\": [0.2311423390708447, 0.2692750448998265, 0.23651832727853747, 0.2710051236451119, 0.1910811083472555, 0.27183146110937767, 0.25056527372600546, 0.23841433364354012, 0.2616363389400669, 0.27453775745973746, 0.2769244511799823, 0.2563696923510885, 0.26216526363021536, 0.27182282385100354, 0.22300460073287356, 0.1812879981491764, 0.26830261930337573, 0.2745154387442617, 0.19838886499716613, 0.25402949950696013, 0.276131629681686, 0.2601507660217128, 0.21138405821459236, 0.25832269357624776, 0.2550726478414098, 0.09350200512637293, 0.19940682881060695, 0.26270997023226367, 0.25578621465811724, 0.23889428789532094, 0.24909560450484455, 0.26181391061481596, 0.16062562940394604, 0.24043934684841592, 0.23139568916024839, 0.2511907723725635, 0.2744062522336681, 0.27635373384621154, 0.27297686126481857, 0.312171003093913, 0.30492727055251473]}, {\"categories\": [\"0\", \"1\", \"2\", \"3\", \"4\", \"5\", \"6\", \"7\", \"8\", \"9\", \"10\", \"11\", \"12\", \"13\", \"14\", \"15\", \"16\", \"17\", \"18\", \"19\", \"20\", \"21\", \"22\", \"23\", \"24\", \"25\", \"26\", \"27\", \"28\", \"29\", \"30\", \"31\", \"32\", \"33\", \"34\", \"35\", \"36\", \"37\", \"38\", \"40\", \"41\"], \"mode\": \"lines\", \"name\": \"explained_variance_max\", \"stepped\": true, \"type\": \"scatter\", \"data\": [0.2311423390708447, 0.2692750448998265, 0.2692750448998265, 0.2710051236451119, 0.2710051236451119, 0.27183146110937767, 0.27183146110937767, 0.27183146110937767, 0.27183146110937767, 0.27453775745973746, 0.2769244511799823, 0.2769244511799823, 0.2769244511799823, 0.2769244511799823, 0.2769244511799823, 0.2769244511799823, 0.2769244511799823, 0.2769244511799823, 0.2769244511799823, 0.2769244511799823, 0.2769244511799823, 0.2769244511799823, 0.2769244511799823, 0.2769244511799823, 0.2769244511799823, 0.2769244511799823, 0.2769244511799823, 0.2769244511799823, 0.2769244511799823, 0.2769244511799823, 0.2769244511799823, 0.2769244511799823, 0.2769244511799823, 0.2769244511799823, 0.2769244511799823, 0.2769244511799823, 0.2769244511799823, 0.2769244511799823, 0.2769244511799823, 0.312171003093913, 0.312171003093913]}], \"normalized_root_mean_squared_error\": [{\"categories\": [\"0\", \"1\", \"2\", \"3\", \"4\", \"5\", \"6\", \"7\", \"8\", \"9\", \"10\", \"11\", \"12\", \"13\", \"14\", \"15\", \"16\", \"17\", \"18\", \"19\", \"20\", \"21\", \"22\", \"23\", \"24\", \"25\", \"26\", \"27\", \"28\", \"29\", \"30\", \"31\", \"32\", \"33\", \"34\", \"35\", \"36\", \"37\", \"38\", \"40\", \"41\"], \"mode\": \"markers\", \"name\": \"normalized_root_mean_squared_error\", \"stepped\": false, \"type\": \"scatter\", \"data\": [0.07855088135388698, 0.07686476712810994, 0.07842426455100301, 0.07682401719707488, 0.08043279664255809, 0.0768163635999947, 0.07782582639040926, 0.07828025723806256, 0.0772767292232017, 0.07668782746536144, 0.07659210742441946, 0.07764089605454781, 0.07817291398333023, 0.0768165310128675, 0.07927061807088678, 0.08147935698442846, 0.07696177270403957, 0.07668573200500946, 0.08049454098121327, 0.07761797140218149, 0.07660768711436446, 0.07748104651437614, 0.0795100458372485, 0.07755741166979575, 0.07881646294056317, 0.08556899662220421, 0.08148372250666061, 0.07733756822797735, 0.07754334916351704, 0.07845607094163813, 0.077857436984139, 0.07735502628064474, 0.08195970637585284, 0.07838506295756456, 0.07889889955515182, 0.07792490582902972, 0.07665471278923963, 0.07659708266622678, 0.07675913128607273, 0.07469483775485489, 0.0750862598898466]}, {\"categories\": [\"0\", \"1\", \"2\", \"3\", \"4\", \"5\", \"6\", \"7\", \"8\", \"9\", \"10\", \"11\", \"12\", \"13\", \"14\", \"15\", \"16\", \"17\", \"18\", \"19\", \"20\", \"21\", \"22\", \"23\", \"24\", \"25\", \"26\", \"27\", \"28\", \"29\", \"30\", \"31\", \"32\", \"33\", \"34\", \"35\", \"36\", \"37\", \"38\", \"40\", \"41\"], \"mode\": \"lines\", \"name\": \"normalized_root_mean_squared_error_min\", \"stepped\": true, \"type\": \"scatter\", \"data\": [0.07855088135388698, 0.07686476712810994, 0.07686476712810994, 0.07682401719707488, 0.07682401719707488, 0.0768163635999947, 0.0768163635999947, 0.0768163635999947, 0.0768163635999947, 0.07668782746536144, 0.07659210742441946, 0.07659210742441946, 0.07659210742441946, 0.07659210742441946, 0.07659210742441946, 0.07659210742441946, 0.07659210742441946, 0.07659210742441946, 0.07659210742441946, 0.07659210742441946, 0.07659210742441946, 0.07659210742441946, 0.07659210742441946, 0.07659210742441946, 0.07659210742441946, 0.07659210742441946, 0.07659210742441946, 0.07659210742441946, 0.07659210742441946, 0.07659210742441946, 0.07659210742441946, 0.07659210742441946, 0.07659210742441946, 0.07659210742441946, 0.07659210742441946, 0.07659210742441946, 0.07659210742441946, 0.07659210742441946, 0.07659210742441946, 0.07469483775485489, 0.07469483775485489]}], \"r2_score\": [{\"categories\": [\"0\", \"1\", \"2\", \"3\", \"4\", \"5\", \"6\", \"7\", \"8\", \"9\", \"10\", \"11\", \"12\", \"13\", \"14\", \"15\", \"16\", \"17\", \"18\", \"19\", \"20\", \"21\", \"22\", \"23\", \"24\", \"25\", \"26\", \"27\", \"28\", \"29\", \"30\", \"31\", \"32\", \"33\", \"34\", \"35\", \"36\", \"37\", \"38\", \"40\", \"41\"], \"mode\": \"markers\", \"name\": \"r2_score\", \"stepped\": false, \"type\": \"scatter\", \"data\": [0.22895392227969405, 0.2663154060718925, 0.23321927663398728, 0.26844969570325417, 0.18774575215657452, 0.2677792884313639, 0.24826706964996714, 0.23513695074115462, 0.2586782487427205, 0.2706084756569066, 0.27361190886603814, 0.25332233179835667, 0.24173192325348786, 0.2677708430535293, 0.21894582320142836, 0.17737963965532622, 0.2653697995872199, 0.2705072419126859, 0.19550608968268887, 0.2514671979795243, 0.27215729490875834, 0.2567268371878665, 0.20853849277813707, 0.2545315048179917, 0.23194474156929062, 0.0880841772476991, 0.1767522332737213, 0.2589041223742146, 0.2533097590747324, 0.23565110193761854, 0.24713519091700853, 0.25792242417559297, 0.15794942336311904, 0.2373013574751573, 0.2276913874546657, 0.2478302712711576, 0.27124259855787536, 0.272385392141516, 0.268945345425574, 0.3090175967856613, 0.3012219315538673]}, {\"categories\": [\"0\", \"1\", \"2\", \"3\", \"4\", \"5\", \"6\", \"7\", \"8\", \"9\", \"10\", \"11\", \"12\", \"13\", \"14\", \"15\", \"16\", \"17\", \"18\", \"19\", \"20\", \"21\", \"22\", \"23\", \"24\", \"25\", \"26\", \"27\", \"28\", \"29\", \"30\", \"31\", \"32\", \"33\", \"34\", \"35\", \"36\", \"37\", \"38\", \"40\", \"41\"], \"mode\": \"lines\", \"name\": \"r2_score_max\", \"stepped\": true, \"type\": \"scatter\", \"data\": [0.22895392227969405, 0.2663154060718925, 0.2663154060718925, 0.26844969570325417, 0.26844969570325417, 0.26844969570325417, 0.26844969570325417, 0.26844969570325417, 0.26844969570325417, 0.2706084756569066, 0.27361190886603814, 0.27361190886603814, 0.27361190886603814, 0.27361190886603814, 0.27361190886603814, 0.27361190886603814, 0.27361190886603814, 0.27361190886603814, 0.27361190886603814, 0.27361190886603814, 0.27361190886603814, 0.27361190886603814, 0.27361190886603814, 0.27361190886603814, 0.27361190886603814, 0.27361190886603814, 0.27361190886603814, 0.27361190886603814, 0.27361190886603814, 0.27361190886603814, 0.27361190886603814, 0.27361190886603814, 0.27361190886603814, 0.27361190886603814, 0.27361190886603814, 0.27361190886603814, 0.27361190886603814, 0.27361190886603814, 0.27361190886603814, 0.3090175967856613, 0.3090175967856613]}]}, \"metricName\": null, \"primaryMetricName\": \"r2_score\", \"showLegend\": false}, \"run_metrics\": [{\"name\": \"mean_absolute_percentage_error\", \"run_id\": \"AutoML_6000a046-d34b-4eac-887f-41b9609706dd\", \"categories\": [0], \"series\": [{\"data\": [48.21609375230027]}]}, {\"name\": \"root_mean_squared_error\", \"run_id\": \"AutoML_6000a046-d34b-4eac-887f-41b9609706dd\", \"categories\": [0], \"series\": [{\"data\": [30.624883479490496]}]}, {\"name\": \"normalized_mean_absolute_error\", \"run_id\": \"AutoML_6000a046-d34b-4eac-887f-41b9609706dd\", \"categories\": [0], \"series\": [{\"data\": [0.049399821488358524]}]}, {\"name\": \"root_mean_squared_log_error\", \"run_id\": \"AutoML_6000a046-d34b-4eac-887f-41b9609706dd\", \"categories\": [0], \"series\": [{\"data\": [0.4839555588667367]}]}, {\"name\": \"normalized_root_mean_squared_log_error\", \"run_id\": \"AutoML_6000a046-d34b-4eac-887f-41b9609706dd\", \"categories\": [0], \"series\": [{\"data\": [0.11416938694479387]}]}, {\"name\": \"mean_absolute_error\", \"run_id\": \"AutoML_6000a046-d34b-4eac-887f-41b9609706dd\", \"categories\": [0], \"series\": [{\"data\": [20.253926810226993]}]}, {\"name\": \"explained_variance\", \"run_id\": \"AutoML_6000a046-d34b-4eac-887f-41b9609706dd\", \"categories\": [0], \"series\": [{\"data\": [0.312171003093913]}]}, {\"name\": \"normalized_root_mean_squared_error\", \"run_id\": \"AutoML_6000a046-d34b-4eac-887f-41b9609706dd\", \"categories\": [0], \"series\": [{\"data\": [0.07469483775485489]}]}, {\"name\": \"median_absolute_error\", \"run_id\": \"AutoML_6000a046-d34b-4eac-887f-41b9609706dd\", \"categories\": [0], \"series\": [{\"data\": [14.839931470986425]}]}, {\"name\": \"spearman_correlation\", \"run_id\": \"AutoML_6000a046-d34b-4eac-887f-41b9609706dd\", \"categories\": [0], \"series\": [{\"data\": [0.5889748920006962]}]}, {\"name\": \"normalized_median_absolute_error\", \"run_id\": \"AutoML_6000a046-d34b-4eac-887f-41b9609706dd\", \"categories\": [0], \"series\": [{\"data\": [0.03619495480728396]}]}, {\"name\": \"r2_score\", \"run_id\": \"AutoML_6000a046-d34b-4eac-887f-41b9609706dd\", \"categories\": [0], \"series\": [{\"data\": [0.3090175967856613]}]}], \"run_logs\": \"\\nRun is completed.\", \"graph\": {}, \"widget_settings\": {\"childWidgetDisplay\": \"popup\", \"send_telemetry\": false, \"log_level\": \"INFO\", \"sdk_version\": \"1.19.0\"}, \"loading\": false}"
          },
          "metadata": {}
        }
      ],
      "execution_count": 11,
      "metadata": {
        "gather": {
          "logged": 1609876402687
        }
      }
    },
    {
      "cell_type": "code",
      "source": [
        "best_mlrun, fitted_mlmodel = remote_run.get_output()\r\n",
        "print(best_mlrun)\r\n",
        "print(fitted_mlmodel)\r\n",
        "joblib.dump(fitted_mlmodel, \"automlmodel.pkl\")"
      ],
      "outputs": [
        {
          "output_type": "stream",
          "name": "stdout",
          "text": [
            "Run(Experiment: labor-prediction-experiment,\n",
            "Id: AutoML_6000a046-d34b-4eac-887f-41b9609706dd_40,\n",
            "Type: None,\n",
            "Status: Completed)\n",
            "RegressionPipeline(pipeline=Pipeline(memory=None,\n",
            "                                     steps=[('datatransformer',\n",
            "                                             DataTransformer(enable_dnn=None,\n",
            "                                                             enable_feature_sweeping=None,\n",
            "                                                             feature_sweeping_config=None,\n",
            "                                                             feature_sweeping_timeout=None,\n",
            "                                                             featurization_config=None,\n",
            "                                                             force_text_dnn=None,\n",
            "                                                             is_cross_validation=None,\n",
            "                                                             is_onnx_compatible=None,\n",
            "                                                             logger=None,\n",
            "                                                             observer=None,\n",
            "                                                             task=None,\n",
            "                                                             working_dir=None)),\n",
            "                                            ('pre...\n",
            "                                                                                                                         scale_pos_weight=1,\n",
            "                                                                                                                         seed=None,\n",
            "                                                                                                                         silent=None,\n",
            "                                                                                                                         subsample=0.9,\n",
            "                                                                                                                         tree_method='hist',\n",
            "                                                                                                                         verbose=-10,\n",
            "                                                                                                                         verbosity=0))],\n",
            "                                                                                                verbose=False))],\n",
            "                                                                          weights=[0.06666666666666667,\n",
            "                                                                                   0.06666666666666667,\n",
            "                                                                                   0.2,\n",
            "                                                                                   0.06666666666666667,\n",
            "                                                                                   0.06666666666666667,\n",
            "                                                                                   0.06666666666666667,\n",
            "                                                                                   0.06666666666666667,\n",
            "                                                                                   0.13333333333333333,\n",
            "                                                                                   0.06666666666666667,\n",
            "                                                                                   0.06666666666666667,\n",
            "                                                                                   0.13333333333333333]))],\n",
            "                                     verbose=False),\n",
            "                   stddev=None)\n"
          ]
        },
        {
          "output_type": "execute_result",
          "execution_count": 37,
          "data": {
            "text/plain": "['automlmodel.pkl']",
            "text/html": "['automlmodel.pkl']"
          },
          "metadata": {}
        }
      ],
      "execution_count": 37,
      "metadata": {
        "gather": {
          "logged": 1609881846311
        }
      }
    },
    {
      "cell_type": "code",
      "source": [
        "#register the model\r\n",
        "from azureml.core.environment import Environment\r\n",
        "from azureml.core.model import InferenceConfig\r\n",
        "from azureml.core.webservice import LocalWebservice\r\n",
        "from azureml.core.model import Model\r\n",
        "\r\n",
        "description = 'Best AutoML Model'\r\n",
        "#model = best_mlrun.register_model(description=description, workspace = , model_name='automl_pred', model_path='./models')\r\n",
        "model = Model.register(model_path=\"automlmodel.pkl\", model_name = \"automl_pred\", description=description, workspace=ws)\r\n",
        "print(model.name, model.id, model.version, sep='\\t')\r\n",
        "\r\n"
      ],
      "outputs": [
        {
          "output_type": "stream",
          "name": "stdout",
          "text": [
            "Registering model automl_pred\n",
            "automl_pred\tautoml_pred:7\t7\n"
          ]
        }
      ],
      "execution_count": 38,
      "metadata": {
        "gather": {
          "logged": 1609881854828
        }
      }
    },
    {
      "cell_type": "code",
      "source": [
        "#define inference config\r\n",
        "from azureml.core.model import InferenceConfig\r\n",
        "from azureml.core.environment import Environment\r\n",
        "from azureml.core.conda_dependencies import CondaDependencies\r\n",
        "\r\n",
        "#create the environment\r\n",
        "myenv = Environment(name=\"myenv\")\r\n",
        "conda_dep = CondaDependencies()\r\n",
        "\r\n",
        "#Define the packages needed by the model and scripts\r\n",
        "conda_dep.add_conda_package(\"tensorflow\")\r\n",
        "conda_dep.add_conda_package(\"numpy\")\r\n",
        "conda_dep.add_conda_package(\"scikit-learn\")\r\n",
        "#You must list azureml-defaults as a pip dependency\r\n",
        "conda_dep.add_pip_package(\"azureml-defaults\")\r\n",
        "conda_dep.add_pip_package(\"keras\")\r\n",
        "conda_dep.add_pip_package(\"gensim\")\r\n",
        "\r\n",
        "myenv.python.conda_dependencies=conda_dep\r\n",
        "\r\n",
        "inference_config = InferenceConfig(entry_script=\"score.py\", environment=myenv)"
      ],
      "outputs": [],
      "execution_count": 39,
      "metadata": {
        "collapsed": true,
        "jupyter": {
          "source_hidden": false,
          "outputs_hidden": false
        },
        "nteract": {
          "transient": {
            "deleting": false
          }
        },
        "gather": {
          "logged": 1609881862207
        }
      }
    },
    {
      "cell_type": "code",
      "source": [
        "#deploy as webservice\r\n",
        "from azureml.core.webservice import LocalWebservice\r\n",
        "\r\n",
        "deployment_config = LocalWebservice.deploy_configuration()\r\n",
        "\r\n",
        "model = Model(ws, name='automl_pred')\r\n",
        "service = Model.deploy(ws, 'laborpredservice', [model], inference_config, deployment_config)\r\n",
        "\r\n",
        "service.wait_for_deployment(True)\r\n",
        "print(service.state)\r\n",
        "print(\"scoring URI: \" + service.scoring_uri)\r\n"
      ],
      "outputs": [
        {
          "output_type": "stream",
          "name": "stdout",
          "text": [
            "Downloading model automl_pred:7 to /tmp/azureml_zdk_43bj/automl_pred/7\n",
            "Generating Docker build context.\n",
            "Package creation Succeeded\n",
            "Logging into Docker registry f9e6381e829d4d91841e9a3e05a328cc.azurecr.io\n",
            "Logging into Docker registry f9e6381e829d4d91841e9a3e05a328cc.azurecr.io\n",
            "Building Docker image from Dockerfile...\n",
            "Step 1/5 : FROM f9e6381e829d4d91841e9a3e05a328cc.azurecr.io/azureml/azureml_3fdc9f8c784933dc854a351e73ff60fc\n",
            " ---> de09ebaa37e4\n",
            "Step 2/5 : COPY azureml-app /var/azureml-app\n",
            " ---> 712f6f2cf5fb\n",
            "Step 3/5 : RUN mkdir -p '/var/azureml-app' && echo eyJhY2NvdW50Q29udGV4dCI6eyJzdWJzY3JpcHRpb25JZCI6ImNkYmUwYjQzLTkyYTAtNDcxNS04MzhhLWYyNjQ4Y2M3YWQyMSIsInJlc291cmNlR3JvdXBOYW1lIjoiYW1sLXF1aWNrc3RhcnRzLTEzMzU0NiIsImFjY291bnROYW1lIjoicXVpY2stc3RhcnRzLXdzLTEzMzU0NiIsIndvcmtzcGFjZUlkIjoiZjllNjM4MWUtODI5ZC00ZDkxLTg0MWUtOWEzZTA1YTMyOGNjIn0sIm1vZGVscyI6e30sIm1vZGVsc0luZm8iOnt9fQ== | base64 --decode > /var/azureml-app/model_config_map.json\n",
            " ---> Running in 759734eabe0b\n",
            " ---> 66656b85256d\n",
            "Step 4/5 : RUN mv '/var/azureml-app/tmpfbk1c5ud.py' /var/azureml-app/main.py\n",
            " ---> Running in 448c6851ba51\n",
            " ---> 927aaf3aeec3\n",
            "Step 5/5 : CMD [\"runsvdir\",\"/var/runit\"]\n",
            " ---> Running in c5477c7704b4\n",
            " ---> 8db13590d77b\n",
            "Successfully built 8db13590d77b\n",
            "Successfully tagged laborpredservice:latest\n",
            "Container (name:compassionate_kilby, id:9faca1d7b3f48239d8e9045d21abe42febb32fa2fd96c1c9f852f5ca03bd3fb3) cannot be killed.\n",
            "Container has been successfully cleaned up.\n",
            "Image sha256:347c2d5da68fc65040eb8ec5b5e3b961418a3a0928283f5691443e476a199ee2 successfully removed.\n",
            "Starting Docker container...\n",
            "Docker container running.\n",
            "Checking container health...\n",
            "\n",
            "Container Logs:\n",
            "2021-01-05T21:26:01,384414130+00:00 - iot-server/run \n",
            "2021-01-05T21:26:01,385858847+00:00 - rsyslog/run \n",
            "2021-01-05T21:26:01,387290664+00:00 - gunicorn/run \n",
            "2021-01-05T21:26:01,408075905+00:00 - nginx/run \n",
            "/usr/sbin/nginx: /azureml-envs/azureml_59ccf25d90b338bf74c1d202f194110f/lib/libcrypto.so.1.0.0: no version information available (required by /usr/sbin/nginx)\n",
            "/usr/sbin/nginx: /azureml-envs/azureml_59ccf25d90b338bf74c1d202f194110f/lib/libcrypto.so.1.0.0: no version information available (required by /usr/sbin/nginx)\n",
            "/usr/sbin/nginx: /azureml-envs/azureml_59ccf25d90b338bf74c1d202f194110f/lib/libssl.so.1.0.0: no version information available (required by /usr/sbin/nginx)\n",
            "/usr/sbin/nginx: /azureml-envs/azureml_59ccf25d90b338bf74c1d202f194110f/lib/libssl.so.1.0.0: no version information available (required by /usr/sbin/nginx)\n",
            "/usr/sbin/nginx: /azureml-envs/azureml_59ccf25d90b338bf74c1d202f194110f/lib/libssl.so.1.0.0: no version information available (required by /usr/sbin/nginx)\n",
            "EdgeHubConnectionString and IOTEDGE_IOTHUBHOSTNAME are not set. Exiting...\n",
            "2021-01-05T21:26:01,463756850+00:00 - iot-server/finish 1 0\n",
            "2021-01-05T21:26:01,464792662+00:00 - Exit code 1 is normal. Not restarting iot-server.\n",
            "Starting gunicorn 19.9.0\n",
            "Listening at: http://127.0.0.1:31311 (11)\n",
            "Using worker: sync\n",
            "worker timeout is set to 300\n",
            "Booting worker with pid: 39\n",
            "SPARK_HOME not set. Skipping PySpark Initialization.\n",
            "Initializing logger\n",
            "2021-01-05 21:26:01,961 | root | INFO | Starting up app insights client\n",
            "Starting up app insights client\n",
            "2021-01-05 21:26:01,961 | root | INFO | Starting up request id generator\n",
            "Starting up request id generator\n",
            "2021-01-05 21:26:01,961 | root | INFO | Starting up app insight hooks\n",
            "Starting up app insight hooks\n",
            "2021-01-05 21:26:01,961 | root | INFO | Invoking user's init function\n",
            "Invoking user's init function\n",
            "2021-01-05 21:26:01,962 | root | ERROR | User's init function failed\n",
            "User's init function failed\n",
            "2021-01-05 21:26:01,962 | root | ERROR | Encountered Exception Traceback (most recent call last):\n",
            "  File \"/var/azureml-server/aml_blueprint.py\", line 177, in register\n",
            "    main.init()\n",
            "  File \"/var/azureml-app/score.py\", line 8, in init\n",
            "    model_path = os.path.join(os.getenv('myenv'), 'automlmodel.pkl')\n",
            "  File \"/azureml-envs/azureml_59ccf25d90b338bf74c1d202f194110f/lib/python3.6/posixpath.py\", line 78, in join\n",
            "    a = os.fspath(a)\n",
            "TypeError: expected str, bytes or os.PathLike object, not NoneType\n",
            "\n",
            "Encountered Exception Traceback (most recent call last):\n",
            "  File \"/var/azureml-server/aml_blueprint.py\", line 177, in register\n",
            "    main.init()\n",
            "  File \"/var/azureml-app/score.py\", line 8, in init\n",
            "    model_path = os.path.join(os.getenv('myenv'), 'automlmodel.pkl')\n",
            "  File \"/azureml-envs/azureml_59ccf25d90b338bf74c1d202f194110f/lib/python3.6/posixpath.py\", line 78, in join\n",
            "    a = os.fspath(a)\n",
            "TypeError: expected str, bytes or os.PathLike object, not NoneType\n",
            "\n",
            "Worker exiting (pid: 39)\n",
            "Shutting down: Master\n",
            "Reason: Worker failed to boot.\n",
            "2021-01-05T21:26:02,032699042+00:00 - gunicorn/finish 3 0\n",
            "2021-01-05T21:26:02,033993057+00:00 - Exit code 3 is not normal. Killing image.\n",
            "\n"
          ]
        },
        {
          "output_type": "stream",
          "name": "stderr",
          "text": [
            "ERROR:azureml._model_management._util:Error: Container has crashed. Did your init method fail?\n",
            "\n"
          ]
        },
        {
          "output_type": "error",
          "ename": "WebserviceException",
          "evalue": "WebserviceException:\n\tMessage: Error: Container has crashed. Did your init method fail?\n\tInnerException None\n\tErrorResponse \n{\n    \"error\": {\n        \"message\": \"Error: Container has crashed. Did your init method fail?\"\n    }\n}",
          "traceback": [
            "\u001b[0;31m---------------------------------------------------------------------------\u001b[0m",
            "\u001b[0;31mWebserviceException\u001b[0m                       Traceback (most recent call last)",
            "\u001b[0;32m<ipython-input-41-44ce1fd88e7f>\u001b[0m in \u001b[0;36m<module>\u001b[0;34m\u001b[0m\n\u001b[1;32m      7\u001b[0m \u001b[0mservice\u001b[0m \u001b[0;34m=\u001b[0m \u001b[0mModel\u001b[0m\u001b[0;34m.\u001b[0m\u001b[0mdeploy\u001b[0m\u001b[0;34m(\u001b[0m\u001b[0mws\u001b[0m\u001b[0;34m,\u001b[0m \u001b[0;34m'laborpredservice'\u001b[0m\u001b[0;34m,\u001b[0m \u001b[0;34m[\u001b[0m\u001b[0mmodel\u001b[0m\u001b[0;34m]\u001b[0m\u001b[0;34m,\u001b[0m \u001b[0minference_config\u001b[0m\u001b[0;34m,\u001b[0m \u001b[0mdeployment_config\u001b[0m\u001b[0;34m)\u001b[0m\u001b[0;34m\u001b[0m\u001b[0;34m\u001b[0m\u001b[0m\n\u001b[1;32m      8\u001b[0m \u001b[0;34m\u001b[0m\u001b[0m\n\u001b[0;32m----> 9\u001b[0;31m \u001b[0mservice\u001b[0m\u001b[0;34m.\u001b[0m\u001b[0mwait_for_deployment\u001b[0m\u001b[0;34m(\u001b[0m\u001b[0;32mTrue\u001b[0m\u001b[0;34m)\u001b[0m\u001b[0;34m\u001b[0m\u001b[0;34m\u001b[0m\u001b[0m\n\u001b[0m\u001b[1;32m     10\u001b[0m \u001b[0mprint\u001b[0m\u001b[0;34m(\u001b[0m\u001b[0mservice\u001b[0m\u001b[0;34m.\u001b[0m\u001b[0mstate\u001b[0m\u001b[0;34m)\u001b[0m\u001b[0;34m\u001b[0m\u001b[0;34m\u001b[0m\u001b[0m\n\u001b[1;32m     11\u001b[0m \u001b[0mprint\u001b[0m\u001b[0;34m(\u001b[0m\u001b[0;34m\"scoring URI: \"\u001b[0m \u001b[0;34m+\u001b[0m \u001b[0mservice\u001b[0m\u001b[0;34m.\u001b[0m\u001b[0mscoring_uri\u001b[0m\u001b[0;34m)\u001b[0m\u001b[0;34m\u001b[0m\u001b[0;34m\u001b[0m\u001b[0m\n",
            "\u001b[0;32m/anaconda/envs/azureml_py36/lib/python3.6/site-packages/azureml/core/webservice/local.py\u001b[0m in \u001b[0;36mdecorated\u001b[0;34m(self, *args, **kwargs)\u001b[0m\n\u001b[1;32m     70\u001b[0m                 raise WebserviceException('Cannot call {}() when service is {}.'.format(func.__name__, self.state),\n\u001b[1;32m     71\u001b[0m                                           logger=module_logger)\n\u001b[0;32m---> 72\u001b[0;31m             \u001b[0;32mreturn\u001b[0m \u001b[0mfunc\u001b[0m\u001b[0;34m(\u001b[0m\u001b[0mself\u001b[0m\u001b[0;34m,\u001b[0m \u001b[0;34m*\u001b[0m\u001b[0margs\u001b[0m\u001b[0;34m,\u001b[0m \u001b[0;34m**\u001b[0m\u001b[0mkwargs\u001b[0m\u001b[0;34m)\u001b[0m\u001b[0;34m\u001b[0m\u001b[0;34m\u001b[0m\u001b[0m\n\u001b[0m\u001b[1;32m     73\u001b[0m         \u001b[0;32mreturn\u001b[0m \u001b[0mdecorated\u001b[0m\u001b[0;34m\u001b[0m\u001b[0;34m\u001b[0m\u001b[0m\n\u001b[1;32m     74\u001b[0m     \u001b[0;32mreturn\u001b[0m \u001b[0mdecorator\u001b[0m\u001b[0;34m\u001b[0m\u001b[0;34m\u001b[0m\u001b[0m\n",
            "\u001b[0;32m/anaconda/envs/azureml_py36/lib/python3.6/site-packages/azureml/core/webservice/local.py\u001b[0m in \u001b[0;36mwait_for_deployment\u001b[0;34m(self, show_output)\u001b[0m\n\u001b[1;32m    609\u001b[0m                                    \u001b[0mself\u001b[0m\u001b[0;34m.\u001b[0m\u001b[0m_container\u001b[0m\u001b[0;34m,\u001b[0m\u001b[0;34m\u001b[0m\u001b[0;34m\u001b[0m\u001b[0m\n\u001b[1;32m    610\u001b[0m                                    \u001b[0mhealth_url\u001b[0m\u001b[0;34m=\u001b[0m\u001b[0mself\u001b[0m\u001b[0;34m.\u001b[0m\u001b[0m_get_health_url\u001b[0m\u001b[0;34m(\u001b[0m\u001b[0;34m)\u001b[0m\u001b[0;34m,\u001b[0m\u001b[0;34m\u001b[0m\u001b[0;34m\u001b[0m\u001b[0m\n\u001b[0;32m--> 611\u001b[0;31m                                    cleanup_if_failed=False)\n\u001b[0m\u001b[1;32m    612\u001b[0m \u001b[0;34m\u001b[0m\u001b[0m\n\u001b[1;32m    613\u001b[0m             \u001b[0mself\u001b[0m\u001b[0;34m.\u001b[0m\u001b[0mstate\u001b[0m \u001b[0;34m=\u001b[0m \u001b[0mLocalWebservice\u001b[0m\u001b[0;34m.\u001b[0m\u001b[0mSTATE_RUNNING\u001b[0m\u001b[0;34m\u001b[0m\u001b[0;34m\u001b[0m\u001b[0m\n",
            "\u001b[0;32m/anaconda/envs/azureml_py36/lib/python3.6/site-packages/azureml/_model_management/_util.py\u001b[0m in \u001b[0;36mcontainer_health_check\u001b[0;34m(docker_port, container, health_url, cleanup_if_failed)\u001b[0m\n\u001b[1;32m    741\u001b[0m             \u001b[0;31m# The container has started and crashed.\u001b[0m\u001b[0;34m\u001b[0m\u001b[0;34m\u001b[0m\u001b[0;34m\u001b[0m\u001b[0m\n\u001b[1;32m    742\u001b[0m             _raise_for_container_failure(container, cleanup_if_failed,\n\u001b[0;32m--> 743\u001b[0;31m                                          'Error: Container has crashed. Did your init method fail?')\n\u001b[0m\u001b[1;32m    744\u001b[0m \u001b[0;34m\u001b[0m\u001b[0m\n\u001b[1;32m    745\u001b[0m         \u001b[0;31m# The container hasn't crashed, so try to ping the health endpoint.\u001b[0m\u001b[0;34m\u001b[0m\u001b[0;34m\u001b[0m\u001b[0;34m\u001b[0m\u001b[0m\n",
            "\u001b[0;32m/anaconda/envs/azureml_py36/lib/python3.6/site-packages/azureml/_model_management/_util.py\u001b[0m in \u001b[0;36m_raise_for_container_failure\u001b[0;34m(container, cleanup, message)\u001b[0m\n\u001b[1;32m   1259\u001b[0m         \u001b[0mcleanup_container\u001b[0m\u001b[0;34m(\u001b[0m\u001b[0mcontainer\u001b[0m\u001b[0;34m)\u001b[0m\u001b[0;34m\u001b[0m\u001b[0;34m\u001b[0m\u001b[0m\n\u001b[1;32m   1260\u001b[0m \u001b[0;34m\u001b[0m\u001b[0m\n\u001b[0;32m-> 1261\u001b[0;31m     \u001b[0;32mraise\u001b[0m \u001b[0mWebserviceException\u001b[0m\u001b[0;34m(\u001b[0m\u001b[0mmessage\u001b[0m\u001b[0;34m,\u001b[0m \u001b[0mlogger\u001b[0m\u001b[0;34m=\u001b[0m\u001b[0mmodule_logger\u001b[0m\u001b[0;34m)\u001b[0m\u001b[0;34m\u001b[0m\u001b[0;34m\u001b[0m\u001b[0m\n\u001b[0m\u001b[1;32m   1262\u001b[0m \u001b[0;34m\u001b[0m\u001b[0m\n\u001b[1;32m   1263\u001b[0m \u001b[0;34m\u001b[0m\u001b[0m\n",
            "\u001b[0;31mWebserviceException\u001b[0m: WebserviceException:\n\tMessage: Error: Container has crashed. Did your init method fail?\n\tInnerException None\n\tErrorResponse \n{\n    \"error\": {\n        \"message\": \"Error: Container has crashed. Did your init method fail?\"\n    }\n}"
          ]
        }
      ],
      "execution_count": 41,
      "metadata": {
        "collapsed": true,
        "jupyter": {
          "source_hidden": false,
          "outputs_hidden": false
        },
        "nteract": {
          "transient": {
            "deleting": false
          }
        }
      }
    },
    {
      "cell_type": "code",
      "source": [
        "#send request\r\n",
        "\r\n",
        "import requests\r\n",
        "import json\r\n",
        "\r\n",
        "scoring_uri = service.scoring_uri\r\n",
        "headers = {'Content-Type':'application/json'}\r\n",
        "test_data = {\"data\": [67, 'ALUMINUM', 'DOOR', 24, 0, 'SNAP BEADS', 9, 118]}\r\n",
        "response = requests.post(scoring_uri, data=test_data, headers=headers)\r\n",
        "print(response.status_code)\r\n",
        "print(response.elapsed)\r\n",
        "print(response.json())"
      ],
      "outputs": [],
      "execution_count": null,
      "metadata": {
        "collapsed": true,
        "jupyter": {
          "source_hidden": false,
          "outputs_hidden": false
        },
        "nteract": {
          "transient": {
            "deleting": false
          }
        }
      }
    }
  ],
  "metadata": {
    "kernelspec": {
      "name": "python3",
      "language": "python",
      "display_name": "Python 3"
    },
    "language_info": {
      "name": "python",
      "version": "3.6.9",
      "mimetype": "text/x-python",
      "codemirror_mode": {
        "name": "ipython",
        "version": 3
      },
      "pygments_lexer": "ipython3",
      "nbconvert_exporter": "python",
      "file_extension": ".py"
    },
    "kernel_info": {
      "name": "python3"
    },
    "nteract": {
      "version": "nteract-front-end@1.0.0"
    }
  },
  "nbformat": 4,
  "nbformat_minor": 2
}