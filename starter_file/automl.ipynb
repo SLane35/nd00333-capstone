{
  "cells": [
    {
      "cell_type": "code",
      "source": [
        "from azureml.core import Workspace, Experiment\n",
        "from azureml.core.compute import ComputeTarget, AmlCompute\n",
        "from azureml.widgets import RunDetails\n",
        "from azureml.train.sklearn import SKLearn\n",
        "from azureml.train.automl import AutoMLConfig\n",
        "from azureml.widgets import RunDetails\n",
        "from sklearn.model_selection import train_test_split\n",
        "import os\n",
        "import joblib\n",
        "import numpy as np\n",
        "import pandas as pd"
      ],
      "outputs": [],
      "execution_count": 1,
      "metadata": {
        "gather": {
          "logged": 1610564236161
        }
      }
    },
    {
      "cell_type": "code",
      "source": [
        "ws = Workspace.from_config()\n",
        "# choose a name for experiment\n",
        "experiment_name = 'labor-prediction-experiment'\n",
        "experiment=Experiment(ws, experiment_name)"
      ],
      "outputs": [],
      "execution_count": 2,
      "metadata": {
        "gather": {
          "logged": 1610564237912
        }
      }
    },
    {
      "cell_type": "code",
      "source": [
        "from azureml.data.dataset_factory import TabularDatasetFactory\n",
        "from azureml.core import Dataset, Datastore\n",
        "from azureml.data.datapath import DataPath\n",
        "\n",
        "datastore_name='workspaceblobstore'\n",
        "datastore=Datastore.get(ws,datastore_name)\n",
        "\n",
        "datastore_path = [(datastore, 'UI/01-13-2021_064134_UTC/LaborPredictionData6.csv')]\n",
        "ds = Dataset.Tabular.from_delimited_files(path=datastore_path)\n",
        "\n",
        "ds = ds.take(3000).to_pandas_dataframe()"
      ],
      "outputs": [],
      "execution_count": 3,
      "metadata": {
        "gather": {
          "logged": 1610564242950
        }
      }
    },
    {
      "cell_type": "code",
      "source": [
        "from train import clean_data\n",
        "# Use the clean_data function to clean your data.\n",
        "x, y = clean_data(ds)\n",
        "x_train, x_test, y_train, y_test = train_test_split(x, y, train_size=.8)\n",
        "\n",
        "#y_train=y_train.reshape(1728, 1)\n",
        "#train = np.concatenate((x_train,y_train), axis=1)\n",
        "train=pd.concat([x_train, y_train], axis=1)"
      ],
      "outputs": [],
      "execution_count": 4,
      "metadata": {
        "gather": {
          "logged": 1610564244310
        }
      }
    },
    {
      "cell_type": "code",
      "source": [
        "# TODO: Put your automl settings here\n",
        "automl_config = AutoMLConfig(\n",
        "    experiment_timeout_minutes=30,\n",
        "    task='regression',\n",
        "    primary_metric='r2_score',\n",
        "    training_data=train,\n",
        "    label_column_name='TotalInstallationTime',\n",
        "    n_cross_validations=10)"
      ],
      "outputs": [],
      "execution_count": 5,
      "metadata": {
        "gather": {
          "logged": 1610564244519
        }
      }
    },
    {
      "cell_type": "code",
      "source": [
        "#TODO: Submit your experiment\n",
        "remote_run = experiment.submit(automl_config, show_output=True)"
      ],
      "outputs": [
        {
          "output_type": "stream",
          "name": "stdout",
          "text": [
            "No run_configuration provided, running on local with default configuration\n",
            "Running on local machine\n",
            "Parent Run ID: AutoML_f5cf4815-5ce1-4d49-8ed0-cc9230a0cad6\n",
            "\n",
            "Current status: DatasetEvaluation. Gathering dataset statistics.\n",
            "Current status: FeaturesGeneration. Generating features for the dataset.\n",
            "Current status: DatasetFeaturization. Beginning to fit featurizers and featurize the dataset.\n",
            "Current status: DatasetFeaturizationCompleted. Completed fit featurizers and featurizing the dataset.\n",
            "Current status: DatasetCrossValidationSplit. Generating individually featurized CV splits.\n",
            "\n",
            "****************************************************************************************************\n",
            "DATA GUARDRAILS: \n",
            "\n",
            "TYPE:         Missing feature values imputation\n",
            "STATUS:       PASSED\n",
            "DESCRIPTION:  No feature missing values were detected in the training data.\n",
            "              Learn more about missing value imputation: https://aka.ms/AutomatedMLFeaturization\n",
            "\n",
            "****************************************************************************************************\n",
            "\n",
            "TYPE:         High cardinality feature detection\n",
            "STATUS:       PASSED\n",
            "DESCRIPTION:  Your inputs were analyzed, and no high cardinality features were detected.\n",
            "              Learn more about high cardinality feature handling: https://aka.ms/AutomatedMLFeaturization\n",
            "\n",
            "****************************************************************************************************\n",
            "Current status: ModelSelection. Beginning model selection.\n",
            "\n",
            "****************************************************************************************************\n",
            "ITERATION: The iteration being evaluated.\n",
            "PIPELINE: A summary description of the pipeline being evaluated.\n",
            "DURATION: Time taken for the current iteration.\n",
            "METRIC: The result of computing score on the fitted pipeline.\n",
            "BEST: The best observed score thus far.\n",
            "****************************************************************************************************\n",
            "\n",
            " ITERATION   PIPELINE                                       DURATION      METRIC      BEST\n",
            "         0   MaxAbsScaler LightGBM                          0:00:37       0.1804    0.1804\n",
            "         1   MaxAbsScaler XGBoostRegressor                  0:00:31       0.2477    0.2477\n",
            "         2   SparseNormalizer XGBoostRegressor              0:00:37       0.1799    0.2477\n",
            "         3   MaxAbsScaler RandomForest                      0:00:45       0.2538    0.2538\n",
            "         4   StandardScalerWrapper XGBoostRegressor         0:00:37       0.1346    0.2538\n",
            "         5   MaxAbsScaler ElasticNet                        0:00:37       0.2439    0.2538\n",
            "         6   MinMaxScaler RandomForest                      0:00:48       0.2354    0.2538\n",
            "         7   StandardScalerWrapper XGBoostRegressor         0:00:32       0.1777    0.2538\n",
            "         8   MinMaxScaler ExtremeRandomTrees                0:00:34       0.2415    0.2538\n",
            "         9   StandardScalerWrapper ElasticNet               0:00:26       0.2485    0.2538\n",
            "        10   MinMaxScaler RandomForest                      0:00:56       0.2569    0.2569\n",
            "        11   MinMaxScaler RandomForest                      0:00:34       0.2361    0.2569\n",
            "        12   StandardScalerWrapper XGBoostRegressor         0:00:31       0.2240    0.2569\n",
            "        13   RobustScaler LassoLars                         0:00:39       0.2434    0.2569\n",
            "        14   MinMaxScaler ExtremeRandomTrees                0:00:33       0.2250    0.2569\n",
            "        15   MaxAbsScaler ExtremeRandomTrees                0:00:30       0.1817    0.2569\n",
            "        16   MinMaxScaler ExtremeRandomTrees                0:00:35       0.2466    0.2569\n",
            "        17   MaxAbsScaler ElasticNet                        0:00:34       0.2469    0.2569\n",
            "        18   MinMaxScaler RandomForest                      0:00:29       0.1774    0.2569\n",
            "        19   MaxAbsScaler RandomForest                      0:00:29       0.2326    0.2569\n",
            "        20   RobustScaler ElasticNet                        0:00:33       0.2483    0.2569\n",
            "        21   StandardScalerWrapper RandomForest             0:00:32       0.2469    0.2569\n",
            "        22   RobustScaler LightGBM                          0:00:34       0.1426    0.2569\n",
            "        23   SparseNormalizer XGBoostRegressor              0:00:35       0.2078    0.2569\n",
            "        24   MaxAbsScaler RandomForest                      0:00:40       0.2245    0.2569\n",
            "        25   MaxAbsScaler RandomForest                      0:00:31       0.1883    0.2569\n",
            "        26   MaxAbsScaler ExtremeRandomTrees                0:04:51       0.2278    0.2569\n",
            "        27   StandardScalerWrapper RandomForest             0:00:40       0.2318    0.2569\n",
            "        28   SparseNormalizer XGBoostRegressor              0:00:26       0.2188    0.2569\n",
            "        29   StandardScalerWrapper XGBoostRegressor         0:00:28       0.2578    0.2578\n",
            "        30   StandardScalerWrapper XGBoostRegressor         0:00:28      -0.1113    0.2578\n",
            "        31   RobustScaler RandomForest                      0:00:38       0.2587    0.2587\n",
            "        32   StandardScalerWrapper LightGBM                 0:00:29       0.1276    0.2587\n",
            "        33   MinMaxScaler RandomForest                      0:00:30       0.2465    0.2587\n",
            "        34   StandardScalerWrapper ExtremeRandomTrees       0:00:54       0.2281    0.2587\n",
            "        35   SparseNormalizer RandomForest                  0:00:30       0.2010    0.2587\n",
            "        36   RobustScaler ElasticNet                        0:00:27       0.2479    0.2587\n",
            "        37   StandardScalerWrapper ExtremeRandomTrees       0:00:34       0.2100    0.2587\n",
            "        38   StandardScalerWrapper ElasticNet               0:00:25       0.2475    0.2587\n",
            "        39   RobustScaler RandomForest                      0:00:27       0.2413    0.2587\n",
            "        40   StandardScalerWrapper RandomForest             0:00:25       0.1747    0.2587\n",
            "        41   StandardScalerWrapper XGBoostRegressor         0:00:27       0.2171    0.2587\n",
            "        42   MinMaxScaler RandomForest                      0:00:51       0.2330    0.2587\n",
            "        43   VotingEnsemble                                 0:01:33       0.2824    0.2824\n",
            "        44   StackEnsemble                                  0:01:17       0.2749    0.2824\n",
            "Stopping criteria reached at iteration 45. Ending experiment.\n",
            "****************************************************************************************************\n",
            "Current status: BestRunExplainModel. Best run model explanations started\n",
            "Current status: ModelExplanationDataSetSetup. Model explanations data setup completed\n",
            "Current status: PickSurrogateModel. Choosing LightGBM as the surrogate model for explanations\n",
            "Current status: EngineeredFeatureExplanations. Computation of engineered features started\n",
            "Current status: EngineeredFeatureExplanations. Computation of engineered features completed\n",
            "Current status: RawFeaturesExplanations. Computation of raw features started\n",
            "Current status: RawFeaturesExplanations. Computation of raw features completed\n",
            "Current status: BestRunExplainModel. Best run model explanations completed\n",
            "****************************************************************************************************\n"
          ]
        }
      ],
      "execution_count": 6,
      "metadata": {
        "gather": {
          "logged": 1610566370687
        }
      }
    },
    {
      "cell_type": "code",
      "source": [
        "RunDetails(remote_run).show()"
      ],
      "outputs": [
        {
          "output_type": "display_data",
          "data": {
            "text/plain": "_AutoMLWidget(widget_settings={'childWidgetDisplay': 'popup', 'send_telemetry': False, 'log_level': 'INFO', 's…",
            "application/vnd.jupyter.widget-view+json": {
              "version_major": 2,
              "version_minor": 0,
              "model_id": "e0498fba857a48eebf8a653747e27309"
            }
          },
          "metadata": {}
        },
        {
          "output_type": "display_data",
          "data": {
            "application/aml.mini.widget.v1": "{\"status\": \"Completed\", \"workbench_run_details_uri\": \"https://ml.azure.com/experiments/labor-prediction-experiment/runs/AutoML_f5cf4815-5ce1-4d49-8ed0-cc9230a0cad6?wsid=/subscriptions/976ee174-3882-4721-b90a-b5fef6b72f24/resourcegroups/aml-quickstarts-134585/workspaces/quick-starts-ws-134585\", \"run_id\": \"AutoML_f5cf4815-5ce1-4d49-8ed0-cc9230a0cad6\", \"run_properties\": {\"run_id\": \"AutoML_f5cf4815-5ce1-4d49-8ed0-cc9230a0cad6\", \"created_utc\": \"2021-01-13T18:57:57.571843Z\", \"properties\": {\"num_iterations\": \"1000\", \"training_type\": \"TrainFull\", \"acquisition_function\": \"EI\", \"primary_metric\": \"r2_score\", \"train_split\": \"0\", \"acquisition_parameter\": \"0\", \"num_cross_validation\": \"10\", \"target\": \"local\", \"AMLSettingsJsonString\": \"{\\\"path\\\":null,\\\"name\\\":\\\"labor-prediction-experiment\\\",\\\"subscription_id\\\":\\\"976ee174-3882-4721-b90a-b5fef6b72f24\\\",\\\"resource_group\\\":\\\"aml-quickstarts-134585\\\",\\\"workspace_name\\\":\\\"quick-starts-ws-134585\\\",\\\"region\\\":\\\"southcentralus\\\",\\\"compute_target\\\":\\\"local\\\",\\\"spark_service\\\":null,\\\"azure_service\\\":\\\"Microsoft.AzureNotebookVM\\\",\\\"many_models\\\":false,\\\"pipeline_fetch_max_batch_size\\\":1,\\\"iterations\\\":1000,\\\"primary_metric\\\":\\\"r2_score\\\",\\\"task_type\\\":\\\"regression\\\",\\\"data_script\\\":null,\\\"validation_size\\\":0.0,\\\"n_cross_validations\\\":10,\\\"y_min\\\":null,\\\"y_max\\\":null,\\\"num_classes\\\":null,\\\"featurization\\\":\\\"auto\\\",\\\"_ignore_package_version_incompatibilities\\\":false,\\\"is_timeseries\\\":false,\\\"max_cores_per_iteration\\\":1,\\\"max_concurrent_iterations\\\":1,\\\"iteration_timeout_minutes\\\":null,\\\"mem_in_mb\\\":null,\\\"enforce_time_on_windows\\\":false,\\\"experiment_timeout_minutes\\\":30,\\\"experiment_exit_score\\\":null,\\\"whitelist_models\\\":null,\\\"blacklist_algos\\\":[\\\"TensorFlowDNN\\\",\\\"TensorFlowLinearRegressor\\\"],\\\"supported_models\\\":[\\\"GradientBoosting\\\",\\\"LassoLars\\\",\\\"ExtremeRandomTrees\\\",\\\"LightGBM\\\",\\\"TensorFlowLinearRegressor\\\",\\\"KNN\\\",\\\"RandomForest\\\",\\\"TensorFlowDNN\\\",\\\"OnlineGradientDescentRegressor\\\",\\\"DecisionTree\\\",\\\"XGBoostRegressor\\\",\\\"SGD\\\",\\\"ElasticNet\\\",\\\"FastLinearRegressor\\\"],\\\"auto_blacklist\\\":true,\\\"blacklist_samples_reached\\\":false,\\\"exclude_nan_labels\\\":true,\\\"verbosity\\\":20,\\\"_debug_log\\\":\\\"automl.log\\\",\\\"show_warnings\\\":false,\\\"model_explainability\\\":true,\\\"service_url\\\":null,\\\"sdk_url\\\":null,\\\"sdk_packages\\\":null,\\\"enable_onnx_compatible_models\\\":false,\\\"enable_split_onnx_featurizer_estimator_models\\\":false,\\\"vm_type\\\":null,\\\"telemetry_verbosity\\\":20,\\\"send_telemetry\\\":true,\\\"enable_dnn\\\":false,\\\"scenario\\\":\\\"SDK-1.13.0\\\",\\\"environment_label\\\":null,\\\"force_text_dnn\\\":false,\\\"enable_feature_sweeping\\\":true,\\\"enable_early_stopping\\\":false,\\\"early_stopping_n_iters\\\":10,\\\"metrics\\\":null,\\\"enable_ensembling\\\":true,\\\"enable_stack_ensembling\\\":true,\\\"ensemble_iterations\\\":15,\\\"enable_tf\\\":false,\\\"enable_subsampling\\\":null,\\\"subsample_seed\\\":null,\\\"enable_nimbusml\\\":false,\\\"enable_streaming\\\":false,\\\"force_streaming\\\":false,\\\"track_child_runs\\\":true,\\\"allowed_private_models\\\":[],\\\"label_column_name\\\":\\\"TotalInstallationTime\\\",\\\"weight_column_name\\\":null,\\\"cv_split_column_names\\\":null,\\\"enable_local_managed\\\":false,\\\"_local_managed_run_id\\\":null,\\\"cost_mode\\\":1,\\\"lag_length\\\":0,\\\"metric_operation\\\":\\\"maximize\\\",\\\"preprocess\\\":true}\", \"DataPrepJsonString\": null, \"EnableSubsampling\": null, \"runTemplate\": \"AutoML\", \"azureml.runsource\": \"automl\", \"display_task_type\": \"regression\", \"dependencies_versions\": \"{\\\"azureml-widgets\\\": \\\"1.19.0\\\", \\\"azureml-train\\\": \\\"1.19.0\\\", \\\"azureml-train-restclients-hyperdrive\\\": \\\"1.19.0\\\", \\\"azureml-train-core\\\": \\\"1.19.0\\\", \\\"azureml-train-automl\\\": \\\"1.19.0\\\", \\\"azureml-train-automl-runtime\\\": \\\"1.19.0\\\", \\\"azureml-train-automl-client\\\": \\\"1.19.0\\\", \\\"azureml-tensorboard\\\": \\\"1.19.0\\\", \\\"azureml-telemetry\\\": \\\"1.19.0\\\", \\\"azureml-sdk\\\": \\\"1.19.0\\\", \\\"azureml-samples\\\": \\\"0+unknown\\\", \\\"azureml-pipeline\\\": \\\"1.19.0\\\", \\\"azureml-pipeline-steps\\\": \\\"1.19.0\\\", \\\"azureml-pipeline-core\\\": \\\"1.19.0\\\", \\\"azureml-opendatasets\\\": \\\"1.19.0\\\", \\\"azureml-model-management-sdk\\\": \\\"1.0.1b6.post1\\\", \\\"azureml-mlflow\\\": \\\"1.19.0\\\", \\\"azureml-interpret\\\": \\\"1.19.0\\\", \\\"azureml-explain-model\\\": \\\"1.19.0\\\", \\\"azureml-defaults\\\": \\\"1.19.0\\\", \\\"azureml-dataset-runtime\\\": \\\"1.19.0\\\", \\\"azureml-dataprep\\\": \\\"2.6.1\\\", \\\"azureml-dataprep-rslex\\\": \\\"1.4.0\\\", \\\"azureml-dataprep-native\\\": \\\"26.0.0\\\", \\\"azureml-datadrift\\\": \\\"1.19.0\\\", \\\"azureml-core\\\": \\\"1.19.0\\\", \\\"azureml-contrib-services\\\": \\\"1.19.0\\\", \\\"azureml-contrib-server\\\": \\\"1.19.0\\\", \\\"azureml-contrib-reinforcementlearning\\\": \\\"1.19.0\\\", \\\"azureml-contrib-pipeline-steps\\\": \\\"1.19.0\\\", \\\"azureml-contrib-notebook\\\": \\\"1.19.0\\\", \\\"azureml-contrib-interpret\\\": \\\"1.19.0\\\", \\\"azureml-contrib-gbdt\\\": \\\"1.19.0\\\", \\\"azureml-contrib-fairness\\\": \\\"1.19.0\\\", \\\"azureml-contrib-dataset\\\": \\\"1.19.0\\\", \\\"azureml-cli-common\\\": \\\"1.19.0\\\", \\\"azureml-automl-runtime\\\": \\\"1.19.0\\\", \\\"azureml-automl-core\\\": \\\"1.19.0\\\", \\\"azureml-accel-models\\\": \\\"1.19.0\\\"}\", \"_aml_system_scenario_identification\": \"Local.Parent\", \"ClientSdkVersion\": \"1.19.0\", \"ClientType\": \"SDK\", \"environment_cpu_name\": \"AzureML-AutoML\", \"environment_cpu_label\": \"prod\", \"environment_gpu_name\": \"AzureML-AutoML-GPU\", \"environment_gpu_label\": \"prod\", \"root_attribution\": \"automl\", \"attribution\": \"AutoML\", \"Orchestrator\": \"AutoML\", \"_azureml.ComputeTargetType\": \"local\", \"ProblemInfoJsonString\": \"{\\\"dataset_num_categorical\\\": 0, \\\"is_sparse\\\": false, \\\"subsampling\\\": false, \\\"dataset_classes\\\": 45, \\\"dataset_features\\\": 54, \\\"dataset_samples\\\": 1728, \\\"single_frequency_class_detected\\\": false}\", \"feature_skus\": \"automatedml_sdk_guardrails\"}, \"tags\": {\"model_explain_run\": \"best_run\", \"best_score\": \"0.2823926885007036\", \"best_pipeline\": \"VotingEnsemble\", \"automl_best_child_run_id\": \"AutoML_f5cf4815-5ce1-4d49-8ed0-cc9230a0cad6_43\", \"model_explain_best_run_child_id\": \"AutoML_f5cf4815-5ce1-4d49-8ed0-cc9230a0cad6_43\"}, \"end_time_utc\": \"2021-01-13T19:31:33.291433Z\", \"status\": \"Completed\", \"log_files\": {}, \"log_groups\": [], \"run_duration\": \"0:33:35\"}, \"child_runs\": [{\"run_id\": \"AutoML_f5cf4815-5ce1-4d49-8ed0-cc9230a0cad6_0\", \"run_number\": 2, \"metric\": null, \"status\": \"Completed\", \"run_type\": null, \"training_percent\": \"100\", \"start_time\": \"2021-01-13T18:58:21.676925Z\", \"end_time\": \"2021-01-13T18:58:58.305251Z\", \"created_time\": \"2021-01-13T18:58:21.072454Z\", \"created_time_dt\": \"2021-01-13T18:58:21.072454Z\", \"duration\": \"0:00:37\", \"iteration\": \"0\", \"goal\": \"r2_score_max\", \"run_name\": \"MaxAbsScaler, LightGBM\", \"run_properties\": \"copy=True\", \"primary_metric\": 0.18038467, \"best_metric\": 0.18038467}, {\"run_id\": \"AutoML_f5cf4815-5ce1-4d49-8ed0-cc9230a0cad6_1\", \"run_number\": 3, \"metric\": null, \"status\": \"Completed\", \"run_type\": null, \"training_percent\": \"100\", \"start_time\": \"2021-01-13T18:58:59.724672Z\", \"end_time\": \"2021-01-13T18:59:31.613807Z\", \"created_time\": \"2021-01-13T18:58:59.254734Z\", \"created_time_dt\": \"2021-01-13T18:58:59.254734Z\", \"duration\": \"0:00:32\", \"iteration\": \"1\", \"goal\": \"r2_score_max\", \"run_name\": \"MaxAbsScaler, XGBoostRegressor\", \"run_properties\": \"copy=True\", \"primary_metric\": 0.24772993, \"best_metric\": 0.24772993}, {\"run_id\": \"AutoML_f5cf4815-5ce1-4d49-8ed0-cc9230a0cad6_2\", \"run_number\": 4, \"metric\": null, \"status\": \"Completed\", \"run_type\": null, \"training_percent\": \"100\", \"start_time\": \"2021-01-13T18:59:32.283345Z\", \"end_time\": \"2021-01-13T19:00:09.913172Z\", \"created_time\": \"2021-01-13T18:59:32.171519Z\", \"created_time_dt\": \"2021-01-13T18:59:32.171519Z\", \"duration\": \"0:00:37\", \"iteration\": \"2\", \"goal\": \"r2_score_max\", \"run_name\": \"SparseNormalizer, XGBoostRegressor\", \"run_properties\": \"<azureml.automl.runtime.shared.model_wrappers.SparseNormalizer object at 0x7f271a4b9cf8\", \"primary_metric\": 0.17991928, \"best_metric\": 0.24772993}, {\"run_id\": \"AutoML_f5cf4815-5ce1-4d49-8ed0-cc9230a0cad6_3\", \"run_number\": 5, \"metric\": null, \"status\": \"Completed\", \"run_type\": null, \"training_percent\": \"100\", \"start_time\": \"2021-01-13T19:00:11.899993Z\", \"end_time\": \"2021-01-13T19:00:57.801899Z\", \"created_time\": \"2021-01-13T19:00:11.58911Z\", \"created_time_dt\": \"2021-01-13T19:00:11.58911Z\", \"duration\": \"0:00:46\", \"iteration\": \"3\", \"goal\": \"r2_score_max\", \"run_name\": \"MaxAbsScaler, RandomForest\", \"run_properties\": \"copy=True\", \"primary_metric\": 0.25378671, \"best_metric\": 0.25378671}, {\"run_id\": \"AutoML_f5cf4815-5ce1-4d49-8ed0-cc9230a0cad6_4\", \"run_number\": 6, \"metric\": null, \"status\": \"Completed\", \"run_type\": null, \"training_percent\": \"100\", \"start_time\": \"2021-01-13T19:00:59.272454Z\", \"end_time\": \"2021-01-13T19:01:36.732827Z\", \"created_time\": \"2021-01-13T19:00:59.164732Z\", \"created_time_dt\": \"2021-01-13T19:00:59.164732Z\", \"duration\": \"0:00:37\", \"iteration\": \"4\", \"goal\": \"r2_score_max\", \"run_name\": \"StandardScalerWrapper, XGBoostRegressor\", \"run_properties\": \"<azureml.automl.runtime.shared.model_wrappers.StandardScalerWrapper object at 0x7f271a6a7cc0\", \"primary_metric\": 0.13458903, \"best_metric\": 0.25378671}, {\"run_id\": \"AutoML_f5cf4815-5ce1-4d49-8ed0-cc9230a0cad6_5\", \"run_number\": 7, \"metric\": null, \"status\": \"Completed\", \"run_type\": null, \"training_percent\": \"100\", \"start_time\": \"2021-01-13T19:01:38.731957Z\", \"end_time\": \"2021-01-13T19:02:15.875007Z\", \"created_time\": \"2021-01-13T19:01:38.422998Z\", \"created_time_dt\": \"2021-01-13T19:01:38.422998Z\", \"duration\": \"0:00:37\", \"iteration\": \"5\", \"goal\": \"r2_score_max\", \"run_name\": \"MaxAbsScaler, ElasticNet\", \"run_properties\": \"copy=True\", \"primary_metric\": 0.24386888, \"best_metric\": 0.25378671}, {\"run_id\": \"AutoML_f5cf4815-5ce1-4d49-8ed0-cc9230a0cad6_6\", \"run_number\": 8, \"metric\": null, \"status\": \"Completed\", \"run_type\": null, \"training_percent\": \"100\", \"start_time\": \"2021-01-13T19:02:17.49347Z\", \"end_time\": \"2021-01-13T19:03:05.440795Z\", \"created_time\": \"2021-01-13T19:02:17.37491Z\", \"created_time_dt\": \"2021-01-13T19:02:17.37491Z\", \"duration\": \"0:00:48\", \"iteration\": \"6\", \"goal\": \"r2_score_max\", \"run_name\": \"MinMaxScaler, RandomForest\", \"run_properties\": \"copy=True, feature_range=(0, 1\", \"primary_metric\": 0.23541557, \"best_metric\": 0.25378671}, {\"run_id\": \"AutoML_f5cf4815-5ce1-4d49-8ed0-cc9230a0cad6_7\", \"run_number\": 9, \"metric\": null, \"status\": \"Completed\", \"run_type\": null, \"training_percent\": \"100\", \"start_time\": \"2021-01-13T19:03:06.981593Z\", \"end_time\": \"2021-01-13T19:03:39.047802Z\", \"created_time\": \"2021-01-13T19:03:06.859936Z\", \"created_time_dt\": \"2021-01-13T19:03:06.859936Z\", \"duration\": \"0:00:32\", \"iteration\": \"7\", \"goal\": \"r2_score_max\", \"run_name\": \"StandardScalerWrapper, XGBoostRegressor\", \"run_properties\": \"<azureml.automl.runtime.shared.model_wrappers.StandardScalerWrapper object at 0x7f271a60a2e8\", \"primary_metric\": 0.17770185, \"best_metric\": 0.25378671}, {\"run_id\": \"AutoML_f5cf4815-5ce1-4d49-8ed0-cc9230a0cad6_8\", \"run_number\": 10, \"metric\": null, \"status\": \"Completed\", \"run_type\": null, \"training_percent\": \"100\", \"start_time\": \"2021-01-13T19:03:41.664114Z\", \"end_time\": \"2021-01-13T19:04:15.895947Z\", \"created_time\": \"2021-01-13T19:03:41.540874Z\", \"created_time_dt\": \"2021-01-13T19:03:41.540874Z\", \"duration\": \"0:00:34\", \"iteration\": \"8\", \"goal\": \"r2_score_max\", \"run_name\": \"MinMaxScaler, ExtremeRandomTrees\", \"run_properties\": \"copy=True, feature_range=(0, 1\", \"primary_metric\": 0.24147705, \"best_metric\": 0.25378671}, {\"run_id\": \"AutoML_f5cf4815-5ce1-4d49-8ed0-cc9230a0cad6_9\", \"run_number\": 11, \"metric\": null, \"status\": \"Completed\", \"run_type\": null, \"training_percent\": \"100\", \"start_time\": \"2021-01-13T19:04:17.37337Z\", \"end_time\": \"2021-01-13T19:04:43.936722Z\", \"created_time\": \"2021-01-13T19:04:17.259656Z\", \"created_time_dt\": \"2021-01-13T19:04:17.259656Z\", \"duration\": \"0:00:26\", \"iteration\": \"9\", \"goal\": \"r2_score_max\", \"run_name\": \"StandardScalerWrapper, ElasticNet\", \"run_properties\": \"<azureml.automl.runtime.shared.model_wrappers.StandardScalerWrapper object at 0x7f271a479128\", \"primary_metric\": 0.24850736, \"best_metric\": 0.25378671}, {\"run_id\": \"AutoML_f5cf4815-5ce1-4d49-8ed0-cc9230a0cad6_10\", \"run_number\": 12, \"metric\": null, \"status\": \"Completed\", \"run_type\": null, \"training_percent\": \"100\", \"start_time\": \"2021-01-13T19:04:45.49062Z\", \"end_time\": \"2021-01-13T19:05:40.921118Z\", \"created_time\": \"2021-01-13T19:04:45.373567Z\", \"created_time_dt\": \"2021-01-13T19:04:45.373567Z\", \"duration\": \"0:00:55\", \"iteration\": \"10\", \"goal\": \"r2_score_max\", \"run_name\": \"MinMaxScaler, RandomForest\", \"run_properties\": \"copy=True, feature_range=(0, 1\", \"primary_metric\": 0.25692858, \"best_metric\": 0.25692858}, {\"run_id\": \"AutoML_f5cf4815-5ce1-4d49-8ed0-cc9230a0cad6_11\", \"run_number\": 13, \"metric\": null, \"status\": \"Completed\", \"run_type\": null, \"training_percent\": \"100\", \"start_time\": \"2021-01-13T19:05:43.729615Z\", \"end_time\": \"2021-01-13T19:06:17.629695Z\", \"created_time\": \"2021-01-13T19:05:43.215807Z\", \"created_time_dt\": \"2021-01-13T19:05:43.215807Z\", \"duration\": \"0:00:34\", \"iteration\": \"11\", \"goal\": \"r2_score_max\", \"run_name\": \"MinMaxScaler, RandomForest\", \"run_properties\": \"copy=True, feature_range=(0, 1\", \"primary_metric\": 0.23609042, \"best_metric\": 0.25692858}, {\"run_id\": \"AutoML_f5cf4815-5ce1-4d49-8ed0-cc9230a0cad6_12\", \"run_number\": 14, \"metric\": null, \"status\": \"Completed\", \"run_type\": null, \"training_percent\": \"100\", \"start_time\": \"2021-01-13T19:06:20.595012Z\", \"end_time\": \"2021-01-13T19:06:51.515673Z\", \"created_time\": \"2021-01-13T19:06:19.952744Z\", \"created_time_dt\": \"2021-01-13T19:06:19.952744Z\", \"duration\": \"0:00:31\", \"iteration\": \"12\", \"goal\": \"r2_score_max\", \"run_name\": \"StandardScalerWrapper, XGBoostRegressor\", \"run_properties\": \"<azureml.automl.runtime.shared.model_wrappers.StandardScalerWrapper object at 0x7f27dbe941d0\", \"primary_metric\": 0.2239727, \"best_metric\": 0.25692858}, {\"run_id\": \"AutoML_f5cf4815-5ce1-4d49-8ed0-cc9230a0cad6_13\", \"run_number\": 15, \"metric\": null, \"status\": \"Completed\", \"run_type\": null, \"training_percent\": \"100\", \"start_time\": \"2021-01-13T19:06:53.450574Z\", \"end_time\": \"2021-01-13T19:07:32.381258Z\", \"created_time\": \"2021-01-13T19:06:53.134637Z\", \"created_time_dt\": \"2021-01-13T19:06:53.134637Z\", \"duration\": \"0:00:39\", \"iteration\": \"13\", \"goal\": \"r2_score_max\", \"run_name\": \"RobustScaler, LassoLars\", \"run_properties\": \"copy=True, quantile_range=[10, 90], with_centering=False,\\n             with_scaling=True\", \"primary_metric\": 0.24343803, \"best_metric\": 0.25692858}, {\"run_id\": \"AutoML_f5cf4815-5ce1-4d49-8ed0-cc9230a0cad6_14\", \"run_number\": 16, \"metric\": null, \"status\": \"Completed\", \"run_type\": null, \"training_percent\": \"100\", \"start_time\": \"2021-01-13T19:07:33.926212Z\", \"end_time\": \"2021-01-13T19:08:06.83005Z\", \"created_time\": \"2021-01-13T19:07:33.797263Z\", \"created_time_dt\": \"2021-01-13T19:07:33.797263Z\", \"duration\": \"0:00:33\", \"iteration\": \"14\", \"goal\": \"r2_score_max\", \"run_name\": \"MinMaxScaler, ExtremeRandomTrees\", \"run_properties\": \"copy=True, feature_range=(0, 1\", \"primary_metric\": 0.22500374, \"best_metric\": 0.25692858}, {\"run_id\": \"AutoML_f5cf4815-5ce1-4d49-8ed0-cc9230a0cad6_15\", \"run_number\": 17, \"metric\": null, \"status\": \"Completed\", \"run_type\": null, \"training_percent\": \"100\", \"start_time\": \"2021-01-13T19:08:09.846501Z\", \"end_time\": \"2021-01-13T19:08:40.155656Z\", \"created_time\": \"2021-01-13T19:08:09.342308Z\", \"created_time_dt\": \"2021-01-13T19:08:09.342308Z\", \"duration\": \"0:00:30\", \"iteration\": \"15\", \"goal\": \"r2_score_max\", \"run_name\": \"MaxAbsScaler, ExtremeRandomTrees\", \"run_properties\": \"copy=True\", \"primary_metric\": 0.18171356, \"best_metric\": 0.25692858}, {\"run_id\": \"AutoML_f5cf4815-5ce1-4d49-8ed0-cc9230a0cad6_16\", \"run_number\": 18, \"metric\": null, \"status\": \"Completed\", \"run_type\": null, \"training_percent\": \"100\", \"start_time\": \"2021-01-13T19:08:42.772057Z\", \"end_time\": \"2021-01-13T19:09:17.976876Z\", \"created_time\": \"2021-01-13T19:08:42.319534Z\", \"created_time_dt\": \"2021-01-13T19:08:42.319534Z\", \"duration\": \"0:00:35\", \"iteration\": \"16\", \"goal\": \"r2_score_max\", \"run_name\": \"MinMaxScaler, ExtremeRandomTrees\", \"run_properties\": \"copy=True, feature_range=(0, 1\", \"primary_metric\": 0.24659587, \"best_metric\": 0.25692858}, {\"run_id\": \"AutoML_f5cf4815-5ce1-4d49-8ed0-cc9230a0cad6_17\", \"run_number\": 19, \"metric\": null, \"status\": \"Completed\", \"run_type\": null, \"training_percent\": \"100\", \"start_time\": \"2021-01-13T19:09:19.603625Z\", \"end_time\": \"2021-01-13T19:09:53.743915Z\", \"created_time\": \"2021-01-13T19:09:19.493846Z\", \"created_time_dt\": \"2021-01-13T19:09:19.493846Z\", \"duration\": \"0:00:34\", \"iteration\": \"17\", \"goal\": \"r2_score_max\", \"run_name\": \"MaxAbsScaler, ElasticNet\", \"run_properties\": \"copy=True\", \"primary_metric\": 0.24692708, \"best_metric\": 0.25692858}, {\"run_id\": \"AutoML_f5cf4815-5ce1-4d49-8ed0-cc9230a0cad6_18\", \"run_number\": 20, \"metric\": null, \"status\": \"Completed\", \"run_type\": null, \"training_percent\": \"100\", \"start_time\": \"2021-01-13T19:09:55.318185Z\", \"end_time\": \"2021-01-13T19:10:24.470818Z\", \"created_time\": \"2021-01-13T19:09:55.153425Z\", \"created_time_dt\": \"2021-01-13T19:09:55.153425Z\", \"duration\": \"0:00:29\", \"iteration\": \"18\", \"goal\": \"r2_score_max\", \"run_name\": \"MinMaxScaler, RandomForest\", \"run_properties\": \"copy=True, feature_range=(0, 1\", \"primary_metric\": 0.17735644, \"best_metric\": 0.25692858}, {\"run_id\": \"AutoML_f5cf4815-5ce1-4d49-8ed0-cc9230a0cad6_19\", \"run_number\": 21, \"metric\": null, \"status\": \"Completed\", \"run_type\": null, \"training_percent\": \"100\", \"start_time\": \"2021-01-13T19:10:26.492705Z\", \"end_time\": \"2021-01-13T19:10:55.643181Z\", \"created_time\": \"2021-01-13T19:10:26.200398Z\", \"created_time_dt\": \"2021-01-13T19:10:26.200398Z\", \"duration\": \"0:00:29\", \"iteration\": \"19\", \"goal\": \"r2_score_max\", \"run_name\": \"MaxAbsScaler, RandomForest\", \"run_properties\": \"copy=True\", \"primary_metric\": 0.23264619, \"best_metric\": 0.25692858}, {\"run_id\": \"AutoML_f5cf4815-5ce1-4d49-8ed0-cc9230a0cad6_20\", \"run_number\": 22, \"metric\": null, \"status\": \"Completed\", \"run_type\": null, \"training_percent\": \"100\", \"start_time\": \"2021-01-13T19:10:57.304266Z\", \"end_time\": \"2021-01-13T19:11:30.876343Z\", \"created_time\": \"2021-01-13T19:10:57.088129Z\", \"created_time_dt\": \"2021-01-13T19:10:57.088129Z\", \"duration\": \"0:00:33\", \"iteration\": \"20\", \"goal\": \"r2_score_max\", \"run_name\": \"RobustScaler, ElasticNet\", \"run_properties\": \"copy=True, quantile_range=[10, 90], with_centering=True,\\n             with_scaling=False\", \"primary_metric\": 0.24826933, \"best_metric\": 0.25692858}, {\"run_id\": \"AutoML_f5cf4815-5ce1-4d49-8ed0-cc9230a0cad6_21\", \"run_number\": 23, \"metric\": null, \"status\": \"Completed\", \"run_type\": null, \"training_percent\": \"100\", \"start_time\": \"2021-01-13T19:11:32.389096Z\", \"end_time\": \"2021-01-13T19:12:04.815957Z\", \"created_time\": \"2021-01-13T19:11:32.268179Z\", \"created_time_dt\": \"2021-01-13T19:11:32.268179Z\", \"duration\": \"0:00:32\", \"iteration\": \"21\", \"goal\": \"r2_score_max\", \"run_name\": \"StandardScalerWrapper, RandomForest\", \"run_properties\": \"<azureml.automl.runtime.shared.model_wrappers.StandardScalerWrapper object at 0x7f270bebb828\", \"primary_metric\": 0.24688916, \"best_metric\": 0.25692858}, {\"run_id\": \"AutoML_f5cf4815-5ce1-4d49-8ed0-cc9230a0cad6_22\", \"run_number\": 24, \"metric\": null, \"status\": \"Completed\", \"run_type\": null, \"training_percent\": \"100\", \"start_time\": \"2021-01-13T19:12:06.166644Z\", \"end_time\": \"2021-01-13T19:12:40.649978Z\", \"created_time\": \"2021-01-13T19:12:06.028959Z\", \"created_time_dt\": \"2021-01-13T19:12:06.028959Z\", \"duration\": \"0:00:34\", \"iteration\": \"22\", \"goal\": \"r2_score_max\", \"run_name\": \"RobustScaler, LightGBM\", \"run_properties\": \"copy=True, quantile_range=[10, 90], with_centering=False,\\n             with_scaling=True\", \"primary_metric\": 0.14258615, \"best_metric\": 0.25692858}, {\"run_id\": \"AutoML_f5cf4815-5ce1-4d49-8ed0-cc9230a0cad6_23\", \"run_number\": 25, \"metric\": null, \"status\": \"Completed\", \"run_type\": null, \"training_percent\": \"100\", \"start_time\": \"2021-01-13T19:12:41.983229Z\", \"end_time\": \"2021-01-13T19:13:17.384486Z\", \"created_time\": \"2021-01-13T19:12:41.860161Z\", \"created_time_dt\": \"2021-01-13T19:12:41.860161Z\", \"duration\": \"0:00:35\", \"iteration\": \"23\", \"goal\": \"r2_score_max\", \"run_name\": \"SparseNormalizer, XGBoostRegressor\", \"run_properties\": \"<azureml.automl.runtime.shared.model_wrappers.SparseNormalizer object at 0x7f271a3d9080\", \"primary_metric\": 0.20775006, \"best_metric\": 0.25692858}, {\"run_id\": \"AutoML_f5cf4815-5ce1-4d49-8ed0-cc9230a0cad6_24\", \"run_number\": 26, \"metric\": null, \"status\": \"Completed\", \"run_type\": null, \"training_percent\": \"100\", \"start_time\": \"2021-01-13T19:13:18.893687Z\", \"end_time\": \"2021-01-13T19:13:58.360959Z\", \"created_time\": \"2021-01-13T19:13:18.784026Z\", \"created_time_dt\": \"2021-01-13T19:13:18.784026Z\", \"duration\": \"0:00:39\", \"iteration\": \"24\", \"goal\": \"r2_score_max\", \"run_name\": \"MaxAbsScaler, RandomForest\", \"run_properties\": \"copy=True\", \"primary_metric\": 0.22445998, \"best_metric\": 0.25692858}, {\"run_id\": \"AutoML_f5cf4815-5ce1-4d49-8ed0-cc9230a0cad6_25\", \"run_number\": 27, \"metric\": null, \"status\": \"Completed\", \"run_type\": null, \"training_percent\": \"100\", \"start_time\": \"2021-01-13T19:14:01.740525Z\", \"end_time\": \"2021-01-13T19:14:32.791331Z\", \"created_time\": \"2021-01-13T19:14:01.290077Z\", \"created_time_dt\": \"2021-01-13T19:14:01.290077Z\", \"duration\": \"0:00:31\", \"iteration\": \"25\", \"goal\": \"r2_score_max\", \"run_name\": \"MaxAbsScaler, RandomForest\", \"run_properties\": \"copy=True\", \"primary_metric\": 0.18827417, \"best_metric\": 0.25692858}, {\"run_id\": \"AutoML_f5cf4815-5ce1-4d49-8ed0-cc9230a0cad6_26\", \"run_number\": 28, \"metric\": null, \"status\": \"Completed\", \"run_type\": null, \"training_percent\": \"100\", \"start_time\": \"2021-01-13T19:14:35.473717Z\", \"end_time\": \"2021-01-13T19:19:26.410602Z\", \"created_time\": \"2021-01-13T19:14:35.03391Z\", \"created_time_dt\": \"2021-01-13T19:14:35.03391Z\", \"duration\": \"0:04:51\", \"iteration\": \"26\", \"goal\": \"r2_score_max\", \"run_name\": \"MaxAbsScaler, ExtremeRandomTrees\", \"run_properties\": \"copy=True\", \"primary_metric\": 0.22778167, \"best_metric\": 0.25692858}, {\"run_id\": \"AutoML_f5cf4815-5ce1-4d49-8ed0-cc9230a0cad6_27\", \"run_number\": 29, \"metric\": null, \"status\": \"Completed\", \"run_type\": null, \"training_percent\": \"100\", \"start_time\": \"2021-01-13T19:19:27.805856Z\", \"end_time\": \"2021-01-13T19:20:07.786373Z\", \"created_time\": \"2021-01-13T19:19:27.67283Z\", \"created_time_dt\": \"2021-01-13T19:19:27.67283Z\", \"duration\": \"0:00:40\", \"iteration\": \"27\", \"goal\": \"r2_score_max\", \"run_name\": \"StandardScalerWrapper, RandomForest\", \"run_properties\": \"<azureml.automl.runtime.shared.model_wrappers.StandardScalerWrapper object at 0x7f270bf45898\", \"primary_metric\": 0.2318447, \"best_metric\": 0.25692858}, {\"run_id\": \"AutoML_f5cf4815-5ce1-4d49-8ed0-cc9230a0cad6_28\", \"run_number\": 30, \"metric\": null, \"status\": \"Completed\", \"run_type\": null, \"training_percent\": \"100\", \"start_time\": \"2021-01-13T19:20:09.292213Z\", \"end_time\": \"2021-01-13T19:20:35.948111Z\", \"created_time\": \"2021-01-13T19:20:09.163905Z\", \"created_time_dt\": \"2021-01-13T19:20:09.163905Z\", \"duration\": \"0:00:26\", \"iteration\": \"28\", \"goal\": \"r2_score_max\", \"run_name\": \"SparseNormalizer, XGBoostRegressor\", \"run_properties\": \"<azureml.automl.runtime.shared.model_wrappers.SparseNormalizer object at 0x7f2706eb39e8\", \"primary_metric\": 0.21882078, \"best_metric\": 0.25692858}, {\"run_id\": \"AutoML_f5cf4815-5ce1-4d49-8ed0-cc9230a0cad6_29\", \"run_number\": 31, \"metric\": null, \"status\": \"Completed\", \"run_type\": null, \"training_percent\": \"100\", \"start_time\": \"2021-01-13T19:20:37.416296Z\", \"end_time\": \"2021-01-13T19:21:05.366238Z\", \"created_time\": \"2021-01-13T19:20:37.303404Z\", \"created_time_dt\": \"2021-01-13T19:20:37.303404Z\", \"duration\": \"0:00:28\", \"iteration\": \"29\", \"goal\": \"r2_score_max\", \"run_name\": \"StandardScalerWrapper, XGBoostRegressor\", \"run_properties\": \"<azureml.automl.runtime.shared.model_wrappers.StandardScalerWrapper object at 0x7f270bccf588\", \"primary_metric\": 0.25781181, \"best_metric\": 0.25781181}, {\"run_id\": \"AutoML_f5cf4815-5ce1-4d49-8ed0-cc9230a0cad6_30\", \"run_number\": 32, \"metric\": null, \"status\": \"Completed\", \"run_type\": null, \"training_percent\": \"100\", \"start_time\": \"2021-01-13T19:21:07.763283Z\", \"end_time\": \"2021-01-13T19:21:36.145249Z\", \"created_time\": \"2021-01-13T19:21:07.638268Z\", \"created_time_dt\": \"2021-01-13T19:21:07.638268Z\", \"duration\": \"0:00:28\", \"iteration\": \"30\", \"goal\": \"r2_score_max\", \"run_name\": \"StandardScalerWrapper, XGBoostRegressor\", \"run_properties\": \"<azureml.automl.runtime.shared.model_wrappers.StandardScalerWrapper object at 0x7f27dbeae860\", \"primary_metric\": -0.11133108, \"best_metric\": 0.25781181}, {\"run_id\": \"AutoML_f5cf4815-5ce1-4d49-8ed0-cc9230a0cad6_31\", \"run_number\": 33, \"metric\": null, \"status\": \"Completed\", \"run_type\": null, \"training_percent\": \"100\", \"start_time\": \"2021-01-13T19:21:37.423927Z\", \"end_time\": \"2021-01-13T19:22:15.379006Z\", \"created_time\": \"2021-01-13T19:21:37.316035Z\", \"created_time_dt\": \"2021-01-13T19:21:37.316035Z\", \"duration\": \"0:00:38\", \"iteration\": \"31\", \"goal\": \"r2_score_max\", \"run_name\": \"RobustScaler, RandomForest\", \"run_properties\": \"copy=True, quantile_range=[25, 75], with_centering=True,\\n             with_scaling=True\", \"primary_metric\": 0.2587435, \"best_metric\": 0.2587435}, {\"run_id\": \"AutoML_f5cf4815-5ce1-4d49-8ed0-cc9230a0cad6_32\", \"run_number\": 34, \"metric\": null, \"status\": \"Completed\", \"run_type\": null, \"training_percent\": \"100\", \"start_time\": \"2021-01-13T19:22:16.784453Z\", \"end_time\": \"2021-01-13T19:22:46.036742Z\", \"created_time\": \"2021-01-13T19:22:16.653392Z\", \"created_time_dt\": \"2021-01-13T19:22:16.653392Z\", \"duration\": \"0:00:29\", \"iteration\": \"32\", \"goal\": \"r2_score_max\", \"run_name\": \"StandardScalerWrapper, LightGBM\", \"run_properties\": \"<azureml.automl.runtime.shared.model_wrappers.StandardScalerWrapper object at 0x7f27dba4a7b8\", \"primary_metric\": 0.12760109, \"best_metric\": 0.2587435}, {\"run_id\": \"AutoML_f5cf4815-5ce1-4d49-8ed0-cc9230a0cad6_33\", \"run_number\": 35, \"metric\": null, \"status\": \"Completed\", \"run_type\": null, \"training_percent\": \"100\", \"start_time\": \"2021-01-13T19:22:47.376979Z\", \"end_time\": \"2021-01-13T19:23:17.343226Z\", \"created_time\": \"2021-01-13T19:22:47.238337Z\", \"created_time_dt\": \"2021-01-13T19:22:47.238337Z\", \"duration\": \"0:00:30\", \"iteration\": \"33\", \"goal\": \"r2_score_max\", \"run_name\": \"MinMaxScaler, RandomForest\", \"run_properties\": \"copy=True, feature_range=(0, 1\", \"primary_metric\": 0.24652248, \"best_metric\": 0.2587435}, {\"run_id\": \"AutoML_f5cf4815-5ce1-4d49-8ed0-cc9230a0cad6_34\", \"run_number\": 36, \"metric\": null, \"status\": \"Completed\", \"run_type\": null, \"training_percent\": \"100\", \"start_time\": \"2021-01-13T19:23:18.65851Z\", \"end_time\": \"2021-01-13T19:24:13.090869Z\", \"created_time\": \"2021-01-13T19:23:18.537127Z\", \"created_time_dt\": \"2021-01-13T19:23:18.537127Z\", \"duration\": \"0:00:54\", \"iteration\": \"34\", \"goal\": \"r2_score_max\", \"run_name\": \"StandardScalerWrapper, ExtremeRandomTrees\", \"run_properties\": \"<azureml.automl.runtime.shared.model_wrappers.StandardScalerWrapper object at 0x7f271a7a03c8\", \"primary_metric\": 0.22805515, \"best_metric\": 0.2587435}, {\"run_id\": \"AutoML_f5cf4815-5ce1-4d49-8ed0-cc9230a0cad6_35\", \"run_number\": 37, \"metric\": null, \"status\": \"Completed\", \"run_type\": null, \"training_percent\": \"100\", \"start_time\": \"2021-01-13T19:24:15.4163Z\", \"end_time\": \"2021-01-13T19:24:45.795498Z\", \"created_time\": \"2021-01-13T19:24:15.292824Z\", \"created_time_dt\": \"2021-01-13T19:24:15.292824Z\", \"duration\": \"0:00:30\", \"iteration\": \"35\", \"goal\": \"r2_score_max\", \"run_name\": \"SparseNormalizer, RandomForest\", \"run_properties\": \"<azureml.automl.runtime.shared.model_wrappers.SparseNormalizer object at 0x7f270ba803c8\", \"primary_metric\": 0.20102032, \"best_metric\": 0.2587435}, {\"run_id\": \"AutoML_f5cf4815-5ce1-4d49-8ed0-cc9230a0cad6_36\", \"run_number\": 38, \"metric\": null, \"status\": \"Completed\", \"run_type\": null, \"training_percent\": \"100\", \"start_time\": \"2021-01-13T19:24:47.205159Z\", \"end_time\": \"2021-01-13T19:25:14.554765Z\", \"created_time\": \"2021-01-13T19:24:47.074526Z\", \"created_time_dt\": \"2021-01-13T19:24:47.074526Z\", \"duration\": \"0:00:27\", \"iteration\": \"36\", \"goal\": \"r2_score_max\", \"run_name\": \"RobustScaler, ElasticNet\", \"run_properties\": \"copy=True, quantile_range=[10, 90], with_centering=False,\\n             with_scaling=False\", \"primary_metric\": 0.24791904, \"best_metric\": 0.2587435}, {\"run_id\": \"AutoML_f5cf4815-5ce1-4d49-8ed0-cc9230a0cad6_37\", \"run_number\": 39, \"metric\": null, \"status\": \"Completed\", \"run_type\": null, \"training_percent\": \"100\", \"start_time\": \"2021-01-13T19:25:16.053286Z\", \"end_time\": \"2021-01-13T19:25:50.132339Z\", \"created_time\": \"2021-01-13T19:25:15.926503Z\", \"created_time_dt\": \"2021-01-13T19:25:15.926503Z\", \"duration\": \"0:00:34\", \"iteration\": \"37\", \"goal\": \"r2_score_max\", \"run_name\": \"StandardScalerWrapper, ExtremeRandomTrees\", \"run_properties\": \"<azureml.automl.runtime.shared.model_wrappers.StandardScalerWrapper object at 0x7f2706f300f0\", \"primary_metric\": 0.209983, \"best_metric\": 0.2587435}, {\"run_id\": \"AutoML_f5cf4815-5ce1-4d49-8ed0-cc9230a0cad6_38\", \"run_number\": 40, \"metric\": null, \"status\": \"Completed\", \"run_type\": null, \"training_percent\": \"100\", \"start_time\": \"2021-01-13T19:25:51.614543Z\", \"end_time\": \"2021-01-13T19:26:17.110311Z\", \"created_time\": \"2021-01-13T19:25:51.462912Z\", \"created_time_dt\": \"2021-01-13T19:25:51.462912Z\", \"duration\": \"0:00:25\", \"iteration\": \"38\", \"goal\": \"r2_score_max\", \"run_name\": \"StandardScalerWrapper, ElasticNet\", \"run_properties\": \"<azureml.automl.runtime.shared.model_wrappers.StandardScalerWrapper object at 0x7f270bbd7978\", \"primary_metric\": 0.2475009, \"best_metric\": 0.2587435}, {\"run_id\": \"AutoML_f5cf4815-5ce1-4d49-8ed0-cc9230a0cad6_39\", \"run_number\": 41, \"metric\": null, \"status\": \"Completed\", \"run_type\": null, \"training_percent\": \"100\", \"start_time\": \"2021-01-13T19:26:18.62091Z\", \"end_time\": \"2021-01-13T19:26:45.84375Z\", \"created_time\": \"2021-01-13T19:26:18.510928Z\", \"created_time_dt\": \"2021-01-13T19:26:18.510928Z\", \"duration\": \"0:00:27\", \"iteration\": \"39\", \"goal\": \"r2_score_max\", \"run_name\": \"RobustScaler, RandomForest\", \"run_properties\": \"copy=True, quantile_range=[25, 75], with_centering=True,\\n             with_scaling=False\", \"primary_metric\": 0.24128995, \"best_metric\": 0.2587435}, {\"run_id\": \"AutoML_f5cf4815-5ce1-4d49-8ed0-cc9230a0cad6_40\", \"run_number\": 42, \"metric\": null, \"status\": \"Completed\", \"run_type\": null, \"training_percent\": \"100\", \"start_time\": \"2021-01-13T19:26:48.673474Z\", \"end_time\": \"2021-01-13T19:27:14.465723Z\", \"created_time\": \"2021-01-13T19:26:48.541304Z\", \"created_time_dt\": \"2021-01-13T19:26:48.541304Z\", \"duration\": \"0:00:25\", \"iteration\": \"40\", \"goal\": \"r2_score_max\", \"run_name\": \"StandardScalerWrapper, RandomForest\", \"run_properties\": \"<azureml.automl.runtime.shared.model_wrappers.StandardScalerWrapper object at 0x7f2706b7d780\", \"primary_metric\": 0.17473972, \"best_metric\": 0.2587435}, {\"run_id\": \"AutoML_f5cf4815-5ce1-4d49-8ed0-cc9230a0cad6_41\", \"run_number\": 43, \"metric\": null, \"status\": \"Completed\", \"run_type\": null, \"training_percent\": \"100\", \"start_time\": \"2021-01-13T19:27:16.230293Z\", \"end_time\": \"2021-01-13T19:27:43.722992Z\", \"created_time\": \"2021-01-13T19:27:16.11295Z\", \"created_time_dt\": \"2021-01-13T19:27:16.11295Z\", \"duration\": \"0:00:27\", \"iteration\": \"41\", \"goal\": \"r2_score_max\", \"run_name\": \"StandardScalerWrapper, XGBoostRegressor\", \"run_properties\": \"<azureml.automl.runtime.shared.model_wrappers.StandardScalerWrapper object at 0x7f2706ea5ba8\", \"primary_metric\": 0.21711573, \"best_metric\": 0.2587435}, {\"run_id\": \"AutoML_f5cf4815-5ce1-4d49-8ed0-cc9230a0cad6_42\", \"run_number\": 44, \"metric\": null, \"status\": \"Completed\", \"run_type\": null, \"training_percent\": \"100\", \"start_time\": \"2021-01-13T19:27:45.718333Z\", \"end_time\": \"2021-01-13T19:28:36.526995Z\", \"created_time\": \"2021-01-13T19:27:45.60211Z\", \"created_time_dt\": \"2021-01-13T19:27:45.60211Z\", \"duration\": \"0:00:50\", \"iteration\": \"42\", \"goal\": \"r2_score_max\", \"run_name\": \"MinMaxScaler, RandomForest\", \"run_properties\": \"copy=True, feature_range=(0, 1\", \"primary_metric\": 0.23301918, \"best_metric\": 0.2587435}, {\"run_id\": \"AutoML_f5cf4815-5ce1-4d49-8ed0-cc9230a0cad6_43\", \"run_number\": 45, \"metric\": null, \"status\": \"Completed\", \"run_type\": null, \"training_percent\": \"100\", \"start_time\": \"2021-01-13T19:28:37.992069Z\", \"end_time\": \"2021-01-13T19:30:11.166795Z\", \"created_time\": \"2021-01-13T19:28:37.423228Z\", \"created_time_dt\": \"2021-01-13T19:28:37.423228Z\", \"duration\": \"0:01:33\", \"iteration\": \"43\", \"goal\": \"r2_score_max\", \"run_name\": \"VotingEnsemble\", \"run_properties\": \"estimators=[('31',\\n                                          Pipeline(memory=None,\\n                                                   steps=[('robustscaler',\\n                                                           RobustScaler(copy=True,\\n                                                                        quantile_range=[25,\\n                                                                                        75],\\n                                                                        with_centering=True,\\n                                                                        with_scaling=True\", \"primary_metric\": 0.28239269, \"best_metric\": 0.28239269}, {\"run_id\": \"AutoML_f5cf4815-5ce1-4d49-8ed0-cc9230a0cad6_44\", \"run_number\": 46, \"metric\": null, \"status\": \"Completed\", \"run_type\": null, \"training_percent\": \"100\", \"start_time\": \"2021-01-13T19:30:11.530092Z\", \"end_time\": \"2021-01-13T19:31:28.204743Z\", \"created_time\": \"2021-01-13T19:30:11.402124Z\", \"created_time_dt\": \"2021-01-13T19:30:11.402124Z\", \"duration\": \"0:01:16\", \"iteration\": \"44\", \"goal\": \"r2_score_max\", \"run_name\": \"StackEnsemble\", \"run_properties\": \"base_learners=[('31',\\n                                       Pipeline(memory=None,\\n                                                steps=[('robustscaler',\\n                                                        RobustScaler(copy=True,\\n                                                                     quantile_range=[25,\\n                                                                                     75],\\n                                                                     with_centering=True,\\n                                                                     with_scaling=True\", \"primary_metric\": 0.27489121, \"best_metric\": 0.28239269}], \"children_metrics\": {\"categories\": [0], \"series\": {\"normalized_root_mean_squared_log_error\": [{\"categories\": [\"0\", \"1\", \"2\", \"3\", \"4\", \"5\", \"6\", \"7\", \"8\", \"9\", \"10\", \"11\", \"12\", \"13\", \"14\", \"15\", \"16\", \"17\", \"18\", \"19\", \"20\", \"21\", \"22\", \"23\", \"24\", \"25\", \"26\", \"27\", \"28\", \"29\", \"30\", \"31\", \"32\", \"33\", \"34\", \"35\", \"36\", \"37\", \"38\", \"39\", \"40\", \"41\", \"42\", \"43\", \"44\"], \"mode\": \"markers\", \"name\": \"normalized_root_mean_squared_log_error\", \"stepped\": false, \"type\": \"scatter\", \"data\": [0.12011972198285285, 0.1163458889653765, 0.11894775628379943, 0.11748106467792122, 0.11952351839380257, 0.11935399057821026, 0.11859755593196461, 0.1180896671681019, 0.11663873498675084, 0.11902172499018031, 0.11761738194283593, 0.12000007032960061, 0.11386434185126673, 0.11936571592912355, 0.1177580924839221, 0.12557469945798186, 0.11699650445465885, 0.11911324315807223, 0.1254446553064614, 0.1180927575097827, 0.11891066612096397, 0.11911927387176557, 0.12233123772919963, 0.11689156232369449, 0.12085829812208826, 0.12517334543755707, 0.11410730085711598, 0.12065802938557948, 0.12139275701642245, 0.11616644878282212, 0.13724705804017417, 0.11685720187142708, 0.12956277684165793, 0.11949092334741573, 0.11620637757839794, 0.12171989582935208, 0.11896505622561016, 0.12266045044006631, 0.11902890282854964, 0.11987876423865058, 0.12648498309851064, 0.11723411778274347, 0.12069659127554203, 0.11469952742207448, 0.11533737766504455]}, {\"categories\": [\"0\", \"1\", \"2\", \"3\", \"4\", \"5\", \"6\", \"7\", \"8\", \"9\", \"10\", \"11\", \"12\", \"13\", \"14\", \"15\", \"16\", \"17\", \"18\", \"19\", \"20\", \"21\", \"22\", \"23\", \"24\", \"25\", \"26\", \"27\", \"28\", \"29\", \"30\", \"31\", \"32\", \"33\", \"34\", \"35\", \"36\", \"37\", \"38\", \"39\", \"40\", \"41\", \"42\", \"43\", \"44\"], \"mode\": \"lines\", \"name\": \"normalized_root_mean_squared_log_error_min\", \"stepped\": true, \"type\": \"scatter\", \"data\": [0.12011972198285285, 0.1163458889653765, 0.1163458889653765, 0.1163458889653765, 0.1163458889653765, 0.1163458889653765, 0.1163458889653765, 0.1163458889653765, 0.1163458889653765, 0.1163458889653765, 0.1163458889653765, 0.1163458889653765, 0.11386434185126673, 0.11386434185126673, 0.11386434185126673, 0.11386434185126673, 0.11386434185126673, 0.11386434185126673, 0.11386434185126673, 0.11386434185126673, 0.11386434185126673, 0.11386434185126673, 0.11386434185126673, 0.11386434185126673, 0.11386434185126673, 0.11386434185126673, 0.11386434185126673, 0.11386434185126673, 0.11386434185126673, 0.11386434185126673, 0.11386434185126673, 0.11386434185126673, 0.11386434185126673, 0.11386434185126673, 0.11386434185126673, 0.11386434185126673, 0.11386434185126673, 0.11386434185126673, 0.11386434185126673, 0.11386434185126673, 0.11386434185126673, 0.11386434185126673, 0.11386434185126673, 0.11386434185126673, 0.11386434185126673]}], \"mean_absolute_percentage_error\": [{\"categories\": [\"0\", \"1\", \"2\", \"3\", \"4\", \"5\", \"6\", \"7\", \"8\", \"9\", \"10\", \"11\", \"12\", \"13\", \"14\", \"15\", \"16\", \"17\", \"18\", \"19\", \"20\", \"21\", \"22\", \"23\", \"24\", \"25\", \"26\", \"27\", \"28\", \"29\", \"30\", \"31\", \"32\", \"33\", \"34\", \"35\", \"36\", \"37\", \"38\", \"39\", \"40\", \"41\", \"42\", \"43\", \"44\"], \"mode\": \"markers\", \"name\": \"mean_absolute_percentage_error\", \"stepped\": false, \"type\": \"scatter\", \"data\": [49.85147564058976, 49.24792446822741, 49.354930327306555, 50.371957419882975, 49.612214532972715, 50.90679541400664, 50.73191167825174, 48.96737401974658, 49.28409321314412, 50.8503048104367, 50.78183272178418, 52.24088130269786, 43.92450341335226, 50.91321052867928, 49.76772279263882, 55.807983604911655, 49.64179151252752, 50.83934547094954, 55.30446126817643, 50.062701773685305, 50.83138160790999, 51.850588093714364, 50.31829390023436, 48.20453376791665, 52.635959411557636, 55.731569090221214, 43.71220582971705, 52.90189663949235, 52.66227497461966, 49.0703497965218, 39.797456813395215, 49.91048145711312, 53.10240561695722, 52.21041478882516, 45.95143063341127, 52.71629682900285, 50.83104872489314, 53.87019960590877, 50.83368557005568, 52.480024071957665, 56.962440399428054, 49.5373961410469, 52.975595337629045, 48.320229106414416, 48.78071116490046]}, {\"categories\": [\"0\", \"1\", \"2\", \"3\", \"4\", \"5\", \"6\", \"7\", \"8\", \"9\", \"10\", \"11\", \"12\", \"13\", \"14\", \"15\", \"16\", \"17\", \"18\", \"19\", \"20\", \"21\", \"22\", \"23\", \"24\", \"25\", \"26\", \"27\", \"28\", \"29\", \"30\", \"31\", \"32\", \"33\", \"34\", \"35\", \"36\", \"37\", \"38\", \"39\", \"40\", \"41\", \"42\", \"43\", \"44\"], \"mode\": \"lines\", \"name\": \"mean_absolute_percentage_error_min\", \"stepped\": true, \"type\": \"scatter\", \"data\": [49.85147564058976, 49.24792446822741, 49.24792446822741, 49.24792446822741, 49.24792446822741, 49.24792446822741, 49.24792446822741, 48.96737401974658, 48.96737401974658, 48.96737401974658, 48.96737401974658, 48.96737401974658, 43.92450341335226, 43.92450341335226, 43.92450341335226, 43.92450341335226, 43.92450341335226, 43.92450341335226, 43.92450341335226, 43.92450341335226, 43.92450341335226, 43.92450341335226, 43.92450341335226, 43.92450341335226, 43.92450341335226, 43.92450341335226, 43.71220582971705, 43.71220582971705, 43.71220582971705, 43.71220582971705, 39.797456813395215, 39.797456813395215, 39.797456813395215, 39.797456813395215, 39.797456813395215, 39.797456813395215, 39.797456813395215, 39.797456813395215, 39.797456813395215, 39.797456813395215, 39.797456813395215, 39.797456813395215, 39.797456813395215, 39.797456813395215, 39.797456813395215]}], \"spearman_correlation\": [{\"categories\": [\"0\", \"1\", \"2\", \"3\", \"4\", \"5\", \"6\", \"7\", \"8\", \"9\", \"10\", \"11\", \"12\", \"13\", \"14\", \"15\", \"16\", \"17\", \"18\", \"19\", \"20\", \"21\", \"22\", \"23\", \"24\", \"25\", \"26\", \"27\", \"28\", \"29\", \"30\", \"31\", \"32\", \"33\", \"34\", \"35\", \"36\", \"37\", \"38\", \"39\", \"40\", \"41\", \"42\", \"43\", \"44\"], \"mode\": \"markers\", \"name\": \"spearman_correlation\", \"stepped\": false, \"type\": \"scatter\", \"data\": [0.5207711482305075, 0.5596107551763831, 0.5359171081461042, 0.554574140049765, 0.5440159048512667, 0.5368720632714804, 0.5350036160252758, 0.5406622878398629, 0.5556164409463695, 0.540629294153282, 0.5598486874948071, 0.5412733660398821, 0.5508951409840124, 0.5367245606095863, 0.540761908078693, 0.4689188913972625, 0.5523936902258497, 0.5394521580824749, 0.45938418785849644, 0.5394295198640202, 0.5394121106219097, 0.5575791418015092, 0.516983210491727, 0.5447823742914919, 0.5291400212247166, 0.4856586575576662, 0.5513691911199697, 0.5407926888161149, 0.5243329656395758, 0.5630733526633032, 0.5301662612311864, 0.5610548228018677, 0.4719903558037311, 0.5566216143756062, 0.5351083372271546, 0.5033720644763724, 0.5390788813625931, 0.5010310998150953, 0.5391777485323621, 0.5518568013055378, 0.4946636068641819, 0.5574990486564897, 0.5471542521484807, 0.5788042746814633, 0.5782003772143545]}, {\"categories\": [\"0\", \"1\", \"2\", \"3\", \"4\", \"5\", \"6\", \"7\", \"8\", \"9\", \"10\", \"11\", \"12\", \"13\", \"14\", \"15\", \"16\", \"17\", \"18\", \"19\", \"20\", \"21\", \"22\", \"23\", \"24\", \"25\", \"26\", \"27\", \"28\", \"29\", \"30\", \"31\", \"32\", \"33\", \"34\", \"35\", \"36\", \"37\", \"38\", \"39\", \"40\", \"41\", \"42\", \"43\", \"44\"], \"mode\": \"lines\", \"name\": \"spearman_correlation_max\", \"stepped\": true, \"type\": \"scatter\", \"data\": [0.5207711482305075, 0.5596107551763831, 0.5596107551763831, 0.5596107551763831, 0.5596107551763831, 0.5596107551763831, 0.5596107551763831, 0.5596107551763831, 0.5596107551763831, 0.5596107551763831, 0.5598486874948071, 0.5598486874948071, 0.5598486874948071, 0.5598486874948071, 0.5598486874948071, 0.5598486874948071, 0.5598486874948071, 0.5598486874948071, 0.5598486874948071, 0.5598486874948071, 0.5598486874948071, 0.5598486874948071, 0.5598486874948071, 0.5598486874948071, 0.5598486874948071, 0.5598486874948071, 0.5598486874948071, 0.5598486874948071, 0.5598486874948071, 0.5630733526633032, 0.5630733526633032, 0.5630733526633032, 0.5630733526633032, 0.5630733526633032, 0.5630733526633032, 0.5630733526633032, 0.5630733526633032, 0.5630733526633032, 0.5630733526633032, 0.5630733526633032, 0.5630733526633032, 0.5630733526633032, 0.5630733526633032, 0.5788042746814633, 0.5788042746814633]}], \"normalized_mean_absolute_error\": [{\"categories\": [\"0\", \"1\", \"2\", \"3\", \"4\", \"5\", \"6\", \"7\", \"8\", \"9\", \"10\", \"11\", \"12\", \"13\", \"14\", \"15\", \"16\", \"17\", \"18\", \"19\", \"20\", \"21\", \"22\", \"23\", \"24\", \"25\", \"26\", \"27\", \"28\", \"29\", \"30\", \"31\", \"32\", \"33\", \"34\", \"35\", \"36\", \"37\", \"38\", \"39\", \"40\", \"41\", \"42\", \"43\", \"44\"], \"mode\": \"markers\", \"name\": \"normalized_mean_absolute_error\", \"stepped\": false, \"type\": \"scatter\", \"data\": [0.052926972255249706, 0.05051061354146896, 0.05222303231557731, 0.050764800016569266, 0.05310634025059789, 0.051732999485068265, 0.05142238840578489, 0.052190255785940984, 0.0507077507081203, 0.0515406071159185, 0.05075067475867373, 0.05159774615214595, 0.04964877685655013, 0.051742100059347165, 0.05155435621877265, 0.0542780083703184, 0.05072506967681721, 0.051620911999959176, 0.0542515635163053, 0.0512337135710658, 0.05155465510814202, 0.05126985071026319, 0.05401638272918371, 0.05111909972020793, 0.05221467419473055, 0.05397704288251265, 0.04886287229630261, 0.05203792942774976, 0.05214292941026015, 0.050139350225524605, 0.059170582918575645, 0.050514153229571535, 0.05540592251390682, 0.05142238865178467, 0.050119475801559996, 0.052898578850150604, 0.051572372831709526, 0.05283278296471679, 0.051594200936438114, 0.051618792590911323, 0.05481448947010577, 0.051024288049709966, 0.051956112459264694, 0.04932569826283119, 0.04971019824877356]}, {\"categories\": [\"0\", \"1\", \"2\", \"3\", \"4\", \"5\", \"6\", \"7\", \"8\", \"9\", \"10\", \"11\", \"12\", \"13\", \"14\", \"15\", \"16\", \"17\", \"18\", \"19\", \"20\", \"21\", \"22\", \"23\", \"24\", \"25\", \"26\", \"27\", \"28\", \"29\", \"30\", \"31\", \"32\", \"33\", \"34\", \"35\", \"36\", \"37\", \"38\", \"39\", \"40\", \"41\", \"42\", \"43\", \"44\"], \"mode\": \"lines\", \"name\": \"normalized_mean_absolute_error_min\", \"stepped\": true, \"type\": \"scatter\", \"data\": [0.052926972255249706, 0.05051061354146896, 0.05051061354146896, 0.05051061354146896, 0.05051061354146896, 0.05051061354146896, 0.05051061354146896, 0.05051061354146896, 0.05051061354146896, 0.05051061354146896, 0.05051061354146896, 0.05051061354146896, 0.04964877685655013, 0.04964877685655013, 0.04964877685655013, 0.04964877685655013, 0.04964877685655013, 0.04964877685655013, 0.04964877685655013, 0.04964877685655013, 0.04964877685655013, 0.04964877685655013, 0.04964877685655013, 0.04964877685655013, 0.04964877685655013, 0.04964877685655013, 0.04886287229630261, 0.04886287229630261, 0.04886287229630261, 0.04886287229630261, 0.04886287229630261, 0.04886287229630261, 0.04886287229630261, 0.04886287229630261, 0.04886287229630261, 0.04886287229630261, 0.04886287229630261, 0.04886287229630261, 0.04886287229630261, 0.04886287229630261, 0.04886287229630261, 0.04886287229630261, 0.04886287229630261, 0.04886287229630261, 0.04886287229630261]}], \"normalized_median_absolute_error\": [{\"categories\": [\"0\", \"1\", \"2\", \"3\", \"4\", \"5\", \"6\", \"7\", \"8\", \"9\", \"10\", \"11\", \"12\", \"13\", \"14\", \"15\", \"16\", \"17\", \"18\", \"19\", \"20\", \"21\", \"22\", \"23\", \"24\", \"25\", \"26\", \"27\", \"28\", \"29\", \"30\", \"31\", \"32\", \"33\", \"34\", \"35\", \"36\", \"37\", \"38\", \"39\", \"40\", \"41\", \"42\", \"43\", \"44\"], \"mode\": \"markers\", \"name\": \"normalized_median_absolute_error\", \"stepped\": false, \"type\": \"scatter\", \"data\": [0.0378458410505767, 0.037466837254966176, 0.03666450081801996, 0.037790200706357406, 0.036836502493881595, 0.037391184933291674, 0.03775063621141347, 0.0371483267807379, 0.03639829385503702, 0.037671789187791425, 0.03825573931644681, 0.038869794168233746, 0.03376280063536109, 0.03740087615430263, 0.03652761364651609, 0.04146607353092631, 0.03681575402792187, 0.037425207540692736, 0.041056352682934366, 0.03635007521006043, 0.037514430070240495, 0.039187249159944024, 0.03722157637496663, 0.03537333488464356, 0.03935334524931424, 0.041170206535880355, 0.03340548780487805, 0.039606113304134744, 0.038835953968327216, 0.03706434435960723, 0.03615980822865556, 0.037405846063484, 0.0411637855857626, 0.03875716768356504, 0.03527439024390244, 0.03880475937486144, 0.03754265498039648, 0.039969250058127466, 0.03739638901638116, 0.03869010164505426, 0.04193701870533616, 0.0368467279759849, 0.03972252825324718, 0.03604628627146486, 0.036710557502402194]}, {\"categories\": [\"0\", \"1\", \"2\", \"3\", \"4\", \"5\", \"6\", \"7\", \"8\", \"9\", \"10\", \"11\", \"12\", \"13\", \"14\", \"15\", \"16\", \"17\", \"18\", \"19\", \"20\", \"21\", \"22\", \"23\", \"24\", \"25\", \"26\", \"27\", \"28\", \"29\", \"30\", \"31\", \"32\", \"33\", \"34\", \"35\", \"36\", \"37\", \"38\", \"39\", \"40\", \"41\", \"42\", \"43\", \"44\"], \"mode\": \"lines\", \"name\": \"normalized_median_absolute_error_min\", \"stepped\": true, \"type\": \"scatter\", \"data\": [0.0378458410505767, 0.037466837254966176, 0.03666450081801996, 0.03666450081801996, 0.03666450081801996, 0.03666450081801996, 0.03666450081801996, 0.03666450081801996, 0.03639829385503702, 0.03639829385503702, 0.03639829385503702, 0.03639829385503702, 0.03376280063536109, 0.03376280063536109, 0.03376280063536109, 0.03376280063536109, 0.03376280063536109, 0.03376280063536109, 0.03376280063536109, 0.03376280063536109, 0.03376280063536109, 0.03376280063536109, 0.03376280063536109, 0.03376280063536109, 0.03376280063536109, 0.03376280063536109, 0.03340548780487805, 0.03340548780487805, 0.03340548780487805, 0.03340548780487805, 0.03340548780487805, 0.03340548780487805, 0.03340548780487805, 0.03340548780487805, 0.03340548780487805, 0.03340548780487805, 0.03340548780487805, 0.03340548780487805, 0.03340548780487805, 0.03340548780487805, 0.03340548780487805, 0.03340548780487805, 0.03340548780487805, 0.03340548780487805, 0.03340548780487805]}], \"root_mean_squared_log_error\": [{\"categories\": [\"0\", \"1\", \"2\", \"3\", \"4\", \"5\", \"6\", \"7\", \"8\", \"9\", \"10\", \"11\", \"12\", \"13\", \"14\", \"15\", \"16\", \"17\", \"18\", \"19\", \"20\", \"21\", \"22\", \"23\", \"24\", \"25\", \"26\", \"27\", \"28\", \"29\", \"30\", \"31\", \"32\", \"33\", \"34\", \"35\", \"36\", \"37\", \"38\", \"39\", \"40\", \"41\", \"42\", \"43\", \"44\"], \"mode\": \"markers\", \"name\": \"root_mean_squared_log_error\", \"stepped\": false, \"type\": \"scatter\", \"data\": [0.5091785875248537, 0.4931815894160204, 0.5042107118969299, 0.4979935150212807, 0.5066513247545219, 0.50593270892471, 0.5027262385935083, 0.5005733358133947, 0.4944229419688256, 0.5045242597541372, 0.49857135379129075, 0.5086713930459428, 0.4826624953523565, 0.5059824118171052, 0.4991678153329713, 0.5323018322336833, 0.4959395001935851, 0.5049121984763623, 0.53175058472583, 0.5005864355424485, 0.504053489449093, 0.5049377622241753, 0.518553038659319, 0.4954946582880743, 0.5123093569701005, 0.5306005223251697, 0.48369238054841457, 0.5114604326577756, 0.5145748885615407, 0.492420955798243, 0.581780094069926, 0.49534900688076633, 0.5492069963119839, 0.5065131567717327, 0.4925902109996141, 0.5159616057129162, 0.5042840450664547, 0.5199485469101477, 0.5045546860783247, 0.5081571855284055, 0.5361604570346762, 0.49694672545829627, 0.5116238936476889, 0.48620278500875236, 0.488906584854495]}, {\"categories\": [\"0\", \"1\", \"2\", \"3\", \"4\", \"5\", \"6\", \"7\", \"8\", \"9\", \"10\", \"11\", \"12\", \"13\", \"14\", \"15\", \"16\", \"17\", \"18\", \"19\", \"20\", \"21\", \"22\", \"23\", \"24\", \"25\", \"26\", \"27\", \"28\", \"29\", \"30\", \"31\", \"32\", \"33\", \"34\", \"35\", \"36\", \"37\", \"38\", \"39\", \"40\", \"41\", \"42\", \"43\", \"44\"], \"mode\": \"lines\", \"name\": \"root_mean_squared_log_error_min\", \"stepped\": true, \"type\": \"scatter\", \"data\": [0.5091785875248537, 0.4931815894160204, 0.4931815894160204, 0.4931815894160204, 0.4931815894160204, 0.4931815894160204, 0.4931815894160204, 0.4931815894160204, 0.4931815894160204, 0.4931815894160204, 0.4931815894160204, 0.4931815894160204, 0.4826624953523565, 0.4826624953523565, 0.4826624953523565, 0.4826624953523565, 0.4826624953523565, 0.4826624953523565, 0.4826624953523565, 0.4826624953523565, 0.4826624953523565, 0.4826624953523565, 0.4826624953523565, 0.4826624953523565, 0.4826624953523565, 0.4826624953523565, 0.4826624953523565, 0.4826624953523565, 0.4826624953523565, 0.4826624953523565, 0.4826624953523565, 0.4826624953523565, 0.4826624953523565, 0.4826624953523565, 0.4826624953523565, 0.4826624953523565, 0.4826624953523565, 0.4826624953523565, 0.4826624953523565, 0.4826624953523565, 0.4826624953523565, 0.4826624953523565, 0.4826624953523565, 0.4826624953523565, 0.4826624953523565]}], \"median_absolute_error\": [{\"categories\": [\"0\", \"1\", \"2\", \"3\", \"4\", \"5\", \"6\", \"7\", \"8\", \"9\", \"10\", \"11\", \"12\", \"13\", \"14\", \"15\", \"16\", \"17\", \"18\", \"19\", \"20\", \"21\", \"22\", \"23\", \"24\", \"25\", \"26\", \"27\", \"28\", \"29\", \"30\", \"31\", \"32\", \"33\", \"34\", \"35\", \"36\", \"37\", \"38\", \"39\", \"40\", \"41\", \"42\", \"43\", \"44\"], \"mode\": \"markers\", \"name\": \"median_absolute_error\", \"stepped\": false, \"type\": \"scatter\", \"data\": [15.516794830736448, 15.361403274536134, 15.032445335388184, 15.493982289606539, 15.102966022491454, 15.330385822649589, 15.477760846679525, 15.230813980102539, 14.923300480565178, 15.445433566994485, 15.684853119743192, 15.936615608975837, 13.842748260498047, 15.334359223264078, 14.976321595071596, 17.001090147679786, 15.094459151447973, 15.344335091684021, 16.833104600003093, 14.903530836124776, 15.380916328798602, 16.06677215557705, 15.26084631373632, 14.503067302703858, 16.13487155221884, 16.879784679710948, 13.696250000000001, 16.238506454695244, 15.92274112701416, 15.196381187438964, 14.82552137374878, 15.336396886028442, 16.877152090162664, 15.89043875026167, 14.4625, 15.90995134369319, 15.39248854196256, 16.387392523832254, 15.332519496716277, 15.862941674472244, 17.194177669187823, 15.10715847015381, 16.286236583831347, 14.77897737130059, 15.0513285759849]}, {\"categories\": [\"0\", \"1\", \"2\", \"3\", \"4\", \"5\", \"6\", \"7\", \"8\", \"9\", \"10\", \"11\", \"12\", \"13\", \"14\", \"15\", \"16\", \"17\", \"18\", \"19\", \"20\", \"21\", \"22\", \"23\", \"24\", \"25\", \"26\", \"27\", \"28\", \"29\", \"30\", \"31\", \"32\", \"33\", \"34\", \"35\", \"36\", \"37\", \"38\", \"39\", \"40\", \"41\", \"42\", \"43\", \"44\"], \"mode\": \"lines\", \"name\": \"median_absolute_error_min\", \"stepped\": true, \"type\": \"scatter\", \"data\": [15.516794830736448, 15.361403274536134, 15.032445335388184, 15.032445335388184, 15.032445335388184, 15.032445335388184, 15.032445335388184, 15.032445335388184, 14.923300480565178, 14.923300480565178, 14.923300480565178, 14.923300480565178, 13.842748260498047, 13.842748260498047, 13.842748260498047, 13.842748260498047, 13.842748260498047, 13.842748260498047, 13.842748260498047, 13.842748260498047, 13.842748260498047, 13.842748260498047, 13.842748260498047, 13.842748260498047, 13.842748260498047, 13.842748260498047, 13.696250000000001, 13.696250000000001, 13.696250000000001, 13.696250000000001, 13.696250000000001, 13.696250000000001, 13.696250000000001, 13.696250000000001, 13.696250000000001, 13.696250000000001, 13.696250000000001, 13.696250000000001, 13.696250000000001, 13.696250000000001, 13.696250000000001, 13.696250000000001, 13.696250000000001, 13.696250000000001, 13.696250000000001]}], \"r2_score\": [{\"categories\": [\"0\", \"1\", \"2\", \"3\", \"4\", \"5\", \"6\", \"7\", \"8\", \"9\", \"10\", \"11\", \"12\", \"13\", \"14\", \"15\", \"16\", \"17\", \"18\", \"19\", \"20\", \"21\", \"22\", \"23\", \"24\", \"25\", \"26\", \"27\", \"28\", \"29\", \"30\", \"31\", \"32\", \"33\", \"34\", \"35\", \"36\", \"37\", \"38\", \"39\", \"40\", \"41\", \"42\", \"43\", \"44\"], \"mode\": \"markers\", \"name\": \"r2_score\", \"stepped\": false, \"type\": \"scatter\", \"data\": [0.18038467459967295, 0.24772993065899826, 0.1799192776782175, 0.2537867070024207, 0.13458903357080018, 0.2438688778961467, 0.23541557120345508, 0.177701848233565, 0.2414770545683716, 0.24850736308206786, 0.2569285834948692, 0.23609041706895736, 0.22397269665010913, 0.24343802630100186, 0.22500374062761136, 0.18171355827629412, 0.2465958692971797, 0.246927084607381, 0.17735644393057098, 0.23264619366299186, 0.24826932508009908, 0.24688915646729073, 0.14258615170489194, 0.20775005654709094, 0.22445998078651114, 0.1882741662101975, 0.22778167085745277, 0.23184470014069047, 0.21882078215369613, 0.25781181452125945, -0.11133107790651989, 0.25874350043015826, 0.1276010855717175, 0.2465224774403294, 0.22805515081717295, 0.2010203197619184, 0.2479190350534617, 0.2099830011127569, 0.24750089522832375, 0.2412899479071013, 0.1747397196139137, 0.21711573004077236, 0.23301918457459153, 0.2823926885007036, 0.27489121182868886]}, {\"categories\": [\"0\", \"1\", \"2\", \"3\", \"4\", \"5\", \"6\", \"7\", \"8\", \"9\", \"10\", \"11\", \"12\", \"13\", \"14\", \"15\", \"16\", \"17\", \"18\", \"19\", \"20\", \"21\", \"22\", \"23\", \"24\", \"25\", \"26\", \"27\", \"28\", \"29\", \"30\", \"31\", \"32\", \"33\", \"34\", \"35\", \"36\", \"37\", \"38\", \"39\", \"40\", \"41\", \"42\", \"43\", \"44\"], \"mode\": \"lines\", \"name\": \"r2_score_max\", \"stepped\": true, \"type\": \"scatter\", \"data\": [0.18038467459967295, 0.24772993065899826, 0.24772993065899826, 0.2537867070024207, 0.2537867070024207, 0.2537867070024207, 0.2537867070024207, 0.2537867070024207, 0.2537867070024207, 0.2537867070024207, 0.2569285834948692, 0.2569285834948692, 0.2569285834948692, 0.2569285834948692, 0.2569285834948692, 0.2569285834948692, 0.2569285834948692, 0.2569285834948692, 0.2569285834948692, 0.2569285834948692, 0.2569285834948692, 0.2569285834948692, 0.2569285834948692, 0.2569285834948692, 0.2569285834948692, 0.2569285834948692, 0.2569285834948692, 0.2569285834948692, 0.2569285834948692, 0.25781181452125945, 0.25781181452125945, 0.25874350043015826, 0.25874350043015826, 0.25874350043015826, 0.25874350043015826, 0.25874350043015826, 0.25874350043015826, 0.25874350043015826, 0.25874350043015826, 0.25874350043015826, 0.25874350043015826, 0.25874350043015826, 0.25874350043015826, 0.2823926885007036, 0.2823926885007036]}], \"explained_variance\": [{\"categories\": [\"0\", \"1\", \"2\", \"3\", \"4\", \"5\", \"6\", \"7\", \"8\", \"9\", \"10\", \"11\", \"12\", \"13\", \"14\", \"15\", \"16\", \"17\", \"18\", \"19\", \"20\", \"21\", \"22\", \"23\", \"24\", \"25\", \"26\", \"27\", \"28\", \"29\", \"30\", \"31\", \"32\", \"33\", \"34\", \"35\", \"36\", \"37\", \"38\", \"39\", \"40\", \"41\", \"42\", \"43\", \"44\"], \"mode\": \"markers\", \"name\": \"explained_variance\", \"stepped\": false, \"type\": \"scatter\", \"data\": [0.19000777940498786, 0.25536029308312874, 0.18884029654863863, 0.26097229955218393, 0.14471778373931585, 0.25220142347833263, 0.242958019638372, 0.18756544615900914, 0.24896036281125897, 0.25689666412271955, 0.26387503030972415, 0.24295418720243034, 0.2493621142830292, 0.25176148701602213, 0.2320262024253333, 0.18801447500956803, 0.25381964404088597, 0.2553054807984919, 0.1837086787463283, 0.2397516457221167, 0.25662617934404885, 0.2541337261542823, 0.15234351831712956, 0.217291054571374, 0.23115751575596905, 0.1955248930349574, 0.25342079056037586, 0.23852160953047968, 0.22633491240818474, 0.26521029745808455, 0.20991971083331204, 0.26586550901165157, 0.1373732139738074, 0.25388098098467826, 0.24418120228845525, 0.20858827415848719, 0.25628489775967733, 0.2167027872422948, 0.2558754689895887, 0.24831713661281524, 0.18242837441012366, 0.22478959981872731, 0.23985974229205356, 0.2897540476095721, 0.28460336636214006]}, {\"categories\": [\"0\", \"1\", \"2\", \"3\", \"4\", \"5\", \"6\", \"7\", \"8\", \"9\", \"10\", \"11\", \"12\", \"13\", \"14\", \"15\", \"16\", \"17\", \"18\", \"19\", \"20\", \"21\", \"22\", \"23\", \"24\", \"25\", \"26\", \"27\", \"28\", \"29\", \"30\", \"31\", \"32\", \"33\", \"34\", \"35\", \"36\", \"37\", \"38\", \"39\", \"40\", \"41\", \"42\", \"43\", \"44\"], \"mode\": \"lines\", \"name\": \"explained_variance_max\", \"stepped\": true, \"type\": \"scatter\", \"data\": [0.19000777940498786, 0.25536029308312874, 0.25536029308312874, 0.26097229955218393, 0.26097229955218393, 0.26097229955218393, 0.26097229955218393, 0.26097229955218393, 0.26097229955218393, 0.26097229955218393, 0.26387503030972415, 0.26387503030972415, 0.26387503030972415, 0.26387503030972415, 0.26387503030972415, 0.26387503030972415, 0.26387503030972415, 0.26387503030972415, 0.26387503030972415, 0.26387503030972415, 0.26387503030972415, 0.26387503030972415, 0.26387503030972415, 0.26387503030972415, 0.26387503030972415, 0.26387503030972415, 0.26387503030972415, 0.26387503030972415, 0.26387503030972415, 0.26521029745808455, 0.26521029745808455, 0.26586550901165157, 0.26586550901165157, 0.26586550901165157, 0.26586550901165157, 0.26586550901165157, 0.26586550901165157, 0.26586550901165157, 0.26586550901165157, 0.26586550901165157, 0.26586550901165157, 0.26586550901165157, 0.26586550901165157, 0.2897540476095721, 0.2897540476095721]}], \"mean_absolute_error\": [{\"categories\": [\"0\", \"1\", \"2\", \"3\", \"4\", \"5\", \"6\", \"7\", \"8\", \"9\", \"10\", \"11\", \"12\", \"13\", \"14\", \"15\", \"16\", \"17\", \"18\", \"19\", \"20\", \"21\", \"22\", \"23\", \"24\", \"25\", \"26\", \"27\", \"28\", \"29\", \"30\", \"31\", \"32\", \"33\", \"34\", \"35\", \"36\", \"37\", \"38\", \"39\", \"40\", \"41\", \"42\", \"43\", \"44\"], \"mode\": \"markers\", \"name\": \"mean_absolute_error\", \"stepped\": false, \"type\": \"scatter\", \"data\": [21.700058624652378, 20.70935155200227, 21.411443249386696, 20.813568006793396, 21.773599502745135, 21.210529788877988, 21.083179246371802, 21.398004872235806, 20.790177790329324, 21.131648917526586, 20.80777665105623, 21.155075922379844, 20.355998511185554, 21.214261024332338, 21.13728604969678, 22.25398343183054, 20.79727856749506, 21.164573919983262, 22.243141041685174, 21.00582256413698, 21.137408594338222, 21.020638791207908, 22.146716918965318, 20.958830885285252, 21.408016419839523, 22.130587581830188, 20.033777641484072, 21.335551065377405, 21.378601058206662, 20.557133592465085, 24.259938996616018, 20.710802824124332, 22.716428230701798, 21.083179347231713, 20.5489850786396, 21.688417328561744, 21.144672861000906, 21.66144101553388, 21.153622383939634, 21.16370496227364, 22.473940682743365, 20.919958100381084, 21.302006108298524, 20.223536287760787, 20.38118128199716]}, {\"categories\": [\"0\", \"1\", \"2\", \"3\", \"4\", \"5\", \"6\", \"7\", \"8\", \"9\", \"10\", \"11\", \"12\", \"13\", \"14\", \"15\", \"16\", \"17\", \"18\", \"19\", \"20\", \"21\", \"22\", \"23\", \"24\", \"25\", \"26\", \"27\", \"28\", \"29\", \"30\", \"31\", \"32\", \"33\", \"34\", \"35\", \"36\", \"37\", \"38\", \"39\", \"40\", \"41\", \"42\", \"43\", \"44\"], \"mode\": \"lines\", \"name\": \"mean_absolute_error_min\", \"stepped\": true, \"type\": \"scatter\", \"data\": [21.700058624652378, 20.70935155200227, 20.70935155200227, 20.70935155200227, 20.70935155200227, 20.70935155200227, 20.70935155200227, 20.70935155200227, 20.70935155200227, 20.70935155200227, 20.70935155200227, 20.70935155200227, 20.355998511185554, 20.355998511185554, 20.355998511185554, 20.355998511185554, 20.355998511185554, 20.355998511185554, 20.355998511185554, 20.355998511185554, 20.355998511185554, 20.355998511185554, 20.355998511185554, 20.355998511185554, 20.355998511185554, 20.355998511185554, 20.033777641484072, 20.033777641484072, 20.033777641484072, 20.033777641484072, 20.033777641484072, 20.033777641484072, 20.033777641484072, 20.033777641484072, 20.033777641484072, 20.033777641484072, 20.033777641484072, 20.033777641484072, 20.033777641484072, 20.033777641484072, 20.033777641484072, 20.033777641484072, 20.033777641484072, 20.033777641484072, 20.033777641484072]}], \"root_mean_squared_error\": [{\"categories\": [\"0\", \"1\", \"2\", \"3\", \"4\", \"5\", \"6\", \"7\", \"8\", \"9\", \"10\", \"11\", \"12\", \"13\", \"14\", \"15\", \"16\", \"17\", \"18\", \"19\", \"20\", \"21\", \"22\", \"23\", \"24\", \"25\", \"26\", \"27\", \"28\", \"29\", \"30\", \"31\", \"32\", \"33\", \"34\", \"35\", \"36\", \"37\", \"38\", \"39\", \"40\", \"41\", \"42\", \"43\", \"44\"], \"mode\": \"markers\", \"name\": \"root_mean_squared_error\", \"stepped\": false, \"type\": \"scatter\", \"data\": [32.698015654122315, 31.4381160781368, 32.70546610422446, 31.32642670711827, 33.46630616241505, 31.521554854783187, 31.695505624256384, 32.757136661495906, 31.550611892994407, 31.43124149829419, 31.267581536632512, 31.676076424741648, 31.95375583817969, 31.529823945672312, 31.847117584784087, 32.7869277639494, 31.447165568539635, 31.46215444253457, 32.868030493990965, 31.748484547898137, 31.436211245990574, 31.480557151396162, 33.43514116061356, 32.189519047736646, 31.933398348728, 32.63876982682477, 31.86026040442581, 31.7768170971526, 32.072288960425645, 31.254983650140712, 38.09173029892817, 31.22891387308227, 33.67980783729502, 31.490643761555383, 31.840096903576033, 32.3629467531871, 31.44290439254389, 32.204348410730475, 31.450958444005057, 31.58397533707826, 32.89552244411985, 32.04189719681533, 31.76024102685406, 30.7375915941734, 30.888309321583726]}, {\"categories\": [\"0\", \"1\", \"2\", \"3\", \"4\", \"5\", \"6\", \"7\", \"8\", \"9\", \"10\", \"11\", \"12\", \"13\", \"14\", \"15\", \"16\", \"17\", \"18\", \"19\", \"20\", \"21\", \"22\", \"23\", \"24\", \"25\", \"26\", \"27\", \"28\", \"29\", \"30\", \"31\", \"32\", \"33\", \"34\", \"35\", \"36\", \"37\", \"38\", \"39\", \"40\", \"41\", \"42\", \"43\", \"44\"], \"mode\": \"lines\", \"name\": \"root_mean_squared_error_min\", \"stepped\": true, \"type\": \"scatter\", \"data\": [32.698015654122315, 31.4381160781368, 31.4381160781368, 31.32642670711827, 31.32642670711827, 31.32642670711827, 31.32642670711827, 31.32642670711827, 31.32642670711827, 31.32642670711827, 31.267581536632512, 31.267581536632512, 31.267581536632512, 31.267581536632512, 31.267581536632512, 31.267581536632512, 31.267581536632512, 31.267581536632512, 31.267581536632512, 31.267581536632512, 31.267581536632512, 31.267581536632512, 31.267581536632512, 31.267581536632512, 31.267581536632512, 31.267581536632512, 31.267581536632512, 31.267581536632512, 31.267581536632512, 31.254983650140712, 31.254983650140712, 31.22891387308227, 31.22891387308227, 31.22891387308227, 31.22891387308227, 31.22891387308227, 31.22891387308227, 31.22891387308227, 31.22891387308227, 31.22891387308227, 31.22891387308227, 31.22891387308227, 31.22891387308227, 30.7375915941734, 30.7375915941734]}], \"normalized_root_mean_squared_error\": [{\"categories\": [\"0\", \"1\", \"2\", \"3\", \"4\", \"5\", \"6\", \"7\", \"8\", \"9\", \"10\", \"11\", \"12\", \"13\", \"14\", \"15\", \"16\", \"17\", \"18\", \"19\", \"20\", \"21\", \"22\", \"23\", \"24\", \"25\", \"26\", \"27\", \"28\", \"29\", \"30\", \"31\", \"32\", \"33\", \"34\", \"35\", \"36\", \"37\", \"38\", \"39\", \"40\", \"41\", \"42\", \"43\", \"44\"], \"mode\": \"markers\", \"name\": \"normalized_root_mean_squared_error\", \"stepped\": false, \"type\": \"scatter\", \"data\": [0.07975125769298125, 0.07667833189789464, 0.0797694295224987, 0.07640591879784944, 0.08162513698150013, 0.07688184110922727, 0.07730611127867412, 0.07989545527194124, 0.0769527119341327, 0.07666156462998583, 0.07626239399178661, 0.07725872298717476, 0.07793598984921876, 0.076902009623591, 0.07767589654825388, 0.07996811649743756, 0.07670040382570642, 0.07673696205496236, 0.08016592803412431, 0.07743532816560518, 0.07667368596583066, 0.07678184671072234, 0.08154912478198431, 0.07851102206765034, 0.07788633743592197, 0.07960675567518238, 0.0777079522059166, 0.07750443194427463, 0.0782250950254284, 0.07623166743936757, 0.09290665926567845, 0.07616808261727383, 0.0821458727738903, 0.07680644819891558, 0.07765877293555132, 0.07893401647118806, 0.07669001071352169, 0.07854719124568407, 0.07670965474147576, 0.07703408618799576, 0.08023298157102401, 0.0781509687727203, 0.0774640025045221, 0.07496973559554486, 0.0753373398087408]}, {\"categories\": [\"0\", \"1\", \"2\", \"3\", \"4\", \"5\", \"6\", \"7\", \"8\", \"9\", \"10\", \"11\", \"12\", \"13\", \"14\", \"15\", \"16\", \"17\", \"18\", \"19\", \"20\", \"21\", \"22\", \"23\", \"24\", \"25\", \"26\", \"27\", \"28\", \"29\", \"30\", \"31\", \"32\", \"33\", \"34\", \"35\", \"36\", \"37\", \"38\", \"39\", \"40\", \"41\", \"42\", \"43\", \"44\"], \"mode\": \"lines\", \"name\": \"normalized_root_mean_squared_error_min\", \"stepped\": true, \"type\": \"scatter\", \"data\": [0.07975125769298125, 0.07667833189789464, 0.07667833189789464, 0.07640591879784944, 0.07640591879784944, 0.07640591879784944, 0.07640591879784944, 0.07640591879784944, 0.07640591879784944, 0.07640591879784944, 0.07626239399178661, 0.07626239399178661, 0.07626239399178661, 0.07626239399178661, 0.07626239399178661, 0.07626239399178661, 0.07626239399178661, 0.07626239399178661, 0.07626239399178661, 0.07626239399178661, 0.07626239399178661, 0.07626239399178661, 0.07626239399178661, 0.07626239399178661, 0.07626239399178661, 0.07626239399178661, 0.07626239399178661, 0.07626239399178661, 0.07626239399178661, 0.07623166743936757, 0.07623166743936757, 0.07616808261727383, 0.07616808261727383, 0.07616808261727383, 0.07616808261727383, 0.07616808261727383, 0.07616808261727383, 0.07616808261727383, 0.07616808261727383, 0.07616808261727383, 0.07616808261727383, 0.07616808261727383, 0.07616808261727383, 0.07496973559554486, 0.07496973559554486]}]}, \"metricName\": null, \"primaryMetricName\": \"r2_score\", \"showLegend\": false}, \"run_metrics\": [{\"name\": \"root_mean_squared_error\", \"run_id\": \"AutoML_f5cf4815-5ce1-4d49-8ed0-cc9230a0cad6\", \"categories\": [0], \"series\": [{\"data\": [30.7375915941734]}]}, {\"name\": \"spearman_correlation\", \"run_id\": \"AutoML_f5cf4815-5ce1-4d49-8ed0-cc9230a0cad6\", \"categories\": [0], \"series\": [{\"data\": [0.5788042746814633]}]}, {\"name\": \"r2_score\", \"run_id\": \"AutoML_f5cf4815-5ce1-4d49-8ed0-cc9230a0cad6\", \"categories\": [0], \"series\": [{\"data\": [0.2823926885007036]}]}, {\"name\": \"mean_absolute_error\", \"run_id\": \"AutoML_f5cf4815-5ce1-4d49-8ed0-cc9230a0cad6\", \"categories\": [0], \"series\": [{\"data\": [20.223536287760787]}]}, {\"name\": \"normalized_median_absolute_error\", \"run_id\": \"AutoML_f5cf4815-5ce1-4d49-8ed0-cc9230a0cad6\", \"categories\": [0], \"series\": [{\"data\": [0.03604628627146486]}]}, {\"name\": \"root_mean_squared_log_error\", \"run_id\": \"AutoML_f5cf4815-5ce1-4d49-8ed0-cc9230a0cad6\", \"categories\": [0], \"series\": [{\"data\": [0.48620278500875236]}]}, {\"name\": \"normalized_root_mean_squared_error\", \"run_id\": \"AutoML_f5cf4815-5ce1-4d49-8ed0-cc9230a0cad6\", \"categories\": [0], \"series\": [{\"data\": [0.07496973559554486]}]}, {\"name\": \"normalized_mean_absolute_error\", \"run_id\": \"AutoML_f5cf4815-5ce1-4d49-8ed0-cc9230a0cad6\", \"categories\": [0], \"series\": [{\"data\": [0.04932569826283119]}]}, {\"name\": \"median_absolute_error\", \"run_id\": \"AutoML_f5cf4815-5ce1-4d49-8ed0-cc9230a0cad6\", \"categories\": [0], \"series\": [{\"data\": [14.77897737130059]}]}, {\"name\": \"explained_variance\", \"run_id\": \"AutoML_f5cf4815-5ce1-4d49-8ed0-cc9230a0cad6\", \"categories\": [0], \"series\": [{\"data\": [0.2897540476095721]}]}, {\"name\": \"mean_absolute_percentage_error\", \"run_id\": \"AutoML_f5cf4815-5ce1-4d49-8ed0-cc9230a0cad6\", \"categories\": [0], \"series\": [{\"data\": [48.320229106414416]}]}, {\"name\": \"normalized_root_mean_squared_log_error\", \"run_id\": \"AutoML_f5cf4815-5ce1-4d49-8ed0-cc9230a0cad6\", \"categories\": [0], \"series\": [{\"data\": [0.11469952742207448]}]}], \"run_logs\": \"\\nRun is completed.\", \"graph\": {}, \"widget_settings\": {\"childWidgetDisplay\": \"popup\", \"send_telemetry\": false, \"log_level\": \"INFO\", \"sdk_version\": \"1.19.0\"}, \"loading\": false}"
          },
          "metadata": {}
        }
      ],
      "execution_count": 7,
      "metadata": {
        "gather": {
          "logged": 1610566370857
        }
      }
    },
    {
      "cell_type": "code",
      "source": [
        "best_mlrun, fitted_mlmodel = remote_run.get_output()\r\n",
        "print(best_mlrun)\r\n",
        "print(fitted_mlmodel)\r\n",
        "joblib.dump(fitted_mlmodel, \"automlmodel.pkl\")"
      ],
      "outputs": [
        {
          "output_type": "stream",
          "name": "stdout",
          "text": [
            "Run(Experiment: labor-prediction-experiment,\n",
            "Id: AutoML_f5cf4815-5ce1-4d49-8ed0-cc9230a0cad6_43,\n",
            "Type: None,\n",
            "Status: Completed)\n",
            "RegressionPipeline(pipeline=Pipeline(memory=None,\n",
            "                                     steps=[('datatransformer',\n",
            "                                             DataTransformer(enable_dnn=None,\n",
            "                                                             enable_feature_sweeping=None,\n",
            "                                                             feature_sweeping_config=None,\n",
            "                                                             feature_sweeping_timeout=None,\n",
            "                                                             featurization_config=None,\n",
            "                                                             force_text_dnn=None,\n",
            "                                                             is_cross_validation=None,\n",
            "                                                             is_onnx_compatible=None,\n",
            "                                                             logger=None,\n",
            "                                                             observer=None,\n",
            "                                                             task=None,\n",
            "                                                             working_dir=None)),\n",
            "                                            ('pre...\n",
            "                                                                                                                         seed=None,\n",
            "                                                                                                                         silent=None,\n",
            "                                                                                                                         subsample=0.8,\n",
            "                                                                                                                         tree_method='hist',\n",
            "                                                                                                                         verbose=-10,\n",
            "                                                                                                                         verbosity=0))],\n",
            "                                                                                                verbose=False))],\n",
            "                                                                          weights=[0.06666666666666667,\n",
            "                                                                                   0.06666666666666667,\n",
            "                                                                                   0.06666666666666667,\n",
            "                                                                                   0.06666666666666667,\n",
            "                                                                                   0.06666666666666667,\n",
            "                                                                                   0.06666666666666667,\n",
            "                                                                                   0.26666666666666666,\n",
            "                                                                                   0.06666666666666667,\n",
            "                                                                                   0.06666666666666667,\n",
            "                                                                                   0.13333333333333333,\n",
            "                                                                                   0.06666666666666667]))],\n",
            "                                     verbose=False),\n",
            "                   stddev=None)\n"
          ]
        },
        {
          "output_type": "execute_result",
          "execution_count": 8,
          "data": {
            "text/plain": "['automlmodel.pkl']",
            "text/html": "['automlmodel.pkl']"
          },
          "metadata": {}
        }
      ],
      "execution_count": 8,
      "metadata": {
        "gather": {
          "logged": 1610566373453
        }
      }
    },
    {
      "cell_type": "code",
      "source": [
        "#register the model\r\n",
        "from azureml.core.environment import Environment\r\n",
        "from azureml.core.model import InferenceConfig\r\n",
        "from azureml.core.model import Model\r\n",
        "\r\n",
        "description = 'Best AutoML Model'\r\n",
        "#model = best_mlrun.register_model(description=description, workspace = , model_name='automl_pred', model_path='./models')\r\n",
        "model = Model.register(model_path=\"automlmodel.pkl\", model_name = \"automl_pred\", description=description, workspace=ws)\r\n",
        "print(model.name, model.id, model.version, sep='\\t')\r\n",
        "\r\n"
      ],
      "outputs": [
        {
          "output_type": "stream",
          "name": "stdout",
          "text": [
            "Registering model automl_pred\n",
            "automl_pred\tautoml_pred:1\t1\n"
          ]
        }
      ],
      "execution_count": 9,
      "metadata": {
        "gather": {
          "logged": 1610566374430
        }
      }
    },
    {
      "cell_type": "code",
      "source": [
        "#define inference config\r\n",
        "from azureml.core.model import InferenceConfig\r\n",
        "from azureml.core.environment import Environment\r\n",
        "from azureml.core.conda_dependencies import CondaDependencies\r\n",
        "\r\n",
        "#create the environment\r\n",
        "myenv = Environment(name=\"myenv\")\r\n",
        "conda_dep = CondaDependencies()\r\n",
        "\r\n",
        "#Define the packages needed by the model and scripts\r\n",
        "conda_dep.add_conda_package(\"tensorflow\")\r\n",
        "conda_dep.add_conda_package(\"numpy\")\r\n",
        "conda_dep.add_conda_package(\"scikit-learn\")\r\n",
        "conda_dep.add_conda_package(\"py-xgboost\")\r\n",
        "#You must list azureml-defaults as a pip dependency\r\n",
        "conda_dep.add_pip_package(\"azureml-defaults\")\r\n",
        "conda_dep.add_pip_package(\"keras\")\r\n",
        "conda_dep.add_pip_package(\"gensim\")\r\n",
        "conda_dep.add_pip_package(\"azureml-automl-core\")\r\n",
        "conda_dep.add_pip_package(\"azureml-automl-runtime\")\r\n",
        "conda_dep.add_pip_package(\"packaging\")\r\n",
        "\r\n",
        "\r\n",
        "myenv.python.conda_dependencies=conda_dep\r\n",
        "\r\n",
        "inference_config = InferenceConfig(entry_script=\"score.py\", environment=myenv)"
      ],
      "outputs": [],
      "execution_count": 10,
      "metadata": {
        "collapsed": true,
        "jupyter": {
          "source_hidden": false,
          "outputs_hidden": false
        },
        "nteract": {
          "transient": {
            "deleting": false
          }
        },
        "gather": {
          "logged": 1610566374579
        }
      }
    },
    {
      "cell_type": "code",
      "source": [
        "#deploy as webservice\r\n",
        "from azureml.core.webservice import AciWebservice\r\n",
        "from azureml.core.webservice import Webservice\r\n",
        "from azureml.train.automl import *\r\n",
        "\r\n",
        "deployment_config = AciWebservice.deploy_configuration(cpu_cores=1, memory_gb=1, auth_enabled=True, enable_app_insights=True)\r\n",
        "#deployment_config = LocalWebservice.deploy_configuration()\r\n",
        "\r\n",
        "model = Model(ws, name='automl_pred')\r\n",
        "print(model)\r\n",
        "service = Model.deploy(ws, 'laborpredservice', [model], inference_config, deployment_config)\r\n",
        "\r\n",
        "service.wait_for_deployment(True)\r\n",
        "print(service.get_logs)\r\n",
        "print(service.state)\r\n",
        "print(\"scoring URI: \" + service.scoring_uri)\r\n"
      ],
      "outputs": [
        {
          "output_type": "stream",
          "name": "stdout",
          "text": [
            "Model(workspace=Workspace.create(name='quick-starts-ws-134585', subscription_id='976ee174-3882-4721-b90a-b5fef6b72f24', resource_group='aml-quickstarts-134585'), name=automl_pred, id=automl_pred:1, version=1, tags={}, properties={})\n",
            "Tips: You can try get_logs(): https://aka.ms/debugimage#dockerlog or local deployment: https://aka.ms/debugimage#debug-locally to debug if deployment takes longer than 10 minutes.\n",
            "Running......................................................\n",
            "Succeeded\n",
            "ACI service creation operation finished, operation \"Succeeded\"\n",
            "<bound method Webservice.get_logs of AciWebservice(workspace=Workspace.create(name='quick-starts-ws-134585', subscription_id='976ee174-3882-4721-b90a-b5fef6b72f24', resource_group='aml-quickstarts-134585'), name=laborpredservice, image_id=None, compute_type=None, state=ACI, scoring_uri=Healthy, tags=http://d780ec46-ca1c-4a57-a641-a5e0cbef987e.southcentralus.azurecontainer.io/score, properties={}, created_by={'hasInferenceSchema': 'False', 'hasHttps': 'False'})>\n",
            "Healthy\n",
            "scoring URI: http://d780ec46-ca1c-4a57-a641-a5e0cbef987e.southcentralus.azurecontainer.io/score\n"
          ]
        }
      ],
      "execution_count": 29,
      "metadata": {
        "collapsed": true,
        "jupyter": {
          "source_hidden": false,
          "outputs_hidden": false
        },
        "nteract": {
          "transient": {
            "deleting": false
          }
        },
        "gather": {
          "logged": 1610572137975
        }
      }
    },
    {
      "cell_type": "code",
      "source": [
        "#send request\r\n",
        "\r\n",
        "import requests\r\n",
        "import json\r\n",
        "from pandas import DataFrame\r\n",
        "\r\n",
        "scoring_uri = service.scoring_uri\r\n",
        "key = '0rHcgRGmYqbQaOqdtuZU7FGdTppkE4ch'\r\n",
        "headers = {'Content-Type':'application/json', 'Authorization': 'Bearer ' + key}\r\n",
        "#test_data = json.dumps({'data': [{'heightwholenum':67, 'framemat':'ALUMINUM', 'framefunc':'DOOR', 'widthWholeNum':24, 'lift':0, 'itemset':'SNAP BEADS', 'locationtype':9, 'leadmechanic':118}]})\r\n",
        "#data = json.loads([67, 'ALUMINUM', 'DOOR', 24, 0, 'SNAP BEADS', 9, 118])['data']\r\n",
        "#['heightwholenum','widthWholeNum','lift','LongCarry', \r\n",
        "#'itemset_','itemset_OTHER', 'itemset_PRESSURE PLATE','itemset_PUTTY','itemset_SCREW BEADS','itemset_SNAP BEADS','itemset_VINYL BEADS', 'itemset_WOOD BEADS','itemset_WRAP AROUND FRAME','itemset_WRAP AROUND RUBBER',\r\n",
        "#'itemset_flush glaze', 'leadmechanic_6','leadmechanic_11','leadmechanic_62','leadmechanic_90','leadmechanic_118','leadmechanic_211', 'leadmechanic_228','leadmechanic_OTHER',\r\n",
        "#'locationtype_0','locationtype_1','locationtype_2','locationtype_4','locationtype_5','locationtype_6','locationtype_7','locationtype_9','locationtype_10','locationtype_11','locationtype_12', 'locationtype_13',\r\n",
        "#'framemat_','framemat_ALUMINUM','framemat_ANDERSEN','framemat_OTHER','framemat_SASH RAIL','framemat_VINYL','framemat_WOOD','framefunc_BOTTOM DH','framefunc_BOTTOM SH', 'framefunc_CASEMENT', \r\n",
        "#'framefunc_CURTAIN WALL', 'framefunc_FIXED','framefunc_FLUSH GLAZE', 'framefunc_OTHER', 'framefunc_SASH', 'framefunc_SIDELITE', 'framefunc_SLIDER','framefunc_TOP DH', 'framefunc_TOP SH','framefunc_TRANSOM']]\r\n",
        "    \r\n",
        "input_string = {'data':[{\"heightwholenum\":67,\"widthWholeNum\":24,\"lift\":0,\"LongCarry\":0,\"itemset_\":0,\"itemset_OTHER\":0,\"itemset_PRESSURE PLATE\":0,\"itemset_PUTTY\":0,\"itemset_SCREW BEADS\":0,\"itemset_SNAP BEADS\":1,\r\n",
        "\"itemset_VINYL BEADS\":0,\"itemset_WOOD BEADS\":0,\"itemset_WRAP AROUND FRAME\":0,\"itemset_WRAP AROUND RUBBER\":0,\"itemset_flush glaze\":0,\"leadmechanic_6\":0,\"leadmechanic_11\":0,\"leadmechanic_62\":0,\"leadmechanic_90\":0,\r\n",
        "\"leadmechanic_118\":1,\"leadmechanic_211\":0,\"leadmechanic_228\":0,\"leadmechanic_OTHER\":0,\"locationtype_0\":0,\"locationtype_1\":0,\"locationtype_2\":0,\"locationtype_4\":0,\"locationtype_5\":0,\"locationtype_6\":0,\r\n",
        "\"locationtype_7\":0,\"locationtype_9\":1,\"locationtype_10\":0,\"locationtype_11\":0,\"locationtype_12\":0,\"locationtype_13\":0,\"framemat_\":0,\"framemat_ALUMINUM\":1,\"framemat_ANDERSEN\":0,\"framemat_OTHER\":0,\r\n",
        "\"framemat_SASH RAIL\":0,\"framemat_VINYL\":0,\"framemat_WOOD\":0,\"framefunc_BOTTOM DH\":0,\"framefunc_BOTTOM SH\":0,\"framefunc_CASEMENT\":0,\"framefunc_CURTAIN WALL\":0,\"framefunc_FIXED\":0,\"framefunc_FLUSH GLAZE\":0,\r\n",
        "\"framefunc_OTHER\":0,\"framefunc_SASH\":0,\"framefunc_SIDELITE\":0,\"framefunc_SLIDER\":0,\"framefunc_TOP DH\":0,\"framefunc_TOP SH\":0,\"framefunc_TRANSOM\":0}]}\r\n",
        "data = json.dumps(input_string)\r\n",
        "#data = \"{\\\"data\\\": [\" + str(list(input_string)) + \"]}\"\r\n",
        "#data = json.dumps(np.array(input_string).tolist())\r\n",
        "#data = pd.DataFrame.from_dict(data)\r\n",
        "\r\n",
        "response = requests.post(scoring_uri, data=data, headers=headers)\r\n",
        "print(response.status_code)\r\n",
        "print(response.elapsed)\r\n",
        "print(response.text)"
      ],
      "outputs": [
        {
          "output_type": "stream",
          "name": "stdout",
          "text": [
            "200\n",
            "0:00:00.018118\n",
            "\"string indices must be integers\"\n"
          ]
        }
      ],
      "execution_count": 31,
      "metadata": {
        "collapsed": true,
        "jupyter": {
          "source_hidden": false,
          "outputs_hidden": false
        },
        "nteract": {
          "transient": {
            "deleting": false
          }
        },
        "gather": {
          "logged": 1610572968300
        }
      }
    },
    {
      "cell_type": "code",
      "source": [
        "test_data = json.dumps({\"data\": [67, 'ALUMINUM', 'DOOR', 24, 0, 'SNAP BEADS', 9, 118]}(orient='records'))\r\n",
        "print(test_data)\r\n",
        "output = service.run(test_data)\r\n",
        "print(output)"
      ],
      "outputs": [],
      "execution_count": null,
      "metadata": {
        "collapsed": true,
        "jupyter": {
          "source_hidden": false,
          "outputs_hidden": false
        },
        "nteract": {
          "transient": {
            "deleting": false
          }
        },
        "gather": {
          "logged": 1610398213043
        }
      }
    }
  ],
  "metadata": {
    "kernelspec": {
      "name": "python3",
      "language": "python",
      "display_name": "Python 3"
    },
    "language_info": {
      "name": "python",
      "version": "3.6.9",
      "mimetype": "text/x-python",
      "codemirror_mode": {
        "name": "ipython",
        "version": 3
      },
      "pygments_lexer": "ipython3",
      "nbconvert_exporter": "python",
      "file_extension": ".py"
    },
    "kernel_info": {
      "name": "python3"
    },
    "nteract": {
      "version": "nteract-front-end@1.0.0"
    }
  },
  "nbformat": 4,
  "nbformat_minor": 2
}