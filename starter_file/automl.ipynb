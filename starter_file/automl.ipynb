{
  "cells": [
    {
      "cell_type": "code",
      "source": [
        "from azureml.core import Workspace, Experiment\n",
        "from azureml.core.compute import ComputeTarget, AmlCompute\n",
        "from azureml.widgets import RunDetails\n",
        "from azureml.train.sklearn import SKLearn\n",
        "from azureml.train.automl import AutoMLConfig\n",
        "from azureml.widgets import RunDetails\n",
        "from sklearn.model_selection import train_test_split\n",
        "import os\n",
        "import joblib\n",
        "import numpy as np\n",
        "import pandas as pd"
      ],
      "outputs": [],
      "execution_count": 1,
      "metadata": {
        "gather": {
          "logged": 1611047478677
        }
      }
    },
    {
      "cell_type": "code",
      "source": [
        "ws = Workspace.from_config()\n",
        "# choose a name for experiment\n",
        "experiment_name = 'labor-prediction-experiment'\n",
        "experiment=Experiment(ws, experiment_name)"
      ],
      "outputs": [
        {
          "output_type": "stream",
          "name": "stdout",
          "text": [
            "Performing interactive authentication. Please follow the instructions on the terminal.\n",
            "To sign in, use a web browser to open the page https://microsoft.com/devicelogin and enter the code RXRUZXU9T to authenticate.\n",
            "You have logged in. Now let us find all the subscriptions to which you have access...\n",
            "Interactive authentication successfully completed.\n"
          ]
        }
      ],
      "execution_count": 2,
      "metadata": {
        "gather": {
          "logged": 1611047520504
        }
      }
    },
    {
      "cell_type": "code",
      "source": [
        "from azureml.data.dataset_factory import TabularDatasetFactory\n",
        "from azureml.core import Dataset, Datastore\n",
        "from azureml.data.datapath import DataPath\n",
        "\n",
        "datastore_name='workspaceblobstore'\n",
        "datastore=Datastore.get(ws,datastore_name)\n",
        "\n",
        "datastore_path = [(datastore, 'UI/01-19-2021_090500_UTC/LaborPredictionData6.csv')]\n",
        "ds = Dataset.Tabular.from_delimited_files(path=datastore_path)\n",
        "\n",
        "ds = ds.take(3000).to_pandas_dataframe()"
      ],
      "outputs": [],
      "execution_count": 3,
      "metadata": {
        "gather": {
          "logged": 1611047528359
        }
      }
    },
    {
      "cell_type": "code",
      "source": [
        "from train import clean_data\n",
        "# Use the clean_data function to clean your data.\n",
        "x, y = clean_data(ds)\n",
        "x_train, x_test, y_train, y_test = train_test_split(x, y, train_size=.8)\n",
        "\n",
        "#y_train=y_train.reshape(1728, 1)\n",
        "#train = np.concatenate((x_train,y_train), axis=1)\n",
        "train=pd.concat([x_train, y_train], axis=1)"
      ],
      "outputs": [],
      "execution_count": 4,
      "metadata": {
        "gather": {
          "logged": 1611047530641
        }
      }
    },
    {
      "cell_type": "code",
      "source": [
        "# TODO: Put your automl settings here\n",
        "automl_settings = {\n",
        "    \"experiment_timeout_minutes\":30,\n",
        "    \"max_concurrent_iterations\":3,\n",
        "    \"primary_metric\": 'r2_score'\n",
        "}\n",
        "\n",
        "automl_config = AutoMLConfig(\n",
        "    task='regression',\n",
        "    training_data=train,\n",
        "    label_column_name='TotalInstallationTime',\n",
        "    featurization='auto',\n",
        "    n_cross_validations=10,\n",
        "    debug_log = \"automl_errors.log\",\n",
        "    **automl_settings\n",
        "    )"
      ],
      "outputs": [],
      "execution_count": 14,
      "metadata": {
        "gather": {
          "logged": 1611051241413
        }
      }
    },
    {
      "cell_type": "code",
      "source": [
        "#TODO: Submit your experiment\n",
        "remote_run = experiment.submit(automl_config, show_output=True)"
      ],
      "outputs": [
        {
          "output_type": "stream",
          "name": "stderr",
          "text": [
            "WARNING:root:Received unrecognized parameter experiment_timoue_minutes\n",
            "WARNING:root:Received unrecognized parameter experiment_timoue_minutes\n",
            "WARNING:root:Received unrecognized parameter experiment_timoue_minutes\n"
          ]
        },
        {
          "output_type": "stream",
          "name": "stdout",
          "text": [
            "No run_configuration provided, running on local with default configuration\n",
            "Running on local machine\n",
            "Parent Run ID: AutoML_2aaa0b2f-6984-458d-a646-e2b25a95506c\n",
            "\n",
            "Current status: DatasetEvaluation. Gathering dataset statistics.\n",
            "Current status: FeaturesGeneration. Generating features for the dataset.\n",
            "Current status: DatasetFeaturization. Beginning to fit featurizers and featurize the dataset.\n",
            "Current status: DatasetFeaturizationCompleted. Completed fit featurizers and featurizing the dataset.\n",
            "Current status: DatasetCrossValidationSplit. Generating individually featurized CV splits.\n",
            "\n",
            "****************************************************************************************************\n",
            "DATA GUARDRAILS: \n",
            "\n",
            "TYPE:         Missing feature values imputation\n",
            "STATUS:       PASSED\n",
            "DESCRIPTION:  No feature missing values were detected in the training data.\n",
            "              Learn more about missing value imputation: https://aka.ms/AutomatedMLFeaturization\n",
            "\n",
            "****************************************************************************************************\n",
            "\n",
            "TYPE:         High cardinality feature detection\n",
            "STATUS:       PASSED\n",
            "DESCRIPTION:  Your inputs were analyzed, and no high cardinality features were detected.\n",
            "              Learn more about high cardinality feature handling: https://aka.ms/AutomatedMLFeaturization\n",
            "\n",
            "****************************************************************************************************\n",
            "Current status: ModelSelection. Beginning model selection.\n",
            "\n",
            "****************************************************************************************************\n",
            "ITERATION: The iteration being evaluated.\n",
            "PIPELINE: A summary description of the pipeline being evaluated.\n",
            "DURATION: Time taken for the current iteration.\n",
            "METRIC: The result of computing score on the fitted pipeline.\n",
            "BEST: The best observed score thus far.\n",
            "****************************************************************************************************\n",
            "\n",
            " ITERATION   PIPELINE                                       DURATION      METRIC      BEST\n",
            "         0   MaxAbsScaler LightGBM                          0:00:31       0.2100    0.2100\n",
            "         1   MaxAbsScaler XGBoostRegressor                  0:00:30       0.2493    0.2493\n",
            "         2   SparseNormalizer XGBoostRegressor              0:00:39       0.2093    0.2493\n",
            "         3   MaxAbsScaler RandomForest                      0:00:46       0.2596    0.2596\n",
            "         4   StandardScalerWrapper XGBoostRegressor         0:00:37       0.1606    0.2596\n",
            "         5   MaxAbsScaler ElasticNet                        0:00:42       0.2555    0.2596\n",
            "         6   MinMaxScaler RandomForest                      0:00:50       0.2461    0.2596\n",
            "         7   StandardScalerWrapper XGBoostRegressor         0:00:32       0.2093    0.2596\n",
            "         8   MinMaxScaler ExtremeRandomTrees                0:00:44       0.2357    0.2596\n",
            "         9   StandardScalerWrapper ElasticNet               0:00:29       0.2577    0.2596\n",
            "        10   MinMaxScaler RandomForest                      0:01:20       0.2628    0.2628\n",
            "        11   MinMaxScaler RandomForest                      0:00:29       0.2469    0.2628\n",
            "        12   StandardScalerWrapper XGBoostRegressor         0:00:34       0.2014    0.2628\n",
            "        13   RobustScaler LassoLars                         0:00:29       0.2555    0.2628\n",
            "        14   MinMaxScaler ExtremeRandomTrees                0:00:31       0.2201    0.2628\n",
            "        15   MaxAbsScaler ExtremeRandomTrees                0:00:29       0.1984    0.2628\n",
            "        16   MinMaxScaler ExtremeRandomTrees                0:00:38       0.2418    0.2628\n",
            "        17   MaxAbsScaler ElasticNet                        0:00:29       0.2566    0.2628\n",
            "        18   MinMaxScaler RandomForest                      0:00:30       0.1898    0.2628\n",
            "        19   MaxAbsScaler RandomForest                      0:00:30       0.2380    0.2628\n",
            "        20   RobustScaler ElasticNet                        0:00:30       0.2576    0.2628\n",
            "        21   StandardScalerWrapper RandomForest             0:00:35       0.2489    0.2628\n",
            "        22   RobustScaler LightGBM                          0:00:35       0.1904    0.2628\n",
            "        23   RobustScaler ExtremeRandomTrees                0:09:09       0.2510    0.2628\n",
            "        24   MaxAbsScaler RandomForest                      0:00:34       0.2264    0.2628\n",
            "        25   MaxAbsScaler RandomForest                      0:00:27       0.2041    0.2628\n",
            "        26   MinMaxScaler RandomForest                      0:00:28       0.2572    0.2628\n",
            "        27   SparseNormalizer XGBoostRegressor              0:00:42       0.1484    0.2628\n",
            "        28   MinMaxScaler ExtremeRandomTrees                0:00:33       0.2208    0.2628\n",
            "        29   MaxAbsScaler ExtremeRandomTrees                0:01:32       0.2126    0.2628\n",
            "        30   MinMaxScaler RandomForest                      0:00:29       0.1226    0.2628\n",
            "        31   StandardScalerWrapper DecisionTree             0:00:28       0.1743    0.2628\n",
            "        32   MinMaxScaler LightGBM                          0:00:28       0.2343    0.2628\n",
            "        33   VotingEnsemble                                 0:01:00       0.2933    0.2933\n",
            "        34   StackEnsemble                                  0:01:06       0.2868    0.2933\n",
            "Stopping criteria reached at iteration 35. Ending experiment.\n",
            "****************************************************************************************************\n",
            "Current status: BestRunExplainModel. Best run model explanations started\n",
            "Current status: ModelExplanationDataSetSetup. Model explanations data setup completed\n",
            "Current status: PickSurrogateModel. Choosing LightGBM as the surrogate model for explanations\n",
            "Current status: EngineeredFeatureExplanations. Computation of engineered features started\n",
            "Current status: EngineeredFeatureExplanations. Computation of engineered features completed\n",
            "Current status: RawFeaturesExplanations. Computation of raw features started\n",
            "Current status: RawFeaturesExplanations. Computation of raw features completed\n",
            "Current status: BestRunExplainModel. Best run model explanations completed\n",
            "****************************************************************************************************\n"
          ]
        }
      ],
      "execution_count": 15,
      "metadata": {
        "gather": {
          "logged": 1611053282460
        }
      }
    },
    {
      "cell_type": "code",
      "source": [
        "RunDetails(remote_run).show()"
      ],
      "outputs": [
        {
          "output_type": "display_data",
          "data": {
            "text/plain": "_AutoMLWidget(widget_settings={'childWidgetDisplay': 'popup', 'send_telemetry': False, 'log_level': 'INFO', 's…",
            "application/vnd.jupyter.widget-view+json": {
              "version_major": 2,
              "version_minor": 0,
              "model_id": "0e8f1ffc322946f4ab4687daeacadc6c"
            }
          },
          "metadata": {}
        },
        {
          "output_type": "display_data",
          "data": {
            "application/aml.mini.widget.v1": "{\"status\": \"Completed\", \"workbench_run_details_uri\": \"https://ml.azure.com/experiments/labor-prediction-experiment/runs/AutoML_2aaa0b2f-6984-458d-a646-e2b25a95506c?wsid=/subscriptions/6971f5ac-8af1-446e-8034-05acea24681f/resourcegroups/aml-quickstarts-135316/workspaces/quick-starts-ws-135316\", \"run_id\": \"AutoML_2aaa0b2f-6984-458d-a646-e2b25a95506c\", \"run_properties\": {\"run_id\": \"AutoML_2aaa0b2f-6984-458d-a646-e2b25a95506c\", \"created_utc\": \"2021-01-19T10:14:05.407656Z\", \"properties\": {\"num_iterations\": \"1000\", \"training_type\": \"TrainFull\", \"acquisition_function\": \"EI\", \"primary_metric\": \"r2_score\", \"train_split\": \"0\", \"acquisition_parameter\": \"0\", \"num_cross_validation\": \"10\", \"target\": \"local\", \"AMLSettingsJsonString\": \"{\\\"path\\\":null,\\\"name\\\":\\\"labor-prediction-experiment\\\",\\\"subscription_id\\\":\\\"6971f5ac-8af1-446e-8034-05acea24681f\\\",\\\"resource_group\\\":\\\"aml-quickstarts-135316\\\",\\\"workspace_name\\\":\\\"quick-starts-ws-135316\\\",\\\"region\\\":\\\"southcentralus\\\",\\\"compute_target\\\":\\\"local\\\",\\\"spark_service\\\":null,\\\"azure_service\\\":\\\"Microsoft.AzureNotebookVM\\\",\\\"many_models\\\":false,\\\"pipeline_fetch_max_batch_size\\\":1,\\\"iterations\\\":1000,\\\"primary_metric\\\":\\\"r2_score\\\",\\\"task_type\\\":\\\"regression\\\",\\\"data_script\\\":null,\\\"validation_size\\\":0.0,\\\"n_cross_validations\\\":10,\\\"y_min\\\":null,\\\"y_max\\\":null,\\\"num_classes\\\":null,\\\"featurization\\\":\\\"auto\\\",\\\"_ignore_package_version_incompatibilities\\\":false,\\\"is_timeseries\\\":false,\\\"max_cores_per_iteration\\\":1,\\\"max_concurrent_iterations\\\":4,\\\"iteration_timeout_minutes\\\":null,\\\"mem_in_mb\\\":null,\\\"enforce_time_on_windows\\\":false,\\\"experiment_timeout_minutes\\\":8640,\\\"experiment_exit_score\\\":null,\\\"whitelist_models\\\":null,\\\"blacklist_algos\\\":[\\\"TensorFlowDNN\\\",\\\"TensorFlowLinearRegressor\\\"],\\\"supported_models\\\":[\\\"KNN\\\",\\\"GradientBoosting\\\",\\\"DecisionTree\\\",\\\"TensorFlowDNN\\\",\\\"LightGBM\\\",\\\"OnlineGradientDescentRegressor\\\",\\\"ElasticNet\\\",\\\"RandomForest\\\",\\\"TensorFlowLinearRegressor\\\",\\\"FastLinearRegressor\\\",\\\"SGD\\\",\\\"XGBoostRegressor\\\",\\\"LassoLars\\\",\\\"ExtremeRandomTrees\\\"],\\\"auto_blacklist\\\":true,\\\"blacklist_samples_reached\\\":false,\\\"exclude_nan_labels\\\":true,\\\"verbosity\\\":20,\\\"_debug_log\\\":\\\"automl_errors.log\\\",\\\"show_warnings\\\":false,\\\"model_explainability\\\":true,\\\"service_url\\\":null,\\\"sdk_url\\\":null,\\\"sdk_packages\\\":null,\\\"enable_onnx_compatible_models\\\":false,\\\"enable_split_onnx_featurizer_estimator_models\\\":false,\\\"vm_type\\\":null,\\\"telemetry_verbosity\\\":20,\\\"send_telemetry\\\":true,\\\"enable_dnn\\\":false,\\\"scenario\\\":\\\"SDK-1.13.0\\\",\\\"environment_label\\\":null,\\\"force_text_dnn\\\":false,\\\"enable_feature_sweeping\\\":true,\\\"enable_early_stopping\\\":true,\\\"early_stopping_n_iters\\\":10,\\\"metrics\\\":null,\\\"enable_ensembling\\\":true,\\\"enable_stack_ensembling\\\":true,\\\"ensemble_iterations\\\":15,\\\"enable_tf\\\":false,\\\"enable_subsampling\\\":null,\\\"subsample_seed\\\":null,\\\"enable_nimbusml\\\":false,\\\"enable_streaming\\\":false,\\\"force_streaming\\\":false,\\\"track_child_runs\\\":true,\\\"allowed_private_models\\\":[],\\\"label_column_name\\\":\\\"TotalInstallationTime\\\",\\\"weight_column_name\\\":null,\\\"cv_split_column_names\\\":null,\\\"enable_local_managed\\\":false,\\\"_local_managed_run_id\\\":null,\\\"cost_mode\\\":1,\\\"lag_length\\\":0,\\\"metric_operation\\\":\\\"maximize\\\",\\\"preprocess\\\":true,\\\"experiment_timoue_minutes\\\":30}\", \"DataPrepJsonString\": null, \"EnableSubsampling\": null, \"runTemplate\": \"AutoML\", \"azureml.runsource\": \"automl\", \"display_task_type\": \"regression\", \"dependencies_versions\": \"{\\\"azureml-widgets\\\": \\\"1.19.0\\\", \\\"azureml-train\\\": \\\"1.19.0\\\", \\\"azureml-train-restclients-hyperdrive\\\": \\\"1.19.0\\\", \\\"azureml-train-core\\\": \\\"1.19.0\\\", \\\"azureml-train-automl\\\": \\\"1.19.0\\\", \\\"azureml-train-automl-runtime\\\": \\\"1.19.0\\\", \\\"azureml-train-automl-client\\\": \\\"1.19.0\\\", \\\"azureml-tensorboard\\\": \\\"1.19.0\\\", \\\"azureml-telemetry\\\": \\\"1.19.0\\\", \\\"azureml-sdk\\\": \\\"1.19.0\\\", \\\"azureml-samples\\\": \\\"0+unknown\\\", \\\"azureml-pipeline\\\": \\\"1.19.0\\\", \\\"azureml-pipeline-steps\\\": \\\"1.19.0\\\", \\\"azureml-pipeline-core\\\": \\\"1.19.0\\\", \\\"azureml-opendatasets\\\": \\\"1.19.0\\\", \\\"azureml-model-management-sdk\\\": \\\"1.0.1b6.post1\\\", \\\"azureml-mlflow\\\": \\\"1.19.0\\\", \\\"azureml-interpret\\\": \\\"1.19.0\\\", \\\"azureml-explain-model\\\": \\\"1.19.0\\\", \\\"azureml-defaults\\\": \\\"1.19.0\\\", \\\"azureml-dataset-runtime\\\": \\\"1.19.0.post1\\\", \\\"azureml-dataprep\\\": \\\"2.6.1\\\", \\\"azureml-dataprep-rslex\\\": \\\"1.4.0\\\", \\\"azureml-dataprep-native\\\": \\\"26.0.0\\\", \\\"azureml-datadrift\\\": \\\"1.19.0\\\", \\\"azureml-core\\\": \\\"1.19.0\\\", \\\"azureml-contrib-services\\\": \\\"1.19.0\\\", \\\"azureml-contrib-server\\\": \\\"1.19.0\\\", \\\"azureml-contrib-reinforcementlearning\\\": \\\"1.19.0\\\", \\\"azureml-contrib-pipeline-steps\\\": \\\"1.19.0\\\", \\\"azureml-contrib-notebook\\\": \\\"1.19.0\\\", \\\"azureml-contrib-interpret\\\": \\\"1.19.0\\\", \\\"azureml-contrib-gbdt\\\": \\\"1.19.0\\\", \\\"azureml-contrib-fairness\\\": \\\"1.19.0\\\", \\\"azureml-contrib-dataset\\\": \\\"1.19.0\\\", \\\"azureml-cli-common\\\": \\\"1.19.0\\\", \\\"azureml-automl-runtime\\\": \\\"1.19.0\\\", \\\"azureml-automl-core\\\": \\\"1.19.0\\\", \\\"azureml-accel-models\\\": \\\"1.19.0\\\"}\", \"_aml_system_scenario_identification\": \"Local.Parent\", \"ClientSdkVersion\": \"1.19.0\", \"ClientType\": \"SDK\", \"environment_cpu_name\": \"AzureML-AutoML\", \"environment_cpu_label\": \"prod\", \"environment_gpu_name\": \"AzureML-AutoML-GPU\", \"environment_gpu_label\": \"prod\", \"root_attribution\": \"automl\", \"attribution\": \"AutoML\", \"Orchestrator\": \"AutoML\", \"_azureml.ComputeTargetType\": \"local\", \"ProblemInfoJsonString\": \"{\\\"dataset_num_categorical\\\": 0, \\\"is_sparse\\\": false, \\\"subsampling\\\": false, \\\"dataset_classes\\\": 48, \\\"dataset_features\\\": 54, \\\"dataset_samples\\\": 1728, \\\"single_frequency_class_detected\\\": false}\", \"feature_skus\": \"automatedml_sdk_guardrails\"}, \"tags\": {\"model_explain_run\": \"best_run\", \"best_score\": \"0.2933184102262329\", \"best_pipeline\": \"VotingEnsemble\", \"automl_best_child_run_id\": \"AutoML_2aaa0b2f-6984-458d-a646-e2b25a95506c_33\", \"model_explain_best_run_child_id\": \"AutoML_2aaa0b2f-6984-458d-a646-e2b25a95506c_33\"}, \"end_time_utc\": \"2021-01-19T10:46:36.992922Z\", \"status\": \"Completed\", \"log_files\": {}, \"log_groups\": [], \"run_duration\": \"0:32:31\"}, \"child_runs\": [{\"run_id\": \"AutoML_2aaa0b2f-6984-458d-a646-e2b25a95506c_0\", \"run_number\": 57, \"metric\": null, \"status\": \"Completed\", \"run_type\": null, \"training_percent\": \"100\", \"start_time\": \"2021-01-19T10:14:28.309461Z\", \"end_time\": \"2021-01-19T10:15:00.084356Z\", \"created_time\": \"2021-01-19T10:14:28.006656Z\", \"created_time_dt\": \"2021-01-19T10:14:28.006656Z\", \"duration\": \"0:00:32\", \"iteration\": \"0\", \"goal\": \"r2_score_max\", \"run_name\": \"MaxAbsScaler, LightGBM\", \"run_properties\": \"copy=True\", \"primary_metric\": 0.2100423, \"best_metric\": 0.2100423}, {\"run_id\": \"AutoML_2aaa0b2f-6984-458d-a646-e2b25a95506c_1\", \"run_number\": 58, \"metric\": null, \"status\": \"Completed\", \"run_type\": null, \"training_percent\": \"100\", \"start_time\": \"2021-01-19T10:15:00.410221Z\", \"end_time\": \"2021-01-19T10:15:30.337378Z\", \"created_time\": \"2021-01-19T10:15:00.289256Z\", \"created_time_dt\": \"2021-01-19T10:15:00.289256Z\", \"duration\": \"0:00:30\", \"iteration\": \"1\", \"goal\": \"r2_score_max\", \"run_name\": \"MaxAbsScaler, XGBoostRegressor\", \"run_properties\": \"copy=True\", \"primary_metric\": 0.24926977, \"best_metric\": 0.24926977}, {\"run_id\": \"AutoML_2aaa0b2f-6984-458d-a646-e2b25a95506c_2\", \"run_number\": 59, \"metric\": null, \"status\": \"Completed\", \"run_type\": null, \"training_percent\": \"100\", \"start_time\": \"2021-01-19T10:15:31.665729Z\", \"end_time\": \"2021-01-19T10:16:10.75237Z\", \"created_time\": \"2021-01-19T10:15:31.360729Z\", \"created_time_dt\": \"2021-01-19T10:15:31.360729Z\", \"duration\": \"0:00:39\", \"iteration\": \"2\", \"goal\": \"r2_score_max\", \"run_name\": \"SparseNormalizer, XGBoostRegressor\", \"run_properties\": \"<azureml.automl.runtime.shared.model_wrappers.SparseNormalizer object at 0x7efebf1231d0\", \"primary_metric\": 0.20932973, \"best_metric\": 0.24926977}, {\"run_id\": \"AutoML_2aaa0b2f-6984-458d-a646-e2b25a95506c_3\", \"run_number\": 60, \"metric\": null, \"status\": \"Completed\", \"run_type\": null, \"training_percent\": \"100\", \"start_time\": \"2021-01-19T10:16:12.680937Z\", \"end_time\": \"2021-01-19T10:16:58.999202Z\", \"created_time\": \"2021-01-19T10:16:12.370171Z\", \"created_time_dt\": \"2021-01-19T10:16:12.370171Z\", \"duration\": \"0:00:46\", \"iteration\": \"3\", \"goal\": \"r2_score_max\", \"run_name\": \"MaxAbsScaler, RandomForest\", \"run_properties\": \"copy=True\", \"primary_metric\": 0.25955471, \"best_metric\": 0.25955471}, {\"run_id\": \"AutoML_2aaa0b2f-6984-458d-a646-e2b25a95506c_4\", \"run_number\": 61, \"metric\": null, \"status\": \"Completed\", \"run_type\": null, \"training_percent\": \"100\", \"start_time\": \"2021-01-19T10:17:00.766492Z\", \"end_time\": \"2021-01-19T10:17:38.60578Z\", \"created_time\": \"2021-01-19T10:17:00.652452Z\", \"created_time_dt\": \"2021-01-19T10:17:00.652452Z\", \"duration\": \"0:00:37\", \"iteration\": \"4\", \"goal\": \"r2_score_max\", \"run_name\": \"StandardScalerWrapper, XGBoostRegressor\", \"run_properties\": \"<azureml.automl.runtime.shared.model_wrappers.StandardScalerWrapper object at 0x7efeb92386d8\", \"primary_metric\": 0.16063219, \"best_metric\": 0.25955471}, {\"run_id\": \"AutoML_2aaa0b2f-6984-458d-a646-e2b25a95506c_5\", \"run_number\": 62, \"metric\": null, \"status\": \"Completed\", \"run_type\": null, \"training_percent\": \"100\", \"start_time\": \"2021-01-19T10:17:40.870838Z\", \"end_time\": \"2021-01-19T10:18:23.238408Z\", \"created_time\": \"2021-01-19T10:17:40.544345Z\", \"created_time_dt\": \"2021-01-19T10:17:40.544345Z\", \"duration\": \"0:00:42\", \"iteration\": \"5\", \"goal\": \"r2_score_max\", \"run_name\": \"MaxAbsScaler, ElasticNet\", \"run_properties\": \"copy=True\", \"primary_metric\": 0.255535, \"best_metric\": 0.25955471}, {\"run_id\": \"AutoML_2aaa0b2f-6984-458d-a646-e2b25a95506c_6\", \"run_number\": 63, \"metric\": null, \"status\": \"Completed\", \"run_type\": null, \"training_percent\": \"100\", \"start_time\": \"2021-01-19T10:18:25.044632Z\", \"end_time\": \"2021-01-19T10:19:15.614265Z\", \"created_time\": \"2021-01-19T10:18:24.937556Z\", \"created_time_dt\": \"2021-01-19T10:18:24.937556Z\", \"duration\": \"0:00:50\", \"iteration\": \"6\", \"goal\": \"r2_score_max\", \"run_name\": \"MinMaxScaler, RandomForest\", \"run_properties\": \"copy=True, feature_range=(0, 1\", \"primary_metric\": 0.24613877, \"best_metric\": 0.25955471}, {\"run_id\": \"AutoML_2aaa0b2f-6984-458d-a646-e2b25a95506c_7\", \"run_number\": 64, \"metric\": null, \"status\": \"Completed\", \"run_type\": null, \"training_percent\": \"100\", \"start_time\": \"2021-01-19T10:19:17.507308Z\", \"end_time\": \"2021-01-19T10:19:50.262936Z\", \"created_time\": \"2021-01-19T10:19:17.36985Z\", \"created_time_dt\": \"2021-01-19T10:19:17.36985Z\", \"duration\": \"0:00:32\", \"iteration\": \"7\", \"goal\": \"r2_score_max\", \"run_name\": \"StandardScalerWrapper, XGBoostRegressor\", \"run_properties\": \"<azureml.automl.runtime.shared.model_wrappers.StandardScalerWrapper object at 0x7efec034c908\", \"primary_metric\": 0.20933338, \"best_metric\": 0.25955471}, {\"run_id\": \"AutoML_2aaa0b2f-6984-458d-a646-e2b25a95506c_8\", \"run_number\": 65, \"metric\": null, \"status\": \"Completed\", \"run_type\": null, \"training_percent\": \"100\", \"start_time\": \"2021-01-19T10:19:51.903413Z\", \"end_time\": \"2021-01-19T10:20:35.991583Z\", \"created_time\": \"2021-01-19T10:19:51.79038Z\", \"created_time_dt\": \"2021-01-19T10:19:51.79038Z\", \"duration\": \"0:00:44\", \"iteration\": \"8\", \"goal\": \"r2_score_max\", \"run_name\": \"MinMaxScaler, ExtremeRandomTrees\", \"run_properties\": \"copy=True, feature_range=(0, 1\", \"primary_metric\": 0.23574295, \"best_metric\": 0.25955471}, {\"run_id\": \"AutoML_2aaa0b2f-6984-458d-a646-e2b25a95506c_9\", \"run_number\": 66, \"metric\": null, \"status\": \"Completed\", \"run_type\": null, \"training_percent\": \"100\", \"start_time\": \"2021-01-19T10:20:37.64442Z\", \"end_time\": \"2021-01-19T10:21:06.947934Z\", \"created_time\": \"2021-01-19T10:20:37.517497Z\", \"created_time_dt\": \"2021-01-19T10:20:37.517497Z\", \"duration\": \"0:00:29\", \"iteration\": \"9\", \"goal\": \"r2_score_max\", \"run_name\": \"StandardScalerWrapper, ElasticNet\", \"run_properties\": \"<azureml.automl.runtime.shared.model_wrappers.StandardScalerWrapper object at 0x7efebeaf1518\", \"primary_metric\": 0.25768222, \"best_metric\": 0.25955471}, {\"run_id\": \"AutoML_2aaa0b2f-6984-458d-a646-e2b25a95506c_10\", \"run_number\": 67, \"metric\": null, \"status\": \"Completed\", \"run_type\": null, \"training_percent\": \"100\", \"start_time\": \"2021-01-19T10:21:08.605701Z\", \"end_time\": \"2021-01-19T10:22:29.169387Z\", \"created_time\": \"2021-01-19T10:21:08.481943Z\", \"created_time_dt\": \"2021-01-19T10:21:08.481943Z\", \"duration\": \"0:01:20\", \"iteration\": \"10\", \"goal\": \"r2_score_max\", \"run_name\": \"MinMaxScaler, RandomForest\", \"run_properties\": \"copy=True, feature_range=(0, 1\", \"primary_metric\": 0.26277849, \"best_metric\": 0.26277849}, {\"run_id\": \"AutoML_2aaa0b2f-6984-458d-a646-e2b25a95506c_11\", \"run_number\": 68, \"metric\": null, \"status\": \"Completed\", \"run_type\": null, \"training_percent\": \"100\", \"start_time\": \"2021-01-19T10:22:30.895224Z\", \"end_time\": \"2021-01-19T10:23:00.511697Z\", \"created_time\": \"2021-01-19T10:22:30.771265Z\", \"created_time_dt\": \"2021-01-19T10:22:30.771265Z\", \"duration\": \"0:00:29\", \"iteration\": \"11\", \"goal\": \"r2_score_max\", \"run_name\": \"MinMaxScaler, RandomForest\", \"run_properties\": \"copy=True, feature_range=(0, 1\", \"primary_metric\": 0.24686287, \"best_metric\": 0.26277849}, {\"run_id\": \"AutoML_2aaa0b2f-6984-458d-a646-e2b25a95506c_12\", \"run_number\": 69, \"metric\": null, \"status\": \"Completed\", \"run_type\": null, \"training_percent\": \"100\", \"start_time\": \"2021-01-19T10:23:02.639992Z\", \"end_time\": \"2021-01-19T10:23:37.048781Z\", \"created_time\": \"2021-01-19T10:23:02.294111Z\", \"created_time_dt\": \"2021-01-19T10:23:02.294111Z\", \"duration\": \"0:00:34\", \"iteration\": \"12\", \"goal\": \"r2_score_max\", \"run_name\": \"StandardScalerWrapper, XGBoostRegressor\", \"run_properties\": \"<azureml.automl.runtime.shared.model_wrappers.StandardScalerWrapper object at 0x7efeaa0715f8\", \"primary_metric\": 0.20142155, \"best_metric\": 0.26277849}, {\"run_id\": \"AutoML_2aaa0b2f-6984-458d-a646-e2b25a95506c_13\", \"run_number\": 70, \"metric\": null, \"status\": \"Completed\", \"run_type\": null, \"training_percent\": \"100\", \"start_time\": \"2021-01-19T10:23:38.647696Z\", \"end_time\": \"2021-01-19T10:24:08.268847Z\", \"created_time\": \"2021-01-19T10:23:38.50532Z\", \"created_time_dt\": \"2021-01-19T10:23:38.50532Z\", \"duration\": \"0:00:29\", \"iteration\": \"13\", \"goal\": \"r2_score_max\", \"run_name\": \"RobustScaler, LassoLars\", \"run_properties\": \"copy=True, quantile_range=[10, 90], with_centering=False,\\n             with_scaling=True\", \"primary_metric\": 0.25553122, \"best_metric\": 0.26277849}, {\"run_id\": \"AutoML_2aaa0b2f-6984-458d-a646-e2b25a95506c_14\", \"run_number\": 71, \"metric\": null, \"status\": \"Completed\", \"run_type\": null, \"training_percent\": \"100\", \"start_time\": \"2021-01-19T10:24:09.867043Z\", \"end_time\": \"2021-01-19T10:24:40.990758Z\", \"created_time\": \"2021-01-19T10:24:09.758745Z\", \"created_time_dt\": \"2021-01-19T10:24:09.758745Z\", \"duration\": \"0:00:31\", \"iteration\": \"14\", \"goal\": \"r2_score_max\", \"run_name\": \"MinMaxScaler, ExtremeRandomTrees\", \"run_properties\": \"copy=True, feature_range=(0, 1\", \"primary_metric\": 0.22010314, \"best_metric\": 0.26277849}, {\"run_id\": \"AutoML_2aaa0b2f-6984-458d-a646-e2b25a95506c_15\", \"run_number\": 72, \"metric\": null, \"status\": \"Completed\", \"run_type\": null, \"training_percent\": \"100\", \"start_time\": \"2021-01-19T10:24:42.598024Z\", \"end_time\": \"2021-01-19T10:25:12.257428Z\", \"created_time\": \"2021-01-19T10:24:42.471372Z\", \"created_time_dt\": \"2021-01-19T10:24:42.471372Z\", \"duration\": \"0:00:29\", \"iteration\": \"15\", \"goal\": \"r2_score_max\", \"run_name\": \"MaxAbsScaler, ExtremeRandomTrees\", \"run_properties\": \"copy=True\", \"primary_metric\": 0.19841516, \"best_metric\": 0.26277849}, {\"run_id\": \"AutoML_2aaa0b2f-6984-458d-a646-e2b25a95506c_16\", \"run_number\": 73, \"metric\": null, \"status\": \"Completed\", \"run_type\": null, \"training_percent\": \"100\", \"start_time\": \"2021-01-19T10:25:14.086977Z\", \"end_time\": \"2021-01-19T10:25:52.191164Z\", \"created_time\": \"2021-01-19T10:25:13.969204Z\", \"created_time_dt\": \"2021-01-19T10:25:13.969204Z\", \"duration\": \"0:00:38\", \"iteration\": \"16\", \"goal\": \"r2_score_max\", \"run_name\": \"MinMaxScaler, ExtremeRandomTrees\", \"run_properties\": \"copy=True, feature_range=(0, 1\", \"primary_metric\": 0.2418443, \"best_metric\": 0.26277849}, {\"run_id\": \"AutoML_2aaa0b2f-6984-458d-a646-e2b25a95506c_17\", \"run_number\": 74, \"metric\": null, \"status\": \"Completed\", \"run_type\": null, \"training_percent\": \"100\", \"start_time\": \"2021-01-19T10:25:53.866191Z\", \"end_time\": \"2021-01-19T10:26:23.537285Z\", \"created_time\": \"2021-01-19T10:25:53.745304Z\", \"created_time_dt\": \"2021-01-19T10:25:53.745304Z\", \"duration\": \"0:00:29\", \"iteration\": \"17\", \"goal\": \"r2_score_max\", \"run_name\": \"MaxAbsScaler, ElasticNet\", \"run_properties\": \"copy=True\", \"primary_metric\": 0.25660683, \"best_metric\": 0.26277849}, {\"run_id\": \"AutoML_2aaa0b2f-6984-458d-a646-e2b25a95506c_18\", \"run_number\": 75, \"metric\": null, \"status\": \"Completed\", \"run_type\": null, \"training_percent\": \"100\", \"start_time\": \"2021-01-19T10:26:25.275063Z\", \"end_time\": \"2021-01-19T10:26:55.208841Z\", \"created_time\": \"2021-01-19T10:26:25.141621Z\", \"created_time_dt\": \"2021-01-19T10:26:25.141621Z\", \"duration\": \"0:00:30\", \"iteration\": \"18\", \"goal\": \"r2_score_max\", \"run_name\": \"MinMaxScaler, RandomForest\", \"run_properties\": \"copy=True, feature_range=(0, 1\", \"primary_metric\": 0.18978823, \"best_metric\": 0.26277849}, {\"run_id\": \"AutoML_2aaa0b2f-6984-458d-a646-e2b25a95506c_19\", \"run_number\": 76, \"metric\": null, \"status\": \"Completed\", \"run_type\": null, \"training_percent\": \"100\", \"start_time\": \"2021-01-19T10:26:57.519738Z\", \"end_time\": \"2021-01-19T10:27:27.527046Z\", \"created_time\": \"2021-01-19T10:26:57.22364Z\", \"created_time_dt\": \"2021-01-19T10:26:57.22364Z\", \"duration\": \"0:00:30\", \"iteration\": \"19\", \"goal\": \"r2_score_max\", \"run_name\": \"MaxAbsScaler, RandomForest\", \"run_properties\": \"copy=True\", \"primary_metric\": 0.23800357, \"best_metric\": 0.26277849}, {\"run_id\": \"AutoML_2aaa0b2f-6984-458d-a646-e2b25a95506c_20\", \"run_number\": 77, \"metric\": null, \"status\": \"Completed\", \"run_type\": null, \"training_percent\": \"100\", \"start_time\": \"2021-01-19T10:27:28.978667Z\", \"end_time\": \"2021-01-19T10:27:58.993233Z\", \"created_time\": \"2021-01-19T10:27:28.835821Z\", \"created_time_dt\": \"2021-01-19T10:27:28.835821Z\", \"duration\": \"0:00:30\", \"iteration\": \"20\", \"goal\": \"r2_score_max\", \"run_name\": \"RobustScaler, ElasticNet\", \"run_properties\": \"copy=True, quantile_range=[10, 90], with_centering=True,\\n             with_scaling=False\", \"primary_metric\": 0.25761209, \"best_metric\": 0.26277849}, {\"run_id\": \"AutoML_2aaa0b2f-6984-458d-a646-e2b25a95506c_21\", \"run_number\": 78, \"metric\": null, \"status\": \"Completed\", \"run_type\": null, \"training_percent\": \"100\", \"start_time\": \"2021-01-19T10:28:00.527371Z\", \"end_time\": \"2021-01-19T10:28:35.847399Z\", \"created_time\": \"2021-01-19T10:28:00.423808Z\", \"created_time_dt\": \"2021-01-19T10:28:00.423808Z\", \"duration\": \"0:00:35\", \"iteration\": \"21\", \"goal\": \"r2_score_max\", \"run_name\": \"StandardScalerWrapper, RandomForest\", \"run_properties\": \"<azureml.automl.runtime.shared.model_wrappers.StandardScalerWrapper object at 0x7efeaa1a1f28\", \"primary_metric\": 0.24892836, \"best_metric\": 0.26277849}, {\"run_id\": \"AutoML_2aaa0b2f-6984-458d-a646-e2b25a95506c_22\", \"run_number\": 79, \"metric\": null, \"status\": \"Completed\", \"run_type\": null, \"training_percent\": \"100\", \"start_time\": \"2021-01-19T10:28:37.485968Z\", \"end_time\": \"2021-01-19T10:29:13.319076Z\", \"created_time\": \"2021-01-19T10:28:37.348404Z\", \"created_time_dt\": \"2021-01-19T10:28:37.348404Z\", \"duration\": \"0:00:35\", \"iteration\": \"22\", \"goal\": \"r2_score_max\", \"run_name\": \"RobustScaler, LightGBM\", \"run_properties\": \"copy=True, quantile_range=[10, 90], with_centering=False,\\n             with_scaling=True\", \"primary_metric\": 0.19035228, \"best_metric\": 0.26277849}, {\"run_id\": \"AutoML_2aaa0b2f-6984-458d-a646-e2b25a95506c_23\", \"run_number\": 80, \"metric\": null, \"status\": \"Completed\", \"run_type\": null, \"training_percent\": \"100\", \"start_time\": \"2021-01-19T10:29:14.710754Z\", \"end_time\": \"2021-01-19T10:38:24.179985Z\", \"created_time\": \"2021-01-19T10:29:14.604481Z\", \"created_time_dt\": \"2021-01-19T10:29:14.604481Z\", \"duration\": \"0:09:09\", \"iteration\": \"23\", \"goal\": \"r2_score_max\", \"run_name\": \"RobustScaler, ExtremeRandomTrees\", \"run_properties\": \"copy=True, quantile_range=[25, 75], with_centering=False,\\n             with_scaling=True\", \"primary_metric\": 0.25099264, \"best_metric\": 0.26277849}, {\"run_id\": \"AutoML_2aaa0b2f-6984-458d-a646-e2b25a95506c_24\", \"run_number\": 81, \"metric\": null, \"status\": \"Completed\", \"run_type\": null, \"training_percent\": \"100\", \"start_time\": \"2021-01-19T10:38:25.525828Z\", \"end_time\": \"2021-01-19T10:38:59.491486Z\", \"created_time\": \"2021-01-19T10:38:25.418705Z\", \"created_time_dt\": \"2021-01-19T10:38:25.418705Z\", \"duration\": \"0:00:34\", \"iteration\": \"24\", \"goal\": \"r2_score_max\", \"run_name\": \"MaxAbsScaler, RandomForest\", \"run_properties\": \"copy=True\", \"primary_metric\": 0.22638344, \"best_metric\": 0.26277849}, {\"run_id\": \"AutoML_2aaa0b2f-6984-458d-a646-e2b25a95506c_25\", \"run_number\": 82, \"metric\": null, \"status\": \"Completed\", \"run_type\": null, \"training_percent\": \"100\", \"start_time\": \"2021-01-19T10:39:04.358252Z\", \"end_time\": \"2021-01-19T10:39:32.125344Z\", \"created_time\": \"2021-01-19T10:39:04.211905Z\", \"created_time_dt\": \"2021-01-19T10:39:04.211905Z\", \"duration\": \"0:00:27\", \"iteration\": \"25\", \"goal\": \"r2_score_max\", \"run_name\": \"MaxAbsScaler, RandomForest\", \"run_properties\": \"copy=True\", \"primary_metric\": 0.20408382, \"best_metric\": 0.26277849}, {\"run_id\": \"AutoML_2aaa0b2f-6984-458d-a646-e2b25a95506c_26\", \"run_number\": 83, \"metric\": null, \"status\": \"Completed\", \"run_type\": null, \"training_percent\": \"100\", \"start_time\": \"2021-01-19T10:39:33.440348Z\", \"end_time\": \"2021-01-19T10:40:02.126743Z\", \"created_time\": \"2021-01-19T10:39:33.333626Z\", \"created_time_dt\": \"2021-01-19T10:39:33.333626Z\", \"duration\": \"0:00:28\", \"iteration\": \"26\", \"goal\": \"r2_score_max\", \"run_name\": \"MinMaxScaler, RandomForest\", \"run_properties\": \"copy=True, feature_range=(0, 1\", \"primary_metric\": 0.25720304, \"best_metric\": 0.26277849}, {\"run_id\": \"AutoML_2aaa0b2f-6984-458d-a646-e2b25a95506c_27\", \"run_number\": 85, \"metric\": null, \"status\": \"Completed\", \"run_type\": null, \"training_percent\": \"100\", \"start_time\": \"2021-01-19T10:40:03.490944Z\", \"end_time\": \"2021-01-19T10:40:45.428106Z\", \"created_time\": \"2021-01-19T10:40:03.381157Z\", \"created_time_dt\": \"2021-01-19T10:40:03.381157Z\", \"duration\": \"0:00:42\", \"iteration\": \"27\", \"goal\": \"r2_score_max\", \"run_name\": \"SparseNormalizer, XGBoostRegressor\", \"run_properties\": \"<azureml.automl.runtime.shared.model_wrappers.SparseNormalizer object at 0x7efec0a095f8\", \"primary_metric\": 0.14839963, \"best_metric\": 0.26277849}, {\"run_id\": \"AutoML_2aaa0b2f-6984-458d-a646-e2b25a95506c_28\", \"run_number\": 86, \"metric\": null, \"status\": \"Completed\", \"run_type\": null, \"training_percent\": \"100\", \"start_time\": \"2021-01-19T10:40:46.784841Z\", \"end_time\": \"2021-01-19T10:41:20.416731Z\", \"created_time\": \"2021-01-19T10:40:46.676163Z\", \"created_time_dt\": \"2021-01-19T10:40:46.676163Z\", \"duration\": \"0:00:33\", \"iteration\": \"28\", \"goal\": \"r2_score_max\", \"run_name\": \"MinMaxScaler, ExtremeRandomTrees\", \"run_properties\": \"copy=True, feature_range=(0, 1\", \"primary_metric\": 0.22079988, \"best_metric\": 0.26277849}, {\"run_id\": \"AutoML_2aaa0b2f-6984-458d-a646-e2b25a95506c_29\", \"run_number\": 87, \"metric\": null, \"status\": \"Completed\", \"run_type\": null, \"training_percent\": \"100\", \"start_time\": \"2021-01-19T10:41:21.879251Z\", \"end_time\": \"2021-01-19T10:42:54.755629Z\", \"created_time\": \"2021-01-19T10:41:21.764748Z\", \"created_time_dt\": \"2021-01-19T10:41:21.764748Z\", \"duration\": \"0:01:32\", \"iteration\": \"29\", \"goal\": \"r2_score_max\", \"run_name\": \"MaxAbsScaler, ExtremeRandomTrees\", \"run_properties\": \"copy=True\", \"primary_metric\": 0.21260759, \"best_metric\": 0.26277849}, {\"run_id\": \"AutoML_2aaa0b2f-6984-458d-a646-e2b25a95506c_30\", \"run_number\": 88, \"metric\": null, \"status\": \"Completed\", \"run_type\": null, \"training_percent\": \"100\", \"start_time\": \"2021-01-19T10:42:57.018477Z\", \"end_time\": \"2021-01-19T10:43:26.277728Z\", \"created_time\": \"2021-01-19T10:42:56.898294Z\", \"created_time_dt\": \"2021-01-19T10:42:56.898294Z\", \"duration\": \"0:00:29\", \"iteration\": \"30\", \"goal\": \"r2_score_max\", \"run_name\": \"MinMaxScaler, RandomForest\", \"run_properties\": \"copy=True, feature_range=(0, 1\", \"primary_metric\": 0.12258448, \"best_metric\": 0.26277849}, {\"run_id\": \"AutoML_2aaa0b2f-6984-458d-a646-e2b25a95506c_31\", \"run_number\": 89, \"metric\": null, \"status\": \"Completed\", \"run_type\": null, \"training_percent\": \"100\", \"start_time\": \"2021-01-19T10:43:27.673752Z\", \"end_time\": \"2021-01-19T10:43:56.158208Z\", \"created_time\": \"2021-01-19T10:43:27.535767Z\", \"created_time_dt\": \"2021-01-19T10:43:27.535767Z\", \"duration\": \"0:00:28\", \"iteration\": \"31\", \"goal\": \"r2_score_max\", \"run_name\": \"StandardScalerWrapper, DecisionTree\", \"run_properties\": \"<azureml.automl.runtime.shared.model_wrappers.StandardScalerWrapper object at 0x7efec0dd3828\", \"primary_metric\": 0.17433677, \"best_metric\": 0.26277849}, {\"run_id\": \"AutoML_2aaa0b2f-6984-458d-a646-e2b25a95506c_32\", \"run_number\": 90, \"metric\": null, \"status\": \"Completed\", \"run_type\": null, \"training_percent\": \"100\", \"start_time\": \"2021-01-19T10:43:57.465114Z\", \"end_time\": \"2021-01-19T10:44:25.401003Z\", \"created_time\": \"2021-01-19T10:43:57.35054Z\", \"created_time_dt\": \"2021-01-19T10:43:57.35054Z\", \"duration\": \"0:00:28\", \"iteration\": \"32\", \"goal\": \"r2_score_max\", \"run_name\": \"MinMaxScaler, LightGBM\", \"run_properties\": \"copy=True, feature_range=(0, 1\", \"primary_metric\": 0.2343433, \"best_metric\": 0.26277849}, {\"run_id\": \"AutoML_2aaa0b2f-6984-458d-a646-e2b25a95506c_33\", \"run_number\": 91, \"metric\": null, \"status\": \"Completed\", \"run_type\": null, \"training_percent\": \"100\", \"start_time\": \"2021-01-19T10:44:26.004001Z\", \"end_time\": \"2021-01-19T10:45:26.045689Z\", \"created_time\": \"2021-01-19T10:44:25.61955Z\", \"created_time_dt\": \"2021-01-19T10:44:25.61955Z\", \"duration\": \"0:01:00\", \"iteration\": \"33\", \"goal\": \"r2_score_max\", \"run_name\": \"VotingEnsemble\", \"run_properties\": \"estimators=[('10',\\n                                          Pipeline(memory=None,\\n                                                   steps=[('minmaxscaler',\\n                                                           MinMaxScaler(copy=True,\\n                                                                        feature_range=(0,\\n                                                                                       1\", \"primary_metric\": 0.29331841, \"best_metric\": 0.29331841}, {\"run_id\": \"AutoML_2aaa0b2f-6984-458d-a646-e2b25a95506c_34\", \"run_number\": 92, \"metric\": null, \"status\": \"Completed\", \"run_type\": null, \"training_percent\": \"100\", \"start_time\": \"2021-01-19T10:45:26.397183Z\", \"end_time\": \"2021-01-19T10:46:32.430678Z\", \"created_time\": \"2021-01-19T10:45:26.289001Z\", \"created_time_dt\": \"2021-01-19T10:45:26.289001Z\", \"duration\": \"0:01:06\", \"iteration\": \"34\", \"goal\": \"r2_score_max\", \"run_name\": \"StackEnsemble\", \"run_properties\": \"base_learners=[('10',\\n                                       Pipeline(memory=None,\\n                                                steps=[('minmaxscaler',\\n                                                        MinMaxScaler(copy=True,\\n                                                                     feature_range=(0,\\n                                                                                    1\", \"primary_metric\": 0.28680363, \"best_metric\": 0.29331841}], \"children_metrics\": {\"categories\": [0], \"series\": {\"root_mean_squared_error\": [{\"categories\": [\"0\", \"1\", \"2\", \"3\", \"4\", \"5\", \"6\", \"7\", \"8\", \"9\", \"10\", \"11\", \"12\", \"13\", \"14\", \"15\", \"16\", \"17\", \"18\", \"19\", \"20\", \"21\", \"22\", \"23\", \"24\", \"25\", \"26\", \"27\", \"28\", \"29\", \"30\", \"31\", \"32\", \"33\", \"34\"], \"mode\": \"markers\", \"name\": \"root_mean_squared_error\", \"stepped\": false, \"type\": \"scatter\", \"data\": [32.733109571494694, 32.026732860064456, 32.7447011822821, 31.805908975079923, 33.740623712731136, 31.877432297717952, 32.07043988665085, 32.78368117883548, 32.284066788109044, 31.83342297148971, 31.742090092061282, 32.08453167285307, 33.02380619696984, 31.8775166041549, 32.5688728927157, 33.10863854257143, 32.1346162462364, 31.85515472542171, 33.257092588638784, 32.249548494320806, 31.83663027704572, 32.04666353279778, 33.10976850781478, 32.00216644082301, 32.49597716042441, 32.98560577907582, 31.837317129151995, 33.96347037182845, 32.588260317776715, 32.75834677771985, 34.55749024319847, 33.47835662354153, 32.33417916733991, 31.083693902465978, 31.217081386879862]}, {\"categories\": [\"0\", \"1\", \"2\", \"3\", \"4\", \"5\", \"6\", \"7\", \"8\", \"9\", \"10\", \"11\", \"12\", \"13\", \"14\", \"15\", \"16\", \"17\", \"18\", \"19\", \"20\", \"21\", \"22\", \"23\", \"24\", \"25\", \"26\", \"27\", \"28\", \"29\", \"30\", \"31\", \"32\", \"33\", \"34\"], \"mode\": \"lines\", \"name\": \"root_mean_squared_error_min\", \"stepped\": true, \"type\": \"scatter\", \"data\": [32.733109571494694, 32.026732860064456, 32.026732860064456, 31.805908975079923, 31.805908975079923, 31.805908975079923, 31.805908975079923, 31.805908975079923, 31.805908975079923, 31.805908975079923, 31.742090092061282, 31.742090092061282, 31.742090092061282, 31.742090092061282, 31.742090092061282, 31.742090092061282, 31.742090092061282, 31.742090092061282, 31.742090092061282, 31.742090092061282, 31.742090092061282, 31.742090092061282, 31.742090092061282, 31.742090092061282, 31.742090092061282, 31.742090092061282, 31.742090092061282, 31.742090092061282, 31.742090092061282, 31.742090092061282, 31.742090092061282, 31.742090092061282, 31.742090092061282, 31.083693902465978, 31.083693902465978]}], \"normalized_root_mean_squared_error\": [{\"categories\": [\"0\", \"1\", \"2\", \"3\", \"4\", \"5\", \"6\", \"7\", \"8\", \"9\", \"10\", \"11\", \"12\", \"13\", \"14\", \"15\", \"16\", \"17\", \"18\", \"19\", \"20\", \"21\", \"22\", \"23\", \"24\", \"25\", \"26\", \"27\", \"28\", \"29\", \"30\", \"31\", \"32\", \"33\", \"34\"], \"mode\": \"markers\", \"name\": \"normalized_root_mean_squared_error\", \"stepped\": false, \"type\": \"scatter\", \"data\": [0.07983685261340169, 0.07811398258552307, 0.0798651248348344, 0.07757538774409738, 0.082294204177393, 0.0777498348724828, 0.07822058508939231, 0.0799601979971597, 0.07874162631246107, 0.07764249505241394, 0.07741973193185679, 0.07825495529964162, 0.08054586877309716, 0.07775004049793878, 0.07943627534808709, 0.08075277693310104, 0.0783771127956985, 0.07769549933029686, 0.0811148599722897, 0.07865743535200195, 0.077650317748892, 0.0781625939824336, 0.0807555329458897, 0.07805406448981224, 0.07925848087908394, 0.08045269702213614, 0.07765199299793171, 0.08283773261421572, 0.07948356175067492, 0.07989840677492646, 0.08428656156877676, 0.08165452835010131, 0.07886385162765834, 0.0758138875669902, 0.07613922289482895]}, {\"categories\": [\"0\", \"1\", \"2\", \"3\", \"4\", \"5\", \"6\", \"7\", \"8\", \"9\", \"10\", \"11\", \"12\", \"13\", \"14\", \"15\", \"16\", \"17\", \"18\", \"19\", \"20\", \"21\", \"22\", \"23\", \"24\", \"25\", \"26\", \"27\", \"28\", \"29\", \"30\", \"31\", \"32\", \"33\", \"34\"], \"mode\": \"lines\", \"name\": \"normalized_root_mean_squared_error_min\", \"stepped\": true, \"type\": \"scatter\", \"data\": [0.07983685261340169, 0.07811398258552307, 0.07811398258552307, 0.07757538774409738, 0.07757538774409738, 0.07757538774409738, 0.07757538774409738, 0.07757538774409738, 0.07757538774409738, 0.07757538774409738, 0.07741973193185679, 0.07741973193185679, 0.07741973193185679, 0.07741973193185679, 0.07741973193185679, 0.07741973193185679, 0.07741973193185679, 0.07741973193185679, 0.07741973193185679, 0.07741973193185679, 0.07741973193185679, 0.07741973193185679, 0.07741973193185679, 0.07741973193185679, 0.07741973193185679, 0.07741973193185679, 0.07741973193185679, 0.07741973193185679, 0.07741973193185679, 0.07741973193185679, 0.07741973193185679, 0.07741973193185679, 0.07741973193185679, 0.0758138875669902, 0.0758138875669902]}], \"root_mean_squared_log_error\": [{\"categories\": [\"0\", \"1\", \"2\", \"3\", \"4\", \"5\", \"6\", \"7\", \"8\", \"9\", \"10\", \"11\", \"12\", \"13\", \"14\", \"15\", \"16\", \"17\", \"18\", \"19\", \"20\", \"21\", \"22\", \"23\", \"24\", \"25\", \"26\", \"27\", \"28\", \"29\", \"30\", \"31\", \"32\", \"33\", \"34\"], \"mode\": \"markers\", \"name\": \"root_mean_squared_log_error\", \"stepped\": false, \"type\": \"scatter\", \"data\": [0.5107220754353696, 0.4965465032059537, 0.5051234917382648, 0.5007526622139742, 0.5148629707564628, 0.499608382580779, 0.505004159763091, 0.5006483699466491, 0.4993776111646163, 0.4973023814906898, 0.5003424818490222, 0.5086520623167164, 0.49534624222066076, 0.4996369056207156, 0.5044188366099578, 0.5289074956573574, 0.499669632310897, 0.497755212579366, 0.5336322065739597, 0.5054366358664014, 0.4959272519123706, 0.5088295834407752, 0.5212424141496915, 0.4855284520253201, 0.5170446932418116, 0.5299410440714101, 0.502747723760715, 0.5250915429770027, 0.5171265821822468, 0.4956795687429641, 0.5607064782493414, 0.5262138348428725, 0.5112504481490188, 0.4884887669700196, 0.4907030122992292]}, {\"categories\": [\"0\", \"1\", \"2\", \"3\", \"4\", \"5\", \"6\", \"7\", \"8\", \"9\", \"10\", \"11\", \"12\", \"13\", \"14\", \"15\", \"16\", \"17\", \"18\", \"19\", \"20\", \"21\", \"22\", \"23\", \"24\", \"25\", \"26\", \"27\", \"28\", \"29\", \"30\", \"31\", \"32\", \"33\", \"34\"], \"mode\": \"lines\", \"name\": \"root_mean_squared_log_error_min\", \"stepped\": true, \"type\": \"scatter\", \"data\": [0.5107220754353696, 0.4965465032059537, 0.4965465032059537, 0.4965465032059537, 0.4965465032059537, 0.4965465032059537, 0.4965465032059537, 0.4965465032059537, 0.4965465032059537, 0.4965465032059537, 0.4965465032059537, 0.4965465032059537, 0.49534624222066076, 0.49534624222066076, 0.49534624222066076, 0.49534624222066076, 0.49534624222066076, 0.49534624222066076, 0.49534624222066076, 0.49534624222066076, 0.49534624222066076, 0.49534624222066076, 0.49534624222066076, 0.4855284520253201, 0.4855284520253201, 0.4855284520253201, 0.4855284520253201, 0.4855284520253201, 0.4855284520253201, 0.4855284520253201, 0.4855284520253201, 0.4855284520253201, 0.4855284520253201, 0.4855284520253201, 0.4855284520253201]}], \"r2_score\": [{\"categories\": [\"0\", \"1\", \"2\", \"3\", \"4\", \"5\", \"6\", \"7\", \"8\", \"9\", \"10\", \"11\", \"12\", \"13\", \"14\", \"15\", \"16\", \"17\", \"18\", \"19\", \"20\", \"21\", \"22\", \"23\", \"24\", \"25\", \"26\", \"27\", \"28\", \"29\", \"30\", \"31\", \"32\", \"33\", \"34\"], \"mode\": \"markers\", \"name\": \"r2_score\", \"stepped\": false, \"type\": \"scatter\", \"data\": [0.21004229982356604, 0.24926977437101075, 0.20932973239464525, 0.2595547139247588, 0.1606321862704525, 0.2555350025591984, 0.24613877199353693, 0.20933338264625584, 0.23574294925790432, 0.25768221777638245, 0.26277849478775017, 0.24686287214751612, 0.20142155222906108, 0.2555312185566371, 0.22010314151754798, 0.1984151600712447, 0.24184429517664766, 0.256606825710072, 0.1897882300617944, 0.23800356857633315, 0.2576120863913587, 0.2489283595125824, 0.19035228224600145, 0.25099264383170383, 0.2263834394087522, 0.20408382382246928, 0.25720303559675856, 0.14839962511807644, 0.2207998764028405, 0.212607593067251, 0.12258447759002804, 0.1743367680194916, 0.23434330176892662, 0.2933184102262329, 0.2868036341189922]}, {\"categories\": [\"0\", \"1\", \"2\", \"3\", \"4\", \"5\", \"6\", \"7\", \"8\", \"9\", \"10\", \"11\", \"12\", \"13\", \"14\", \"15\", \"16\", \"17\", \"18\", \"19\", \"20\", \"21\", \"22\", \"23\", \"24\", \"25\", \"26\", \"27\", \"28\", \"29\", \"30\", \"31\", \"32\", \"33\", \"34\"], \"mode\": \"lines\", \"name\": \"r2_score_max\", \"stepped\": true, \"type\": \"scatter\", \"data\": [0.21004229982356604, 0.24926977437101075, 0.24926977437101075, 0.2595547139247588, 0.2595547139247588, 0.2595547139247588, 0.2595547139247588, 0.2595547139247588, 0.2595547139247588, 0.2595547139247588, 0.26277849478775017, 0.26277849478775017, 0.26277849478775017, 0.26277849478775017, 0.26277849478775017, 0.26277849478775017, 0.26277849478775017, 0.26277849478775017, 0.26277849478775017, 0.26277849478775017, 0.26277849478775017, 0.26277849478775017, 0.26277849478775017, 0.26277849478775017, 0.26277849478775017, 0.26277849478775017, 0.26277849478775017, 0.26277849478775017, 0.26277849478775017, 0.26277849478775017, 0.26277849478775017, 0.26277849478775017, 0.26277849478775017, 0.2933184102262329, 0.2933184102262329]}], \"median_absolute_error\": [{\"categories\": [\"0\", \"1\", \"2\", \"3\", \"4\", \"5\", \"6\", \"7\", \"8\", \"9\", \"10\", \"11\", \"12\", \"13\", \"14\", \"15\", \"16\", \"17\", \"18\", \"19\", \"20\", \"21\", \"22\", \"23\", \"24\", \"25\", \"26\", \"27\", \"28\", \"29\", \"30\", \"31\", \"32\", \"33\", \"34\"], \"mode\": \"markers\", \"name\": \"median_absolute_error\", \"stepped\": false, \"type\": \"scatter\", \"data\": [15.264568792474336, 14.626610374450683, 14.912763786315917, 15.440511513214522, 15.506437206268311, 15.704364313800298, 15.469672759658073, 15.233301734924316, 14.808095023848702, 15.603990535010803, 15.685325319314483, 15.87791494774182, 13.733450317382813, 15.701973303041381, 15.216532287157289, 16.881943167646288, 15.114464588322756, 15.632677403055544, 16.890310107932525, 15.205922456584421, 15.704807738073205, 16.183910285979437, 15.482496910608557, 14.104062500000001, 16.24246143106614, 16.93373165810889, 15.18843213384118, 16.2999210357666, 16.30427435716795, 14.5, 18.365300877620435, 16.267972631902836, 15.339410304636562, 14.947369764057083, 14.791566223764312]}, {\"categories\": [\"0\", \"1\", \"2\", \"3\", \"4\", \"5\", \"6\", \"7\", \"8\", \"9\", \"10\", \"11\", \"12\", \"13\", \"14\", \"15\", \"16\", \"17\", \"18\", \"19\", \"20\", \"21\", \"22\", \"23\", \"24\", \"25\", \"26\", \"27\", \"28\", \"29\", \"30\", \"31\", \"32\", \"33\", \"34\"], \"mode\": \"lines\", \"name\": \"median_absolute_error_min\", \"stepped\": true, \"type\": \"scatter\", \"data\": [15.264568792474336, 14.626610374450683, 14.626610374450683, 14.626610374450683, 14.626610374450683, 14.626610374450683, 14.626610374450683, 14.626610374450683, 14.626610374450683, 14.626610374450683, 14.626610374450683, 14.626610374450683, 13.733450317382813, 13.733450317382813, 13.733450317382813, 13.733450317382813, 13.733450317382813, 13.733450317382813, 13.733450317382813, 13.733450317382813, 13.733450317382813, 13.733450317382813, 13.733450317382813, 13.733450317382813, 13.733450317382813, 13.733450317382813, 13.733450317382813, 13.733450317382813, 13.733450317382813, 13.733450317382813, 13.733450317382813, 13.733450317382813, 13.733450317382813, 13.733450317382813, 13.733450317382813]}], \"spearman_correlation\": [{\"categories\": [\"0\", \"1\", \"2\", \"3\", \"4\", \"5\", \"6\", \"7\", \"8\", \"9\", \"10\", \"11\", \"12\", \"13\", \"14\", \"15\", \"16\", \"17\", \"18\", \"19\", \"20\", \"21\", \"22\", \"23\", \"24\", \"25\", \"26\", \"27\", \"28\", \"29\", \"30\", \"31\", \"32\", \"33\", \"34\"], \"mode\": \"markers\", \"name\": \"spearman_correlation\", \"stepped\": false, \"type\": \"scatter\", \"data\": [0.5212287967755912, 0.5514427080432804, 0.5320984167504124, 0.5392508778860138, 0.51379836710986, 0.5410487268710504, 0.5213603127038001, 0.5457752839760756, 0.5413390903210458, 0.5426365317486883, 0.5563573236855286, 0.5427063982280075, 0.5256181682452524, 0.5410143316981865, 0.5259820474675039, 0.48734334785559585, 0.5389905706916094, 0.5419667922344962, 0.46362491225212443, 0.5237315775455642, 0.5421276253541478, 0.5467332450380987, 0.5078732095116941, 0.5542002797670051, 0.5180169929443995, 0.5006957512508625, 0.5322161974719967, 0.5035266975820372, 0.5109883153694684, 0.5327196490914922, 0.46548659913961365, 0.4563205915089002, 0.5268978288719507, 0.5656637676978337, 0.5633255559552861]}, {\"categories\": [\"0\", \"1\", \"2\", \"3\", \"4\", \"5\", \"6\", \"7\", \"8\", \"9\", \"10\", \"11\", \"12\", \"13\", \"14\", \"15\", \"16\", \"17\", \"18\", \"19\", \"20\", \"21\", \"22\", \"23\", \"24\", \"25\", \"26\", \"27\", \"28\", \"29\", \"30\", \"31\", \"32\", \"33\", \"34\"], \"mode\": \"lines\", \"name\": \"spearman_correlation_max\", \"stepped\": true, \"type\": \"scatter\", \"data\": [0.5212287967755912, 0.5514427080432804, 0.5514427080432804, 0.5514427080432804, 0.5514427080432804, 0.5514427080432804, 0.5514427080432804, 0.5514427080432804, 0.5514427080432804, 0.5514427080432804, 0.5563573236855286, 0.5563573236855286, 0.5563573236855286, 0.5563573236855286, 0.5563573236855286, 0.5563573236855286, 0.5563573236855286, 0.5563573236855286, 0.5563573236855286, 0.5563573236855286, 0.5563573236855286, 0.5563573236855286, 0.5563573236855286, 0.5563573236855286, 0.5563573236855286, 0.5563573236855286, 0.5563573236855286, 0.5563573236855286, 0.5563573236855286, 0.5563573236855286, 0.5563573236855286, 0.5563573236855286, 0.5563573236855286, 0.5656637676978337, 0.5656637676978337]}], \"mean_absolute_percentage_error\": [{\"categories\": [\"0\", \"1\", \"2\", \"3\", \"4\", \"5\", \"6\", \"7\", \"8\", \"9\", \"10\", \"11\", \"12\", \"13\", \"14\", \"15\", \"16\", \"17\", \"18\", \"19\", \"20\", \"21\", \"22\", \"23\", \"24\", \"25\", \"26\", \"27\", \"28\", \"29\", \"30\", \"31\", \"32\", \"33\", \"34\"], \"mode\": \"markers\", \"name\": \"mean_absolute_percentage_error\", \"stepped\": false, \"type\": \"scatter\", \"data\": [49.585610173118084, 49.61842517804691, 49.157572780484585, 50.48326048827255, 50.849090361741204, 50.89436218606499, 50.71925485759307, 49.37178476623393, 49.76880205469552, 50.86834046520148, 50.878612530529, 52.07971956350466, 44.946987221632796, 50.8941115838309, 50.00655428789598, 55.15377625079198, 50.01284090537407, 50.8783891741571, 55.589760771905176, 50.39286884439976, 50.86643824572712, 52.19946437309081, 50.9655971102323, 45.584361801196444, 53.017520837921936, 55.73329549495956, 50.73100828724761, 51.35942330635826, 53.43231640588742, 45.82972440994141, 60.59119900457671, 52.82208409192591, 51.961660364225054, 48.376605175486034, 48.580676679110326]}, {\"categories\": [\"0\", \"1\", \"2\", \"3\", \"4\", \"5\", \"6\", \"7\", \"8\", \"9\", \"10\", \"11\", \"12\", \"13\", \"14\", \"15\", \"16\", \"17\", \"18\", \"19\", \"20\", \"21\", \"22\", \"23\", \"24\", \"25\", \"26\", \"27\", \"28\", \"29\", \"30\", \"31\", \"32\", \"33\", \"34\"], \"mode\": \"lines\", \"name\": \"mean_absolute_percentage_error_min\", \"stepped\": true, \"type\": \"scatter\", \"data\": [49.585610173118084, 49.585610173118084, 49.157572780484585, 49.157572780484585, 49.157572780484585, 49.157572780484585, 49.157572780484585, 49.157572780484585, 49.157572780484585, 49.157572780484585, 49.157572780484585, 49.157572780484585, 44.946987221632796, 44.946987221632796, 44.946987221632796, 44.946987221632796, 44.946987221632796, 44.946987221632796, 44.946987221632796, 44.946987221632796, 44.946987221632796, 44.946987221632796, 44.946987221632796, 44.946987221632796, 44.946987221632796, 44.946987221632796, 44.946987221632796, 44.946987221632796, 44.946987221632796, 44.946987221632796, 44.946987221632796, 44.946987221632796, 44.946987221632796, 44.946987221632796, 44.946987221632796]}], \"explained_variance\": [{\"categories\": [\"0\", \"1\", \"2\", \"3\", \"4\", \"5\", \"6\", \"7\", \"8\", \"9\", \"10\", \"11\", \"12\", \"13\", \"14\", \"15\", \"16\", \"17\", \"18\", \"19\", \"20\", \"21\", \"22\", \"23\", \"24\", \"25\", \"26\", \"27\", \"28\", \"29\", \"30\", \"31\", \"32\", \"33\", \"34\"], \"mode\": \"markers\", \"name\": \"explained_variance\", \"stepped\": false, \"type\": \"scatter\", \"data\": [0.21568025466742471, 0.25422149107225384, 0.2170620840675455, 0.2641983431485432, 0.1668555662208012, 0.2605774346564107, 0.2505452244503446, 0.21547320862970437, 0.23996171710399244, 0.2627659181628733, 0.2684134366510073, 0.2534611394670736, 0.2270254306009786, 0.260572961983666, 0.2248551002294042, 0.2042554648771068, 0.2457949626620543, 0.2616794516625805, 0.1960321748020914, 0.24299382664544536, 0.26272390420047087, 0.25495093860599305, 0.1970773187401888, 0.26333541482373735, 0.2319086496455732, 0.2107205503197557, 0.26167039943394876, 0.15468785820126413, 0.22695480099801874, 0.2261070470631222, 0.13182355593920872, 0.17819157916744627, 0.23979923799042155, 0.298666899111215, 0.29338848188886485]}, {\"categories\": [\"0\", \"1\", \"2\", \"3\", \"4\", \"5\", \"6\", \"7\", \"8\", \"9\", \"10\", \"11\", \"12\", \"13\", \"14\", \"15\", \"16\", \"17\", \"18\", \"19\", \"20\", \"21\", \"22\", \"23\", \"24\", \"25\", \"26\", \"27\", \"28\", \"29\", \"30\", \"31\", \"32\", \"33\", \"34\"], \"mode\": \"lines\", \"name\": \"explained_variance_max\", \"stepped\": true, \"type\": \"scatter\", \"data\": [0.21568025466742471, 0.25422149107225384, 0.25422149107225384, 0.2641983431485432, 0.2641983431485432, 0.2641983431485432, 0.2641983431485432, 0.2641983431485432, 0.2641983431485432, 0.2641983431485432, 0.2684134366510073, 0.2684134366510073, 0.2684134366510073, 0.2684134366510073, 0.2684134366510073, 0.2684134366510073, 0.2684134366510073, 0.2684134366510073, 0.2684134366510073, 0.2684134366510073, 0.2684134366510073, 0.2684134366510073, 0.2684134366510073, 0.2684134366510073, 0.2684134366510073, 0.2684134366510073, 0.2684134366510073, 0.2684134366510073, 0.2684134366510073, 0.2684134366510073, 0.2684134366510073, 0.2684134366510073, 0.2684134366510073, 0.298666899111215, 0.298666899111215]}], \"normalized_root_mean_squared_log_error\": [{\"categories\": [\"0\", \"1\", \"2\", \"3\", \"4\", \"5\", \"6\", \"7\", \"8\", \"9\", \"10\", \"11\", \"12\", \"13\", \"14\", \"15\", \"16\", \"17\", \"18\", \"19\", \"20\", \"21\", \"22\", \"23\", \"24\", \"25\", \"26\", \"27\", \"28\", \"29\", \"30\", \"31\", \"32\", \"33\", \"34\"], \"mode\": \"markers\", \"name\": \"normalized_root_mean_squared_log_error\", \"stepped\": false, \"type\": \"scatter\", \"data\": [0.12048384440126862, 0.11713970182170233, 0.11916308910308723, 0.11813197184844304, 0.12146071814835158, 0.11786202618541312, 0.11913493763711294, 0.11810736838226639, 0.11780758517192547, 0.11731802017922936, 0.11803520668076313, 0.11999551003999435, 0.11685654966371177, 0.11786875502223229, 0.11899685474017443, 0.12477394550670814, 0.11787647553723886, 0.11742484702900205, 0.1258885465045828, 0.1192369625662177, 0.11699361497703685, 0.12003738883967381, 0.12296568513945187, 0.11454044632071181, 0.12197540573499532, 0.12501776869800796, 0.11860262447250194, 0.123873728595993, 0.12199472405866318, 0.11693518433172326, 0.13227560610648795, 0.1241384871506825, 0.12060849218698048, 0.11523881073911271, 0.11576117075161718]}, {\"categories\": [\"0\", \"1\", \"2\", \"3\", \"4\", \"5\", \"6\", \"7\", \"8\", \"9\", \"10\", \"11\", \"12\", \"13\", \"14\", \"15\", \"16\", \"17\", \"18\", \"19\", \"20\", \"21\", \"22\", \"23\", \"24\", \"25\", \"26\", \"27\", \"28\", \"29\", \"30\", \"31\", \"32\", \"33\", \"34\"], \"mode\": \"lines\", \"name\": \"normalized_root_mean_squared_log_error_min\", \"stepped\": true, \"type\": \"scatter\", \"data\": [0.12048384440126862, 0.11713970182170233, 0.11713970182170233, 0.11713970182170233, 0.11713970182170233, 0.11713970182170233, 0.11713970182170233, 0.11713970182170233, 0.11713970182170233, 0.11713970182170233, 0.11713970182170233, 0.11713970182170233, 0.11685654966371177, 0.11685654966371177, 0.11685654966371177, 0.11685654966371177, 0.11685654966371177, 0.11685654966371177, 0.11685654966371177, 0.11685654966371177, 0.11685654966371177, 0.11685654966371177, 0.11685654966371177, 0.11454044632071181, 0.11454044632071181, 0.11454044632071181, 0.11454044632071181, 0.11454044632071181, 0.11454044632071181, 0.11454044632071181, 0.11454044632071181, 0.11454044632071181, 0.11454044632071181, 0.11454044632071181, 0.11454044632071181]}], \"mean_absolute_error\": [{\"categories\": [\"0\", \"1\", \"2\", \"3\", \"4\", \"5\", \"6\", \"7\", \"8\", \"9\", \"10\", \"11\", \"12\", \"13\", \"14\", \"15\", \"16\", \"17\", \"18\", \"19\", \"20\", \"21\", \"22\", \"23\", \"24\", \"25\", \"26\", \"27\", \"28\", \"29\", \"30\", \"31\", \"32\", \"33\", \"34\"], \"mode\": \"markers\", \"name\": \"mean_absolute_error\", \"stepped\": false, \"type\": \"scatter\", \"data\": [21.76388941961402, 20.9982263284884, 21.47966055056632, 21.062691657317515, 22.22392675164791, 21.40530638284462, 21.27865633583714, 21.548862339841662, 21.206713971035267, 21.35209193243078, 21.061395064620644, 21.293763798253718, 20.827061348846645, 21.40551635084521, 21.5410461846726, 22.353357683440905, 21.166849888662245, 21.385087468567555, 22.465062852177084, 21.312451229272817, 21.360960040663826, 21.295887724370463, 22.337057995194645, 20.38104878007797, 21.6870440534247, 22.391976366506032, 21.18220654704279, 22.790841259926232, 21.838768494932975, 21.01458277322221, 23.75858402693557, 22.510891895046026, 21.34687826331811, 20.42565201256748, 20.54849346563278]}, {\"categories\": [\"0\", \"1\", \"2\", \"3\", \"4\", \"5\", \"6\", \"7\", \"8\", \"9\", \"10\", \"11\", \"12\", \"13\", \"14\", \"15\", \"16\", \"17\", \"18\", \"19\", \"20\", \"21\", \"22\", \"23\", \"24\", \"25\", \"26\", \"27\", \"28\", \"29\", \"30\", \"31\", \"32\", \"33\", \"34\"], \"mode\": \"lines\", \"name\": \"mean_absolute_error_min\", \"stepped\": true, \"type\": \"scatter\", \"data\": [21.76388941961402, 20.9982263284884, 20.9982263284884, 20.9982263284884, 20.9982263284884, 20.9982263284884, 20.9982263284884, 20.9982263284884, 20.9982263284884, 20.9982263284884, 20.9982263284884, 20.9982263284884, 20.827061348846645, 20.827061348846645, 20.827061348846645, 20.827061348846645, 20.827061348846645, 20.827061348846645, 20.827061348846645, 20.827061348846645, 20.827061348846645, 20.827061348846645, 20.827061348846645, 20.38104878007797, 20.38104878007797, 20.38104878007797, 20.38104878007797, 20.38104878007797, 20.38104878007797, 20.38104878007797, 20.38104878007797, 20.38104878007797, 20.38104878007797, 20.38104878007797, 20.38104878007797]}], \"normalized_mean_absolute_error\": [{\"categories\": [\"0\", \"1\", \"2\", \"3\", \"4\", \"5\", \"6\", \"7\", \"8\", \"9\", \"10\", \"11\", \"12\", \"13\", \"14\", \"15\", \"16\", \"17\", \"18\", \"19\", \"20\", \"21\", \"22\", \"23\", \"24\", \"25\", \"26\", \"27\", \"28\", \"29\", \"30\", \"31\", \"32\", \"33\", \"34\"], \"mode\": \"markers\", \"name\": \"normalized_mean_absolute_error\", \"stepped\": false, \"type\": \"scatter\", \"data\": [0.053082657121009805, 0.05121518616704488, 0.05238941597699102, 0.05137241867638419, 0.0542046993942632, 0.052208064348401514, 0.05189916179472474, 0.052558200828882094, 0.05172369261228114, 0.05207827300592873, 0.05136925625517229, 0.05193600926403347, 0.05079771060694303, 0.05220857646547613, 0.05253913703578681, 0.05452038459375831, 0.05162646314307864, 0.05215874992333549, 0.05479283622482216, 0.05198158836408003, 0.05209990253820444, 0.05194118957163528, 0.0544806292565723, 0.049709875073360894, 0.052895229398596824, 0.054614576503673254, 0.05166391840742144, 0.055587417707137154, 0.05326528901203165, 0.05125507993468831, 0.05794776591935504, 0.054904614378161035, 0.052065556739800276, 0.04981866344528653, 0.0501182767454458]}, {\"categories\": [\"0\", \"1\", \"2\", \"3\", \"4\", \"5\", \"6\", \"7\", \"8\", \"9\", \"10\", \"11\", \"12\", \"13\", \"14\", \"15\", \"16\", \"17\", \"18\", \"19\", \"20\", \"21\", \"22\", \"23\", \"24\", \"25\", \"26\", \"27\", \"28\", \"29\", \"30\", \"31\", \"32\", \"33\", \"34\"], \"mode\": \"lines\", \"name\": \"normalized_mean_absolute_error_min\", \"stepped\": true, \"type\": \"scatter\", \"data\": [0.053082657121009805, 0.05121518616704488, 0.05121518616704488, 0.05121518616704488, 0.05121518616704488, 0.05121518616704488, 0.05121518616704488, 0.05121518616704488, 0.05121518616704488, 0.05121518616704488, 0.05121518616704488, 0.05121518616704488, 0.05079771060694303, 0.05079771060694303, 0.05079771060694303, 0.05079771060694303, 0.05079771060694303, 0.05079771060694303, 0.05079771060694303, 0.05079771060694303, 0.05079771060694303, 0.05079771060694303, 0.05079771060694303, 0.049709875073360894, 0.049709875073360894, 0.049709875073360894, 0.049709875073360894, 0.049709875073360894, 0.049709875073360894, 0.049709875073360894, 0.049709875073360894, 0.049709875073360894, 0.049709875073360894, 0.049709875073360894, 0.049709875073360894]}], \"normalized_median_absolute_error\": [{\"categories\": [\"0\", \"1\", \"2\", \"3\", \"4\", \"5\", \"6\", \"7\", \"8\", \"9\", \"10\", \"11\", \"12\", \"13\", \"14\", \"15\", \"16\", \"17\", \"18\", \"19\", \"20\", \"21\", \"22\", \"23\", \"24\", \"25\", \"26\", \"27\", \"28\", \"29\", \"30\", \"31\", \"32\", \"33\", \"34\"], \"mode\": \"markers\", \"name\": \"normalized_median_absolute_error\", \"stepped\": false, \"type\": \"scatter\", \"data\": [0.03723065559140082, 0.035674659449879714, 0.03637259460077053, 0.037659784178572006, 0.03782057855187393, 0.038303327594634874, 0.03773090916989774, 0.037154394475425165, 0.03611730493621634, 0.03805851350002635, 0.038256891022718245, 0.038726621823760535, 0.03349622028629955, 0.038297495861076544, 0.03711349338331046, 0.0411754711406007, 0.03686454777639697, 0.03812848147086718, 0.04119587831203055, 0.03708761574776687, 0.03830440911725172, 0.03947295191702301, 0.03776218758685014, 0.034400152439024397, 0.0396157595879662, 0.041301784531972904, 0.03704495642400288, 0.03975590496528439, 0.03976652282236086, 0.03536585365853659, 0.044793416774684, 0.03967798202903131, 0.03741319586496721, 0.03645699942452947, 0.036076990789669056]}, {\"categories\": [\"0\", \"1\", \"2\", \"3\", \"4\", \"5\", \"6\", \"7\", \"8\", \"9\", \"10\", \"11\", \"12\", \"13\", \"14\", \"15\", \"16\", \"17\", \"18\", \"19\", \"20\", \"21\", \"22\", \"23\", \"24\", \"25\", \"26\", \"27\", \"28\", \"29\", \"30\", \"31\", \"32\", \"33\", \"34\"], \"mode\": \"lines\", \"name\": \"normalized_median_absolute_error_min\", \"stepped\": true, \"type\": \"scatter\", \"data\": [0.03723065559140082, 0.035674659449879714, 0.035674659449879714, 0.035674659449879714, 0.035674659449879714, 0.035674659449879714, 0.035674659449879714, 0.035674659449879714, 0.035674659449879714, 0.035674659449879714, 0.035674659449879714, 0.035674659449879714, 0.03349622028629955, 0.03349622028629955, 0.03349622028629955, 0.03349622028629955, 0.03349622028629955, 0.03349622028629955, 0.03349622028629955, 0.03349622028629955, 0.03349622028629955, 0.03349622028629955, 0.03349622028629955, 0.03349622028629955, 0.03349622028629955, 0.03349622028629955, 0.03349622028629955, 0.03349622028629955, 0.03349622028629955, 0.03349622028629955, 0.03349622028629955, 0.03349622028629955, 0.03349622028629955, 0.03349622028629955, 0.03349622028629955]}]}, \"metricName\": null, \"primaryMetricName\": \"r2_score\", \"showLegend\": false}, \"run_metrics\": [{\"name\": \"mean_absolute_percentage_error\", \"run_id\": \"AutoML_2aaa0b2f-6984-458d-a646-e2b25a95506c\", \"categories\": [0], \"series\": [{\"data\": [48.376605175486034]}]}, {\"name\": \"mean_absolute_error\", \"run_id\": \"AutoML_2aaa0b2f-6984-458d-a646-e2b25a95506c\", \"categories\": [0], \"series\": [{\"data\": [20.42565201256748]}]}, {\"name\": \"normalized_root_mean_squared_error\", \"run_id\": \"AutoML_2aaa0b2f-6984-458d-a646-e2b25a95506c\", \"categories\": [0], \"series\": [{\"data\": [0.0758138875669902]}]}, {\"name\": \"explained_variance\", \"run_id\": \"AutoML_2aaa0b2f-6984-458d-a646-e2b25a95506c\", \"categories\": [0], \"series\": [{\"data\": [0.298666899111215]}]}, {\"name\": \"spearman_correlation\", \"run_id\": \"AutoML_2aaa0b2f-6984-458d-a646-e2b25a95506c\", \"categories\": [0], \"series\": [{\"data\": [0.5656637676978337]}]}, {\"name\": \"r2_score\", \"run_id\": \"AutoML_2aaa0b2f-6984-458d-a646-e2b25a95506c\", \"categories\": [0], \"series\": [{\"data\": [0.2933184102262329]}]}, {\"name\": \"normalized_root_mean_squared_log_error\", \"run_id\": \"AutoML_2aaa0b2f-6984-458d-a646-e2b25a95506c\", \"categories\": [0], \"series\": [{\"data\": [0.11523881073911271]}]}, {\"name\": \"median_absolute_error\", \"run_id\": \"AutoML_2aaa0b2f-6984-458d-a646-e2b25a95506c\", \"categories\": [0], \"series\": [{\"data\": [14.947369764057083]}]}, {\"name\": \"normalized_median_absolute_error\", \"run_id\": \"AutoML_2aaa0b2f-6984-458d-a646-e2b25a95506c\", \"categories\": [0], \"series\": [{\"data\": [0.03645699942452947]}]}, {\"name\": \"normalized_mean_absolute_error\", \"run_id\": \"AutoML_2aaa0b2f-6984-458d-a646-e2b25a95506c\", \"categories\": [0], \"series\": [{\"data\": [0.04981866344528653]}]}, {\"name\": \"root_mean_squared_log_error\", \"run_id\": \"AutoML_2aaa0b2f-6984-458d-a646-e2b25a95506c\", \"categories\": [0], \"series\": [{\"data\": [0.4884887669700196]}]}, {\"name\": \"root_mean_squared_error\", \"run_id\": \"AutoML_2aaa0b2f-6984-458d-a646-e2b25a95506c\", \"categories\": [0], \"series\": [{\"data\": [31.083693902465978]}]}], \"run_logs\": \"\\nRun is completed.\", \"graph\": {}, \"widget_settings\": {\"childWidgetDisplay\": \"popup\", \"send_telemetry\": false, \"log_level\": \"INFO\", \"sdk_version\": \"1.19.0\"}, \"loading\": false}"
          },
          "metadata": {}
        }
      ],
      "execution_count": 16,
      "metadata": {
        "gather": {
          "logged": 1611053432491
        }
      }
    },
    {
      "cell_type": "code",
      "source": [
        "best_mlrun, fitted_mlmodel = remote_run.get_output()\r\n",
        "print(best_mlrun)\r\n",
        "print(fitted_mlmodel)\r\n",
        "joblib.dump(fitted_mlmodel, \"automlmodel.pkl\")"
      ],
      "outputs": [
        {
          "output_type": "stream",
          "name": "stderr",
          "text": [
            "WARNING:root:Received unrecognized parameter experiment_timoue_minutes\n",
            "WARNING:root:Received unrecognized parameter experiment_timoue_minutes\n",
            "WARNING:root:Received unrecognized parameter experiment_timoue_minutes\n"
          ]
        },
        {
          "output_type": "stream",
          "name": "stdout",
          "text": [
            "Run(Experiment: labor-prediction-experiment,\n",
            "Id: AutoML_2aaa0b2f-6984-458d-a646-e2b25a95506c_33,\n",
            "Type: None,\n",
            "Status: Completed)\n",
            "RegressionPipeline(pipeline=Pipeline(memory=None,\n",
            "                                     steps=[('datatransformer',\n",
            "                                             DataTransformer(enable_dnn=None,\n",
            "                                                             enable_feature_sweeping=None,\n",
            "                                                             feature_sweeping_config=None,\n",
            "                                                             feature_sweeping_timeout=None,\n",
            "                                                             featurization_config=None,\n",
            "                                                             force_text_dnn=None,\n",
            "                                                             is_cross_validation=None,\n",
            "                                                             is_onnx_compatible=None,\n",
            "                                                             logger=None,\n",
            "                                                             observer=None,\n",
            "                                                             task=None,\n",
            "                                                             working_dir=None)),\n",
            "                                            ('pre...\n",
            "                                                                                                                         reg_alpha=2.1875,\n",
            "                                                                                                                         reg_lambda=0.7291666666666667,\n",
            "                                                                                                                         scale_pos_weight=1,\n",
            "                                                                                                                         seed=None,\n",
            "                                                                                                                         silent=None,\n",
            "                                                                                                                         subsample=0.9,\n",
            "                                                                                                                         tree_method='hist',\n",
            "                                                                                                                         verbose=-10,\n",
            "                                                                                                                         verbosity=0))],\n",
            "                                                                                                verbose=False))],\n",
            "                                                                          weights=[0.06666666666666667,\n",
            "                                                                                   0.06666666666666667,\n",
            "                                                                                   0.06666666666666667,\n",
            "                                                                                   0.06666666666666667,\n",
            "                                                                                   0.13333333333333333,\n",
            "                                                                                   0.2,\n",
            "                                                                                   0.06666666666666667,\n",
            "                                                                                   0.13333333333333333,\n",
            "                                                                                   0.2]))],\n",
            "                                     verbose=False),\n",
            "                   stddev=None)\n"
          ]
        },
        {
          "output_type": "execute_result",
          "execution_count": 17,
          "data": {
            "text/plain": "['automlmodel.pkl']",
            "text/html": "['automlmodel.pkl']"
          },
          "metadata": {}
        }
      ],
      "execution_count": 17,
      "metadata": {
        "gather": {
          "logged": 1611053440494
        }
      }
    },
    {
      "cell_type": "code",
      "source": [
        "#register the model\r\n",
        "from azureml.core.environment import Environment\r\n",
        "from azureml.core.model import InferenceConfig\r\n",
        "from azureml.core.model import Model\r\n",
        "\r\n",
        "description = 'Best AutoML Model'\r\n",
        "#model = best_mlrun.register_model(description=description, workspace = , model_name='automl_pred', model_path='./models')\r\n",
        "model = Model.register(model_path=\"automlmodel.pkl\", model_name = \"automl_pred\", description=description, workspace=ws)\r\n",
        "print(model.name, model.id, model.version, sep='\\t')\r\n",
        "\r\n"
      ],
      "outputs": [
        {
          "output_type": "stream",
          "name": "stdout",
          "text": [
            "Registering model automl_pred\n",
            "automl_pred\tautoml_pred:2\t2\n"
          ]
        }
      ],
      "execution_count": 18,
      "metadata": {
        "gather": {
          "logged": 1611053447578
        }
      }
    },
    {
      "cell_type": "code",
      "source": [
        "#define inference config\r\n",
        "from azureml.core.model import InferenceConfig\r\n",
        "from azureml.core.environment import Environment\r\n",
        "from azureml.core.conda_dependencies import CondaDependencies\r\n",
        "\r\n",
        "#create the environment\r\n",
        "myenv = Environment(name=\"myenv\")\r\n",
        "conda_dep = CondaDependencies()\r\n",
        "\r\n",
        "#Define the packages needed by the model and scripts\r\n",
        "conda_dep.add_conda_package(\"tensorflow\")\r\n",
        "conda_dep.add_conda_package(\"numpy\")\r\n",
        "conda_dep.add_conda_package(\"scikit-learn\")\r\n",
        "conda_dep.add_conda_package(\"py-xgboost\")\r\n",
        "#You must list azureml-defaults as a pip dependency\r\n",
        "conda_dep.add_pip_package(\"azureml-defaults\")\r\n",
        "conda_dep.add_pip_package(\"keras\")\r\n",
        "conda_dep.add_pip_package(\"gensim\")\r\n",
        "conda_dep.add_pip_package(\"azureml-automl-core\")\r\n",
        "conda_dep.add_pip_package(\"azureml-automl-runtime\")\r\n",
        "conda_dep.add_pip_package(\"packaging\")\r\n",
        "\r\n",
        "\r\n",
        "myenv.python.conda_dependencies=conda_dep\r\n",
        "\r\n",
        "inference_config = InferenceConfig(entry_script=\"score.py\", environment=myenv)"
      ],
      "outputs": [],
      "execution_count": 19,
      "metadata": {
        "collapsed": true,
        "jupyter": {
          "source_hidden": false,
          "outputs_hidden": false
        },
        "nteract": {
          "transient": {
            "deleting": false
          }
        },
        "gather": {
          "logged": 1611053450540
        }
      }
    },
    {
      "cell_type": "code",
      "source": [
        "#deploy as webservice\r\n",
        "from azureml.core.webservice import AciWebservice\r\n",
        "from azureml.core.webservice import Webservice\r\n",
        "from azureml.train.automl import *\r\n",
        "\r\n",
        "deployment_config = AciWebservice.deploy_configuration(cpu_cores=1, memory_gb=1, auth_enabled=True, enable_app_insights=True)\r\n",
        "#deployment_config = LocalWebservice.deploy_configuration()\r\n",
        "\r\n",
        "model = Model(ws, name='automl_pred')\r\n",
        "print(model)\r\n",
        "service = Model.deploy(ws, 'laborpredservice', [model], inference_config, deployment_config)\r\n",
        "\r\n",
        "service.wait_for_deployment(True)\r\n",
        "print(service.get_logs)\r\n",
        "print(service.state)\r\n",
        "print(\"scoring URI: \" + service.scoring_uri)\r\n"
      ],
      "outputs": [
        {
          "output_type": "stream",
          "name": "stdout",
          "text": [
            "Model(workspace=Workspace.create(name='quick-starts-ws-135316', subscription_id='6971f5ac-8af1-446e-8034-05acea24681f', resource_group='aml-quickstarts-135316'), name=automl_pred, id=automl_pred:2, version=2, tags={}, properties={})\n",
            "Tips: You can try get_logs(): https://aka.ms/debugimage#dockerlog or local deployment: https://aka.ms/debugimage#debug-locally to debug if deployment takes longer than 10 minutes.\n",
            "Running........."
          ]
        },
        {
          "output_type": "error",
          "ename": "KeyboardInterrupt",
          "evalue": "",
          "traceback": [
            "\u001b[0;31m---------------------------------------------------------------------------\u001b[0m",
            "\u001b[0;31mKeyboardInterrupt\u001b[0m                         Traceback (most recent call last)",
            "\u001b[0;32m<ipython-input-21-48b7ff7ea60c>\u001b[0m in \u001b[0;36m<module>\u001b[0;34m\u001b[0m\n\u001b[1;32m     11\u001b[0m \u001b[0mservice\u001b[0m \u001b[0;34m=\u001b[0m \u001b[0mModel\u001b[0m\u001b[0;34m.\u001b[0m\u001b[0mdeploy\u001b[0m\u001b[0;34m(\u001b[0m\u001b[0mws\u001b[0m\u001b[0;34m,\u001b[0m \u001b[0;34m'laborpredservice'\u001b[0m\u001b[0;34m,\u001b[0m \u001b[0;34m[\u001b[0m\u001b[0mmodel\u001b[0m\u001b[0;34m]\u001b[0m\u001b[0;34m,\u001b[0m \u001b[0minference_config\u001b[0m\u001b[0;34m,\u001b[0m \u001b[0mdeployment_config\u001b[0m\u001b[0;34m)\u001b[0m\u001b[0;34m\u001b[0m\u001b[0;34m\u001b[0m\u001b[0m\n\u001b[1;32m     12\u001b[0m \u001b[0;34m\u001b[0m\u001b[0m\n\u001b[0;32m---> 13\u001b[0;31m \u001b[0mservice\u001b[0m\u001b[0;34m.\u001b[0m\u001b[0mwait_for_deployment\u001b[0m\u001b[0;34m(\u001b[0m\u001b[0;32mTrue\u001b[0m\u001b[0;34m)\u001b[0m\u001b[0;34m\u001b[0m\u001b[0;34m\u001b[0m\u001b[0m\n\u001b[0m\u001b[1;32m     14\u001b[0m \u001b[0mprint\u001b[0m\u001b[0;34m(\u001b[0m\u001b[0mservice\u001b[0m\u001b[0;34m.\u001b[0m\u001b[0mget_logs\u001b[0m\u001b[0;34m)\u001b[0m\u001b[0;34m\u001b[0m\u001b[0;34m\u001b[0m\u001b[0m\n\u001b[1;32m     15\u001b[0m \u001b[0mprint\u001b[0m\u001b[0;34m(\u001b[0m\u001b[0mservice\u001b[0m\u001b[0;34m.\u001b[0m\u001b[0mstate\u001b[0m\u001b[0;34m)\u001b[0m\u001b[0;34m\u001b[0m\u001b[0;34m\u001b[0m\u001b[0m\n",
            "\u001b[0;32m/anaconda/envs/azureml_py36/lib/python3.6/site-packages/azureml/core/webservice/webservice.py\u001b[0m in \u001b[0;36mwait_for_deployment\u001b[0;34m(self, show_output, timeout_sec)\u001b[0m\n\u001b[1;32m    884\u001b[0m \u001b[0;34m\u001b[0m\u001b[0m\n\u001b[1;32m    885\u001b[0m         \u001b[0;32mtry\u001b[0m\u001b[0;34m:\u001b[0m\u001b[0;34m\u001b[0m\u001b[0;34m\u001b[0m\u001b[0m\n\u001b[0;32m--> 886\u001b[0;31m             \u001b[0moperation_state\u001b[0m\u001b[0;34m,\u001b[0m \u001b[0merror\u001b[0m\u001b[0;34m,\u001b[0m \u001b[0moperation\u001b[0m \u001b[0;34m=\u001b[0m \u001b[0mself\u001b[0m\u001b[0;34m.\u001b[0m\u001b[0m_wait_for_operation_to_complete\u001b[0m\u001b[0;34m(\u001b[0m\u001b[0mshow_output\u001b[0m\u001b[0;34m,\u001b[0m \u001b[0mtimeout_sec\u001b[0m\u001b[0;34m)\u001b[0m\u001b[0;34m\u001b[0m\u001b[0;34m\u001b[0m\u001b[0m\n\u001b[0m\u001b[1;32m    887\u001b[0m             \u001b[0mself\u001b[0m\u001b[0;34m.\u001b[0m\u001b[0mupdate_deployment_state\u001b[0m\u001b[0;34m(\u001b[0m\u001b[0;34m)\u001b[0m\u001b[0;34m\u001b[0m\u001b[0;34m\u001b[0m\u001b[0m\n\u001b[1;32m    888\u001b[0m             \u001b[0;32mif\u001b[0m \u001b[0moperation_state\u001b[0m \u001b[0;34m!=\u001b[0m \u001b[0;34m'Succeeded'\u001b[0m\u001b[0;34m:\u001b[0m\u001b[0;34m\u001b[0m\u001b[0;34m\u001b[0m\u001b[0m\n",
            "\u001b[0;32m/anaconda/envs/azureml_py36/lib/python3.6/site-packages/azureml/core/webservice/webservice.py\u001b[0m in \u001b[0;36m_wait_for_operation_to_complete\u001b[0;34m(self, show_output, timeout_sec)\u001b[0m\n\u001b[1;32m    948\u001b[0m                 \u001b[0;32mraise\u001b[0m \u001b[0mWebserviceException\u001b[0m\u001b[0;34m(\u001b[0m\u001b[0mmsg\u001b[0m\u001b[0;34m,\u001b[0m \u001b[0mlogger\u001b[0m\u001b[0;34m=\u001b[0m\u001b[0mmodule_logger\u001b[0m\u001b[0;34m)\u001b[0m\u001b[0;34m\u001b[0m\u001b[0;34m\u001b[0m\u001b[0m\n\u001b[1;32m    949\u001b[0m \u001b[0;34m\u001b[0m\u001b[0m\n\u001b[0;32m--> 950\u001b[0;31m             \u001b[0mtime\u001b[0m\u001b[0;34m.\u001b[0m\u001b[0msleep\u001b[0m\u001b[0;34m(\u001b[0m\u001b[0;36m5\u001b[0m\u001b[0;34m)\u001b[0m\u001b[0;34m\u001b[0m\u001b[0;34m\u001b[0m\u001b[0m\n\u001b[0m\u001b[1;32m    951\u001b[0m \u001b[0;34m\u001b[0m\u001b[0m\n\u001b[1;32m    952\u001b[0m             \u001b[0melapsed_time\u001b[0m \u001b[0;34m=\u001b[0m \u001b[0mtime\u001b[0m\u001b[0;34m.\u001b[0m\u001b[0mtime\u001b[0m\u001b[0;34m(\u001b[0m\u001b[0;34m)\u001b[0m \u001b[0;34m-\u001b[0m \u001b[0mstart_time\u001b[0m\u001b[0;34m\u001b[0m\u001b[0;34m\u001b[0m\u001b[0m\n",
            "\u001b[0;31mKeyboardInterrupt\u001b[0m: "
          ]
        }
      ],
      "execution_count": 21,
      "metadata": {
        "collapsed": true,
        "jupyter": {
          "source_hidden": false,
          "outputs_hidden": false
        },
        "nteract": {
          "transient": {
            "deleting": false
          }
        },
        "gather": {
          "logged": 1610649804867
        }
      }
    },
    {
      "cell_type": "code",
      "source": [
        "#send request\r\n",
        "\r\n",
        "import requests\r\n",
        "import json\r\n",
        "from pandas import DataFrame\r\n",
        "\r\n",
        "scoring_uri = service.scoring_uri\r\n",
        "key = 'xlEe0aHu7gegnAEgyATae6cGEAEfhMp6'\r\n",
        "headers = {'Content-Type':'application/json', 'Authorization': 'Bearer ' + key}\r\n",
        "#test_data = json.dumps({'data': [{'heightwholenum':67, 'framemat':'ALUMINUM', 'framefunc':'DOOR', 'widthWholeNum':24, 'lift':0, 'itemset':'SNAP BEADS', 'locationtype':9, 'leadmechanic':118}]})\r\n",
        "#data = json.loads([67, 'ALUMINUM', 'DOOR', 24, 0, 'SNAP BEADS', 9, 118])['data']\r\n",
        "#['heightwholenum','widthWholeNum','lift','LongCarry', \r\n",
        "#'itemset_','itemset_OTHER', 'itemset_PRESSURE PLATE','itemset_PUTTY','itemset_SCREW BEADS','itemset_SNAP BEADS','itemset_VINYL BEADS', 'itemset_WOOD BEADS','itemset_WRAP AROUND FRAME','itemset_WRAP AROUND RUBBER',\r\n",
        "#'itemset_flush glaze', 'leadmechanic_6','leadmechanic_11','leadmechanic_62','leadmechanic_90','leadmechanic_118','leadmechanic_211', 'leadmechanic_228','leadmechanic_OTHER',\r\n",
        "#'locationtype_0','locationtype_1','locationtype_2','locationtype_4','locationtype_5','locationtype_6','locationtype_7','locationtype_9','locationtype_10','locationtype_11','locationtype_12', 'locationtype_13',\r\n",
        "#'framemat_','framemat_ALUMINUM','framemat_ANDERSEN','framemat_OTHER','framemat_SASH RAIL','framemat_VINYL','framemat_WOOD','framefunc_BOTTOM DH','framefunc_BOTTOM SH', 'framefunc_CASEMENT', \r\n",
        "#'framefunc_CURTAIN WALL', 'framefunc_FIXED','framefunc_FLUSH GLAZE', 'framefunc_OTHER', 'framefunc_SASH', 'framefunc_SIDELITE', 'framefunc_SLIDER','framefunc_TOP DH', 'framefunc_TOP SH','framefunc_TRANSOM']]\r\n",
        "    \r\n",
        "input_string = {'data':[{\"heightwholenum\":67,\"widthWholeNum\":24,\"lift\":0,\"LongCarry\":0,\"itemset_\":0,\"itemset_OTHER\":0,\"itemset_PRESSURE PLATE\":0,\"itemset_PUTTY\":0,\"itemset_SCREW BEADS\":0,\"itemset_SNAP BEADS\":1,\r\n",
        "\"itemset_VINYL BEADS\":0,\"itemset_WOOD BEADS\":0,\"itemset_WRAP AROUND FRAME\":0,\"itemset_WRAP AROUND RUBBER\":0,\"itemset_flush glaze\":0,\"leadmechanic_6\":0,\"leadmechanic_11\":0,\"leadmechanic_62\":0,\"leadmechanic_90\":0,\r\n",
        "\"leadmechanic_118\":1,\"leadmechanic_211\":0,\"leadmechanic_228\":0,\"leadmechanic_OTHER\":0,\"locationtype_0\":0,\"locationtype_1\":0,\"locationtype_2\":0,\"locationtype_4\":0,\"locationtype_5\":0,\"locationtype_6\":0,\r\n",
        "\"locationtype_7\":0,\"locationtype_9\":1,\"locationtype_10\":0,\"locationtype_11\":0,\"locationtype_12\":0,\"locationtype_13\":0,\"framemat_\":0,\"framemat_ALUMINUM\":1,\"framemat_ANDERSEN\":0,\"framemat_OTHER\":0,\r\n",
        "\"framemat_SASH RAIL\":0,\"framemat_VINYL\":0,\"framemat_WOOD\":0,\"framefunc_BOTTOM DH\":0,\"framefunc_BOTTOM SH\":0,\"framefunc_CASEMENT\":0,\"framefunc_CURTAIN WALL\":0,\"framefunc_FIXED\":0,\"framefunc_FLUSH GLAZE\":0,\r\n",
        "\"framefunc_OTHER\":0,\"framefunc_SASH\":0,\"framefunc_SIDELITE\":0,\"framefunc_SLIDER\":0,\"framefunc_TOP DH\":0,\"framefunc_TOP SH\":0,\"framefunc_TRANSOM\":0}]}\r\n",
        "data = json.dumps(input_string)\r\n",
        "\r\n",
        "#data = \"{\\\"data\\\": [\" + str(list(input_string)) + \"]}\"\r\n",
        "#data = json.dumps(np.array(input_string).tolist())\r\n",
        "#data = pd.DataFrame.from_dict(data)\r\n",
        "\r\n",
        "response = requests.post(scoring_uri, data=data, headers=headers)\r\n",
        "print(response.status_code)\r\n",
        "print(response.elapsed)\r\n",
        "print(response.text)"
      ],
      "outputs": [],
      "execution_count": null,
      "metadata": {
        "collapsed": true,
        "jupyter": {
          "source_hidden": false,
          "outputs_hidden": false
        },
        "nteract": {
          "transient": {
            "deleting": false
          }
        },
        "gather": {
          "logged": 1610649955466
        }
      }
    }
  ],
  "metadata": {
    "kernelspec": {
      "name": "python3",
      "language": "python",
      "display_name": "Python 3"
    },
    "language_info": {
      "name": "python",
      "version": "3.6.9",
      "mimetype": "text/x-python",
      "codemirror_mode": {
        "name": "ipython",
        "version": 3
      },
      "pygments_lexer": "ipython3",
      "nbconvert_exporter": "python",
      "file_extension": ".py"
    },
    "kernel_info": {
      "name": "python3"
    },
    "nteract": {
      "version": "nteract-front-end@1.0.0"
    }
  },
  "nbformat": 4,
  "nbformat_minor": 2
}