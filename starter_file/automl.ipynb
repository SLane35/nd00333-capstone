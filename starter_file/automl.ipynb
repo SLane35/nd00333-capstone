{
  "cells": [
    {
      "cell_type": "code",
      "source": [
        "from azureml.core import Workspace, Experiment\n",
        "from azureml.core.compute import ComputeTarget, AmlCompute\n",
        "from azureml.widgets import RunDetails\n",
        "from azureml.train.sklearn import SKLearn\n",
        "from azureml.train.automl import AutoMLConfig\n",
        "from azureml.widgets import RunDetails\n",
        "from sklearn.model_selection import train_test_split\n",
        "import os\n",
        "import joblib\n",
        "import numpy as np\n",
        "import pandas as pd"
      ],
      "outputs": [],
      "execution_count": 1,
      "metadata": {
        "gather": {
          "logged": 1610646366484
        }
      }
    },
    {
      "cell_type": "code",
      "source": [
        "ws = Workspace.from_config()\n",
        "# choose a name for experiment\n",
        "experiment_name = 'labor-prediction-experiment'\n",
        "experiment=Experiment(ws, experiment_name)"
      ],
      "outputs": [],
      "execution_count": 2,
      "metadata": {
        "gather": {
          "logged": 1610646368235
        }
      }
    },
    {
      "cell_type": "code",
      "source": [
        "from azureml.data.dataset_factory import TabularDatasetFactory\n",
        "from azureml.core import Dataset, Datastore\n",
        "from azureml.data.datapath import DataPath\n",
        "\n",
        "datastore_name='workspaceblobstore'\n",
        "datastore=Datastore.get(ws,datastore_name)\n",
        "\n",
        "datastore_path = [(datastore, 'UI/01-14-2021_052745_UTC/LaborPredictionData6.csv')]\n",
        "ds = Dataset.Tabular.from_delimited_files(path=datastore_path)\n",
        "\n",
        "ds = ds.take(3000).to_pandas_dataframe()"
      ],
      "outputs": [],
      "execution_count": 3,
      "metadata": {
        "gather": {
          "logged": 1610646373361
        }
      }
    },
    {
      "cell_type": "code",
      "source": [
        "from train import clean_data\n",
        "# Use the clean_data function to clean your data.\n",
        "x, y = clean_data(ds)\n",
        "x_train, x_test, y_train, y_test = train_test_split(x, y, train_size=.8)\n",
        "\n",
        "#y_train=y_train.reshape(1728, 1)\n",
        "#train = np.concatenate((x_train,y_train), axis=1)\n",
        "train=pd.concat([x_train, y_train], axis=1)"
      ],
      "outputs": [],
      "execution_count": 4,
      "metadata": {
        "gather": {
          "logged": 1610646375055
        }
      }
    },
    {
      "cell_type": "code",
      "source": [
        "# TODO: Put your automl settings here\n",
        "automl_config = AutoMLConfig(\n",
        "    experiment_timeout_minutes=30,\n",
        "    task='regression',\n",
        "    primary_metric='r2_score',\n",
        "    training_data=train,\n",
        "    label_column_name='TotalInstallationTime',\n",
        "    n_cross_validations=10)"
      ],
      "outputs": [],
      "execution_count": 5,
      "metadata": {
        "gather": {
          "logged": 1610646375211
        }
      }
    },
    {
      "cell_type": "code",
      "source": [
        "#TODO: Submit your experiment\n",
        "remote_run = experiment.submit(automl_config, show_output=True)"
      ],
      "outputs": [
        {
          "output_type": "stream",
          "name": "stdout",
          "text": [
            "No run_configuration provided, running on local with default configuration\n",
            "Running on local machine\n",
            "Parent Run ID: AutoML_9ba9c968-0cd8-47da-bab6-ed21c6a09eaf\n",
            "\n",
            "Current status: DatasetEvaluation. Gathering dataset statistics.\n",
            "Current status: FeaturesGeneration. Generating features for the dataset.\n",
            "Current status: DatasetFeaturization. Beginning to fit featurizers and featurize the dataset.\n",
            "Current status: DatasetFeaturizationCompleted. Completed fit featurizers and featurizing the dataset.\n",
            "Current status: DatasetCrossValidationSplit. Generating individually featurized CV splits.\n",
            "\n",
            "****************************************************************************************************\n",
            "DATA GUARDRAILS: \n",
            "\n",
            "TYPE:         Missing feature values imputation\n",
            "STATUS:       PASSED\n",
            "DESCRIPTION:  No feature missing values were detected in the training data.\n",
            "              Learn more about missing value imputation: https://aka.ms/AutomatedMLFeaturization\n",
            "\n",
            "****************************************************************************************************\n",
            "\n",
            "TYPE:         High cardinality feature detection\n",
            "STATUS:       PASSED\n",
            "DESCRIPTION:  Your inputs were analyzed, and no high cardinality features were detected.\n",
            "              Learn more about high cardinality feature handling: https://aka.ms/AutomatedMLFeaturization\n",
            "\n",
            "****************************************************************************************************\n",
            "Current status: ModelSelection. Beginning model selection.\n",
            "\n",
            "****************************************************************************************************\n",
            "ITERATION: The iteration being evaluated.\n",
            "PIPELINE: A summary description of the pipeline being evaluated.\n",
            "DURATION: Time taken for the current iteration.\n",
            "METRIC: The result of computing score on the fitted pipeline.\n",
            "BEST: The best observed score thus far.\n",
            "****************************************************************************************************\n",
            "\n",
            " ITERATION   PIPELINE                                       DURATION      METRIC      BEST\n",
            "         0   MaxAbsScaler LightGBM                          0:00:29       0.2180    0.2180\n",
            "         1   MaxAbsScaler XGBoostRegressor                  0:00:26       0.2388    0.2388\n",
            "         2   SparseNormalizer XGBoostRegressor              0:00:36       0.1877    0.2388\n",
            "         3   MaxAbsScaler RandomForest                      0:00:44       0.2534    0.2534\n",
            "         4   StandardScalerWrapper XGBoostRegressor         0:00:34       0.1434    0.2534\n",
            "         5   MaxAbsScaler ElasticNet                        0:00:25       0.2616    0.2616\n",
            "         6   MinMaxScaler RandomForest                      0:00:56       0.2302    0.2616\n",
            "         7   StandardScalerWrapper XGBoostRegressor         0:00:38       0.1895    0.2616\n",
            "         8   MinMaxScaler ExtremeRandomTrees                0:00:35       0.2507    0.2616\n",
            "         9   StandardScalerWrapper ElasticNet               0:00:24       0.2629    0.2629\n",
            "        10   MinMaxScaler RandomForest                      0:00:50       0.2588    0.2629\n",
            "        11   MinMaxScaler RandomForest                      0:00:24       0.2437    0.2629\n",
            "        12   StandardScalerWrapper XGBoostRegressor         0:00:26       0.2353    0.2629\n",
            "        13   RobustScaler LassoLars                         0:00:25       0.2616    0.2629\n",
            "        14   MinMaxScaler ExtremeRandomTrees                0:00:26       0.2213    0.2629\n",
            "        15   MaxAbsScaler ExtremeRandomTrees                0:00:29       0.1666    0.2629\n",
            "        16   MinMaxScaler ExtremeRandomTrees                0:00:39       0.2492    0.2629\n",
            "        17   MaxAbsScaler ElasticNet                        0:00:25       0.2627    0.2629\n",
            "        18   MinMaxScaler RandomForest                      0:00:30       0.1618    0.2629\n",
            "        19   MaxAbsScaler RandomForest                      0:00:26       0.2425    0.2629\n",
            "        20   RobustScaler ElasticNet                        0:00:26       0.2636    0.2636\n",
            "        21   StandardScalerWrapper RandomForest             0:00:31       0.2456    0.2636\n",
            "        22   RobustScaler LightGBM                          0:00:36       0.1816    0.2636\n",
            "        23   SparseNormalizer XGBoostRegressor              0:00:31       0.2203    0.2636\n",
            "        24   MaxAbsScaler RandomForest                      0:00:34       0.2135    0.2636\n",
            "        25   TruncatedSVDWrapper ElasticNet                 0:00:27       0.0876    0.2636\n",
            "        26   StandardScalerWrapper DecisionTree             0:00:25       0.1287    0.2636\n",
            "        27   MinMaxScaler ExtremeRandomTrees                0:00:31       0.2246    0.2636\n",
            "        28   StandardScalerWrapper XGBoostRegressor         0:00:33       0.2578    0.2636\n",
            "        29   MaxAbsScaler ExtremeRandomTrees                0:01:02       0.2471    0.2636\n",
            "        30   StandardScalerWrapper ElasticNet               0:00:26       0.2435    0.2636\n",
            "        31   StandardScalerWrapper DecisionTree             0:00:26       0.1594    0.2636\n",
            "        32   MinMaxScaler RandomForest                      0:00:45       0.2343    0.2636\n",
            "        33   RobustScaler ExtremeRandomTrees                0:00:43       0.2055    0.2636\n",
            "        34   MaxAbsScaler DecisionTree                      0:00:31       0.1208    0.2636\n",
            "        35   TruncatedSVDWrapper ElasticNet                 0:00:27      -0.0132    0.2636\n",
            "        36   SparseNormalizer XGBoostRegressor              0:01:27       0.2488    0.2636\n",
            "        37   RobustScaler RandomForest                      0:00:38       0.2527    0.2636\n",
            "        38   StandardScalerWrapper RandomForest             0:00:42       0.2302    0.2636\n",
            "        39   StandardScalerWrapper ElasticNet               0:00:34       0.2619    0.2636\n",
            "        40   PCA ElasticNet                                 0:00:30       0.0387    0.2636\n",
            "        41   RobustScaler RandomForest                      0:00:47       0.2599    0.2636\n",
            "        42   MinMaxScaler RandomForest                      0:00:43       0.1931    0.2636\n",
            "        43   MaxAbsScaler ExtremeRandomTrees                0:00:38       0.2130    0.2636\n",
            "        44   MinMaxScaler LightGBM                          0:00:28       0.2345    0.2636\n",
            "        45   RobustScaler ElasticNet                        0:00:33       0.0408    0.2636\n",
            "        46   MinMaxScaler ExtremeRandomTrees                0:00:29       0.2014    0.2636\n",
            "        47   MinMaxScaler ExtremeRandomTrees                0:00:33       0.2227    0.2636\n",
            "        48   MinMaxScaler ExtremeRandomTrees                0:00:45       0.2033    0.2636\n",
            "        49   VotingEnsemble                                 0:01:19       0.2997    0.2997\n",
            "        50   StackEnsemble                                  0:01:25       0.2917    0.2997\n",
            "Stopping criteria reached at iteration 51. Ending experiment.\n",
            "****************************************************************************************************\n",
            "Current status: BestRunExplainModel. Best run model explanations started\n",
            "Current status: ModelExplanationDataSetSetup. Model explanations data setup completed\n",
            "Current status: PickSurrogateModel. Choosing LightGBM as the surrogate model for explanations\n",
            "Current status: EngineeredFeatureExplanations. Computation of engineered features started\n",
            "Current status: EngineeredFeatureExplanations. Computation of engineered features completed\n",
            "Current status: RawFeaturesExplanations. Computation of raw features started\n",
            "Current status: RawFeaturesExplanations. Computation of raw features completed\n",
            "Current status: BestRunExplainModel. Best run model explanations completed\n",
            "****************************************************************************************************\n"
          ]
        }
      ],
      "execution_count": 6,
      "metadata": {
        "gather": {
          "logged": 1610648489052
        }
      }
    },
    {
      "cell_type": "code",
      "source": [
        "RunDetails(remote_run).show()"
      ],
      "outputs": [
        {
          "output_type": "display_data",
          "data": {
            "text/plain": "_AutoMLWidget(widget_settings={'childWidgetDisplay': 'popup', 'send_telemetry': False, 'log_level': 'INFO', 's…",
            "application/vnd.jupyter.widget-view+json": {
              "version_major": 2,
              "version_minor": 0,
              "model_id": "676099aa407f4516b361721a1e750f27"
            }
          },
          "metadata": {}
        },
        {
          "output_type": "display_data",
          "data": {
            "application/aml.mini.widget.v1": "{\"status\": \"Completed\", \"workbench_run_details_uri\": \"https://ml.azure.com/experiments/labor-prediction-experiment/runs/AutoML_9ba9c968-0cd8-47da-bab6-ed21c6a09eaf?wsid=/subscriptions/81cefad3-d2c9-4f77-a466-99a7f541c7bb/resourcegroups/aml-quickstarts-134685/workspaces/quick-starts-ws-134685\", \"run_id\": \"AutoML_9ba9c968-0cd8-47da-bab6-ed21c6a09eaf\", \"run_properties\": {\"run_id\": \"AutoML_9ba9c968-0cd8-47da-bab6-ed21c6a09eaf\", \"created_utc\": \"2021-01-14T17:46:58.86269Z\", \"properties\": {\"num_iterations\": \"1000\", \"training_type\": \"TrainFull\", \"acquisition_function\": \"EI\", \"primary_metric\": \"r2_score\", \"train_split\": \"0\", \"acquisition_parameter\": \"0\", \"num_cross_validation\": \"10\", \"target\": \"local\", \"AMLSettingsJsonString\": \"{\\\"path\\\":null,\\\"name\\\":\\\"labor-prediction-experiment\\\",\\\"subscription_id\\\":\\\"81cefad3-d2c9-4f77-a466-99a7f541c7bb\\\",\\\"resource_group\\\":\\\"aml-quickstarts-134685\\\",\\\"workspace_name\\\":\\\"quick-starts-ws-134685\\\",\\\"region\\\":\\\"southcentralus\\\",\\\"compute_target\\\":\\\"local\\\",\\\"spark_service\\\":null,\\\"azure_service\\\":\\\"Microsoft.AzureNotebookVM\\\",\\\"many_models\\\":false,\\\"pipeline_fetch_max_batch_size\\\":1,\\\"iterations\\\":1000,\\\"primary_metric\\\":\\\"r2_score\\\",\\\"task_type\\\":\\\"regression\\\",\\\"data_script\\\":null,\\\"validation_size\\\":0.0,\\\"n_cross_validations\\\":10,\\\"y_min\\\":null,\\\"y_max\\\":null,\\\"num_classes\\\":null,\\\"featurization\\\":\\\"auto\\\",\\\"_ignore_package_version_incompatibilities\\\":false,\\\"is_timeseries\\\":false,\\\"max_cores_per_iteration\\\":1,\\\"max_concurrent_iterations\\\":1,\\\"iteration_timeout_minutes\\\":null,\\\"mem_in_mb\\\":null,\\\"enforce_time_on_windows\\\":false,\\\"experiment_timeout_minutes\\\":30,\\\"experiment_exit_score\\\":null,\\\"whitelist_models\\\":null,\\\"blacklist_algos\\\":[\\\"TensorFlowDNN\\\",\\\"TensorFlowLinearRegressor\\\"],\\\"supported_models\\\":[\\\"ElasticNet\\\",\\\"XGBoostRegressor\\\",\\\"OnlineGradientDescentRegressor\\\",\\\"KNN\\\",\\\"GradientBoosting\\\",\\\"RandomForest\\\",\\\"SGD\\\",\\\"LassoLars\\\",\\\"TensorFlowLinearRegressor\\\",\\\"FastLinearRegressor\\\",\\\"ExtremeRandomTrees\\\",\\\"LightGBM\\\",\\\"DecisionTree\\\",\\\"TensorFlowDNN\\\"],\\\"auto_blacklist\\\":true,\\\"blacklist_samples_reached\\\":false,\\\"exclude_nan_labels\\\":true,\\\"verbosity\\\":20,\\\"_debug_log\\\":\\\"automl.log\\\",\\\"show_warnings\\\":false,\\\"model_explainability\\\":true,\\\"service_url\\\":null,\\\"sdk_url\\\":null,\\\"sdk_packages\\\":null,\\\"enable_onnx_compatible_models\\\":false,\\\"enable_split_onnx_featurizer_estimator_models\\\":false,\\\"vm_type\\\":null,\\\"telemetry_verbosity\\\":20,\\\"send_telemetry\\\":true,\\\"enable_dnn\\\":false,\\\"scenario\\\":\\\"SDK-1.13.0\\\",\\\"environment_label\\\":null,\\\"force_text_dnn\\\":false,\\\"enable_feature_sweeping\\\":true,\\\"enable_early_stopping\\\":false,\\\"early_stopping_n_iters\\\":10,\\\"metrics\\\":null,\\\"enable_ensembling\\\":true,\\\"enable_stack_ensembling\\\":true,\\\"ensemble_iterations\\\":15,\\\"enable_tf\\\":false,\\\"enable_subsampling\\\":null,\\\"subsample_seed\\\":null,\\\"enable_nimbusml\\\":false,\\\"enable_streaming\\\":false,\\\"force_streaming\\\":false,\\\"track_child_runs\\\":true,\\\"allowed_private_models\\\":[],\\\"label_column_name\\\":\\\"TotalInstallationTime\\\",\\\"weight_column_name\\\":null,\\\"cv_split_column_names\\\":null,\\\"enable_local_managed\\\":false,\\\"_local_managed_run_id\\\":null,\\\"cost_mode\\\":1,\\\"lag_length\\\":0,\\\"metric_operation\\\":\\\"maximize\\\",\\\"preprocess\\\":true}\", \"DataPrepJsonString\": null, \"EnableSubsampling\": null, \"runTemplate\": \"AutoML\", \"azureml.runsource\": \"automl\", \"display_task_type\": \"regression\", \"dependencies_versions\": \"{\\\"azureml-widgets\\\": \\\"1.19.0\\\", \\\"azureml-train\\\": \\\"1.19.0\\\", \\\"azureml-train-restclients-hyperdrive\\\": \\\"1.19.0\\\", \\\"azureml-train-core\\\": \\\"1.19.0\\\", \\\"azureml-train-automl\\\": \\\"1.19.0\\\", \\\"azureml-train-automl-runtime\\\": \\\"1.19.0\\\", \\\"azureml-train-automl-client\\\": \\\"1.19.0\\\", \\\"azureml-tensorboard\\\": \\\"1.19.0\\\", \\\"azureml-telemetry\\\": \\\"1.19.0\\\", \\\"azureml-sdk\\\": \\\"1.19.0\\\", \\\"azureml-samples\\\": \\\"0+unknown\\\", \\\"azureml-pipeline\\\": \\\"1.19.0\\\", \\\"azureml-pipeline-steps\\\": \\\"1.19.0\\\", \\\"azureml-pipeline-core\\\": \\\"1.19.0\\\", \\\"azureml-opendatasets\\\": \\\"1.19.0\\\", \\\"azureml-model-management-sdk\\\": \\\"1.0.1b6.post1\\\", \\\"azureml-mlflow\\\": \\\"1.19.0\\\", \\\"azureml-interpret\\\": \\\"1.19.0\\\", \\\"azureml-explain-model\\\": \\\"1.19.0\\\", \\\"azureml-defaults\\\": \\\"1.19.0\\\", \\\"azureml-dataset-runtime\\\": \\\"1.19.0\\\", \\\"azureml-dataprep\\\": \\\"2.6.1\\\", \\\"azureml-dataprep-rslex\\\": \\\"1.4.0\\\", \\\"azureml-dataprep-native\\\": \\\"26.0.0\\\", \\\"azureml-datadrift\\\": \\\"1.19.0\\\", \\\"azureml-core\\\": \\\"1.19.0\\\", \\\"azureml-contrib-services\\\": \\\"1.19.0\\\", \\\"azureml-contrib-server\\\": \\\"1.19.0\\\", \\\"azureml-contrib-reinforcementlearning\\\": \\\"1.19.0\\\", \\\"azureml-contrib-pipeline-steps\\\": \\\"1.19.0\\\", \\\"azureml-contrib-notebook\\\": \\\"1.19.0\\\", \\\"azureml-contrib-interpret\\\": \\\"1.19.0\\\", \\\"azureml-contrib-gbdt\\\": \\\"1.19.0\\\", \\\"azureml-contrib-fairness\\\": \\\"1.19.0\\\", \\\"azureml-contrib-dataset\\\": \\\"1.19.0\\\", \\\"azureml-cli-common\\\": \\\"1.19.0\\\", \\\"azureml-automl-runtime\\\": \\\"1.19.0\\\", \\\"azureml-automl-core\\\": \\\"1.19.0\\\", \\\"azureml-accel-models\\\": \\\"1.19.0\\\"}\", \"_aml_system_scenario_identification\": \"Local.Parent\", \"ClientSdkVersion\": \"1.19.0\", \"ClientType\": \"SDK\", \"environment_cpu_name\": \"AzureML-AutoML\", \"environment_cpu_label\": \"prod\", \"environment_gpu_name\": \"AzureML-AutoML-GPU\", \"environment_gpu_label\": \"prod\", \"root_attribution\": \"automl\", \"attribution\": \"AutoML\", \"Orchestrator\": \"AutoML\", \"_azureml.ComputeTargetType\": \"local\", \"ProblemInfoJsonString\": \"{\\\"dataset_num_categorical\\\": 0, \\\"is_sparse\\\": false, \\\"subsampling\\\": false, \\\"dataset_classes\\\": 46, \\\"dataset_features\\\": 53, \\\"dataset_samples\\\": 1728, \\\"single_frequency_class_detected\\\": false}\", \"feature_skus\": \"automatedml_sdk_guardrails\"}, \"tags\": {\"model_explain_run\": \"best_run\", \"best_score\": \"0.29968586244707285\", \"best_pipeline\": \"VotingEnsemble\", \"automl_best_child_run_id\": \"AutoML_9ba9c968-0cd8-47da-bab6-ed21c6a09eaf_49\", \"model_explain_best_run_child_id\": \"AutoML_9ba9c968-0cd8-47da-bab6-ed21c6a09eaf_49\"}, \"end_time_utc\": \"2021-01-14T18:20:30.176858Z\", \"status\": \"Completed\", \"log_files\": {}, \"log_groups\": [], \"run_duration\": \"0:33:31\"}, \"child_runs\": [{\"run_id\": \"AutoML_9ba9c968-0cd8-47da-bab6-ed21c6a09eaf_0\", \"run_number\": 2, \"metric\": null, \"status\": \"Completed\", \"run_type\": null, \"training_percent\": \"100\", \"start_time\": \"2021-01-14T17:47:19.104624Z\", \"end_time\": \"2021-01-14T17:47:48.700364Z\", \"created_time\": \"2021-01-14T17:47:19.008485Z\", \"created_time_dt\": \"2021-01-14T17:47:19.008485Z\", \"duration\": \"0:00:29\", \"iteration\": \"0\", \"goal\": \"r2_score_max\", \"run_name\": \"MaxAbsScaler, LightGBM\", \"run_properties\": \"copy=True\", \"primary_metric\": 0.21801417, \"best_metric\": 0.21801417}, {\"run_id\": \"AutoML_9ba9c968-0cd8-47da-bab6-ed21c6a09eaf_1\", \"run_number\": 3, \"metric\": null, \"status\": \"Completed\", \"run_type\": null, \"training_percent\": \"100\", \"start_time\": \"2021-01-14T17:47:49.026926Z\", \"end_time\": \"2021-01-14T17:48:15.852878Z\", \"created_time\": \"2021-01-14T17:47:48.927674Z\", \"created_time_dt\": \"2021-01-14T17:47:48.927674Z\", \"duration\": \"0:00:26\", \"iteration\": \"1\", \"goal\": \"r2_score_max\", \"run_name\": \"MaxAbsScaler, XGBoostRegressor\", \"run_properties\": \"copy=True\", \"primary_metric\": 0.23880631, \"best_metric\": 0.23880631}, {\"run_id\": \"AutoML_9ba9c968-0cd8-47da-bab6-ed21c6a09eaf_2\", \"run_number\": 4, \"metric\": null, \"status\": \"Completed\", \"run_type\": null, \"training_percent\": \"100\", \"start_time\": \"2021-01-14T17:48:16.620076Z\", \"end_time\": \"2021-01-14T17:48:52.657341Z\", \"created_time\": \"2021-01-14T17:48:16.507868Z\", \"created_time_dt\": \"2021-01-14T17:48:16.507868Z\", \"duration\": \"0:00:36\", \"iteration\": \"2\", \"goal\": \"r2_score_max\", \"run_name\": \"SparseNormalizer, XGBoostRegressor\", \"run_properties\": \"<azureml.automl.runtime.shared.model_wrappers.SparseNormalizer object at 0x7f680e39e780\", \"primary_metric\": 0.1877332, \"best_metric\": 0.23880631}, {\"run_id\": \"AutoML_9ba9c968-0cd8-47da-bab6-ed21c6a09eaf_3\", \"run_number\": 5, \"metric\": null, \"status\": \"Completed\", \"run_type\": null, \"training_percent\": \"100\", \"start_time\": \"2021-01-14T17:48:54.245533Z\", \"end_time\": \"2021-01-14T17:49:38.577221Z\", \"created_time\": \"2021-01-14T17:48:54.13957Z\", \"created_time_dt\": \"2021-01-14T17:48:54.13957Z\", \"duration\": \"0:00:44\", \"iteration\": \"3\", \"goal\": \"r2_score_max\", \"run_name\": \"MaxAbsScaler, RandomForest\", \"run_properties\": \"copy=True\", \"primary_metric\": 0.25336037, \"best_metric\": 0.25336037}, {\"run_id\": \"AutoML_9ba9c968-0cd8-47da-bab6-ed21c6a09eaf_4\", \"run_number\": 6, \"metric\": null, \"status\": \"Completed\", \"run_type\": null, \"training_percent\": \"100\", \"start_time\": \"2021-01-14T17:49:40.238165Z\", \"end_time\": \"2021-01-14T17:50:14.587604Z\", \"created_time\": \"2021-01-14T17:49:40.147501Z\", \"created_time_dt\": \"2021-01-14T17:49:40.147501Z\", \"duration\": \"0:00:34\", \"iteration\": \"4\", \"goal\": \"r2_score_max\", \"run_name\": \"StandardScalerWrapper, XGBoostRegressor\", \"run_properties\": \"<azureml.automl.runtime.shared.model_wrappers.StandardScalerWrapper object at 0x7f680e640fd0\", \"primary_metric\": 0.14344612, \"best_metric\": 0.25336037}, {\"run_id\": \"AutoML_9ba9c968-0cd8-47da-bab6-ed21c6a09eaf_5\", \"run_number\": 7, \"metric\": null, \"status\": \"Completed\", \"run_type\": null, \"training_percent\": \"100\", \"start_time\": \"2021-01-14T17:50:16.22163Z\", \"end_time\": \"2021-01-14T17:50:42.014051Z\", \"created_time\": \"2021-01-14T17:50:16.120237Z\", \"created_time_dt\": \"2021-01-14T17:50:16.120237Z\", \"duration\": \"0:00:25\", \"iteration\": \"5\", \"goal\": \"r2_score_max\", \"run_name\": \"MaxAbsScaler, ElasticNet\", \"run_properties\": \"copy=True\", \"primary_metric\": 0.26161025, \"best_metric\": 0.26161025}, {\"run_id\": \"AutoML_9ba9c968-0cd8-47da-bab6-ed21c6a09eaf_6\", \"run_number\": 8, \"metric\": null, \"status\": \"Completed\", \"run_type\": null, \"training_percent\": \"100\", \"start_time\": \"2021-01-14T17:50:43.521926Z\", \"end_time\": \"2021-01-14T17:51:39.509852Z\", \"created_time\": \"2021-01-14T17:50:43.426106Z\", \"created_time_dt\": \"2021-01-14T17:50:43.426106Z\", \"duration\": \"0:00:56\", \"iteration\": \"6\", \"goal\": \"r2_score_max\", \"run_name\": \"MinMaxScaler, RandomForest\", \"run_properties\": \"copy=True, feature_range=(0, 1\", \"primary_metric\": 0.23024476, \"best_metric\": 0.26161025}, {\"run_id\": \"AutoML_9ba9c968-0cd8-47da-bab6-ed21c6a09eaf_7\", \"run_number\": 9, \"metric\": null, \"status\": \"Completed\", \"run_type\": null, \"training_percent\": \"100\", \"start_time\": \"2021-01-14T17:51:42.281452Z\", \"end_time\": \"2021-01-14T17:52:19.86335Z\", \"created_time\": \"2021-01-14T17:51:41.788891Z\", \"created_time_dt\": \"2021-01-14T17:51:41.788891Z\", \"duration\": \"0:00:38\", \"iteration\": \"7\", \"goal\": \"r2_score_max\", \"run_name\": \"StandardScalerWrapper, XGBoostRegressor\", \"run_properties\": \"<azureml.automl.runtime.shared.model_wrappers.StandardScalerWrapper object at 0x7f680e194748\", \"primary_metric\": 0.18947389, \"best_metric\": 0.26161025}, {\"run_id\": \"AutoML_9ba9c968-0cd8-47da-bab6-ed21c6a09eaf_8\", \"run_number\": 10, \"metric\": null, \"status\": \"Completed\", \"run_type\": null, \"training_percent\": \"100\", \"start_time\": \"2021-01-14T17:52:22.632824Z\", \"end_time\": \"2021-01-14T17:52:57.870949Z\", \"created_time\": \"2021-01-14T17:52:22.236619Z\", \"created_time_dt\": \"2021-01-14T17:52:22.236619Z\", \"duration\": \"0:00:35\", \"iteration\": \"8\", \"goal\": \"r2_score_max\", \"run_name\": \"MinMaxScaler, ExtremeRandomTrees\", \"run_properties\": \"copy=True, feature_range=(0, 1\", \"primary_metric\": 0.2507181, \"best_metric\": 0.26161025}, {\"run_id\": \"AutoML_9ba9c968-0cd8-47da-bab6-ed21c6a09eaf_9\", \"run_number\": 11, \"metric\": null, \"status\": \"Completed\", \"run_type\": null, \"training_percent\": \"100\", \"start_time\": \"2021-01-14T17:52:59.496411Z\", \"end_time\": \"2021-01-14T17:53:23.697331Z\", \"created_time\": \"2021-01-14T17:52:59.40124Z\", \"created_time_dt\": \"2021-01-14T17:52:59.40124Z\", \"duration\": \"0:00:24\", \"iteration\": \"9\", \"goal\": \"r2_score_max\", \"run_name\": \"StandardScalerWrapper, ElasticNet\", \"run_properties\": \"<azureml.automl.runtime.shared.model_wrappers.StandardScalerWrapper object at 0x7f680e685400\", \"primary_metric\": 0.26293937, \"best_metric\": 0.26293937}, {\"run_id\": \"AutoML_9ba9c968-0cd8-47da-bab6-ed21c6a09eaf_10\", \"run_number\": 12, \"metric\": null, \"status\": \"Completed\", \"run_type\": null, \"training_percent\": \"100\", \"start_time\": \"2021-01-14T17:53:25.282318Z\", \"end_time\": \"2021-01-14T17:54:15.858677Z\", \"created_time\": \"2021-01-14T17:53:25.190231Z\", \"created_time_dt\": \"2021-01-14T17:53:25.190231Z\", \"duration\": \"0:00:50\", \"iteration\": \"10\", \"goal\": \"r2_score_max\", \"run_name\": \"MinMaxScaler, RandomForest\", \"run_properties\": \"copy=True, feature_range=(0, 1\", \"primary_metric\": 0.25884734, \"best_metric\": 0.26293937}, {\"run_id\": \"AutoML_9ba9c968-0cd8-47da-bab6-ed21c6a09eaf_11\", \"run_number\": 13, \"metric\": null, \"status\": \"Completed\", \"run_type\": null, \"training_percent\": \"100\", \"start_time\": \"2021-01-14T17:54:17.417236Z\", \"end_time\": \"2021-01-14T17:54:42.171709Z\", \"created_time\": \"2021-01-14T17:54:17.320008Z\", \"created_time_dt\": \"2021-01-14T17:54:17.320008Z\", \"duration\": \"0:00:24\", \"iteration\": \"11\", \"goal\": \"r2_score_max\", \"run_name\": \"MinMaxScaler, RandomForest\", \"run_properties\": \"copy=True, feature_range=(0, 1\", \"primary_metric\": 0.24371642, \"best_metric\": 0.26293937}, {\"run_id\": \"AutoML_9ba9c968-0cd8-47da-bab6-ed21c6a09eaf_12\", \"run_number\": 14, \"metric\": null, \"status\": \"Completed\", \"run_type\": null, \"training_percent\": \"100\", \"start_time\": \"2021-01-14T17:54:43.685274Z\", \"end_time\": \"2021-01-14T17:55:09.848332Z\", \"created_time\": \"2021-01-14T17:54:43.577343Z\", \"created_time_dt\": \"2021-01-14T17:54:43.577343Z\", \"duration\": \"0:00:26\", \"iteration\": \"12\", \"goal\": \"r2_score_max\", \"run_name\": \"StandardScalerWrapper, XGBoostRegressor\", \"run_properties\": \"<azureml.automl.runtime.shared.model_wrappers.StandardScalerWrapper object at 0x7f68f86430b8\", \"primary_metric\": 0.23525594, \"best_metric\": 0.26293937}, {\"run_id\": \"AutoML_9ba9c968-0cd8-47da-bab6-ed21c6a09eaf_13\", \"run_number\": 15, \"metric\": null, \"status\": \"Completed\", \"run_type\": null, \"training_percent\": \"100\", \"start_time\": \"2021-01-14T17:55:11.376441Z\", \"end_time\": \"2021-01-14T17:55:36.318465Z\", \"created_time\": \"2021-01-14T17:55:11.279724Z\", \"created_time_dt\": \"2021-01-14T17:55:11.279724Z\", \"duration\": \"0:00:25\", \"iteration\": \"13\", \"goal\": \"r2_score_max\", \"run_name\": \"RobustScaler, LassoLars\", \"run_properties\": \"copy=True, quantile_range=[10, 90], with_centering=False,\\n             with_scaling=True\", \"primary_metric\": 0.26156809, \"best_metric\": 0.26293937}, {\"run_id\": \"AutoML_9ba9c968-0cd8-47da-bab6-ed21c6a09eaf_14\", \"run_number\": 16, \"metric\": null, \"status\": \"Completed\", \"run_type\": null, \"training_percent\": \"100\", \"start_time\": \"2021-01-14T17:55:37.77069Z\", \"end_time\": \"2021-01-14T17:56:04.058875Z\", \"created_time\": \"2021-01-14T17:55:37.656052Z\", \"created_time_dt\": \"2021-01-14T17:55:37.656052Z\", \"duration\": \"0:00:26\", \"iteration\": \"14\", \"goal\": \"r2_score_max\", \"run_name\": \"MinMaxScaler, ExtremeRandomTrees\", \"run_properties\": \"copy=True, feature_range=(0, 1\", \"primary_metric\": 0.22128017, \"best_metric\": 0.26293937}, {\"run_id\": \"AutoML_9ba9c968-0cd8-47da-bab6-ed21c6a09eaf_15\", \"run_number\": 17, \"metric\": null, \"status\": \"Completed\", \"run_type\": null, \"training_percent\": \"100\", \"start_time\": \"2021-01-14T17:56:05.688573Z\", \"end_time\": \"2021-01-14T17:56:34.951713Z\", \"created_time\": \"2021-01-14T17:56:05.583505Z\", \"created_time_dt\": \"2021-01-14T17:56:05.583505Z\", \"duration\": \"0:00:29\", \"iteration\": \"15\", \"goal\": \"r2_score_max\", \"run_name\": \"MaxAbsScaler, ExtremeRandomTrees\", \"run_properties\": \"copy=True\", \"primary_metric\": 0.16657492, \"best_metric\": 0.26293937}, {\"run_id\": \"AutoML_9ba9c968-0cd8-47da-bab6-ed21c6a09eaf_16\", \"run_number\": 18, \"metric\": null, \"status\": \"Completed\", \"run_type\": null, \"training_percent\": \"100\", \"start_time\": \"2021-01-14T17:56:37.518785Z\", \"end_time\": \"2021-01-14T17:57:16.078442Z\", \"created_time\": \"2021-01-14T17:56:37.052058Z\", \"created_time_dt\": \"2021-01-14T17:56:37.052058Z\", \"duration\": \"0:00:39\", \"iteration\": \"16\", \"goal\": \"r2_score_max\", \"run_name\": \"MinMaxScaler, ExtremeRandomTrees\", \"run_properties\": \"copy=True, feature_range=(0, 1\", \"primary_metric\": 0.24915199, \"best_metric\": 0.26293937}, {\"run_id\": \"AutoML_9ba9c968-0cd8-47da-bab6-ed21c6a09eaf_17\", \"run_number\": 19, \"metric\": null, \"status\": \"Completed\", \"run_type\": null, \"training_percent\": \"100\", \"start_time\": \"2021-01-14T17:57:19.586722Z\", \"end_time\": \"2021-01-14T17:57:45.248266Z\", \"created_time\": \"2021-01-14T17:57:19.11999Z\", \"created_time_dt\": \"2021-01-14T17:57:19.11999Z\", \"duration\": \"0:00:26\", \"iteration\": \"17\", \"goal\": \"r2_score_max\", \"run_name\": \"MaxAbsScaler, ElasticNet\", \"run_properties\": \"copy=True\", \"primary_metric\": 0.26268168, \"best_metric\": 0.26293937}, {\"run_id\": \"AutoML_9ba9c968-0cd8-47da-bab6-ed21c6a09eaf_18\", \"run_number\": 20, \"metric\": null, \"status\": \"Completed\", \"run_type\": null, \"training_percent\": \"100\", \"start_time\": \"2021-01-14T17:57:47.315415Z\", \"end_time\": \"2021-01-14T17:58:17.617953Z\", \"created_time\": \"2021-01-14T17:57:47.185732Z\", \"created_time_dt\": \"2021-01-14T17:57:47.185732Z\", \"duration\": \"0:00:30\", \"iteration\": \"18\", \"goal\": \"r2_score_max\", \"run_name\": \"MinMaxScaler, RandomForest\", \"run_properties\": \"copy=True, feature_range=(0, 1\", \"primary_metric\": 0.16184248, \"best_metric\": 0.26293937}, {\"run_id\": \"AutoML_9ba9c968-0cd8-47da-bab6-ed21c6a09eaf_19\", \"run_number\": 21, \"metric\": null, \"status\": \"Completed\", \"run_type\": null, \"training_percent\": \"100\", \"start_time\": \"2021-01-14T17:58:19.208789Z\", \"end_time\": \"2021-01-14T17:58:45.706263Z\", \"created_time\": \"2021-01-14T17:58:19.097588Z\", \"created_time_dt\": \"2021-01-14T17:58:19.097588Z\", \"duration\": \"0:00:26\", \"iteration\": \"19\", \"goal\": \"r2_score_max\", \"run_name\": \"MaxAbsScaler, RandomForest\", \"run_properties\": \"copy=True\", \"primary_metric\": 0.24246478, \"best_metric\": 0.26293937}, {\"run_id\": \"AutoML_9ba9c968-0cd8-47da-bab6-ed21c6a09eaf_20\", \"run_number\": 22, \"metric\": null, \"status\": \"Completed\", \"run_type\": null, \"training_percent\": \"100\", \"start_time\": \"2021-01-14T17:58:47.293775Z\", \"end_time\": \"2021-01-14T17:59:13.526847Z\", \"created_time\": \"2021-01-14T17:58:47.195219Z\", \"created_time_dt\": \"2021-01-14T17:58:47.195219Z\", \"duration\": \"0:00:26\", \"iteration\": \"20\", \"goal\": \"r2_score_max\", \"run_name\": \"RobustScaler, ElasticNet\", \"run_properties\": \"copy=True, quantile_range=[10, 90], with_centering=True,\\n             with_scaling=False\", \"primary_metric\": 0.26360622, \"best_metric\": 0.26360622}, {\"run_id\": \"AutoML_9ba9c968-0cd8-47da-bab6-ed21c6a09eaf_21\", \"run_number\": 23, \"metric\": null, \"status\": \"Completed\", \"run_type\": null, \"training_percent\": \"100\", \"start_time\": \"2021-01-14T17:59:15.097992Z\", \"end_time\": \"2021-01-14T17:59:46.926366Z\", \"created_time\": \"2021-01-14T17:59:15.003623Z\", \"created_time_dt\": \"2021-01-14T17:59:15.003623Z\", \"duration\": \"0:00:31\", \"iteration\": \"21\", \"goal\": \"r2_score_max\", \"run_name\": \"StandardScalerWrapper, RandomForest\", \"run_properties\": \"<azureml.automl.runtime.shared.model_wrappers.StandardScalerWrapper object at 0x7f680e19e470\", \"primary_metric\": 0.24560044, \"best_metric\": 0.26360622}, {\"run_id\": \"AutoML_9ba9c968-0cd8-47da-bab6-ed21c6a09eaf_22\", \"run_number\": 24, \"metric\": null, \"status\": \"Completed\", \"run_type\": null, \"training_percent\": \"100\", \"start_time\": \"2021-01-14T17:59:50.302326Z\", \"end_time\": \"2021-01-14T18:00:27.130866Z\", \"created_time\": \"2021-01-14T17:59:50.190539Z\", \"created_time_dt\": \"2021-01-14T17:59:50.190539Z\", \"duration\": \"0:00:36\", \"iteration\": \"22\", \"goal\": \"r2_score_max\", \"run_name\": \"RobustScaler, LightGBM\", \"run_properties\": \"copy=True, quantile_range=[10, 90], with_centering=False,\\n             with_scaling=True\", \"primary_metric\": 0.18164206, \"best_metric\": 0.26360622}, {\"run_id\": \"AutoML_9ba9c968-0cd8-47da-bab6-ed21c6a09eaf_23\", \"run_number\": 25, \"metric\": null, \"status\": \"Completed\", \"run_type\": null, \"training_percent\": \"100\", \"start_time\": \"2021-01-14T18:00:28.549953Z\", \"end_time\": \"2021-01-14T18:00:59.936003Z\", \"created_time\": \"2021-01-14T18:00:28.350629Z\", \"created_time_dt\": \"2021-01-14T18:00:28.350629Z\", \"duration\": \"0:00:31\", \"iteration\": \"23\", \"goal\": \"r2_score_max\", \"run_name\": \"SparseNormalizer, XGBoostRegressor\", \"run_properties\": \"<azureml.automl.runtime.shared.model_wrappers.SparseNormalizer object at 0x7f67ffb2b550\", \"primary_metric\": 0.22026163, \"best_metric\": 0.26360622}, {\"run_id\": \"AutoML_9ba9c968-0cd8-47da-bab6-ed21c6a09eaf_24\", \"run_number\": 26, \"metric\": null, \"status\": \"Completed\", \"run_type\": null, \"training_percent\": \"100\", \"start_time\": \"2021-01-14T18:01:01.423378Z\", \"end_time\": \"2021-01-14T18:01:36.038885Z\", \"created_time\": \"2021-01-14T18:01:01.287453Z\", \"created_time_dt\": \"2021-01-14T18:01:01.287453Z\", \"duration\": \"0:00:34\", \"iteration\": \"24\", \"goal\": \"r2_score_max\", \"run_name\": \"MaxAbsScaler, RandomForest\", \"run_properties\": \"copy=True\", \"primary_metric\": 0.21351821, \"best_metric\": 0.26360622}, {\"run_id\": \"AutoML_9ba9c968-0cd8-47da-bab6-ed21c6a09eaf_25\", \"run_number\": 27, \"metric\": null, \"status\": \"Completed\", \"run_type\": null, \"training_percent\": \"100\", \"start_time\": \"2021-01-14T18:01:38.39413Z\", \"end_time\": \"2021-01-14T18:02:05.542647Z\", \"created_time\": \"2021-01-14T18:01:38.284964Z\", \"created_time_dt\": \"2021-01-14T18:01:38.284964Z\", \"duration\": \"0:00:27\", \"iteration\": \"25\", \"goal\": \"r2_score_max\", \"run_name\": \"TruncatedSVDWrapper, ElasticNet\", \"run_properties\": \"n_components=0.40578947368421053, random_state=None\", \"primary_metric\": 0.08759438, \"best_metric\": 0.26360622}, {\"run_id\": \"AutoML_9ba9c968-0cd8-47da-bab6-ed21c6a09eaf_26\", \"run_number\": 28, \"metric\": null, \"status\": \"Completed\", \"run_type\": null, \"training_percent\": \"100\", \"start_time\": \"2021-01-14T18:02:07.034405Z\", \"end_time\": \"2021-01-14T18:02:32.37742Z\", \"created_time\": \"2021-01-14T18:02:06.912403Z\", \"created_time_dt\": \"2021-01-14T18:02:06.912403Z\", \"duration\": \"0:00:25\", \"iteration\": \"26\", \"goal\": \"r2_score_max\", \"run_name\": \"StandardScalerWrapper, DecisionTree\", \"run_properties\": \"<azureml.automl.runtime.shared.model_wrappers.StandardScalerWrapper object at 0x7f680e132f28\", \"primary_metric\": 0.12866818, \"best_metric\": 0.26360622}, {\"run_id\": \"AutoML_9ba9c968-0cd8-47da-bab6-ed21c6a09eaf_27\", \"run_number\": 29, \"metric\": null, \"status\": \"Completed\", \"run_type\": null, \"training_percent\": \"100\", \"start_time\": \"2021-01-14T18:02:33.837139Z\", \"end_time\": \"2021-01-14T18:03:05.116107Z\", \"created_time\": \"2021-01-14T18:02:33.733812Z\", \"created_time_dt\": \"2021-01-14T18:02:33.733812Z\", \"duration\": \"0:00:31\", \"iteration\": \"27\", \"goal\": \"r2_score_max\", \"run_name\": \"MinMaxScaler, ExtremeRandomTrees\", \"run_properties\": \"copy=True, feature_range=(0, 1\", \"primary_metric\": 0.22463703, \"best_metric\": 0.26360622}, {\"run_id\": \"AutoML_9ba9c968-0cd8-47da-bab6-ed21c6a09eaf_28\", \"run_number\": 30, \"metric\": null, \"status\": \"Completed\", \"run_type\": null, \"training_percent\": \"100\", \"start_time\": \"2021-01-14T18:03:06.936718Z\", \"end_time\": \"2021-01-14T18:03:40.226841Z\", \"created_time\": \"2021-01-14T18:03:06.789406Z\", \"created_time_dt\": \"2021-01-14T18:03:06.789406Z\", \"duration\": \"0:00:33\", \"iteration\": \"28\", \"goal\": \"r2_score_max\", \"run_name\": \"StandardScalerWrapper, XGBoostRegressor\", \"run_properties\": \"<azureml.automl.runtime.shared.model_wrappers.StandardScalerWrapper object at 0x7f6800f5e390\", \"primary_metric\": 0.25784578, \"best_metric\": 0.26360622}, {\"run_id\": \"AutoML_9ba9c968-0cd8-47da-bab6-ed21c6a09eaf_29\", \"run_number\": 31, \"metric\": null, \"status\": \"Completed\", \"run_type\": null, \"training_percent\": \"100\", \"start_time\": \"2021-01-14T18:03:41.817162Z\", \"end_time\": \"2021-01-14T18:04:43.965976Z\", \"created_time\": \"2021-01-14T18:03:41.722929Z\", \"created_time_dt\": \"2021-01-14T18:03:41.722929Z\", \"duration\": \"0:01:02\", \"iteration\": \"29\", \"goal\": \"r2_score_max\", \"run_name\": \"MaxAbsScaler, ExtremeRandomTrees\", \"run_properties\": \"copy=True\", \"primary_metric\": 0.24707345, \"best_metric\": 0.26360622}, {\"run_id\": \"AutoML_9ba9c968-0cd8-47da-bab6-ed21c6a09eaf_30\", \"run_number\": 32, \"metric\": null, \"status\": \"Completed\", \"run_type\": null, \"training_percent\": \"100\", \"start_time\": \"2021-01-14T18:04:47.279961Z\", \"end_time\": \"2021-01-14T18:05:13.351399Z\", \"created_time\": \"2021-01-14T18:04:47.163716Z\", \"created_time_dt\": \"2021-01-14T18:04:47.163716Z\", \"duration\": \"0:00:26\", \"iteration\": \"30\", \"goal\": \"r2_score_max\", \"run_name\": \"StandardScalerWrapper, ElasticNet\", \"run_properties\": \"<azureml.automl.runtime.shared.model_wrappers.StandardScalerWrapper object at 0x7f680e451dd8\", \"primary_metric\": 0.24348649, \"best_metric\": 0.26360622}, {\"run_id\": \"AutoML_9ba9c968-0cd8-47da-bab6-ed21c6a09eaf_31\", \"run_number\": 33, \"metric\": null, \"status\": \"Completed\", \"run_type\": null, \"training_percent\": \"100\", \"start_time\": \"2021-01-14T18:05:14.803093Z\", \"end_time\": \"2021-01-14T18:05:40.866497Z\", \"created_time\": \"2021-01-14T18:05:14.663009Z\", \"created_time_dt\": \"2021-01-14T18:05:14.663009Z\", \"duration\": \"0:00:26\", \"iteration\": \"31\", \"goal\": \"r2_score_max\", \"run_name\": \"StandardScalerWrapper, DecisionTree\", \"run_properties\": \"<azureml.automl.runtime.shared.model_wrappers.StandardScalerWrapper object at 0x7f6800ee41d0\", \"primary_metric\": 0.15935935, \"best_metric\": 0.26360622}, {\"run_id\": \"AutoML_9ba9c968-0cd8-47da-bab6-ed21c6a09eaf_32\", \"run_number\": 34, \"metric\": null, \"status\": \"Completed\", \"run_type\": null, \"training_percent\": \"100\", \"start_time\": \"2021-01-14T18:05:42.304023Z\", \"end_time\": \"2021-01-14T18:06:27.619117Z\", \"created_time\": \"2021-01-14T18:05:42.172304Z\", \"created_time_dt\": \"2021-01-14T18:05:42.172304Z\", \"duration\": \"0:00:45\", \"iteration\": \"32\", \"goal\": \"r2_score_max\", \"run_name\": \"MinMaxScaler, RandomForest\", \"run_properties\": \"copy=True, feature_range=(0, 1\", \"primary_metric\": 0.23425003, \"best_metric\": 0.26360622}, {\"run_id\": \"AutoML_9ba9c968-0cd8-47da-bab6-ed21c6a09eaf_33\", \"run_number\": 35, \"metric\": null, \"status\": \"Completed\", \"run_type\": null, \"training_percent\": \"100\", \"start_time\": \"2021-01-14T18:06:29.201356Z\", \"end_time\": \"2021-01-14T18:07:12.850156Z\", \"created_time\": \"2021-01-14T18:06:29.087103Z\", \"created_time_dt\": \"2021-01-14T18:06:29.087103Z\", \"duration\": \"0:00:43\", \"iteration\": \"33\", \"goal\": \"r2_score_max\", \"run_name\": \"RobustScaler, ExtremeRandomTrees\", \"run_properties\": \"copy=True, quantile_range=[25, 75], with_centering=False,\\n             with_scaling=True\", \"primary_metric\": 0.20546106, \"best_metric\": 0.26360622}, {\"run_id\": \"AutoML_9ba9c968-0cd8-47da-bab6-ed21c6a09eaf_34\", \"run_number\": 36, \"metric\": null, \"status\": \"Completed\", \"run_type\": null, \"training_percent\": \"100\", \"start_time\": \"2021-01-14T18:07:14.868902Z\", \"end_time\": \"2021-01-14T18:07:46.339368Z\", \"created_time\": \"2021-01-14T18:07:14.557745Z\", \"created_time_dt\": \"2021-01-14T18:07:14.557745Z\", \"duration\": \"0:00:31\", \"iteration\": \"34\", \"goal\": \"r2_score_max\", \"run_name\": \"MaxAbsScaler, DecisionTree\", \"run_properties\": \"copy=True\", \"primary_metric\": 0.12079651, \"best_metric\": 0.26360622}, {\"run_id\": \"AutoML_9ba9c968-0cd8-47da-bab6-ed21c6a09eaf_35\", \"run_number\": 37, \"metric\": null, \"status\": \"Completed\", \"run_type\": null, \"training_percent\": \"100\", \"start_time\": \"2021-01-14T18:07:48.860757Z\", \"end_time\": \"2021-01-14T18:08:16.236128Z\", \"created_time\": \"2021-01-14T18:07:48.733103Z\", \"created_time_dt\": \"2021-01-14T18:07:48.733103Z\", \"duration\": \"0:00:27\", \"iteration\": \"35\", \"goal\": \"r2_score_max\", \"run_name\": \"TruncatedSVDWrapper, ElasticNet\", \"run_properties\": \"n_components=0.3563157894736842, random_state=None\", \"primary_metric\": -0.01316393, \"best_metric\": 0.26360622}, {\"run_id\": \"AutoML_9ba9c968-0cd8-47da-bab6-ed21c6a09eaf_36\", \"run_number\": 38, \"metric\": null, \"status\": \"Completed\", \"run_type\": null, \"training_percent\": \"100\", \"start_time\": \"2021-01-14T18:08:18.3929Z\", \"end_time\": \"2021-01-14T18:09:45.294972Z\", \"created_time\": \"2021-01-14T18:08:18.290584Z\", \"created_time_dt\": \"2021-01-14T18:08:18.290584Z\", \"duration\": \"0:01:27\", \"iteration\": \"36\", \"goal\": \"r2_score_max\", \"run_name\": \"SparseNormalizer, XGBoostRegressor\", \"run_properties\": \"<azureml.automl.runtime.shared.model_wrappers.SparseNormalizer object at 0x7f68c3c131d0\", \"primary_metric\": 0.24884467, \"best_metric\": 0.26360622}, {\"run_id\": \"AutoML_9ba9c968-0cd8-47da-bab6-ed21c6a09eaf_37\", \"run_number\": 39, \"metric\": null, \"status\": \"Completed\", \"run_type\": null, \"training_percent\": \"100\", \"start_time\": \"2021-01-14T18:09:47.48894Z\", \"end_time\": \"2021-01-14T18:10:25.658947Z\", \"created_time\": \"2021-01-14T18:09:47.366636Z\", \"created_time_dt\": \"2021-01-14T18:09:47.366636Z\", \"duration\": \"0:00:38\", \"iteration\": \"37\", \"goal\": \"r2_score_max\", \"run_name\": \"RobustScaler, RandomForest\", \"run_properties\": \"copy=True, quantile_range=[10, 90], with_centering=False,\\n             with_scaling=False\", \"primary_metric\": 0.25273514, \"best_metric\": 0.26360622}, {\"run_id\": \"AutoML_9ba9c968-0cd8-47da-bab6-ed21c6a09eaf_38\", \"run_number\": 40, \"metric\": null, \"status\": \"Completed\", \"run_type\": null, \"training_percent\": \"100\", \"start_time\": \"2021-01-14T18:10:27.30815Z\", \"end_time\": \"2021-01-14T18:11:09.530253Z\", \"created_time\": \"2021-01-14T18:10:27.199233Z\", \"created_time_dt\": \"2021-01-14T18:10:27.199233Z\", \"duration\": \"0:00:42\", \"iteration\": \"38\", \"goal\": \"r2_score_max\", \"run_name\": \"StandardScalerWrapper, RandomForest\", \"run_properties\": \"<azureml.automl.runtime.shared.model_wrappers.StandardScalerWrapper object at 0x7f67ffa6bda0\", \"primary_metric\": 0.23020412, \"best_metric\": 0.26360622}, {\"run_id\": \"AutoML_9ba9c968-0cd8-47da-bab6-ed21c6a09eaf_39\", \"run_number\": 41, \"metric\": null, \"status\": \"Completed\", \"run_type\": null, \"training_percent\": \"100\", \"start_time\": \"2021-01-14T18:11:11.508406Z\", \"end_time\": \"2021-01-14T18:11:45.760553Z\", \"created_time\": \"2021-01-14T18:11:11.19818Z\", \"created_time_dt\": \"2021-01-14T18:11:11.19818Z\", \"duration\": \"0:00:34\", \"iteration\": \"39\", \"goal\": \"r2_score_max\", \"run_name\": \"StandardScalerWrapper, ElasticNet\", \"run_properties\": \"<azureml.automl.runtime.shared.model_wrappers.StandardScalerWrapper object at 0x7f67ffbacb00\", \"primary_metric\": 0.26186333, \"best_metric\": 0.26360622}, {\"run_id\": \"AutoML_9ba9c968-0cd8-47da-bab6-ed21c6a09eaf_40\", \"run_number\": 42, \"metric\": null, \"status\": \"Completed\", \"run_type\": null, \"training_percent\": \"100\", \"start_time\": \"2021-01-14T18:11:48.704088Z\", \"end_time\": \"2021-01-14T18:12:18.65684Z\", \"created_time\": \"2021-01-14T18:11:48.423627Z\", \"created_time_dt\": \"2021-01-14T18:11:48.423627Z\", \"duration\": \"0:00:30\", \"iteration\": \"40\", \"goal\": \"r2_score_max\", \"run_name\": \"PCA, ElasticNet\", \"run_properties\": \"copy=True, iterated_power='auto', n_components=0.40578947368421053,\\n    random_state=None, svd_solver='auto', tol=0.0, whiten=False\", \"primary_metric\": 0.03873425, \"best_metric\": 0.26360622}, {\"run_id\": \"AutoML_9ba9c968-0cd8-47da-bab6-ed21c6a09eaf_41\", \"run_number\": 43, \"metric\": null, \"status\": \"Completed\", \"run_type\": null, \"training_percent\": \"100\", \"start_time\": \"2021-01-14T18:12:20.6205Z\", \"end_time\": \"2021-01-14T18:13:08.51437Z\", \"created_time\": \"2021-01-14T18:12:20.327924Z\", \"created_time_dt\": \"2021-01-14T18:12:20.327924Z\", \"duration\": \"0:00:48\", \"iteration\": \"41\", \"goal\": \"r2_score_max\", \"run_name\": \"RobustScaler, RandomForest\", \"run_properties\": \"copy=True, quantile_range=[25, 75], with_centering=True,\\n             with_scaling=True\", \"primary_metric\": 0.25986226, \"best_metric\": 0.26360622}, {\"run_id\": \"AutoML_9ba9c968-0cd8-47da-bab6-ed21c6a09eaf_42\", \"run_number\": 44, \"metric\": null, \"status\": \"Completed\", \"run_type\": null, \"training_percent\": \"100\", \"start_time\": \"2021-01-14T18:13:10.592705Z\", \"end_time\": \"2021-01-14T18:13:54.411967Z\", \"created_time\": \"2021-01-14T18:13:10.292323Z\", \"created_time_dt\": \"2021-01-14T18:13:10.292323Z\", \"duration\": \"0:00:44\", \"iteration\": \"42\", \"goal\": \"r2_score_max\", \"run_name\": \"MinMaxScaler, RandomForest\", \"run_properties\": \"copy=True, feature_range=(0, 1\", \"primary_metric\": 0.19308753, \"best_metric\": 0.26360622}, {\"run_id\": \"AutoML_9ba9c968-0cd8-47da-bab6-ed21c6a09eaf_43\", \"run_number\": 45, \"metric\": null, \"status\": \"Completed\", \"run_type\": null, \"training_percent\": \"100\", \"start_time\": \"2021-01-14T18:13:56.377777Z\", \"end_time\": \"2021-01-14T18:14:34.91821Z\", \"created_time\": \"2021-01-14T18:13:56.091839Z\", \"created_time_dt\": \"2021-01-14T18:13:56.091839Z\", \"duration\": \"0:00:38\", \"iteration\": \"43\", \"goal\": \"r2_score_max\", \"run_name\": \"MaxAbsScaler, ExtremeRandomTrees\", \"run_properties\": \"copy=True\", \"primary_metric\": 0.21301403, \"best_metric\": 0.26360622}, {\"run_id\": \"AutoML_9ba9c968-0cd8-47da-bab6-ed21c6a09eaf_44\", \"run_number\": 46, \"metric\": null, \"status\": \"Completed\", \"run_type\": null, \"training_percent\": \"100\", \"start_time\": \"2021-01-14T18:14:36.76471Z\", \"end_time\": \"2021-01-14T18:15:04.764651Z\", \"created_time\": \"2021-01-14T18:14:36.482868Z\", \"created_time_dt\": \"2021-01-14T18:14:36.482868Z\", \"duration\": \"0:00:28\", \"iteration\": \"44\", \"goal\": \"r2_score_max\", \"run_name\": \"MinMaxScaler, LightGBM\", \"run_properties\": \"copy=True, feature_range=(0, 1\", \"primary_metric\": 0.23448816, \"best_metric\": 0.26360622}, {\"run_id\": \"AutoML_9ba9c968-0cd8-47da-bab6-ed21c6a09eaf_45\", \"run_number\": 47, \"metric\": null, \"status\": \"Completed\", \"run_type\": null, \"training_percent\": \"100\", \"start_time\": \"2021-01-14T18:15:07.207021Z\", \"end_time\": \"2021-01-14T18:15:40.778223Z\", \"created_time\": \"2021-01-14T18:15:07.108952Z\", \"created_time_dt\": \"2021-01-14T18:15:07.108952Z\", \"duration\": \"0:00:33\", \"iteration\": \"45\", \"goal\": \"r2_score_max\", \"run_name\": \"RobustScaler, ElasticNet\", \"run_properties\": \"copy=True, quantile_range=[25, 75], with_centering=False,\\n             with_scaling=False\", \"primary_metric\": 0.04081537, \"best_metric\": 0.26360622}, {\"run_id\": \"AutoML_9ba9c968-0cd8-47da-bab6-ed21c6a09eaf_46\", \"run_number\": 48, \"metric\": null, \"status\": \"Completed\", \"run_type\": null, \"training_percent\": \"100\", \"start_time\": \"2021-01-14T18:15:42.700509Z\", \"end_time\": \"2021-01-14T18:16:12.219392Z\", \"created_time\": \"2021-01-14T18:15:42.432505Z\", \"created_time_dt\": \"2021-01-14T18:15:42.432505Z\", \"duration\": \"0:00:29\", \"iteration\": \"46\", \"goal\": \"r2_score_max\", \"run_name\": \"MinMaxScaler, ExtremeRandomTrees\", \"run_properties\": \"copy=True, feature_range=(0, 1\", \"primary_metric\": 0.20137684, \"best_metric\": 0.26360622}, {\"run_id\": \"AutoML_9ba9c968-0cd8-47da-bab6-ed21c6a09eaf_47\", \"run_number\": 49, \"metric\": null, \"status\": \"Completed\", \"run_type\": null, \"training_percent\": \"100\", \"start_time\": \"2021-01-14T18:16:14.193709Z\", \"end_time\": \"2021-01-14T18:16:47.425283Z\", \"created_time\": \"2021-01-14T18:16:13.877648Z\", \"created_time_dt\": \"2021-01-14T18:16:13.877648Z\", \"duration\": \"0:00:33\", \"iteration\": \"47\", \"goal\": \"r2_score_max\", \"run_name\": \"MinMaxScaler, ExtremeRandomTrees\", \"run_properties\": \"copy=True, feature_range=(0, 1\", \"primary_metric\": 0.22267712, \"best_metric\": 0.26360622}, {\"run_id\": \"AutoML_9ba9c968-0cd8-47da-bab6-ed21c6a09eaf_48\", \"run_number\": 50, \"metric\": null, \"status\": \"Completed\", \"run_type\": null, \"training_percent\": \"100\", \"start_time\": \"2021-01-14T18:16:50.075726Z\", \"end_time\": \"2021-01-14T18:17:35.401546Z\", \"created_time\": \"2021-01-14T18:16:49.681154Z\", \"created_time_dt\": \"2021-01-14T18:16:49.681154Z\", \"duration\": \"0:00:45\", \"iteration\": \"48\", \"goal\": \"r2_score_max\", \"run_name\": \"MinMaxScaler, ExtremeRandomTrees\", \"run_properties\": \"copy=True, feature_range=(0, 1\", \"primary_metric\": 0.203344, \"best_metric\": 0.26360622}, {\"run_id\": \"AutoML_9ba9c968-0cd8-47da-bab6-ed21c6a09eaf_49\", \"run_number\": 51, \"metric\": null, \"status\": \"Completed\", \"run_type\": null, \"training_percent\": \"100\", \"start_time\": \"2021-01-14T18:17:35.787409Z\", \"end_time\": \"2021-01-14T18:18:55.591077Z\", \"created_time\": \"2021-01-14T18:17:35.692576Z\", \"created_time_dt\": \"2021-01-14T18:17:35.692576Z\", \"duration\": \"0:01:19\", \"iteration\": \"49\", \"goal\": \"r2_score_max\", \"run_name\": \"VotingEnsemble\", \"run_properties\": \"estimators=[('20',\\n                                          Pipeline(memory=None,\\n                                                   steps=[('robustscaler',\\n                                                           RobustScaler(copy=True,\\n                                                                        quantile_range=[10,\\n                                                                                        90],\\n                                                                        with_centering=True,\\n                                                                        with_scaling=False\", \"primary_metric\": 0.29968586, \"best_metric\": 0.29968586}, {\"run_id\": \"AutoML_9ba9c968-0cd8-47da-bab6-ed21c6a09eaf_50\", \"run_number\": 52, \"metric\": null, \"status\": \"Completed\", \"run_type\": null, \"training_percent\": \"100\", \"start_time\": \"2021-01-14T18:18:56.665138Z\", \"end_time\": \"2021-01-14T18:20:21.901412Z\", \"created_time\": \"2021-01-14T18:18:56.373849Z\", \"created_time_dt\": \"2021-01-14T18:18:56.373849Z\", \"duration\": \"0:01:25\", \"iteration\": \"50\", \"goal\": \"r2_score_max\", \"run_name\": \"StackEnsemble\", \"run_properties\": \"base_learners=[('20',\\n                                       Pipeline(memory=None,\\n                                                steps=[('robustscaler',\\n                                                        RobustScaler(copy=True,\\n                                                                     quantile_range=[10,\\n                                                                                     90],\\n                                                                     with_centering=True,\\n                                                                     with_scaling=False\", \"primary_metric\": 0.29167758, \"best_metric\": 0.29968586}], \"children_metrics\": {\"categories\": [0], \"series\": {\"spearman_correlation\": [{\"categories\": [\"0\", \"1\", \"2\", \"3\", \"4\", \"5\", \"6\", \"7\", \"8\", \"9\", \"10\", \"11\", \"12\", \"13\", \"14\", \"15\", \"16\", \"17\", \"18\", \"19\", \"20\", \"21\", \"22\", \"23\", \"24\", \"25\", \"26\", \"27\", \"28\", \"29\", \"30\", \"31\", \"32\", \"33\", \"34\", \"35\", \"36\", \"37\", \"38\", \"39\", \"40\", \"41\", \"42\", \"43\", \"44\", \"45\", \"46\", \"47\", \"48\", \"49\", \"50\"], \"mode\": \"markers\", \"name\": \"spearman_correlation\", \"stepped\": false, \"type\": \"scatter\", \"data\": [0.5213578182326788, 0.5377586281129734, 0.5246877328828383, 0.5401750874938968, 0.5087947655151356, 0.5451188389084983, 0.5186532728354427, 0.5359007688029378, 0.5384441796983086, 0.5443268063494464, 0.5506907001936213, 0.5395945661978637, 0.5294958874314082, 0.54523004566057, 0.5147771629294007, 0.45123587740060145, 0.5384212508107792, 0.5453375564547392, 0.42932385899275277, 0.5299384338118454, 0.5455542631803996, 0.5464000424596538, 0.5149343309358219, 0.533907849677324, 0.5119610597842565, 0.3987399703445769, 0.44754944303421257, 0.519355009808353, 0.5442863140985125, 0.5396272828828217, 0.538611817383256, 0.4645422095496299, 0.5425197149234651, 0.5060565394360136, 0.45445048028800994, 0.37514256139192836, 0.5371674127971368, 0.5319723582453999, 0.5362560067242954, 0.5450506983374693, 0.2544130674320138, 0.5439892178819337, 0.5146587264347451, 0.5188414235955199, 0.5197134855309271, 0.4169244996515338, 0.5066794567928758, 0.5190485774046198, 0.4986375652062508, 0.5712441670827657, 0.5683206521026342]}, {\"categories\": [\"0\", \"1\", \"2\", \"3\", \"4\", \"5\", \"6\", \"7\", \"8\", \"9\", \"10\", \"11\", \"12\", \"13\", \"14\", \"15\", \"16\", \"17\", \"18\", \"19\", \"20\", \"21\", \"22\", \"23\", \"24\", \"25\", \"26\", \"27\", \"28\", \"29\", \"30\", \"31\", \"32\", \"33\", \"34\", \"35\", \"36\", \"37\", \"38\", \"39\", \"40\", \"41\", \"42\", \"43\", \"44\", \"45\", \"46\", \"47\", \"48\", \"49\", \"50\"], \"mode\": \"lines\", \"name\": \"spearman_correlation_max\", \"stepped\": true, \"type\": \"scatter\", \"data\": [0.5213578182326788, 0.5377586281129734, 0.5377586281129734, 0.5401750874938968, 0.5401750874938968, 0.5451188389084983, 0.5451188389084983, 0.5451188389084983, 0.5451188389084983, 0.5451188389084983, 0.5506907001936213, 0.5506907001936213, 0.5506907001936213, 0.5506907001936213, 0.5506907001936213, 0.5506907001936213, 0.5506907001936213, 0.5506907001936213, 0.5506907001936213, 0.5506907001936213, 0.5506907001936213, 0.5506907001936213, 0.5506907001936213, 0.5506907001936213, 0.5506907001936213, 0.5506907001936213, 0.5506907001936213, 0.5506907001936213, 0.5506907001936213, 0.5506907001936213, 0.5506907001936213, 0.5506907001936213, 0.5506907001936213, 0.5506907001936213, 0.5506907001936213, 0.5506907001936213, 0.5506907001936213, 0.5506907001936213, 0.5506907001936213, 0.5506907001936213, 0.5506907001936213, 0.5506907001936213, 0.5506907001936213, 0.5506907001936213, 0.5506907001936213, 0.5506907001936213, 0.5506907001936213, 0.5506907001936213, 0.5506907001936213, 0.5712441670827657, 0.5712441670827657]}], \"median_absolute_error\": [{\"categories\": [\"0\", \"1\", \"2\", \"3\", \"4\", \"5\", \"6\", \"7\", \"8\", \"9\", \"10\", \"11\", \"12\", \"13\", \"14\", \"15\", \"16\", \"17\", \"18\", \"19\", \"20\", \"21\", \"22\", \"23\", \"24\", \"25\", \"26\", \"27\", \"28\", \"29\", \"30\", \"31\", \"32\", \"33\", \"34\", \"35\", \"36\", \"37\", \"38\", \"39\", \"40\", \"41\", \"42\", \"43\", \"44\", \"45\", \"46\", \"47\", \"48\", \"49\", \"50\"], \"mode\": \"markers\", \"name\": \"median_absolute_error\", \"stepped\": false, \"type\": \"scatter\", \"data\": [15.50672951655883, 15.338651275634765, 15.40361852645874, 15.779014146204574, 15.6931734085083, 15.370211249619135, 16.084366136927947, 15.199778175354004, 15.046829337329338, 15.211558664483539, 15.585244486704756, 15.984769377661786, 14.379214668273926, 15.372650248856274, 15.390962301587303, 17.26175429645342, 15.17695943190796, 15.28221137964631, 17.339954689020978, 15.745485552913248, 15.238509213912229, 16.143445432941622, 15.700765060715009, 15.356858730316162, 16.569875721718557, 19.245493024644784, 16.760809289156686, 16.00029039333241, 15.390304946899414, 14.2, 16.121738718293418, 16.347231563710768, 16.37805305208456, 16.586137524287935, 16.62361888842152, 21.329362592009467, 15.842091178894043, 15.357469235834936, 16.25202251777355, 15.31371677300714, 20.23945427223224, 15.570110282669734, 14.485, 14.3, 16.21270605737351, 20.18893925265484, 16.6773945732561, 15.952506616258114, 16.579495245762693, 14.349542948899401, 14.6222991577911]}, {\"categories\": [\"0\", \"1\", \"2\", \"3\", \"4\", \"5\", \"6\", \"7\", \"8\", \"9\", \"10\", \"11\", \"12\", \"13\", \"14\", \"15\", \"16\", \"17\", \"18\", \"19\", \"20\", \"21\", \"22\", \"23\", \"24\", \"25\", \"26\", \"27\", \"28\", \"29\", \"30\", \"31\", \"32\", \"33\", \"34\", \"35\", \"36\", \"37\", \"38\", \"39\", \"40\", \"41\", \"42\", \"43\", \"44\", \"45\", \"46\", \"47\", \"48\", \"49\", \"50\"], \"mode\": \"lines\", \"name\": \"median_absolute_error_min\", \"stepped\": true, \"type\": \"scatter\", \"data\": [15.50672951655883, 15.338651275634765, 15.338651275634765, 15.338651275634765, 15.338651275634765, 15.338651275634765, 15.338651275634765, 15.199778175354004, 15.046829337329338, 15.046829337329338, 15.046829337329338, 15.046829337329338, 14.379214668273926, 14.379214668273926, 14.379214668273926, 14.379214668273926, 14.379214668273926, 14.379214668273926, 14.379214668273926, 14.379214668273926, 14.379214668273926, 14.379214668273926, 14.379214668273926, 14.379214668273926, 14.379214668273926, 14.379214668273926, 14.379214668273926, 14.379214668273926, 14.379214668273926, 14.2, 14.2, 14.2, 14.2, 14.2, 14.2, 14.2, 14.2, 14.2, 14.2, 14.2, 14.2, 14.2, 14.2, 14.2, 14.2, 14.2, 14.2, 14.2, 14.2, 14.2, 14.2]}], \"mean_absolute_error\": [{\"categories\": [\"0\", \"1\", \"2\", \"3\", \"4\", \"5\", \"6\", \"7\", \"8\", \"9\", \"10\", \"11\", \"12\", \"13\", \"14\", \"15\", \"16\", \"17\", \"18\", \"19\", \"20\", \"21\", \"22\", \"23\", \"24\", \"25\", \"26\", \"27\", \"28\", \"29\", \"30\", \"31\", \"32\", \"33\", \"34\", \"35\", \"36\", \"37\", \"38\", \"39\", \"40\", \"41\", \"42\", \"43\", \"44\", \"45\", \"46\", \"47\", \"48\", \"49\", \"50\"], \"mode\": \"markers\", \"name\": \"mean_absolute_error\", \"stepped\": false, \"type\": \"scatter\", \"data\": [21.626907061408463, 21.139308258717637, 21.786244913380795, 21.053220176022442, 22.448867709945326, 21.098989491500866, 21.35501426403213, 21.683381931476337, 21.012698275325302, 21.05484304980947, 20.98684031354435, 21.341611743115074, 20.654219131845352, 21.09991841461686, 21.48516362560853, 22.745550654162273, 21.04682443464399, 21.0720331914927, 22.775608196569785, 21.263677516863993, 21.046472667338367, 21.29847289095604, 22.007831553357768, 21.248913056909085, 21.778438201337035, 24.258945197484827, 23.105011813157038, 21.62434747176003, 20.824630131370874, 20.555936617824976, 21.43778963657565, 22.577582357598722, 21.485127141578193, 22.083062718107396, 23.085415247959308, 25.841323485553424, 21.2026389953061, 20.99952827318858, 21.522180647853467, 21.092724051449675, 25.13256086634688, 20.87280730603438, 20.979529170587444, 20.720547116547927, 21.419790501979897, 24.998771668536826, 22.10640026783652, 21.72676994983058, 22.02286275325129, 20.13272109844825, 20.39679845818471]}, {\"categories\": [\"0\", \"1\", \"2\", \"3\", \"4\", \"5\", \"6\", \"7\", \"8\", \"9\", \"10\", \"11\", \"12\", \"13\", \"14\", \"15\", \"16\", \"17\", \"18\", \"19\", \"20\", \"21\", \"22\", \"23\", \"24\", \"25\", \"26\", \"27\", \"28\", \"29\", \"30\", \"31\", \"32\", \"33\", \"34\", \"35\", \"36\", \"37\", \"38\", \"39\", \"40\", \"41\", \"42\", \"43\", \"44\", \"45\", \"46\", \"47\", \"48\", \"49\", \"50\"], \"mode\": \"lines\", \"name\": \"mean_absolute_error_min\", \"stepped\": true, \"type\": \"scatter\", \"data\": [21.626907061408463, 21.139308258717637, 21.139308258717637, 21.053220176022442, 21.053220176022442, 21.053220176022442, 21.053220176022442, 21.053220176022442, 21.012698275325302, 21.012698275325302, 20.98684031354435, 20.98684031354435, 20.654219131845352, 20.654219131845352, 20.654219131845352, 20.654219131845352, 20.654219131845352, 20.654219131845352, 20.654219131845352, 20.654219131845352, 20.654219131845352, 20.654219131845352, 20.654219131845352, 20.654219131845352, 20.654219131845352, 20.654219131845352, 20.654219131845352, 20.654219131845352, 20.654219131845352, 20.555936617824976, 20.555936617824976, 20.555936617824976, 20.555936617824976, 20.555936617824976, 20.555936617824976, 20.555936617824976, 20.555936617824976, 20.555936617824976, 20.555936617824976, 20.555936617824976, 20.555936617824976, 20.555936617824976, 20.555936617824976, 20.555936617824976, 20.555936617824976, 20.555936617824976, 20.555936617824976, 20.555936617824976, 20.555936617824976, 20.13272109844825, 20.13272109844825]}], \"normalized_root_mean_squared_log_error\": [{\"categories\": [\"0\", \"1\", \"2\", \"3\", \"4\", \"5\", \"6\", \"7\", \"8\", \"9\", \"10\", \"11\", \"12\", \"13\", \"14\", \"15\", \"16\", \"17\", \"18\", \"19\", \"20\", \"21\", \"22\", \"23\", \"24\", \"25\", \"26\", \"27\", \"28\", \"29\", \"30\", \"31\", \"32\", \"33\", \"34\", \"35\", \"36\", \"37\", \"38\", \"39\", \"40\", \"41\", \"42\", \"43\", \"44\", \"45\", \"46\", \"47\", \"48\", \"49\", \"50\"], \"mode\": \"markers\", \"name\": \"normalized_root_mean_squared_log_error\", \"stepped\": false, \"type\": \"scatter\", \"data\": [0.12079325709051099, 0.11787195904182693, 0.11971742811464851, 0.11829297358741289, 0.12194002649345562, 0.12086643906283526, 0.11978482544112949, 0.11878097407715102, 0.1173996435174847, 0.12006478207271744, 0.1180707663964767, 0.11986447878468902, 0.11523597516689599, 0.12088684237311362, 0.12000307231537474, 0.12704047561084048, 0.1176768144010418, 0.12030716794508563, 0.12777956757498146, 0.1189162701897843, 0.11975237398852016, 0.12001491873376127, 0.12257462270675756, 0.11807794414773587, 0.12241546241112036, 0.1339515058988742, 0.1262009479546648, 0.1211160973234126, 0.11602083302672539, 0.11611800169126665, 0.12115468324168188, 0.12439440028274981, 0.12115828974691387, 0.12386348006970722, 0.12605202628837606, 0.1417155582245338, 0.11845943609655599, 0.11795210027998466, 0.12135528444889146, 0.12075428862349484, 0.13727170594661242, 0.11765560881303139, 0.11703280255266642, 0.11663162572201738, 0.12049572346884892, 0.13776334096592163, 0.12398149865305827, 0.12183393855793256, 0.12365319175904685, 0.11379986351340912, 0.11516429406522674]}, {\"categories\": [\"0\", \"1\", \"2\", \"3\", \"4\", \"5\", \"6\", \"7\", \"8\", \"9\", \"10\", \"11\", \"12\", \"13\", \"14\", \"15\", \"16\", \"17\", \"18\", \"19\", \"20\", \"21\", \"22\", \"23\", \"24\", \"25\", \"26\", \"27\", \"28\", \"29\", \"30\", \"31\", \"32\", \"33\", \"34\", \"35\", \"36\", \"37\", \"38\", \"39\", \"40\", \"41\", \"42\", \"43\", \"44\", \"45\", \"46\", \"47\", \"48\", \"49\", \"50\"], \"mode\": \"lines\", \"name\": \"normalized_root_mean_squared_log_error_min\", \"stepped\": true, \"type\": \"scatter\", \"data\": [0.12079325709051099, 0.11787195904182693, 0.11787195904182693, 0.11787195904182693, 0.11787195904182693, 0.11787195904182693, 0.11787195904182693, 0.11787195904182693, 0.1173996435174847, 0.1173996435174847, 0.1173996435174847, 0.1173996435174847, 0.11523597516689599, 0.11523597516689599, 0.11523597516689599, 0.11523597516689599, 0.11523597516689599, 0.11523597516689599, 0.11523597516689599, 0.11523597516689599, 0.11523597516689599, 0.11523597516689599, 0.11523597516689599, 0.11523597516689599, 0.11523597516689599, 0.11523597516689599, 0.11523597516689599, 0.11523597516689599, 0.11523597516689599, 0.11523597516689599, 0.11523597516689599, 0.11523597516689599, 0.11523597516689599, 0.11523597516689599, 0.11523597516689599, 0.11523597516689599, 0.11523597516689599, 0.11523597516689599, 0.11523597516689599, 0.11523597516689599, 0.11523597516689599, 0.11523597516689599, 0.11523597516689599, 0.11523597516689599, 0.11523597516689599, 0.11523597516689599, 0.11523597516689599, 0.11523597516689599, 0.11523597516689599, 0.11379986351340912, 0.11379986351340912]}], \"normalized_root_mean_squared_error\": [{\"categories\": [\"0\", \"1\", \"2\", \"3\", \"4\", \"5\", \"6\", \"7\", \"8\", \"9\", \"10\", \"11\", \"12\", \"13\", \"14\", \"15\", \"16\", \"17\", \"18\", \"19\", \"20\", \"21\", \"22\", \"23\", \"24\", \"25\", \"26\", \"27\", \"28\", \"29\", \"30\", \"31\", \"32\", \"33\", \"34\", \"35\", \"36\", \"37\", \"38\", \"39\", \"40\", \"41\", \"42\", \"43\", \"44\", \"45\", \"46\", \"47\", \"48\", \"49\", \"50\"], \"mode\": \"markers\", \"name\": \"normalized_root_mean_squared_error\", \"stepped\": false, \"type\": \"scatter\", \"data\": [0.07773580458601255, 0.07686052299516077, 0.07929967536752533, 0.0762012751730207, 0.08150393566199529, 0.075720650106506, 0.07730986547563792, 0.07916790834284075, 0.07634981724692294, 0.07566665659705006, 0.07597511215747722, 0.07674579204298126, 0.07724150073046088, 0.07572221731690423, 0.07781727067472427, 0.0804510380716523, 0.07643674674792955, 0.07567356801553825, 0.08065837648999859, 0.07676517314288338, 0.07563601423761493, 0.07664353573899914, 0.07952763171596063, 0.07776230126757751, 0.07818197005747314, 0.08413854548250901, 0.08204761354087776, 0.07771394702582095, 0.07594162956586806, 0.07673283425971841, 0.07674193967384671, 0.0805797036010787, 0.077212973015, 0.07865520248263498, 0.08228129450534052, 0.0885232878422839, 0.07640187516753619, 0.07623607345826355, 0.07739825207477181, 0.07570918414173299, 0.0863281640468999, 0.07587419199961745, 0.07922594522820432, 0.07834866555391481, 0.07714242249564934, 0.08620887492275267, 0.07886336693164872, 0.07781243275209089, 0.07872899245959515, 0.07386710599208025, 0.07423948706640224]}, {\"categories\": [\"0\", \"1\", \"2\", \"3\", \"4\", \"5\", \"6\", \"7\", \"8\", \"9\", \"10\", \"11\", \"12\", \"13\", \"14\", \"15\", \"16\", \"17\", \"18\", \"19\", \"20\", \"21\", \"22\", \"23\", \"24\", \"25\", \"26\", \"27\", \"28\", \"29\", \"30\", \"31\", \"32\", \"33\", \"34\", \"35\", \"36\", \"37\", \"38\", \"39\", \"40\", \"41\", \"42\", \"43\", \"44\", \"45\", \"46\", \"47\", \"48\", \"49\", \"50\"], \"mode\": \"lines\", \"name\": \"normalized_root_mean_squared_error_min\", \"stepped\": true, \"type\": \"scatter\", \"data\": [0.07773580458601255, 0.07686052299516077, 0.07686052299516077, 0.0762012751730207, 0.0762012751730207, 0.075720650106506, 0.075720650106506, 0.075720650106506, 0.075720650106506, 0.07566665659705006, 0.07566665659705006, 0.07566665659705006, 0.07566665659705006, 0.07566665659705006, 0.07566665659705006, 0.07566665659705006, 0.07566665659705006, 0.07566665659705006, 0.07566665659705006, 0.07566665659705006, 0.07563601423761493, 0.07563601423761493, 0.07563601423761493, 0.07563601423761493, 0.07563601423761493, 0.07563601423761493, 0.07563601423761493, 0.07563601423761493, 0.07563601423761493, 0.07563601423761493, 0.07563601423761493, 0.07563601423761493, 0.07563601423761493, 0.07563601423761493, 0.07563601423761493, 0.07563601423761493, 0.07563601423761493, 0.07563601423761493, 0.07563601423761493, 0.07563601423761493, 0.07563601423761493, 0.07563601423761493, 0.07563601423761493, 0.07563601423761493, 0.07563601423761493, 0.07563601423761493, 0.07563601423761493, 0.07563601423761493, 0.07563601423761493, 0.07386710599208025, 0.07386710599208025]}], \"r2_score\": [{\"categories\": [\"0\", \"1\", \"2\", \"3\", \"4\", \"5\", \"6\", \"7\", \"8\", \"9\", \"10\", \"11\", \"12\", \"13\", \"14\", \"15\", \"16\", \"17\", \"18\", \"19\", \"20\", \"21\", \"22\", \"23\", \"24\", \"25\", \"26\", \"27\", \"28\", \"29\", \"30\", \"31\", \"32\", \"33\", \"34\", \"35\", \"36\", \"37\", \"38\", \"39\", \"40\", \"41\", \"42\", \"43\", \"44\", \"45\", \"46\", \"47\", \"48\", \"49\", \"50\"], \"mode\": \"markers\", \"name\": \"r2_score\", \"stepped\": false, \"type\": \"scatter\", \"data\": [0.21801416616928684, 0.23880630961878307, 0.18773319636052496, 0.2533603675792557, 0.14344612226131231, 0.26161025035899055, 0.23024476033941563, 0.18947389120144112, 0.25071810320014665, 0.26293936883036334, 0.25884734410764837, 0.2437164245990347, 0.23525593989260835, 0.2615680947704553, 0.2212801654233373, 0.1665749208819521, 0.24915199458205012, 0.26268168236684847, 0.16184248361632778, 0.24246478425661744, 0.2636062165278422, 0.2456004370699353, 0.18164206391022206, 0.22026162753262798, 0.2135182051789454, 0.08759437583472013, 0.12866817607299547, 0.22463703170513227, 0.2578457838501334, 0.24707344741149226, 0.2434864875627655, 0.15935934864285328, 0.23425002769070388, 0.20546105891086527, 0.12079651065577487, -0.01316392983439434, 0.2488446706100848, 0.25273514440911493, 0.23020412404124055, 0.2618633342868929, 0.03873424739319352, 0.25986226495744347, 0.19308752611815372, 0.21301403026712745, 0.2344881578490921, 0.04081536567937853, 0.20137684101055164, 0.22267712095315967, 0.20334399875685422, 0.29968586244707285, 0.29167758022534007]}, {\"categories\": [\"0\", \"1\", \"2\", \"3\", \"4\", \"5\", \"6\", \"7\", \"8\", \"9\", \"10\", \"11\", \"12\", \"13\", \"14\", \"15\", \"16\", \"17\", \"18\", \"19\", \"20\", \"21\", \"22\", \"23\", \"24\", \"25\", \"26\", \"27\", \"28\", \"29\", \"30\", \"31\", \"32\", \"33\", \"34\", \"35\", \"36\", \"37\", \"38\", \"39\", \"40\", \"41\", \"42\", \"43\", \"44\", \"45\", \"46\", \"47\", \"48\", \"49\", \"50\"], \"mode\": \"lines\", \"name\": \"r2_score_max\", \"stepped\": true, \"type\": \"scatter\", \"data\": [0.21801416616928684, 0.23880630961878307, 0.23880630961878307, 0.2533603675792557, 0.2533603675792557, 0.26161025035899055, 0.26161025035899055, 0.26161025035899055, 0.26161025035899055, 0.26293936883036334, 0.26293936883036334, 0.26293936883036334, 0.26293936883036334, 0.26293936883036334, 0.26293936883036334, 0.26293936883036334, 0.26293936883036334, 0.26293936883036334, 0.26293936883036334, 0.26293936883036334, 0.2636062165278422, 0.2636062165278422, 0.2636062165278422, 0.2636062165278422, 0.2636062165278422, 0.2636062165278422, 0.2636062165278422, 0.2636062165278422, 0.2636062165278422, 0.2636062165278422, 0.2636062165278422, 0.2636062165278422, 0.2636062165278422, 0.2636062165278422, 0.2636062165278422, 0.2636062165278422, 0.2636062165278422, 0.2636062165278422, 0.2636062165278422, 0.2636062165278422, 0.2636062165278422, 0.2636062165278422, 0.2636062165278422, 0.2636062165278422, 0.2636062165278422, 0.2636062165278422, 0.2636062165278422, 0.2636062165278422, 0.2636062165278422, 0.29968586244707285, 0.29968586244707285]}], \"mean_absolute_percentage_error\": [{\"categories\": [\"0\", \"1\", \"2\", \"3\", \"4\", \"5\", \"6\", \"7\", \"8\", \"9\", \"10\", \"11\", \"12\", \"13\", \"14\", \"15\", \"16\", \"17\", \"18\", \"19\", \"20\", \"21\", \"22\", \"23\", \"24\", \"25\", \"26\", \"27\", \"28\", \"29\", \"30\", \"31\", \"32\", \"33\", \"34\", \"35\", \"36\", \"37\", \"38\", \"39\", \"40\", \"41\", \"42\", \"43\", \"44\", \"45\", \"46\", \"47\", \"48\", \"49\", \"50\"], \"mode\": \"markers\", \"name\": \"mean_absolute_percentage_error\", \"stepped\": false, \"type\": \"scatter\", \"data\": [50.32030012204633, 50.30912749882404, 50.24568066658676, 50.967050514498325, 51.53440715917518, 50.3453806500077, 51.45657664287309, 50.16239591592039, 49.892487352409034, 50.37292571557408, 51.14467635290619, 52.38461148517879, 45.035790772380615, 50.345576787248106, 51.01589284013478, 56.87904579373527, 50.26570862646369, 50.333569043472586, 57.03702303379697, 50.86394224089547, 50.33013338630396, 52.560457581459524, 50.78438692702279, 49.65252340223321, 53.61733614435202, 61.8139245954329, 53.46846945002019, 52.99565548530874, 48.68017890046217, 46.0817339918108, 53.13863450062179, 53.41130929506693, 53.35592348315604, 54.99935448986044, 53.51178990774262, 66.47533166681234, 51.22291346485431, 50.391709922358395, 53.33809387618736, 50.34189277892055, 63.77343592881891, 50.42590097843549, 45.51498429532447, 45.64864360153284, 52.24953096770969, 64.15891134125401, 54.94273560911847, 53.661260408005546, 54.70521716444555, 47.335726673216236, 48.65630860162708]}, {\"categories\": [\"0\", \"1\", \"2\", \"3\", \"4\", \"5\", \"6\", \"7\", \"8\", \"9\", \"10\", \"11\", \"12\", \"13\", \"14\", \"15\", \"16\", \"17\", \"18\", \"19\", \"20\", \"21\", \"22\", \"23\", \"24\", \"25\", \"26\", \"27\", \"28\", \"29\", \"30\", \"31\", \"32\", \"33\", \"34\", \"35\", \"36\", \"37\", \"38\", \"39\", \"40\", \"41\", \"42\", \"43\", \"44\", \"45\", \"46\", \"47\", \"48\", \"49\", \"50\"], \"mode\": \"lines\", \"name\": \"mean_absolute_percentage_error_min\", \"stepped\": true, \"type\": \"scatter\", \"data\": [50.32030012204633, 50.30912749882404, 50.24568066658676, 50.24568066658676, 50.24568066658676, 50.24568066658676, 50.24568066658676, 50.16239591592039, 49.892487352409034, 49.892487352409034, 49.892487352409034, 49.892487352409034, 45.035790772380615, 45.035790772380615, 45.035790772380615, 45.035790772380615, 45.035790772380615, 45.035790772380615, 45.035790772380615, 45.035790772380615, 45.035790772380615, 45.035790772380615, 45.035790772380615, 45.035790772380615, 45.035790772380615, 45.035790772380615, 45.035790772380615, 45.035790772380615, 45.035790772380615, 45.035790772380615, 45.035790772380615, 45.035790772380615, 45.035790772380615, 45.035790772380615, 45.035790772380615, 45.035790772380615, 45.035790772380615, 45.035790772380615, 45.035790772380615, 45.035790772380615, 45.035790772380615, 45.035790772380615, 45.035790772380615, 45.035790772380615, 45.035790772380615, 45.035790772380615, 45.035790772380615, 45.035790772380615, 45.035790772380615, 45.035790772380615, 45.035790772380615]}], \"normalized_mean_absolute_error\": [{\"categories\": [\"0\", \"1\", \"2\", \"3\", \"4\", \"5\", \"6\", \"7\", \"8\", \"9\", \"10\", \"11\", \"12\", \"13\", \"14\", \"15\", \"16\", \"17\", \"18\", \"19\", \"20\", \"21\", \"22\", \"23\", \"24\", \"25\", \"26\", \"27\", \"28\", \"29\", \"30\", \"31\", \"32\", \"33\", \"34\", \"35\", \"36\", \"37\", \"38\", \"39\", \"40\", \"41\", \"42\", \"43\", \"44\", \"45\", \"46\", \"47\", \"48\", \"49\", \"50\"], \"mode\": \"markers\", \"name\": \"normalized_mean_absolute_error\", \"stepped\": false, \"type\": \"scatter\", \"data\": [0.05274855380831332, 0.051559288435896675, 0.053137182715562926, 0.05134931750249375, 0.054753335877915435, 0.05146094997927041, 0.052085400643980796, 0.05288629739384472, 0.05125048359835439, 0.05135327573124262, 0.05118741539888867, 0.05205271156857335, 0.050376144224013056, 0.05146321564540698, 0.052402838111240316, 0.055476952815029935, 0.05133371813327803, 0.051395202906079754, 0.05555026389407264, 0.05186262808991217, 0.05133286016423992, 0.05194749485599035, 0.05367763793501895, 0.05182661721197337, 0.05311814195448057, 0.05916815901825569, 0.05635368734916352, 0.05274231090673178, 0.050791780808221644, 0.05013643077518286, 0.05228729179652599, 0.055067274042923706, 0.05240274912580047, 0.05386112858074975, 0.05630589084868123, 0.06302761825744738, 0.051713753647088044, 0.05121836164192338, 0.05249312353134992, 0.05144566841816994, 0.06129892894230946, 0.05090928611227898, 0.05116958334289621, 0.05053791979645835, 0.05224339146824365, 0.06097261382569957, 0.0539180494337476, 0.052992121828855085, 0.05371429939817387, 0.0491041978010933, 0.049748288922401726]}, {\"categories\": [\"0\", \"1\", \"2\", \"3\", \"4\", \"5\", \"6\", \"7\", \"8\", \"9\", \"10\", \"11\", \"12\", \"13\", \"14\", \"15\", \"16\", \"17\", \"18\", \"19\", \"20\", \"21\", \"22\", \"23\", \"24\", \"25\", \"26\", \"27\", \"28\", \"29\", \"30\", \"31\", \"32\", \"33\", \"34\", \"35\", \"36\", \"37\", \"38\", \"39\", \"40\", \"41\", \"42\", \"43\", \"44\", \"45\", \"46\", \"47\", \"48\", \"49\", \"50\"], \"mode\": \"lines\", \"name\": \"normalized_mean_absolute_error_min\", \"stepped\": true, \"type\": \"scatter\", \"data\": [0.05274855380831332, 0.051559288435896675, 0.051559288435896675, 0.05134931750249375, 0.05134931750249375, 0.05134931750249375, 0.05134931750249375, 0.05134931750249375, 0.05125048359835439, 0.05125048359835439, 0.05118741539888867, 0.05118741539888867, 0.050376144224013056, 0.050376144224013056, 0.050376144224013056, 0.050376144224013056, 0.050376144224013056, 0.050376144224013056, 0.050376144224013056, 0.050376144224013056, 0.050376144224013056, 0.050376144224013056, 0.050376144224013056, 0.050376144224013056, 0.050376144224013056, 0.050376144224013056, 0.050376144224013056, 0.050376144224013056, 0.050376144224013056, 0.05013643077518286, 0.05013643077518286, 0.05013643077518286, 0.05013643077518286, 0.05013643077518286, 0.05013643077518286, 0.05013643077518286, 0.05013643077518286, 0.05013643077518286, 0.05013643077518286, 0.05013643077518286, 0.05013643077518286, 0.05013643077518286, 0.05013643077518286, 0.05013643077518286, 0.05013643077518286, 0.05013643077518286, 0.05013643077518286, 0.05013643077518286, 0.05013643077518286, 0.0491041978010933, 0.0491041978010933]}], \"normalized_median_absolute_error\": [{\"categories\": [\"0\", \"1\", \"2\", \"3\", \"4\", \"5\", \"6\", \"7\", \"8\", \"9\", \"10\", \"11\", \"12\", \"13\", \"14\", \"15\", \"16\", \"17\", \"18\", \"19\", \"20\", \"21\", \"22\", \"23\", \"24\", \"25\", \"26\", \"27\", \"28\", \"29\", \"30\", \"31\", \"32\", \"33\", \"34\", \"35\", \"36\", \"37\", \"38\", \"39\", \"40\", \"41\", \"42\", \"43\", \"44\", \"45\", \"46\", \"47\", \"48\", \"49\", \"50\"], \"mode\": \"markers\", \"name\": \"normalized_median_absolute_error\", \"stepped\": false, \"type\": \"scatter\", \"data\": [0.03782129150380202, 0.03741134457471894, 0.03756980128404571, 0.03848540035659652, 0.03827603270367878, 0.03748832012102228, 0.03923016130958036, 0.03707262969598537, 0.03669958374958375, 0.03710136259630131, 0.03801279143098721, 0.03898724238454094, 0.03507125528847299, 0.03749426889964945, 0.037538932442895856, 0.04210183974744737, 0.037016974224165757, 0.03727368629182027, 0.04229257241224629, 0.03840362329978842, 0.037167095643688364, 0.039374257153516154, 0.038294548928573195, 0.03745575300077113, 0.04041433102858185, 0.04694022688937753, 0.04088002265647973, 0.039025098520322946, 0.037537329138779066, 0.03463414634146341, 0.03932131394705712, 0.03987129649685552, 0.03994647085874283, 0.04045399396167789, 0.04054541192297932, 0.052022835590267005, 0.03863924677779035, 0.03745724203862179, 0.039639079311642816, 0.037350528714651554, 0.049364522615200586, 0.03797587873821886, 0.03532926829268292, 0.03487804878048781, 0.039543185505789044, 0.04924131525037765, 0.04067657212989293, 0.03890855272258077, 0.040437793282348033, 0.03499888524121805, 0.03566414428729536]}, {\"categories\": [\"0\", \"1\", \"2\", \"3\", \"4\", \"5\", \"6\", \"7\", \"8\", \"9\", \"10\", \"11\", \"12\", \"13\", \"14\", \"15\", \"16\", \"17\", \"18\", \"19\", \"20\", \"21\", \"22\", \"23\", \"24\", \"25\", \"26\", \"27\", \"28\", \"29\", \"30\", \"31\", \"32\", \"33\", \"34\", \"35\", \"36\", \"37\", \"38\", \"39\", \"40\", \"41\", \"42\", \"43\", \"44\", \"45\", \"46\", \"47\", \"48\", \"49\", \"50\"], \"mode\": \"lines\", \"name\": \"normalized_median_absolute_error_min\", \"stepped\": true, \"type\": \"scatter\", \"data\": [0.03782129150380202, 0.03741134457471894, 0.03741134457471894, 0.03741134457471894, 0.03741134457471894, 0.03741134457471894, 0.03741134457471894, 0.03707262969598537, 0.03669958374958375, 0.03669958374958375, 0.03669958374958375, 0.03669958374958375, 0.03507125528847299, 0.03507125528847299, 0.03507125528847299, 0.03507125528847299, 0.03507125528847299, 0.03507125528847299, 0.03507125528847299, 0.03507125528847299, 0.03507125528847299, 0.03507125528847299, 0.03507125528847299, 0.03507125528847299, 0.03507125528847299, 0.03507125528847299, 0.03507125528847299, 0.03507125528847299, 0.03507125528847299, 0.03463414634146341, 0.03463414634146341, 0.03463414634146341, 0.03463414634146341, 0.03463414634146341, 0.03463414634146341, 0.03463414634146341, 0.03463414634146341, 0.03463414634146341, 0.03463414634146341, 0.03463414634146341, 0.03463414634146341, 0.03463414634146341, 0.03463414634146341, 0.03463414634146341, 0.03463414634146341, 0.03463414634146341, 0.03463414634146341, 0.03463414634146341, 0.03463414634146341, 0.03463414634146341, 0.03463414634146341]}], \"root_mean_squared_error\": [{\"categories\": [\"0\", \"1\", \"2\", \"3\", \"4\", \"5\", \"6\", \"7\", \"8\", \"9\", \"10\", \"11\", \"12\", \"13\", \"14\", \"15\", \"16\", \"17\", \"18\", \"19\", \"20\", \"21\", \"22\", \"23\", \"24\", \"25\", \"26\", \"27\", \"28\", \"29\", \"30\", \"31\", \"32\", \"33\", \"34\", \"35\", \"36\", \"37\", \"38\", \"39\", \"40\", \"41\", \"42\", \"43\", \"44\", \"45\", \"46\", \"47\", \"48\", \"49\", \"50\"], \"mode\": \"markers\", \"name\": \"root_mean_squared_error\", \"stepped\": false, \"type\": \"scatter\", \"data\": [31.87167988026515, 31.51281442801592, 32.51286690068538, 31.24252282093849, 33.416613621418065, 31.04546654366745, 31.697044845011543, 32.45884242056472, 31.303425071238404, 31.02332920479053, 31.149795984565664, 31.46577473762232, 31.669015299488954, 31.04610909993073, 31.905080976636963, 32.98492560937744, 31.339066166651115, 31.026162886370685, 33.069934360899424, 31.47372098858218, 31.01076583742212, 31.423849652989645, 32.60632900354385, 31.882543519706775, 32.05460772356399, 34.4968036478287, 33.639521551759884, 31.86271828058659, 31.136068122005906, 31.460462046484547, 31.464195266277148, 33.03767847644226, 31.65731893615, 32.248633017880344, 33.73533074718961, 36.29454801533641, 31.324768818689837, 31.256790117888062, 31.73328335065645, 31.040765498110524, 35.39454725922896, 31.10841871984315, 32.48263754356377, 32.12295287710508, 31.62839322321623, 35.345638718328594, 32.33398044197598, 31.903097428357263, 32.27888690843401, 30.285513456752902, 30.43818969722492]}, {\"categories\": [\"0\", \"1\", \"2\", \"3\", \"4\", \"5\", \"6\", \"7\", \"8\", \"9\", \"10\", \"11\", \"12\", \"13\", \"14\", \"15\", \"16\", \"17\", \"18\", \"19\", \"20\", \"21\", \"22\", \"23\", \"24\", \"25\", \"26\", \"27\", \"28\", \"29\", \"30\", \"31\", \"32\", \"33\", \"34\", \"35\", \"36\", \"37\", \"38\", \"39\", \"40\", \"41\", \"42\", \"43\", \"44\", \"45\", \"46\", \"47\", \"48\", \"49\", \"50\"], \"mode\": \"lines\", \"name\": \"root_mean_squared_error_min\", \"stepped\": true, \"type\": \"scatter\", \"data\": [31.87167988026515, 31.51281442801592, 31.51281442801592, 31.24252282093849, 31.24252282093849, 31.04546654366745, 31.04546654366745, 31.04546654366745, 31.04546654366745, 31.02332920479053, 31.02332920479053, 31.02332920479053, 31.02332920479053, 31.02332920479053, 31.02332920479053, 31.02332920479053, 31.02332920479053, 31.02332920479053, 31.02332920479053, 31.02332920479053, 31.01076583742212, 31.01076583742212, 31.01076583742212, 31.01076583742212, 31.01076583742212, 31.01076583742212, 31.01076583742212, 31.01076583742212, 31.01076583742212, 31.01076583742212, 31.01076583742212, 31.01076583742212, 31.01076583742212, 31.01076583742212, 31.01076583742212, 31.01076583742212, 31.01076583742212, 31.01076583742212, 31.01076583742212, 31.01076583742212, 31.01076583742212, 31.01076583742212, 31.01076583742212, 31.01076583742212, 31.01076583742212, 31.01076583742212, 31.01076583742212, 31.01076583742212, 31.01076583742212, 30.285513456752902, 30.285513456752902]}], \"root_mean_squared_log_error\": [{\"categories\": [\"0\", \"1\", \"2\", \"3\", \"4\", \"5\", \"6\", \"7\", \"8\", \"9\", \"10\", \"11\", \"12\", \"13\", \"14\", \"15\", \"16\", \"17\", \"18\", \"19\", \"20\", \"21\", \"22\", \"23\", \"24\", \"25\", \"26\", \"27\", \"28\", \"29\", \"30\", \"31\", \"32\", \"33\", \"34\", \"35\", \"36\", \"37\", \"38\", \"39\", \"40\", \"41\", \"42\", \"43\", \"44\", \"45\", \"46\", \"47\", \"48\", \"49\", \"50\"], \"mode\": \"markers\", \"name\": \"root_mean_squared_log_error\", \"stepped\": false, \"type\": \"scatter\", \"data\": [0.512033652863872, 0.49965048722201005, 0.5074732936713479, 0.5014351366376947, 0.5168947232623816, 0.512343865813796, 0.5077589859368148, 0.5035037344996824, 0.4976483767643705, 0.5089457013228235, 0.5004932168450822, 0.5080966305491712, 0.4884767471898178, 0.5124303539319573, 0.5086841182408651, 0.5385151485719171, 0.4988232835712042, 0.5099731570485871, 0.5416481045606596, 0.5040772446809502, 0.5076214266373925, 0.5087343343292953, 0.5195847295178394, 0.5005236428000164, 0.5189100608357544, 0.5678104931024748, 0.5349564531378682, 0.5134021486535018, 0.4918037014141438, 0.492215592172348, 0.5135657114976243, 0.5272986316186568, 0.5135809992056675, 0.5250481002346097, 0.5343251852457933, 0.6007217347486447, 0.5021407588609413, 0.49999019998336236, 0.5144160451285773, 0.5118684684240004, 0.5818845747162221, 0.49873339465727284, 0.49609336513739494, 0.4943928063231917, 0.5107724299213091, 0.583968579079347, 0.5255483722513978, 0.5164450243763757, 0.5241567036909988, 0.4823891764630489, 0.48817289631922234]}, {\"categories\": [\"0\", \"1\", \"2\", \"3\", \"4\", \"5\", \"6\", \"7\", \"8\", \"9\", \"10\", \"11\", \"12\", \"13\", \"14\", \"15\", \"16\", \"17\", \"18\", \"19\", \"20\", \"21\", \"22\", \"23\", \"24\", \"25\", \"26\", \"27\", \"28\", \"29\", \"30\", \"31\", \"32\", \"33\", \"34\", \"35\", \"36\", \"37\", \"38\", \"39\", \"40\", \"41\", \"42\", \"43\", \"44\", \"45\", \"46\", \"47\", \"48\", \"49\", \"50\"], \"mode\": \"lines\", \"name\": \"root_mean_squared_log_error_min\", \"stepped\": true, \"type\": \"scatter\", \"data\": [0.512033652863872, 0.49965048722201005, 0.49965048722201005, 0.49965048722201005, 0.49965048722201005, 0.49965048722201005, 0.49965048722201005, 0.49965048722201005, 0.4976483767643705, 0.4976483767643705, 0.4976483767643705, 0.4976483767643705, 0.4884767471898178, 0.4884767471898178, 0.4884767471898178, 0.4884767471898178, 0.4884767471898178, 0.4884767471898178, 0.4884767471898178, 0.4884767471898178, 0.4884767471898178, 0.4884767471898178, 0.4884767471898178, 0.4884767471898178, 0.4884767471898178, 0.4884767471898178, 0.4884767471898178, 0.4884767471898178, 0.4884767471898178, 0.4884767471898178, 0.4884767471898178, 0.4884767471898178, 0.4884767471898178, 0.4884767471898178, 0.4884767471898178, 0.4884767471898178, 0.4884767471898178, 0.4884767471898178, 0.4884767471898178, 0.4884767471898178, 0.4884767471898178, 0.4884767471898178, 0.4884767471898178, 0.4884767471898178, 0.4884767471898178, 0.4884767471898178, 0.4884767471898178, 0.4884767471898178, 0.4884767471898178, 0.4823891764630489, 0.4823891764630489]}], \"explained_variance\": [{\"categories\": [\"0\", \"1\", \"2\", \"3\", \"4\", \"5\", \"6\", \"7\", \"8\", \"9\", \"10\", \"11\", \"12\", \"13\", \"14\", \"15\", \"16\", \"17\", \"18\", \"19\", \"20\", \"21\", \"22\", \"23\", \"24\", \"25\", \"26\", \"27\", \"28\", \"29\", \"30\", \"31\", \"32\", \"33\", \"34\", \"35\", \"36\", \"37\", \"38\", \"39\", \"40\", \"41\", \"42\", \"43\", \"44\", \"45\", \"46\", \"47\", \"48\", \"49\", \"50\"], \"mode\": \"markers\", \"name\": \"explained_variance\", \"stepped\": false, \"type\": \"scatter\", \"data\": [0.22745347548736433, 0.24711971464606058, 0.19452333543658296, 0.26183559517985006, 0.15351043580534351, 0.26999219813744013, 0.23926632019045405, 0.19951535075936278, 0.2608588206564476, 0.2714226023134082, 0.2681273653099606, 0.2544869046064596, 0.2576058963235708, 0.26994621442809513, 0.2332626569137611, 0.17944562542580073, 0.2590586816502508, 0.27106973365632603, 0.1724905308700772, 0.2496391641342896, 0.27201322319820687, 0.2550165196667423, 0.19067170312042858, 0.22902795486663713, 0.2225328817320947, 0.10000370176541569, 0.13457444312963554, 0.23620004017462293, 0.2669994938529448, 0.263524210607676, 0.2530595974330129, 0.16779819607995833, 0.24390828754534902, 0.21664195926290644, 0.1274620256229078, 0.00032217222037936864, 0.2573629044320319, 0.26087533350956316, 0.239648576511272, 0.2702455667062897, 0.05156190675192808, 0.2684784550490258, 0.2218744708426789, 0.23719644922679475, 0.24362954228339148, 0.05381358594650358, 0.2121210538561928, 0.2343042010817868, 0.21454838235040782, 0.30761240886256375, 0.30202188330290275]}, {\"categories\": [\"0\", \"1\", \"2\", \"3\", \"4\", \"5\", \"6\", \"7\", \"8\", \"9\", \"10\", \"11\", \"12\", \"13\", \"14\", \"15\", \"16\", \"17\", \"18\", \"19\", \"20\", \"21\", \"22\", \"23\", \"24\", \"25\", \"26\", \"27\", \"28\", \"29\", \"30\", \"31\", \"32\", \"33\", \"34\", \"35\", \"36\", \"37\", \"38\", \"39\", \"40\", \"41\", \"42\", \"43\", \"44\", \"45\", \"46\", \"47\", \"48\", \"49\", \"50\"], \"mode\": \"lines\", \"name\": \"explained_variance_max\", \"stepped\": true, \"type\": \"scatter\", \"data\": [0.22745347548736433, 0.24711971464606058, 0.24711971464606058, 0.26183559517985006, 0.26183559517985006, 0.26999219813744013, 0.26999219813744013, 0.26999219813744013, 0.26999219813744013, 0.2714226023134082, 0.2714226023134082, 0.2714226023134082, 0.2714226023134082, 0.2714226023134082, 0.2714226023134082, 0.2714226023134082, 0.2714226023134082, 0.2714226023134082, 0.2714226023134082, 0.2714226023134082, 0.27201322319820687, 0.27201322319820687, 0.27201322319820687, 0.27201322319820687, 0.27201322319820687, 0.27201322319820687, 0.27201322319820687, 0.27201322319820687, 0.27201322319820687, 0.27201322319820687, 0.27201322319820687, 0.27201322319820687, 0.27201322319820687, 0.27201322319820687, 0.27201322319820687, 0.27201322319820687, 0.27201322319820687, 0.27201322319820687, 0.27201322319820687, 0.27201322319820687, 0.27201322319820687, 0.27201322319820687, 0.27201322319820687, 0.27201322319820687, 0.27201322319820687, 0.27201322319820687, 0.27201322319820687, 0.27201322319820687, 0.27201322319820687, 0.30761240886256375, 0.30761240886256375]}]}, \"metricName\": null, \"primaryMetricName\": \"r2_score\", \"showLegend\": false}, \"run_metrics\": [{\"name\": \"normalized_root_mean_squared_error\", \"run_id\": \"AutoML_9ba9c968-0cd8-47da-bab6-ed21c6a09eaf\", \"categories\": [0], \"series\": [{\"data\": [0.07386710599208025]}]}, {\"name\": \"spearman_correlation\", \"run_id\": \"AutoML_9ba9c968-0cd8-47da-bab6-ed21c6a09eaf\", \"categories\": [0], \"series\": [{\"data\": [0.5712441670827657]}]}, {\"name\": \"median_absolute_error\", \"run_id\": \"AutoML_9ba9c968-0cd8-47da-bab6-ed21c6a09eaf\", \"categories\": [0], \"series\": [{\"data\": [14.349542948899401]}]}, {\"name\": \"root_mean_squared_error\", \"run_id\": \"AutoML_9ba9c968-0cd8-47da-bab6-ed21c6a09eaf\", \"categories\": [0], \"series\": [{\"data\": [30.285513456752902]}]}, {\"name\": \"normalized_median_absolute_error\", \"run_id\": \"AutoML_9ba9c968-0cd8-47da-bab6-ed21c6a09eaf\", \"categories\": [0], \"series\": [{\"data\": [0.03499888524121805]}]}, {\"name\": \"r2_score\", \"run_id\": \"AutoML_9ba9c968-0cd8-47da-bab6-ed21c6a09eaf\", \"categories\": [0], \"series\": [{\"data\": [0.29968586244707285]}]}, {\"name\": \"root_mean_squared_log_error\", \"run_id\": \"AutoML_9ba9c968-0cd8-47da-bab6-ed21c6a09eaf\", \"categories\": [0], \"series\": [{\"data\": [0.4823891764630489]}]}, {\"name\": \"mean_absolute_error\", \"run_id\": \"AutoML_9ba9c968-0cd8-47da-bab6-ed21c6a09eaf\", \"categories\": [0], \"series\": [{\"data\": [20.13272109844825]}]}, {\"name\": \"explained_variance\", \"run_id\": \"AutoML_9ba9c968-0cd8-47da-bab6-ed21c6a09eaf\", \"categories\": [0], \"series\": [{\"data\": [0.30761240886256375]}]}, {\"name\": \"normalized_mean_absolute_error\", \"run_id\": \"AutoML_9ba9c968-0cd8-47da-bab6-ed21c6a09eaf\", \"categories\": [0], \"series\": [{\"data\": [0.0491041978010933]}]}, {\"name\": \"normalized_root_mean_squared_log_error\", \"run_id\": \"AutoML_9ba9c968-0cd8-47da-bab6-ed21c6a09eaf\", \"categories\": [0], \"series\": [{\"data\": [0.11379986351340912]}]}, {\"name\": \"mean_absolute_percentage_error\", \"run_id\": \"AutoML_9ba9c968-0cd8-47da-bab6-ed21c6a09eaf\", \"categories\": [0], \"series\": [{\"data\": [47.335726673216236]}]}], \"run_logs\": \"\\nRun is completed.\", \"graph\": {}, \"widget_settings\": {\"childWidgetDisplay\": \"popup\", \"send_telemetry\": false, \"log_level\": \"INFO\", \"sdk_version\": \"1.19.0\"}, \"loading\": false}"
          },
          "metadata": {}
        }
      ],
      "execution_count": 7,
      "metadata": {
        "gather": {
          "logged": 1610648489267
        }
      }
    },
    {
      "cell_type": "code",
      "source": [
        "best_mlrun, fitted_mlmodel = remote_run.get_output()\r\n",
        "print(best_mlrun)\r\n",
        "print(fitted_mlmodel)\r\n",
        "joblib.dump(fitted_mlmodel, \"automlmodel.pkl\")"
      ],
      "outputs": [
        {
          "output_type": "stream",
          "name": "stdout",
          "text": [
            "Run(Experiment: labor-prediction-experiment,\n",
            "Id: AutoML_9ba9c968-0cd8-47da-bab6-ed21c6a09eaf_49,\n",
            "Type: None,\n",
            "Status: Completed)\n",
            "RegressionPipeline(pipeline=Pipeline(memory=None,\n",
            "                                     steps=[('datatransformer',\n",
            "                                             DataTransformer(enable_dnn=None,\n",
            "                                                             enable_feature_sweeping=None,\n",
            "                                                             feature_sweeping_config=None,\n",
            "                                                             feature_sweeping_timeout=None,\n",
            "                                                             featurization_config=None,\n",
            "                                                             force_text_dnn=None,\n",
            "                                                             is_cross_validation=None,\n",
            "                                                             is_onnx_compatible=None,\n",
            "                                                             logger=None,\n",
            "                                                             observer=None,\n",
            "                                                             task=None,\n",
            "                                                             working_dir=None)),\n",
            "                                            ('pre...\n",
            "                                                                                                                          reg_lambda=0.0,\n",
            "                                                                                                                          silent=True,\n",
            "                                                                                                                          subsample=1.0,\n",
            "                                                                                                                          subsample_for_bin=200000,\n",
            "                                                                                                                          subsample_freq=0,\n",
            "                                                                                                                          verbose=-1))],\n",
            "                                                                                                verbose=False))],\n",
            "                                                                          weights=[0.07692307692307693,\n",
            "                                                                                   0.07692307692307693,\n",
            "                                                                                   0.07692307692307693,\n",
            "                                                                                   0.07692307692307693,\n",
            "                                                                                   0.07692307692307693,\n",
            "                                                                                   0.07692307692307693,\n",
            "                                                                                   0.07692307692307693,\n",
            "                                                                                   0.07692307692307693,\n",
            "                                                                                   0.23076923076923078,\n",
            "                                                                                   0.15384615384615385]))],\n",
            "                                     verbose=False),\n",
            "                   stddev=None)\n"
          ]
        },
        {
          "output_type": "execute_result",
          "execution_count": 8,
          "data": {
            "text/plain": "['automlmodel.pkl']",
            "text/html": "['automlmodel.pkl']"
          },
          "metadata": {}
        }
      ],
      "execution_count": 8,
      "metadata": {
        "gather": {
          "logged": 1610648490368
        }
      }
    },
    {
      "cell_type": "code",
      "source": [
        "#register the model\r\n",
        "from azureml.core.environment import Environment\r\n",
        "from azureml.core.model import InferenceConfig\r\n",
        "from azureml.core.model import Model\r\n",
        "\r\n",
        "description = 'Best AutoML Model'\r\n",
        "#model = best_mlrun.register_model(description=description, workspace = , model_name='automl_pred', model_path='./models')\r\n",
        "model = Model.register(model_path=\"automlmodel.pkl\", model_name = \"automl_pred\", description=description, workspace=ws)\r\n",
        "print(model.name, model.id, model.version, sep='\\t')\r\n",
        "\r\n"
      ],
      "outputs": [
        {
          "output_type": "stream",
          "name": "stdout",
          "text": [
            "Registering model automl_pred\n",
            "automl_pred\tautoml_pred:1\t1\n"
          ]
        }
      ],
      "execution_count": 9,
      "metadata": {
        "gather": {
          "logged": 1610648492478
        }
      }
    },
    {
      "cell_type": "code",
      "source": [
        "#define inference config\r\n",
        "from azureml.core.model import InferenceConfig\r\n",
        "from azureml.core.environment import Environment\r\n",
        "from azureml.core.conda_dependencies import CondaDependencies\r\n",
        "\r\n",
        "#create the environment\r\n",
        "myenv = Environment(name=\"myenv\")\r\n",
        "conda_dep = CondaDependencies()\r\n",
        "\r\n",
        "#Define the packages needed by the model and scripts\r\n",
        "conda_dep.add_conda_package(\"tensorflow\")\r\n",
        "conda_dep.add_conda_package(\"numpy\")\r\n",
        "conda_dep.add_conda_package(\"scikit-learn\")\r\n",
        "conda_dep.add_conda_package(\"py-xgboost\")\r\n",
        "#You must list azureml-defaults as a pip dependency\r\n",
        "conda_dep.add_pip_package(\"azureml-defaults\")\r\n",
        "conda_dep.add_pip_package(\"keras\")\r\n",
        "conda_dep.add_pip_package(\"gensim\")\r\n",
        "conda_dep.add_pip_package(\"azureml-automl-core\")\r\n",
        "conda_dep.add_pip_package(\"azureml-automl-runtime\")\r\n",
        "conda_dep.add_pip_package(\"packaging\")\r\n",
        "\r\n",
        "\r\n",
        "myenv.python.conda_dependencies=conda_dep\r\n",
        "\r\n",
        "inference_config = InferenceConfig(entry_script=\"score.py\", environment=myenv)"
      ],
      "outputs": [],
      "execution_count": 10,
      "metadata": {
        "collapsed": true,
        "jupyter": {
          "source_hidden": false,
          "outputs_hidden": false
        },
        "nteract": {
          "transient": {
            "deleting": false
          }
        },
        "gather": {
          "logged": 1610648492600
        }
      }
    },
    {
      "cell_type": "code",
      "source": [
        "#deploy as webservice\r\n",
        "from azureml.core.webservice import AciWebservice\r\n",
        "from azureml.core.webservice import Webservice\r\n",
        "from azureml.train.automl import *\r\n",
        "\r\n",
        "deployment_config = AciWebservice.deploy_configuration(cpu_cores=1, memory_gb=1, auth_enabled=True, enable_app_insights=True)\r\n",
        "#deployment_config = LocalWebservice.deploy_configuration()\r\n",
        "\r\n",
        "model = Model(ws, name='automl_pred')\r\n",
        "print(model)\r\n",
        "service = Model.deploy(ws, 'laborpredservice', [model], inference_config, deployment_config)\r\n",
        "\r\n",
        "service.wait_for_deployment(True)\r\n",
        "print(service.get_logs)\r\n",
        "print(service.state)\r\n",
        "print(\"scoring URI: \" + service.scoring_uri)\r\n"
      ],
      "outputs": [
        {
          "output_type": "stream",
          "name": "stdout",
          "text": [
            "Model(workspace=Workspace.create(name='quick-starts-ws-134685', subscription_id='81cefad3-d2c9-4f77-a466-99a7f541c7bb', resource_group='aml-quickstarts-134685'), name=automl_pred, id=automl_pred:1, version=1, tags={}, properties={})\n",
            "Tips: You can try get_logs(): https://aka.ms/debugimage#dockerlog or local deployment: https://aka.ms/debugimage#debug-locally to debug if deployment takes longer than 10 minutes.\n",
            "Running.................................\n",
            "Succeeded\n",
            "ACI service creation operation finished, operation \"Succeeded\"\n",
            "<bound method Webservice.get_logs of AciWebservice(workspace=Workspace.create(name='quick-starts-ws-134685', subscription_id='81cefad3-d2c9-4f77-a466-99a7f541c7bb', resource_group='aml-quickstarts-134685'), name=laborpredservice, image_id=None, compute_type=None, state=ACI, scoring_uri=Healthy, tags=http://f9a5dd17-6814-4856-b86c-4d61ff36e0dc.southcentralus.azurecontainer.io/score, properties={}, created_by={'hasInferenceSchema': 'False', 'hasHttps': 'False'})>\n",
            "Healthy\n",
            "scoring URI: http://f9a5dd17-6814-4856-b86c-4d61ff36e0dc.southcentralus.azurecontainer.io/score\n"
          ]
        }
      ],
      "execution_count": 17,
      "metadata": {
        "collapsed": true,
        "jupyter": {
          "source_hidden": false,
          "outputs_hidden": false
        },
        "nteract": {
          "transient": {
            "deleting": false
          }
        },
        "gather": {
          "logged": 1610649804867
        }
      }
    },
    {
      "cell_type": "code",
      "source": [
        "#send request\r\n",
        "\r\n",
        "import requests\r\n",
        "import json\r\n",
        "from pandas import DataFrame\r\n",
        "\r\n",
        "scoring_uri = service.scoring_uri\r\n",
        "key = 'xlEe0aHu7gegnAEgyATae6cGEAEfhMp6'\r\n",
        "headers = {'Content-Type':'application/json', 'Authorization': 'Bearer ' + key}\r\n",
        "#test_data = json.dumps({'data': [{'heightwholenum':67, 'framemat':'ALUMINUM', 'framefunc':'DOOR', 'widthWholeNum':24, 'lift':0, 'itemset':'SNAP BEADS', 'locationtype':9, 'leadmechanic':118}]})\r\n",
        "#data = json.loads([67, 'ALUMINUM', 'DOOR', 24, 0, 'SNAP BEADS', 9, 118])['data']\r\n",
        "#['heightwholenum','widthWholeNum','lift','LongCarry', \r\n",
        "#'itemset_','itemset_OTHER', 'itemset_PRESSURE PLATE','itemset_PUTTY','itemset_SCREW BEADS','itemset_SNAP BEADS','itemset_VINYL BEADS', 'itemset_WOOD BEADS','itemset_WRAP AROUND FRAME','itemset_WRAP AROUND RUBBER',\r\n",
        "#'itemset_flush glaze', 'leadmechanic_6','leadmechanic_11','leadmechanic_62','leadmechanic_90','leadmechanic_118','leadmechanic_211', 'leadmechanic_228','leadmechanic_OTHER',\r\n",
        "#'locationtype_0','locationtype_1','locationtype_2','locationtype_4','locationtype_5','locationtype_6','locationtype_7','locationtype_9','locationtype_10','locationtype_11','locationtype_12', 'locationtype_13',\r\n",
        "#'framemat_','framemat_ALUMINUM','framemat_ANDERSEN','framemat_OTHER','framemat_SASH RAIL','framemat_VINYL','framemat_WOOD','framefunc_BOTTOM DH','framefunc_BOTTOM SH', 'framefunc_CASEMENT', \r\n",
        "#'framefunc_CURTAIN WALL', 'framefunc_FIXED','framefunc_FLUSH GLAZE', 'framefunc_OTHER', 'framefunc_SASH', 'framefunc_SIDELITE', 'framefunc_SLIDER','framefunc_TOP DH', 'framefunc_TOP SH','framefunc_TRANSOM']]\r\n",
        "    \r\n",
        "input_string = {'data':[{\"heightwholenum\":67,\"widthWholeNum\":24,\"lift\":0,\"LongCarry\":0,\"itemset_\":0,\"itemset_OTHER\":0,\"itemset_PRESSURE PLATE\":0,\"itemset_PUTTY\":0,\"itemset_SCREW BEADS\":0,\"itemset_SNAP BEADS\":1,\r\n",
        "\"itemset_VINYL BEADS\":0,\"itemset_WOOD BEADS\":0,\"itemset_WRAP AROUND FRAME\":0,\"itemset_WRAP AROUND RUBBER\":0,\"itemset_flush glaze\":0,\"leadmechanic_6\":0,\"leadmechanic_11\":0,\"leadmechanic_62\":0,\"leadmechanic_90\":0,\r\n",
        "\"leadmechanic_118\":1,\"leadmechanic_211\":0,\"leadmechanic_228\":0,\"leadmechanic_OTHER\":0,\"locationtype_0\":0,\"locationtype_1\":0,\"locationtype_2\":0,\"locationtype_4\":0,\"locationtype_5\":0,\"locationtype_6\":0,\r\n",
        "\"locationtype_7\":0,\"locationtype_9\":1,\"locationtype_10\":0,\"locationtype_11\":0,\"locationtype_12\":0,\"locationtype_13\":0,\"framemat_\":0,\"framemat_ALUMINUM\":1,\"framemat_ANDERSEN\":0,\"framemat_OTHER\":0,\r\n",
        "\"framemat_SASH RAIL\":0,\"framemat_VINYL\":0,\"framemat_WOOD\":0,\"framefunc_BOTTOM DH\":0,\"framefunc_BOTTOM SH\":0,\"framefunc_CASEMENT\":0,\"framefunc_CURTAIN WALL\":0,\"framefunc_FIXED\":0,\"framefunc_FLUSH GLAZE\":0,\r\n",
        "\"framefunc_OTHER\":0,\"framefunc_SASH\":0,\"framefunc_SIDELITE\":0,\"framefunc_SLIDER\":0,\"framefunc_TOP DH\":0,\"framefunc_TOP SH\":0,\"framefunc_TRANSOM\":0}]}\r\n",
        "data = json.dumps(input_string)\r\n",
        "\r\n",
        "#data = \"{\\\"data\\\": [\" + str(list(input_string)) + \"]}\"\r\n",
        "#data = json.dumps(np.array(input_string).tolist())\r\n",
        "#data = pd.DataFrame.from_dict(data)\r\n",
        "\r\n",
        "response = requests.post(scoring_uri, data=data, headers=headers)\r\n",
        "print(response.status_code)\r\n",
        "print(response.elapsed)\r\n",
        "print(response.text)"
      ],
      "outputs": [
        {
          "output_type": "stream",
          "name": "stdout",
          "text": [
            "200\n",
            "0:00:00.529716\n",
            "[1983.9608091505283]\n"
          ]
        }
      ],
      "execution_count": 18,
      "metadata": {
        "collapsed": true,
        "jupyter": {
          "source_hidden": false,
          "outputs_hidden": false
        },
        "nteract": {
          "transient": {
            "deleting": false
          }
        },
        "gather": {
          "logged": 1610649955466
        }
      }
    }
  ],
  "metadata": {
    "kernelspec": {
      "name": "python3",
      "language": "python",
      "display_name": "Python 3"
    },
    "language_info": {
      "name": "python",
      "version": "3.6.9",
      "mimetype": "text/x-python",
      "codemirror_mode": {
        "name": "ipython",
        "version": 3
      },
      "pygments_lexer": "ipython3",
      "nbconvert_exporter": "python",
      "file_extension": ".py"
    },
    "kernel_info": {
      "name": "python3"
    },
    "nteract": {
      "version": "nteract-front-end@1.0.0"
    }
  },
  "nbformat": 4,
  "nbformat_minor": 2
}