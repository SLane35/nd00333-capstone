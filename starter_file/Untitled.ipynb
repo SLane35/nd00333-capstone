{
 "cells": [
  {
   "cell_type": "code",
   "execution_count": 2,
   "metadata": {},
   "outputs": [],
   "source": [
    "def main():\n",
    "    # Add arguments to script\n",
    "    parser = argparse.ArgumentParser()\n",
    "\n",
    "    parser.add_argument('--fit_intercept', type=bool, default=True)\n",
    "    parser.add_argument('--normalize', type=bool, default=True)\n",
    "\n",
    "    args = parser.parse_args()\n",
    "\n",
    "    run.log(\"Fit Intercept:\", np.bool(args.fit_intercept))\n",
    "    run.log(\"Normalize:\", np.bool(args.normalize))\n",
    "\n",
    "    model = LinearRegression(fit_intercept=args.fit_intercept, normalize=args.normalize).fit(x_train, y_train)\n",
    "\n",
    "    rmse = model.score(x_test, y_test, squared=True)\n",
    "    run.log(\"RMSE\", np.float(rmse))\n"
   ]
  }
 ],
 "metadata": {
  "kernelspec": {
   "display_name": "Python 3",
   "language": "python",
   "name": "python3"
  },
  "language_info": {
   "codemirror_mode": {
    "name": "ipython",
    "version": 3
   },
   "file_extension": ".py",
   "mimetype": "text/x-python",
   "name": "python",
   "nbconvert_exporter": "python",
   "pygments_lexer": "ipython3",
   "version": "3.7.3"
  }
 },
 "nbformat": 4,
 "nbformat_minor": 2
}
